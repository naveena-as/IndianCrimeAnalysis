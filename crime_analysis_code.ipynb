{
  "nbformat": 4,
  "nbformat_minor": 0,
  "metadata": {
    "colab": {
      "name": "DAS18024_CaseStudy_CrimeAnalysis.ipynb",
      "provenance": [],
      "collapsed_sections": []
    },
    "kernelspec": {
      "name": "python3",
      "display_name": "Python 3"
    }
  },
  "cells": [
    {
      "cell_type": "markdown",
      "metadata": {
        "id": "RyyLsX6qdJfs"
      },
      "source": [
        "# **18CSC312 : DATA VISUALISATION**\n",
        "\n",
        "**PROJECT REVIEW - FINAL**\n",
        "\n",
        "\n",
        "> NAME :  A S NAVEENA\n",
        "\n",
        "> REG. NO. : CB.SC.I5DAS18024\n",
        "\n",
        "\n",
        "Topic : INDIAN CRIME ANALYSIS\n",
        "\n",
        "Source of Dataset : https://www.kaggle.com/shishir349/indian-crime-analysis   \n",
        "\n",
        " File Name : crimes.csv"
      ]
    },
    {
      "cell_type": "code",
      "metadata": {
        "colab": {
          "base_uri": "https://localhost:8080/"
        },
        "id": "YaLCtGBw2yMY",
        "outputId": "28a4ca77-15e4-4b4e-92a7-e2d765d12c1e"
      },
      "source": [
        "!pip install --upgrade plotly"
      ],
      "execution_count": null,
      "outputs": [
        {
          "output_type": "stream",
          "text": [
            "Collecting plotly\n",
            "\u001b[?25l  Downloading https://files.pythonhosted.org/packages/1f/f6/bd3c17c8003b6641df1228e80e1acac97ed8402635e46c2571f8e1ef63af/plotly-4.14.3-py2.py3-none-any.whl (13.2MB)\n",
            "\u001b[K     |████████████████████████████████| 13.2MB 282kB/s \n",
            "\u001b[?25hRequirement already satisfied, skipping upgrade: retrying>=1.3.3 in /usr/local/lib/python3.7/dist-packages (from plotly) (1.3.3)\n",
            "Requirement already satisfied, skipping upgrade: six in /usr/local/lib/python3.7/dist-packages (from plotly) (1.15.0)\n",
            "Installing collected packages: plotly\n",
            "  Found existing installation: plotly 4.4.1\n",
            "    Uninstalling plotly-4.4.1:\n",
            "      Successfully uninstalled plotly-4.4.1\n",
            "Successfully installed plotly-4.14.3\n"
          ],
          "name": "stdout"
        }
      ]
    },
    {
      "cell_type": "code",
      "metadata": {
        "id": "k4lEPU4AptXC"
      },
      "source": [
        "# importing necessary libraries\n",
        "import pandas as pd\n",
        "import numpy as np\n",
        "import seaborn as sns\n",
        "import plotly.express as px\n",
        "import plotly.offline as py\n",
        "import plotly.graph_objects as go\n",
        "import matplotlib.pyplot as plt\n",
        "from wordcloud import WordCloud"
      ],
      "execution_count": null,
      "outputs": []
    },
    {
      "cell_type": "code",
      "metadata": {
        "id": "QSEXnE8ZstJA"
      },
      "source": [
        "# reading the dataset\n",
        "df_crimes = pd.read_csv(\"/content/sample_data/crimes.csv\")"
      ],
      "execution_count": null,
      "outputs": []
    },
    {
      "cell_type": "code",
      "metadata": {
        "colab": {
          "base_uri": "https://localhost:8080/",
          "height": 635
        },
        "id": "-5O02GB4wnKD",
        "outputId": "2bc3e38b-1199-4144-98be-8d68152997cd"
      },
      "source": [
        "# replacing misspelt column name \"Pupose\" with \"Purpose\"\n",
        "df_crimes.rename(columns={\"Pupose\" : \"Purpose\"}, inplace=True)\n",
        "df_crimes"
      ],
      "execution_count": null,
      "outputs": [
        {
          "output_type": "execute_result",
          "data": {
            "text/html": [
              "<div>\n",
              "<style scoped>\n",
              "    .dataframe tbody tr th:only-of-type {\n",
              "        vertical-align: middle;\n",
              "    }\n",
              "\n",
              "    .dataframe tbody tr th {\n",
              "        vertical-align: top;\n",
              "    }\n",
              "\n",
              "    .dataframe thead th {\n",
              "        text-align: right;\n",
              "    }\n",
              "</style>\n",
              "<table border=\"1\" class=\"dataframe\">\n",
              "  <thead>\n",
              "    <tr style=\"text-align: right;\">\n",
              "      <th></th>\n",
              "      <th>STATE/UT</th>\n",
              "      <th>YEAR</th>\n",
              "      <th>Purpose</th>\n",
              "      <th>Total No. of cases reported</th>\n",
              "      <th>Male upto 10 years</th>\n",
              "      <th>Female upto 10 years</th>\n",
              "      <th>Male 10-15 years</th>\n",
              "      <th>Female 10-15 years</th>\n",
              "      <th>Male 15-18 years</th>\n",
              "      <th>Female 15-18 years</th>\n",
              "      <th>Male 18-30 years</th>\n",
              "      <th>Female 18-30 years</th>\n",
              "      <th>Male 30-50 years</th>\n",
              "      <th>Female 30-50 years</th>\n",
              "      <th>Male above 50 years</th>\n",
              "      <th>Female above 50 years</th>\n",
              "      <th>Total Male</th>\n",
              "      <th>Total Female</th>\n",
              "      <th>Grand Total</th>\n",
              "    </tr>\n",
              "  </thead>\n",
              "  <tbody>\n",
              "    <tr>\n",
              "      <th>0</th>\n",
              "      <td>Andhra Pradesh</td>\n",
              "      <td>2001</td>\n",
              "      <td>For Adoption</td>\n",
              "      <td>8</td>\n",
              "      <td>3</td>\n",
              "      <td>1</td>\n",
              "      <td>0</td>\n",
              "      <td>0</td>\n",
              "      <td>0</td>\n",
              "      <td>0</td>\n",
              "      <td>0</td>\n",
              "      <td>4</td>\n",
              "      <td>0</td>\n",
              "      <td>0</td>\n",
              "      <td>0</td>\n",
              "      <td>0</td>\n",
              "      <td>3</td>\n",
              "      <td>5</td>\n",
              "      <td>8</td>\n",
              "    </tr>\n",
              "    <tr>\n",
              "      <th>1</th>\n",
              "      <td>Andhra Pradesh</td>\n",
              "      <td>2001</td>\n",
              "      <td>For Begging</td>\n",
              "      <td>2</td>\n",
              "      <td>0</td>\n",
              "      <td>0</td>\n",
              "      <td>2</td>\n",
              "      <td>0</td>\n",
              "      <td>0</td>\n",
              "      <td>0</td>\n",
              "      <td>0</td>\n",
              "      <td>0</td>\n",
              "      <td>0</td>\n",
              "      <td>0</td>\n",
              "      <td>0</td>\n",
              "      <td>0</td>\n",
              "      <td>2</td>\n",
              "      <td>0</td>\n",
              "      <td>2</td>\n",
              "    </tr>\n",
              "    <tr>\n",
              "      <th>2</th>\n",
              "      <td>Andhra Pradesh</td>\n",
              "      <td>2001</td>\n",
              "      <td>For Camel racing</td>\n",
              "      <td>0</td>\n",
              "      <td>0</td>\n",
              "      <td>0</td>\n",
              "      <td>0</td>\n",
              "      <td>0</td>\n",
              "      <td>0</td>\n",
              "      <td>0</td>\n",
              "      <td>0</td>\n",
              "      <td>0</td>\n",
              "      <td>0</td>\n",
              "      <td>0</td>\n",
              "      <td>0</td>\n",
              "      <td>0</td>\n",
              "      <td>0</td>\n",
              "      <td>0</td>\n",
              "      <td>0</td>\n",
              "    </tr>\n",
              "    <tr>\n",
              "      <th>3</th>\n",
              "      <td>Andhra Pradesh</td>\n",
              "      <td>2001</td>\n",
              "      <td>For Illicit intercourse</td>\n",
              "      <td>78</td>\n",
              "      <td>0</td>\n",
              "      <td>2</td>\n",
              "      <td>0</td>\n",
              "      <td>25</td>\n",
              "      <td>0</td>\n",
              "      <td>24</td>\n",
              "      <td>0</td>\n",
              "      <td>25</td>\n",
              "      <td>0</td>\n",
              "      <td>2</td>\n",
              "      <td>0</td>\n",
              "      <td>0</td>\n",
              "      <td>0</td>\n",
              "      <td>78</td>\n",
              "      <td>78</td>\n",
              "    </tr>\n",
              "    <tr>\n",
              "      <th>4</th>\n",
              "      <td>Andhra Pradesh</td>\n",
              "      <td>2001</td>\n",
              "      <td>For marriage</td>\n",
              "      <td>339</td>\n",
              "      <td>0</td>\n",
              "      <td>0</td>\n",
              "      <td>0</td>\n",
              "      <td>73</td>\n",
              "      <td>1</td>\n",
              "      <td>164</td>\n",
              "      <td>6</td>\n",
              "      <td>91</td>\n",
              "      <td>0</td>\n",
              "      <td>4</td>\n",
              "      <td>0</td>\n",
              "      <td>0</td>\n",
              "      <td>7</td>\n",
              "      <td>332</td>\n",
              "      <td>339</td>\n",
              "    </tr>\n",
              "    <tr>\n",
              "      <th>...</th>\n",
              "      <td>...</td>\n",
              "      <td>...</td>\n",
              "      <td>...</td>\n",
              "      <td>...</td>\n",
              "      <td>...</td>\n",
              "      <td>...</td>\n",
              "      <td>...</td>\n",
              "      <td>...</td>\n",
              "      <td>...</td>\n",
              "      <td>...</td>\n",
              "      <td>...</td>\n",
              "      <td>...</td>\n",
              "      <td>...</td>\n",
              "      <td>...</td>\n",
              "      <td>...</td>\n",
              "      <td>...</td>\n",
              "      <td>...</td>\n",
              "      <td>...</td>\n",
              "      <td>...</td>\n",
              "    </tr>\n",
              "    <tr>\n",
              "      <th>5861</th>\n",
              "      <td>Puducherry</td>\n",
              "      <td>2012</td>\n",
              "      <td>For Selling body parts</td>\n",
              "      <td>0</td>\n",
              "      <td>0</td>\n",
              "      <td>0</td>\n",
              "      <td>0</td>\n",
              "      <td>0</td>\n",
              "      <td>0</td>\n",
              "      <td>0</td>\n",
              "      <td>0</td>\n",
              "      <td>0</td>\n",
              "      <td>0</td>\n",
              "      <td>0</td>\n",
              "      <td>0</td>\n",
              "      <td>0</td>\n",
              "      <td>0</td>\n",
              "      <td>0</td>\n",
              "      <td>0</td>\n",
              "    </tr>\n",
              "    <tr>\n",
              "      <th>5862</th>\n",
              "      <td>Puducherry</td>\n",
              "      <td>2012</td>\n",
              "      <td>For Slavery</td>\n",
              "      <td>0</td>\n",
              "      <td>0</td>\n",
              "      <td>0</td>\n",
              "      <td>0</td>\n",
              "      <td>0</td>\n",
              "      <td>0</td>\n",
              "      <td>0</td>\n",
              "      <td>0</td>\n",
              "      <td>0</td>\n",
              "      <td>0</td>\n",
              "      <td>0</td>\n",
              "      <td>0</td>\n",
              "      <td>0</td>\n",
              "      <td>0</td>\n",
              "      <td>0</td>\n",
              "      <td>0</td>\n",
              "    </tr>\n",
              "    <tr>\n",
              "      <th>5863</th>\n",
              "      <td>Puducherry</td>\n",
              "      <td>2012</td>\n",
              "      <td>For unlawaful activity</td>\n",
              "      <td>0</td>\n",
              "      <td>0</td>\n",
              "      <td>0</td>\n",
              "      <td>0</td>\n",
              "      <td>0</td>\n",
              "      <td>0</td>\n",
              "      <td>0</td>\n",
              "      <td>0</td>\n",
              "      <td>0</td>\n",
              "      <td>0</td>\n",
              "      <td>0</td>\n",
              "      <td>0</td>\n",
              "      <td>0</td>\n",
              "      <td>0</td>\n",
              "      <td>0</td>\n",
              "      <td>0</td>\n",
              "    </tr>\n",
              "    <tr>\n",
              "      <th>5864</th>\n",
              "      <td>Puducherry</td>\n",
              "      <td>2012</td>\n",
              "      <td>Others</td>\n",
              "      <td>8</td>\n",
              "      <td>2</td>\n",
              "      <td>4</td>\n",
              "      <td>1</td>\n",
              "      <td>1</td>\n",
              "      <td>0</td>\n",
              "      <td>0</td>\n",
              "      <td>0</td>\n",
              "      <td>0</td>\n",
              "      <td>0</td>\n",
              "      <td>0</td>\n",
              "      <td>0</td>\n",
              "      <td>0</td>\n",
              "      <td>3</td>\n",
              "      <td>5</td>\n",
              "      <td>8</td>\n",
              "    </tr>\n",
              "    <tr>\n",
              "      <th>5865</th>\n",
              "      <td>Puducherry</td>\n",
              "      <td>2012</td>\n",
              "      <td>Total</td>\n",
              "      <td>19</td>\n",
              "      <td>2</td>\n",
              "      <td>4</td>\n",
              "      <td>1</td>\n",
              "      <td>1</td>\n",
              "      <td>0</td>\n",
              "      <td>10</td>\n",
              "      <td>0</td>\n",
              "      <td>1</td>\n",
              "      <td>0</td>\n",
              "      <td>0</td>\n",
              "      <td>0</td>\n",
              "      <td>0</td>\n",
              "      <td>3</td>\n",
              "      <td>16</td>\n",
              "      <td>19</td>\n",
              "    </tr>\n",
              "  </tbody>\n",
              "</table>\n",
              "<p>5866 rows × 19 columns</p>\n",
              "</div>"
            ],
            "text/plain": [
              "            STATE/UT  YEAR  ... Total Female  Grand Total\n",
              "0     Andhra Pradesh  2001  ...            5            8\n",
              "1     Andhra Pradesh  2001  ...            0            2\n",
              "2     Andhra Pradesh  2001  ...            0            0\n",
              "3     Andhra Pradesh  2001  ...           78           78\n",
              "4     Andhra Pradesh  2001  ...          332          339\n",
              "...              ...   ...  ...          ...          ...\n",
              "5861      Puducherry  2012  ...            0            0\n",
              "5862      Puducherry  2012  ...            0            0\n",
              "5863      Puducherry  2012  ...            0            0\n",
              "5864      Puducherry  2012  ...            5            8\n",
              "5865      Puducherry  2012  ...           16           19\n",
              "\n",
              "[5866 rows x 19 columns]"
            ]
          },
          "metadata": {
            "tags": []
          },
          "execution_count": 4
        }
      ]
    },
    {
      "cell_type": "code",
      "metadata": {
        "colab": {
          "base_uri": "https://localhost:8080/"
        },
        "id": "o4cw1nkRs8Zz",
        "outputId": "732158b0-cf42-47d4-f5fd-3badad6d928e"
      },
      "source": [
        "df_crimes.shape"
      ],
      "execution_count": null,
      "outputs": [
        {
          "output_type": "execute_result",
          "data": {
            "text/plain": [
              "(5866, 19)"
            ]
          },
          "metadata": {
            "tags": []
          },
          "execution_count": 5
        }
      ]
    },
    {
      "cell_type": "code",
      "metadata": {
        "colab": {
          "base_uri": "https://localhost:8080/"
        },
        "id": "iTbVuXLguGQC",
        "outputId": "e8d69e9d-12fe-4bba-8a3a-39cd598f751d"
      },
      "source": [
        "df_crimes.columns"
      ],
      "execution_count": null,
      "outputs": [
        {
          "output_type": "execute_result",
          "data": {
            "text/plain": [
              "Index(['STATE/UT', 'YEAR', 'Purpose', 'Total No. of cases reported',\n",
              "       'Male upto 10 years', 'Female upto 10 years', 'Male 10-15 years',\n",
              "       'Female 10-15 years', 'Male 15-18 years', 'Female 15-18 years',\n",
              "       'Male 18-30 years', 'Female 18-30 years', 'Male 30-50 years',\n",
              "       'Female 30-50 years', 'Male above 50 years', 'Female above 50 years',\n",
              "       'Total Male', 'Total Female', 'Grand Total'],\n",
              "      dtype='object')"
            ]
          },
          "metadata": {
            "tags": []
          },
          "execution_count": 6
        }
      ]
    },
    {
      "cell_type": "code",
      "metadata": {
        "colab": {
          "base_uri": "https://localhost:8080/"
        },
        "id": "Yr-jIlb9WNSq",
        "outputId": "e7b53ef8-b0ca-4b65-917e-e4a403696fd9"
      },
      "source": [
        "df_crimes.Purpose.unique()"
      ],
      "execution_count": null,
      "outputs": [
        {
          "output_type": "execute_result",
          "data": {
            "text/plain": [
              "array(['For Adoption', 'For Begging', 'For Camel racing',\n",
              "       'For Illicit intercourse', 'For marriage', 'For Prostitution',\n",
              "       'For Ransom', 'For Revenge', 'For Sale', 'For Selling body parts',\n",
              "       'For Slavery', 'For unlawaful activity', 'Others', 'Total',\n",
              "       'For unlawful activity'], dtype=object)"
            ]
          },
          "metadata": {
            "tags": []
          },
          "execution_count": 7
        }
      ]
    },
    {
      "cell_type": "code",
      "metadata": {
        "colab": {
          "base_uri": "https://localhost:8080/"
        },
        "id": "4dN4zsFaDAfE",
        "outputId": "137f19e4-a351-4870-f5f9-148ae183d603"
      },
      "source": [
        "# replacing misspelt row value \"unlawaful\" with \"unlawful\"\n",
        "df_crimes.loc[(df_crimes.Purpose == 'For unlawaful activity'),'Purpose'] = 'For unlawful activity'\n",
        "df_crimes.Purpose.unique()"
      ],
      "execution_count": null,
      "outputs": [
        {
          "output_type": "execute_result",
          "data": {
            "text/plain": [
              "array(['For Adoption', 'For Begging', 'For Camel racing',\n",
              "       'For Illicit intercourse', 'For marriage', 'For Prostitution',\n",
              "       'For Ransom', 'For Revenge', 'For Sale', 'For Selling body parts',\n",
              "       'For Slavery', 'For unlawful activity', 'Others', 'Total'],\n",
              "      dtype=object)"
            ]
          },
          "metadata": {
            "tags": []
          },
          "execution_count": 8
        }
      ]
    },
    {
      "cell_type": "code",
      "metadata": {
        "colab": {
          "base_uri": "https://localhost:8080/",
          "height": 635
        },
        "id": "d8XLloSJfFwm",
        "outputId": "080daea8-6c50-4ac1-9431-6ca2fd931075"
      },
      "source": [
        "# dataframe excluding the \"total\" row with cumulative sum\n",
        "df_actual = df_crimes.drop(df_crimes[df_crimes['Purpose'] == 'Total'].index)\n",
        "df_actual"
      ],
      "execution_count": null,
      "outputs": [
        {
          "output_type": "execute_result",
          "data": {
            "text/html": [
              "<div>\n",
              "<style scoped>\n",
              "    .dataframe tbody tr th:only-of-type {\n",
              "        vertical-align: middle;\n",
              "    }\n",
              "\n",
              "    .dataframe tbody tr th {\n",
              "        vertical-align: top;\n",
              "    }\n",
              "\n",
              "    .dataframe thead th {\n",
              "        text-align: right;\n",
              "    }\n",
              "</style>\n",
              "<table border=\"1\" class=\"dataframe\">\n",
              "  <thead>\n",
              "    <tr style=\"text-align: right;\">\n",
              "      <th></th>\n",
              "      <th>STATE/UT</th>\n",
              "      <th>YEAR</th>\n",
              "      <th>Purpose</th>\n",
              "      <th>Total No. of cases reported</th>\n",
              "      <th>Male upto 10 years</th>\n",
              "      <th>Female upto 10 years</th>\n",
              "      <th>Male 10-15 years</th>\n",
              "      <th>Female 10-15 years</th>\n",
              "      <th>Male 15-18 years</th>\n",
              "      <th>Female 15-18 years</th>\n",
              "      <th>Male 18-30 years</th>\n",
              "      <th>Female 18-30 years</th>\n",
              "      <th>Male 30-50 years</th>\n",
              "      <th>Female 30-50 years</th>\n",
              "      <th>Male above 50 years</th>\n",
              "      <th>Female above 50 years</th>\n",
              "      <th>Total Male</th>\n",
              "      <th>Total Female</th>\n",
              "      <th>Grand Total</th>\n",
              "    </tr>\n",
              "  </thead>\n",
              "  <tbody>\n",
              "    <tr>\n",
              "      <th>0</th>\n",
              "      <td>Andhra Pradesh</td>\n",
              "      <td>2001</td>\n",
              "      <td>For Adoption</td>\n",
              "      <td>8</td>\n",
              "      <td>3</td>\n",
              "      <td>1</td>\n",
              "      <td>0</td>\n",
              "      <td>0</td>\n",
              "      <td>0</td>\n",
              "      <td>0</td>\n",
              "      <td>0</td>\n",
              "      <td>4</td>\n",
              "      <td>0</td>\n",
              "      <td>0</td>\n",
              "      <td>0</td>\n",
              "      <td>0</td>\n",
              "      <td>3</td>\n",
              "      <td>5</td>\n",
              "      <td>8</td>\n",
              "    </tr>\n",
              "    <tr>\n",
              "      <th>1</th>\n",
              "      <td>Andhra Pradesh</td>\n",
              "      <td>2001</td>\n",
              "      <td>For Begging</td>\n",
              "      <td>2</td>\n",
              "      <td>0</td>\n",
              "      <td>0</td>\n",
              "      <td>2</td>\n",
              "      <td>0</td>\n",
              "      <td>0</td>\n",
              "      <td>0</td>\n",
              "      <td>0</td>\n",
              "      <td>0</td>\n",
              "      <td>0</td>\n",
              "      <td>0</td>\n",
              "      <td>0</td>\n",
              "      <td>0</td>\n",
              "      <td>2</td>\n",
              "      <td>0</td>\n",
              "      <td>2</td>\n",
              "    </tr>\n",
              "    <tr>\n",
              "      <th>2</th>\n",
              "      <td>Andhra Pradesh</td>\n",
              "      <td>2001</td>\n",
              "      <td>For Camel racing</td>\n",
              "      <td>0</td>\n",
              "      <td>0</td>\n",
              "      <td>0</td>\n",
              "      <td>0</td>\n",
              "      <td>0</td>\n",
              "      <td>0</td>\n",
              "      <td>0</td>\n",
              "      <td>0</td>\n",
              "      <td>0</td>\n",
              "      <td>0</td>\n",
              "      <td>0</td>\n",
              "      <td>0</td>\n",
              "      <td>0</td>\n",
              "      <td>0</td>\n",
              "      <td>0</td>\n",
              "      <td>0</td>\n",
              "    </tr>\n",
              "    <tr>\n",
              "      <th>3</th>\n",
              "      <td>Andhra Pradesh</td>\n",
              "      <td>2001</td>\n",
              "      <td>For Illicit intercourse</td>\n",
              "      <td>78</td>\n",
              "      <td>0</td>\n",
              "      <td>2</td>\n",
              "      <td>0</td>\n",
              "      <td>25</td>\n",
              "      <td>0</td>\n",
              "      <td>24</td>\n",
              "      <td>0</td>\n",
              "      <td>25</td>\n",
              "      <td>0</td>\n",
              "      <td>2</td>\n",
              "      <td>0</td>\n",
              "      <td>0</td>\n",
              "      <td>0</td>\n",
              "      <td>78</td>\n",
              "      <td>78</td>\n",
              "    </tr>\n",
              "    <tr>\n",
              "      <th>4</th>\n",
              "      <td>Andhra Pradesh</td>\n",
              "      <td>2001</td>\n",
              "      <td>For marriage</td>\n",
              "      <td>339</td>\n",
              "      <td>0</td>\n",
              "      <td>0</td>\n",
              "      <td>0</td>\n",
              "      <td>73</td>\n",
              "      <td>1</td>\n",
              "      <td>164</td>\n",
              "      <td>6</td>\n",
              "      <td>91</td>\n",
              "      <td>0</td>\n",
              "      <td>4</td>\n",
              "      <td>0</td>\n",
              "      <td>0</td>\n",
              "      <td>7</td>\n",
              "      <td>332</td>\n",
              "      <td>339</td>\n",
              "    </tr>\n",
              "    <tr>\n",
              "      <th>...</th>\n",
              "      <td>...</td>\n",
              "      <td>...</td>\n",
              "      <td>...</td>\n",
              "      <td>...</td>\n",
              "      <td>...</td>\n",
              "      <td>...</td>\n",
              "      <td>...</td>\n",
              "      <td>...</td>\n",
              "      <td>...</td>\n",
              "      <td>...</td>\n",
              "      <td>...</td>\n",
              "      <td>...</td>\n",
              "      <td>...</td>\n",
              "      <td>...</td>\n",
              "      <td>...</td>\n",
              "      <td>...</td>\n",
              "      <td>...</td>\n",
              "      <td>...</td>\n",
              "      <td>...</td>\n",
              "    </tr>\n",
              "    <tr>\n",
              "      <th>5860</th>\n",
              "      <td>Puducherry</td>\n",
              "      <td>2012</td>\n",
              "      <td>For Sale</td>\n",
              "      <td>0</td>\n",
              "      <td>0</td>\n",
              "      <td>0</td>\n",
              "      <td>0</td>\n",
              "      <td>0</td>\n",
              "      <td>0</td>\n",
              "      <td>0</td>\n",
              "      <td>0</td>\n",
              "      <td>0</td>\n",
              "      <td>0</td>\n",
              "      <td>0</td>\n",
              "      <td>0</td>\n",
              "      <td>0</td>\n",
              "      <td>0</td>\n",
              "      <td>0</td>\n",
              "      <td>0</td>\n",
              "    </tr>\n",
              "    <tr>\n",
              "      <th>5861</th>\n",
              "      <td>Puducherry</td>\n",
              "      <td>2012</td>\n",
              "      <td>For Selling body parts</td>\n",
              "      <td>0</td>\n",
              "      <td>0</td>\n",
              "      <td>0</td>\n",
              "      <td>0</td>\n",
              "      <td>0</td>\n",
              "      <td>0</td>\n",
              "      <td>0</td>\n",
              "      <td>0</td>\n",
              "      <td>0</td>\n",
              "      <td>0</td>\n",
              "      <td>0</td>\n",
              "      <td>0</td>\n",
              "      <td>0</td>\n",
              "      <td>0</td>\n",
              "      <td>0</td>\n",
              "      <td>0</td>\n",
              "    </tr>\n",
              "    <tr>\n",
              "      <th>5862</th>\n",
              "      <td>Puducherry</td>\n",
              "      <td>2012</td>\n",
              "      <td>For Slavery</td>\n",
              "      <td>0</td>\n",
              "      <td>0</td>\n",
              "      <td>0</td>\n",
              "      <td>0</td>\n",
              "      <td>0</td>\n",
              "      <td>0</td>\n",
              "      <td>0</td>\n",
              "      <td>0</td>\n",
              "      <td>0</td>\n",
              "      <td>0</td>\n",
              "      <td>0</td>\n",
              "      <td>0</td>\n",
              "      <td>0</td>\n",
              "      <td>0</td>\n",
              "      <td>0</td>\n",
              "      <td>0</td>\n",
              "    </tr>\n",
              "    <tr>\n",
              "      <th>5863</th>\n",
              "      <td>Puducherry</td>\n",
              "      <td>2012</td>\n",
              "      <td>For unlawful activity</td>\n",
              "      <td>0</td>\n",
              "      <td>0</td>\n",
              "      <td>0</td>\n",
              "      <td>0</td>\n",
              "      <td>0</td>\n",
              "      <td>0</td>\n",
              "      <td>0</td>\n",
              "      <td>0</td>\n",
              "      <td>0</td>\n",
              "      <td>0</td>\n",
              "      <td>0</td>\n",
              "      <td>0</td>\n",
              "      <td>0</td>\n",
              "      <td>0</td>\n",
              "      <td>0</td>\n",
              "      <td>0</td>\n",
              "    </tr>\n",
              "    <tr>\n",
              "      <th>5864</th>\n",
              "      <td>Puducherry</td>\n",
              "      <td>2012</td>\n",
              "      <td>Others</td>\n",
              "      <td>8</td>\n",
              "      <td>2</td>\n",
              "      <td>4</td>\n",
              "      <td>1</td>\n",
              "      <td>1</td>\n",
              "      <td>0</td>\n",
              "      <td>0</td>\n",
              "      <td>0</td>\n",
              "      <td>0</td>\n",
              "      <td>0</td>\n",
              "      <td>0</td>\n",
              "      <td>0</td>\n",
              "      <td>0</td>\n",
              "      <td>3</td>\n",
              "      <td>5</td>\n",
              "      <td>8</td>\n",
              "    </tr>\n",
              "  </tbody>\n",
              "</table>\n",
              "<p>5447 rows × 19 columns</p>\n",
              "</div>"
            ],
            "text/plain": [
              "            STATE/UT  YEAR  ... Total Female  Grand Total\n",
              "0     Andhra Pradesh  2001  ...            5            8\n",
              "1     Andhra Pradesh  2001  ...            0            2\n",
              "2     Andhra Pradesh  2001  ...            0            0\n",
              "3     Andhra Pradesh  2001  ...           78           78\n",
              "4     Andhra Pradesh  2001  ...          332          339\n",
              "...              ...   ...  ...          ...          ...\n",
              "5860      Puducherry  2012  ...            0            0\n",
              "5861      Puducherry  2012  ...            0            0\n",
              "5862      Puducherry  2012  ...            0            0\n",
              "5863      Puducherry  2012  ...            0            0\n",
              "5864      Puducherry  2012  ...            5            8\n",
              "\n",
              "[5447 rows x 19 columns]"
            ]
          },
          "metadata": {
            "tags": []
          },
          "execution_count": 9
        }
      ]
    },
    {
      "cell_type": "code",
      "metadata": {
        "colab": {
          "base_uri": "https://localhost:8080/",
          "height": 583
        },
        "id": "THCsj63IQeas",
        "outputId": "a9bfcfc7-8a98-43a7-86ea-88ab0ac9d691"
      },
      "source": [
        "# dataframe with cumulative sum for each state after each year\n",
        "df_total = df_crimes.loc[df_crimes['Purpose'] == 'Total']\n",
        "df_total"
      ],
      "execution_count": null,
      "outputs": [
        {
          "output_type": "execute_result",
          "data": {
            "text/html": [
              "<div>\n",
              "<style scoped>\n",
              "    .dataframe tbody tr th:only-of-type {\n",
              "        vertical-align: middle;\n",
              "    }\n",
              "\n",
              "    .dataframe tbody tr th {\n",
              "        vertical-align: top;\n",
              "    }\n",
              "\n",
              "    .dataframe thead th {\n",
              "        text-align: right;\n",
              "    }\n",
              "</style>\n",
              "<table border=\"1\" class=\"dataframe\">\n",
              "  <thead>\n",
              "    <tr style=\"text-align: right;\">\n",
              "      <th></th>\n",
              "      <th>STATE/UT</th>\n",
              "      <th>YEAR</th>\n",
              "      <th>Purpose</th>\n",
              "      <th>Total No. of cases reported</th>\n",
              "      <th>Male upto 10 years</th>\n",
              "      <th>Female upto 10 years</th>\n",
              "      <th>Male 10-15 years</th>\n",
              "      <th>Female 10-15 years</th>\n",
              "      <th>Male 15-18 years</th>\n",
              "      <th>Female 15-18 years</th>\n",
              "      <th>Male 18-30 years</th>\n",
              "      <th>Female 18-30 years</th>\n",
              "      <th>Male 30-50 years</th>\n",
              "      <th>Female 30-50 years</th>\n",
              "      <th>Male above 50 years</th>\n",
              "      <th>Female above 50 years</th>\n",
              "      <th>Total Male</th>\n",
              "      <th>Total Female</th>\n",
              "      <th>Grand Total</th>\n",
              "    </tr>\n",
              "  </thead>\n",
              "  <tbody>\n",
              "    <tr>\n",
              "      <th>13</th>\n",
              "      <td>Andhra Pradesh</td>\n",
              "      <td>2001</td>\n",
              "      <td>Total</td>\n",
              "      <td>1182</td>\n",
              "      <td>17</td>\n",
              "      <td>6</td>\n",
              "      <td>12</td>\n",
              "      <td>105</td>\n",
              "      <td>64</td>\n",
              "      <td>265</td>\n",
              "      <td>218</td>\n",
              "      <td>348</td>\n",
              "      <td>121</td>\n",
              "      <td>25</td>\n",
              "      <td>5</td>\n",
              "      <td>0</td>\n",
              "      <td>437</td>\n",
              "      <td>749</td>\n",
              "      <td>1186</td>\n",
              "    </tr>\n",
              "    <tr>\n",
              "      <th>27</th>\n",
              "      <td>Andhra Pradesh</td>\n",
              "      <td>2002</td>\n",
              "      <td>Total</td>\n",
              "      <td>1302</td>\n",
              "      <td>7</td>\n",
              "      <td>4</td>\n",
              "      <td>4</td>\n",
              "      <td>38</td>\n",
              "      <td>2</td>\n",
              "      <td>31</td>\n",
              "      <td>297</td>\n",
              "      <td>721</td>\n",
              "      <td>125</td>\n",
              "      <td>51</td>\n",
              "      <td>13</td>\n",
              "      <td>9</td>\n",
              "      <td>448</td>\n",
              "      <td>854</td>\n",
              "      <td>1302</td>\n",
              "    </tr>\n",
              "    <tr>\n",
              "      <th>41</th>\n",
              "      <td>Andhra Pradesh</td>\n",
              "      <td>2003</td>\n",
              "      <td>Total</td>\n",
              "      <td>1485</td>\n",
              "      <td>16</td>\n",
              "      <td>10</td>\n",
              "      <td>34</td>\n",
              "      <td>84</td>\n",
              "      <td>48</td>\n",
              "      <td>181</td>\n",
              "      <td>298</td>\n",
              "      <td>518</td>\n",
              "      <td>139</td>\n",
              "      <td>138</td>\n",
              "      <td>19</td>\n",
              "      <td>0</td>\n",
              "      <td>554</td>\n",
              "      <td>931</td>\n",
              "      <td>1485</td>\n",
              "    </tr>\n",
              "    <tr>\n",
              "      <th>55</th>\n",
              "      <td>Andhra Pradesh</td>\n",
              "      <td>2004</td>\n",
              "      <td>Total</td>\n",
              "      <td>1526</td>\n",
              "      <td>33</td>\n",
              "      <td>23</td>\n",
              "      <td>33</td>\n",
              "      <td>113</td>\n",
              "      <td>45</td>\n",
              "      <td>183</td>\n",
              "      <td>193</td>\n",
              "      <td>581</td>\n",
              "      <td>164</td>\n",
              "      <td>122</td>\n",
              "      <td>28</td>\n",
              "      <td>14</td>\n",
              "      <td>496</td>\n",
              "      <td>1036</td>\n",
              "      <td>1532</td>\n",
              "    </tr>\n",
              "    <tr>\n",
              "      <th>69</th>\n",
              "      <td>Andhra Pradesh</td>\n",
              "      <td>2005</td>\n",
              "      <td>Total</td>\n",
              "      <td>1612</td>\n",
              "      <td>24</td>\n",
              "      <td>20</td>\n",
              "      <td>25</td>\n",
              "      <td>95</td>\n",
              "      <td>24</td>\n",
              "      <td>163</td>\n",
              "      <td>305</td>\n",
              "      <td>617</td>\n",
              "      <td>221</td>\n",
              "      <td>90</td>\n",
              "      <td>20</td>\n",
              "      <td>15</td>\n",
              "      <td>619</td>\n",
              "      <td>1000</td>\n",
              "      <td>1619</td>\n",
              "    </tr>\n",
              "    <tr>\n",
              "      <th>...</th>\n",
              "      <td>...</td>\n",
              "      <td>...</td>\n",
              "      <td>...</td>\n",
              "      <td>...</td>\n",
              "      <td>...</td>\n",
              "      <td>...</td>\n",
              "      <td>...</td>\n",
              "      <td>...</td>\n",
              "      <td>...</td>\n",
              "      <td>...</td>\n",
              "      <td>...</td>\n",
              "      <td>...</td>\n",
              "      <td>...</td>\n",
              "      <td>...</td>\n",
              "      <td>...</td>\n",
              "      <td>...</td>\n",
              "      <td>...</td>\n",
              "      <td>...</td>\n",
              "      <td>...</td>\n",
              "    </tr>\n",
              "    <tr>\n",
              "      <th>5809</th>\n",
              "      <td>Puducherry</td>\n",
              "      <td>2008</td>\n",
              "      <td>Total</td>\n",
              "      <td>17</td>\n",
              "      <td>4</td>\n",
              "      <td>0</td>\n",
              "      <td>1</td>\n",
              "      <td>3</td>\n",
              "      <td>0</td>\n",
              "      <td>6</td>\n",
              "      <td>1</td>\n",
              "      <td>0</td>\n",
              "      <td>1</td>\n",
              "      <td>0</td>\n",
              "      <td>1</td>\n",
              "      <td>0</td>\n",
              "      <td>8</td>\n",
              "      <td>9</td>\n",
              "      <td>17</td>\n",
              "    </tr>\n",
              "    <tr>\n",
              "      <th>5823</th>\n",
              "      <td>Puducherry</td>\n",
              "      <td>2009</td>\n",
              "      <td>Total</td>\n",
              "      <td>18</td>\n",
              "      <td>1</td>\n",
              "      <td>1</td>\n",
              "      <td>0</td>\n",
              "      <td>1</td>\n",
              "      <td>0</td>\n",
              "      <td>8</td>\n",
              "      <td>3</td>\n",
              "      <td>2</td>\n",
              "      <td>1</td>\n",
              "      <td>1</td>\n",
              "      <td>0</td>\n",
              "      <td>0</td>\n",
              "      <td>5</td>\n",
              "      <td>13</td>\n",
              "      <td>18</td>\n",
              "    </tr>\n",
              "    <tr>\n",
              "      <th>5837</th>\n",
              "      <td>Puducherry</td>\n",
              "      <td>2010</td>\n",
              "      <td>Total</td>\n",
              "      <td>17</td>\n",
              "      <td>2</td>\n",
              "      <td>3</td>\n",
              "      <td>0</td>\n",
              "      <td>2</td>\n",
              "      <td>0</td>\n",
              "      <td>5</td>\n",
              "      <td>1</td>\n",
              "      <td>6</td>\n",
              "      <td>1</td>\n",
              "      <td>0</td>\n",
              "      <td>0</td>\n",
              "      <td>0</td>\n",
              "      <td>4</td>\n",
              "      <td>16</td>\n",
              "      <td>20</td>\n",
              "    </tr>\n",
              "    <tr>\n",
              "      <th>5851</th>\n",
              "      <td>Puducherry</td>\n",
              "      <td>2011</td>\n",
              "      <td>Total</td>\n",
              "      <td>12</td>\n",
              "      <td>1</td>\n",
              "      <td>1</td>\n",
              "      <td>0</td>\n",
              "      <td>0</td>\n",
              "      <td>0</td>\n",
              "      <td>5</td>\n",
              "      <td>1</td>\n",
              "      <td>2</td>\n",
              "      <td>1</td>\n",
              "      <td>1</td>\n",
              "      <td>0</td>\n",
              "      <td>0</td>\n",
              "      <td>3</td>\n",
              "      <td>9</td>\n",
              "      <td>12</td>\n",
              "    </tr>\n",
              "    <tr>\n",
              "      <th>5865</th>\n",
              "      <td>Puducherry</td>\n",
              "      <td>2012</td>\n",
              "      <td>Total</td>\n",
              "      <td>19</td>\n",
              "      <td>2</td>\n",
              "      <td>4</td>\n",
              "      <td>1</td>\n",
              "      <td>1</td>\n",
              "      <td>0</td>\n",
              "      <td>10</td>\n",
              "      <td>0</td>\n",
              "      <td>1</td>\n",
              "      <td>0</td>\n",
              "      <td>0</td>\n",
              "      <td>0</td>\n",
              "      <td>0</td>\n",
              "      <td>3</td>\n",
              "      <td>16</td>\n",
              "      <td>19</td>\n",
              "    </tr>\n",
              "  </tbody>\n",
              "</table>\n",
              "<p>419 rows × 19 columns</p>\n",
              "</div>"
            ],
            "text/plain": [
              "            STATE/UT  YEAR Purpose  ...  Total Male  Total Female  Grand Total\n",
              "13    Andhra Pradesh  2001   Total  ...         437           749         1186\n",
              "27    Andhra Pradesh  2002   Total  ...         448           854         1302\n",
              "41    Andhra Pradesh  2003   Total  ...         554           931         1485\n",
              "55    Andhra Pradesh  2004   Total  ...         496          1036         1532\n",
              "69    Andhra Pradesh  2005   Total  ...         619          1000         1619\n",
              "...              ...   ...     ...  ...         ...           ...          ...\n",
              "5809      Puducherry  2008   Total  ...           8             9           17\n",
              "5823      Puducherry  2009   Total  ...           5            13           18\n",
              "5837      Puducherry  2010   Total  ...           4            16           20\n",
              "5851      Puducherry  2011   Total  ...           3             9           12\n",
              "5865      Puducherry  2012   Total  ...           3            16           19\n",
              "\n",
              "[419 rows x 19 columns]"
            ]
          },
          "metadata": {
            "tags": []
          },
          "execution_count": 11
        }
      ]
    },
    {
      "cell_type": "code",
      "metadata": {
        "colab": {
          "base_uri": "https://localhost:8080/",
          "height": 310
        },
        "id": "nRSbAlwagerH",
        "outputId": "a882a087-fd86-4543-a4d1-e9cc264624b1"
      },
      "source": [
        "# dataframe grouped state/UT\n",
        "df_grouped = df_total.groupby(by=['STATE/UT'], as_index=False).sum()\n",
        "df_grouped = df_grouped.drop(['YEAR'], axis=1)\n",
        "df_grouped.head()"
      ],
      "execution_count": null,
      "outputs": [
        {
          "output_type": "execute_result",
          "data": {
            "text/html": [
              "<div>\n",
              "<style scoped>\n",
              "    .dataframe tbody tr th:only-of-type {\n",
              "        vertical-align: middle;\n",
              "    }\n",
              "\n",
              "    .dataframe tbody tr th {\n",
              "        vertical-align: top;\n",
              "    }\n",
              "\n",
              "    .dataframe thead th {\n",
              "        text-align: right;\n",
              "    }\n",
              "</style>\n",
              "<table border=\"1\" class=\"dataframe\">\n",
              "  <thead>\n",
              "    <tr style=\"text-align: right;\">\n",
              "      <th></th>\n",
              "      <th>STATE/UT</th>\n",
              "      <th>Total No. of cases reported</th>\n",
              "      <th>Male upto 10 years</th>\n",
              "      <th>Female upto 10 years</th>\n",
              "      <th>Male 10-15 years</th>\n",
              "      <th>Female 10-15 years</th>\n",
              "      <th>Male 15-18 years</th>\n",
              "      <th>Female 15-18 years</th>\n",
              "      <th>Male 18-30 years</th>\n",
              "      <th>Female 18-30 years</th>\n",
              "      <th>Male 30-50 years</th>\n",
              "      <th>Female 30-50 years</th>\n",
              "      <th>Male above 50 years</th>\n",
              "      <th>Female above 50 years</th>\n",
              "      <th>Total Male</th>\n",
              "      <th>Total Female</th>\n",
              "      <th>Grand Total</th>\n",
              "    </tr>\n",
              "  </thead>\n",
              "  <tbody>\n",
              "    <tr>\n",
              "      <th>0</th>\n",
              "      <td>A&amp;N Islands</td>\n",
              "      <td>94</td>\n",
              "      <td>2</td>\n",
              "      <td>5</td>\n",
              "      <td>5</td>\n",
              "      <td>13</td>\n",
              "      <td>2</td>\n",
              "      <td>47</td>\n",
              "      <td>3</td>\n",
              "      <td>10</td>\n",
              "      <td>8</td>\n",
              "      <td>4</td>\n",
              "      <td>0</td>\n",
              "      <td>0</td>\n",
              "      <td>20</td>\n",
              "      <td>79</td>\n",
              "      <td>99</td>\n",
              "    </tr>\n",
              "    <tr>\n",
              "      <th>1</th>\n",
              "      <td>Andhra Pradesh</td>\n",
              "      <td>21239</td>\n",
              "      <td>252</td>\n",
              "      <td>269</td>\n",
              "      <td>236</td>\n",
              "      <td>1498</td>\n",
              "      <td>293</td>\n",
              "      <td>3431</td>\n",
              "      <td>3267</td>\n",
              "      <td>8170</td>\n",
              "      <td>2150</td>\n",
              "      <td>1405</td>\n",
              "      <td>253</td>\n",
              "      <td>102</td>\n",
              "      <td>6451</td>\n",
              "      <td>14875</td>\n",
              "      <td>21326</td>\n",
              "    </tr>\n",
              "    <tr>\n",
              "      <th>2</th>\n",
              "      <td>Arunachal Pradesh</td>\n",
              "      <td>857</td>\n",
              "      <td>0</td>\n",
              "      <td>3</td>\n",
              "      <td>12</td>\n",
              "      <td>96</td>\n",
              "      <td>0</td>\n",
              "      <td>23</td>\n",
              "      <td>212</td>\n",
              "      <td>419</td>\n",
              "      <td>74</td>\n",
              "      <td>17</td>\n",
              "      <td>1</td>\n",
              "      <td>0</td>\n",
              "      <td>299</td>\n",
              "      <td>558</td>\n",
              "      <td>857</td>\n",
              "    </tr>\n",
              "    <tr>\n",
              "      <th>3</th>\n",
              "      <td>Assam</td>\n",
              "      <td>27939</td>\n",
              "      <td>2</td>\n",
              "      <td>8</td>\n",
              "      <td>21</td>\n",
              "      <td>75</td>\n",
              "      <td>124</td>\n",
              "      <td>615</td>\n",
              "      <td>2886</td>\n",
              "      <td>15864</td>\n",
              "      <td>1563</td>\n",
              "      <td>6710</td>\n",
              "      <td>18</td>\n",
              "      <td>53</td>\n",
              "      <td>4614</td>\n",
              "      <td>23325</td>\n",
              "      <td>27939</td>\n",
              "    </tr>\n",
              "    <tr>\n",
              "      <th>4</th>\n",
              "      <td>Bihar</td>\n",
              "      <td>37220</td>\n",
              "      <td>217</td>\n",
              "      <td>30</td>\n",
              "      <td>374</td>\n",
              "      <td>478</td>\n",
              "      <td>859</td>\n",
              "      <td>6160</td>\n",
              "      <td>12151</td>\n",
              "      <td>11539</td>\n",
              "      <td>4304</td>\n",
              "      <td>768</td>\n",
              "      <td>376</td>\n",
              "      <td>3</td>\n",
              "      <td>18281</td>\n",
              "      <td>18978</td>\n",
              "      <td>37259</td>\n",
              "    </tr>\n",
              "  </tbody>\n",
              "</table>\n",
              "</div>"
            ],
            "text/plain": [
              "            STATE/UT  Total No. of cases reported  ...  Total Female  Grand Total\n",
              "0        A&N Islands                           94  ...            79           99\n",
              "1     Andhra Pradesh                        21239  ...         14875        21326\n",
              "2  Arunachal Pradesh                          857  ...           558          857\n",
              "3              Assam                        27939  ...         23325        27939\n",
              "4              Bihar                        37220  ...         18978        37259\n",
              "\n",
              "[5 rows x 17 columns]"
            ]
          },
          "metadata": {
            "tags": []
          },
          "execution_count": 12
        }
      ]
    },
    {
      "cell_type": "markdown",
      "metadata": {
        "id": "bOqzlZlnTKzo"
      },
      "source": [
        "# **1) Give an overall visualisation of the total crimes committed in all the states/UT**\n",
        "\n",
        "_Bar Graph using plotly_"
      ]
    },
    {
      "cell_type": "code",
      "metadata": {
        "colab": {
          "base_uri": "https://localhost:8080/",
          "height": 542
        },
        "id": "KUDvPKhOlyy_",
        "outputId": "ac36285e-c1b9-42bd-a3e3-0be886ca6b4b"
      },
      "source": [
        "fig = px.bar(df_grouped, x = \"STATE/UT\", y = \"Grand Total\", hover_data = [\"Total Male\", \"Total Female\"])\n",
        "fig"
      ],
      "execution_count": null,
      "outputs": [
        {
          "output_type": "display_data",
          "data": {
            "text/html": [
              "<html>\n",
              "<head><meta charset=\"utf-8\" /></head>\n",
              "<body>\n",
              "    <div>            <script src=\"https://cdnjs.cloudflare.com/ajax/libs/mathjax/2.7.5/MathJax.js?config=TeX-AMS-MML_SVG\"></script><script type=\"text/javascript\">if (window.MathJax) {MathJax.Hub.Config({SVG: {font: \"STIX-Web\"}});}</script>                <script type=\"text/javascript\">window.PlotlyConfig = {MathJaxConfig: 'local'};</script>\n",
              "        <script src=\"https://cdn.plot.ly/plotly-latest.min.js\"></script>                <div id=\"a481a322-8652-4ba8-8324-d15ab2b2327e\" class=\"plotly-graph-div\" style=\"height:525px; width:100%;\"></div>            <script type=\"text/javascript\">                                    window.PLOTLYENV=window.PLOTLYENV || {};                                    if (document.getElementById(\"a481a322-8652-4ba8-8324-d15ab2b2327e\")) {                    Plotly.newPlot(                        \"a481a322-8652-4ba8-8324-d15ab2b2327e\",                        [{\"alignmentgroup\": \"True\", \"customdata\": [[20, 79], [6451, 14875], [299, 558], [4614, 23325], [18281, 18978], [118, 540], [764, 2581], [51, 96], [20, 9], [10539, 16026], [91, 173], [2904, 12451], [2413, 6352], [283, 1548], [856, 8849], [3117, 4848], [4070, 6257], [1032, 1933], [0, 1], [2916, 9303], [4215, 11939], [935, 1139], [468, 271], [72, 37], [397, 69], [1513, 8229], [52, 123], [2124, 5746], [6126, 24634], [15, 74], [2921, 12588], [851, 978], [11910, 47437], [505, 2353], [4804, 21313]], \"hovertemplate\": \"STATE/UT=%{x}<br>Grand Total=%{y}<br>Total Male=%{customdata[0]}<br>Total Female=%{customdata[1]}<extra></extra>\", \"legendgroup\": \"\", \"marker\": {\"color\": \"#636efa\"}, \"name\": \"\", \"offsetgroup\": \"\", \"orientation\": \"v\", \"showlegend\": false, \"textposition\": \"auto\", \"type\": \"bar\", \"x\": [\"A&N Islands\", \"Andhra Pradesh\", \"Arunachal Pradesh\", \"Assam\", \"Bihar\", \"Chandigarh\", \"Chhattisgarh\", \"D&N Haveli\", \"Daman & Diu\", \"Delhi UT\", \"Goa\", \"Gujarat\", \"Haryana\", \"Himachal Pradesh\", \"Jammu & Kashmir\", \"Jharkhand\", \"Karnataka\", \"Kerala\", \"Lakshadweep\", \"Madhya Pradesh\", \"Maharashtra\", \"Manipur\", \"Meghalaya\", \"Mizoram\", \"Nagaland\", \"Odisha\", \"Puducherry\", \"Punjab\", \"Rajasthan\", \"Sikkim\", \"Tamil Nadu\", \"Tripura\", \"Uttar Pradesh\", \"Uttarakhand\", \"West Bengal\"], \"xaxis\": \"x\", \"y\": [99, 21326, 857, 27939, 37259, 658, 3345, 147, 29, 26565, 264, 15355, 8765, 1831, 9705, 7965, 10327, 2965, 1, 12219, 16154, 2074, 739, 109, 466, 9742, 175, 7870, 30760, 89, 15509, 1829, 59347, 2858, 26117], \"yaxis\": \"y\"}],                        {\"barmode\": \"relative\", \"legend\": {\"tracegroupgap\": 0}, \"margin\": {\"t\": 60}, \"template\": {\"data\": {\"bar\": [{\"error_x\": {\"color\": \"#2a3f5f\"}, \"error_y\": {\"color\": \"#2a3f5f\"}, \"marker\": {\"line\": {\"color\": \"#E5ECF6\", \"width\": 0.5}}, \"type\": \"bar\"}], \"barpolar\": [{\"marker\": {\"line\": {\"color\": \"#E5ECF6\", \"width\": 0.5}}, \"type\": \"barpolar\"}], \"carpet\": [{\"aaxis\": {\"endlinecolor\": \"#2a3f5f\", \"gridcolor\": \"white\", \"linecolor\": \"white\", \"minorgridcolor\": \"white\", \"startlinecolor\": \"#2a3f5f\"}, \"baxis\": {\"endlinecolor\": \"#2a3f5f\", \"gridcolor\": \"white\", \"linecolor\": \"white\", \"minorgridcolor\": \"white\", \"startlinecolor\": \"#2a3f5f\"}, \"type\": \"carpet\"}], \"choropleth\": [{\"colorbar\": {\"outlinewidth\": 0, \"ticks\": \"\"}, \"type\": \"choropleth\"}], \"contour\": [{\"colorbar\": {\"outlinewidth\": 0, \"ticks\": \"\"}, \"colorscale\": [[0.0, \"#0d0887\"], [0.1111111111111111, \"#46039f\"], [0.2222222222222222, \"#7201a8\"], [0.3333333333333333, \"#9c179e\"], [0.4444444444444444, \"#bd3786\"], [0.5555555555555556, \"#d8576b\"], [0.6666666666666666, \"#ed7953\"], [0.7777777777777778, \"#fb9f3a\"], [0.8888888888888888, \"#fdca26\"], [1.0, \"#f0f921\"]], \"type\": \"contour\"}], \"contourcarpet\": [{\"colorbar\": {\"outlinewidth\": 0, \"ticks\": \"\"}, \"type\": \"contourcarpet\"}], \"heatmap\": [{\"colorbar\": {\"outlinewidth\": 0, \"ticks\": \"\"}, \"colorscale\": [[0.0, \"#0d0887\"], [0.1111111111111111, \"#46039f\"], [0.2222222222222222, \"#7201a8\"], [0.3333333333333333, \"#9c179e\"], [0.4444444444444444, \"#bd3786\"], [0.5555555555555556, \"#d8576b\"], [0.6666666666666666, \"#ed7953\"], [0.7777777777777778, \"#fb9f3a\"], [0.8888888888888888, \"#fdca26\"], [1.0, \"#f0f921\"]], \"type\": \"heatmap\"}], \"heatmapgl\": [{\"colorbar\": {\"outlinewidth\": 0, \"ticks\": \"\"}, \"colorscale\": [[0.0, \"#0d0887\"], [0.1111111111111111, \"#46039f\"], [0.2222222222222222, \"#7201a8\"], [0.3333333333333333, \"#9c179e\"], [0.4444444444444444, \"#bd3786\"], [0.5555555555555556, \"#d8576b\"], [0.6666666666666666, \"#ed7953\"], [0.7777777777777778, \"#fb9f3a\"], [0.8888888888888888, \"#fdca26\"], [1.0, \"#f0f921\"]], \"type\": \"heatmapgl\"}], \"histogram\": [{\"marker\": {\"colorbar\": {\"outlinewidth\": 0, \"ticks\": \"\"}}, \"type\": \"histogram\"}], \"histogram2d\": [{\"colorbar\": {\"outlinewidth\": 0, \"ticks\": \"\"}, \"colorscale\": [[0.0, \"#0d0887\"], [0.1111111111111111, \"#46039f\"], [0.2222222222222222, \"#7201a8\"], [0.3333333333333333, \"#9c179e\"], [0.4444444444444444, \"#bd3786\"], [0.5555555555555556, \"#d8576b\"], [0.6666666666666666, \"#ed7953\"], [0.7777777777777778, \"#fb9f3a\"], [0.8888888888888888, \"#fdca26\"], [1.0, \"#f0f921\"]], \"type\": \"histogram2d\"}], \"histogram2dcontour\": [{\"colorbar\": {\"outlinewidth\": 0, \"ticks\": \"\"}, \"colorscale\": [[0.0, \"#0d0887\"], [0.1111111111111111, \"#46039f\"], [0.2222222222222222, \"#7201a8\"], [0.3333333333333333, \"#9c179e\"], [0.4444444444444444, \"#bd3786\"], [0.5555555555555556, \"#d8576b\"], [0.6666666666666666, \"#ed7953\"], [0.7777777777777778, \"#fb9f3a\"], [0.8888888888888888, \"#fdca26\"], [1.0, \"#f0f921\"]], \"type\": \"histogram2dcontour\"}], \"mesh3d\": [{\"colorbar\": {\"outlinewidth\": 0, \"ticks\": \"\"}, \"type\": \"mesh3d\"}], \"parcoords\": [{\"line\": {\"colorbar\": {\"outlinewidth\": 0, \"ticks\": \"\"}}, \"type\": \"parcoords\"}], \"pie\": [{\"automargin\": true, \"type\": \"pie\"}], \"scatter\": [{\"marker\": {\"colorbar\": {\"outlinewidth\": 0, \"ticks\": \"\"}}, \"type\": \"scatter\"}], \"scatter3d\": [{\"line\": {\"colorbar\": {\"outlinewidth\": 0, \"ticks\": \"\"}}, \"marker\": {\"colorbar\": {\"outlinewidth\": 0, \"ticks\": \"\"}}, \"type\": \"scatter3d\"}], \"scattercarpet\": [{\"marker\": {\"colorbar\": {\"outlinewidth\": 0, \"ticks\": \"\"}}, \"type\": \"scattercarpet\"}], \"scattergeo\": [{\"marker\": {\"colorbar\": {\"outlinewidth\": 0, \"ticks\": \"\"}}, \"type\": \"scattergeo\"}], \"scattergl\": [{\"marker\": {\"colorbar\": {\"outlinewidth\": 0, \"ticks\": \"\"}}, \"type\": \"scattergl\"}], \"scattermapbox\": [{\"marker\": {\"colorbar\": {\"outlinewidth\": 0, \"ticks\": \"\"}}, \"type\": \"scattermapbox\"}], \"scatterpolar\": [{\"marker\": {\"colorbar\": {\"outlinewidth\": 0, \"ticks\": \"\"}}, \"type\": \"scatterpolar\"}], \"scatterpolargl\": [{\"marker\": {\"colorbar\": {\"outlinewidth\": 0, \"ticks\": \"\"}}, \"type\": \"scatterpolargl\"}], \"scatterternary\": [{\"marker\": {\"colorbar\": {\"outlinewidth\": 0, \"ticks\": \"\"}}, \"type\": \"scatterternary\"}], \"surface\": [{\"colorbar\": {\"outlinewidth\": 0, \"ticks\": \"\"}, \"colorscale\": [[0.0, \"#0d0887\"], [0.1111111111111111, \"#46039f\"], [0.2222222222222222, \"#7201a8\"], [0.3333333333333333, \"#9c179e\"], [0.4444444444444444, \"#bd3786\"], [0.5555555555555556, \"#d8576b\"], [0.6666666666666666, \"#ed7953\"], [0.7777777777777778, \"#fb9f3a\"], [0.8888888888888888, \"#fdca26\"], [1.0, \"#f0f921\"]], \"type\": \"surface\"}], \"table\": [{\"cells\": {\"fill\": {\"color\": \"#EBF0F8\"}, \"line\": {\"color\": \"white\"}}, \"header\": {\"fill\": {\"color\": \"#C8D4E3\"}, \"line\": {\"color\": \"white\"}}, \"type\": \"table\"}]}, \"layout\": {\"annotationdefaults\": {\"arrowcolor\": \"#2a3f5f\", \"arrowhead\": 0, \"arrowwidth\": 1}, \"autotypenumbers\": \"strict\", \"coloraxis\": {\"colorbar\": {\"outlinewidth\": 0, \"ticks\": \"\"}}, \"colorscale\": {\"diverging\": [[0, \"#8e0152\"], [0.1, \"#c51b7d\"], [0.2, \"#de77ae\"], [0.3, \"#f1b6da\"], [0.4, \"#fde0ef\"], [0.5, \"#f7f7f7\"], [0.6, \"#e6f5d0\"], [0.7, \"#b8e186\"], [0.8, \"#7fbc41\"], [0.9, \"#4d9221\"], [1, \"#276419\"]], \"sequential\": [[0.0, \"#0d0887\"], [0.1111111111111111, \"#46039f\"], [0.2222222222222222, \"#7201a8\"], [0.3333333333333333, \"#9c179e\"], [0.4444444444444444, \"#bd3786\"], [0.5555555555555556, \"#d8576b\"], [0.6666666666666666, \"#ed7953\"], [0.7777777777777778, \"#fb9f3a\"], [0.8888888888888888, \"#fdca26\"], [1.0, \"#f0f921\"]], \"sequentialminus\": [[0.0, \"#0d0887\"], [0.1111111111111111, \"#46039f\"], [0.2222222222222222, \"#7201a8\"], [0.3333333333333333, \"#9c179e\"], [0.4444444444444444, \"#bd3786\"], [0.5555555555555556, \"#d8576b\"], [0.6666666666666666, \"#ed7953\"], [0.7777777777777778, \"#fb9f3a\"], [0.8888888888888888, \"#fdca26\"], [1.0, \"#f0f921\"]]}, \"colorway\": [\"#636efa\", \"#EF553B\", \"#00cc96\", \"#ab63fa\", \"#FFA15A\", \"#19d3f3\", \"#FF6692\", \"#B6E880\", \"#FF97FF\", \"#FECB52\"], \"font\": {\"color\": \"#2a3f5f\"}, \"geo\": {\"bgcolor\": \"white\", \"lakecolor\": \"white\", \"landcolor\": \"#E5ECF6\", \"showlakes\": true, \"showland\": true, \"subunitcolor\": \"white\"}, \"hoverlabel\": {\"align\": \"left\"}, \"hovermode\": \"closest\", \"mapbox\": {\"style\": \"light\"}, \"paper_bgcolor\": \"white\", \"plot_bgcolor\": \"#E5ECF6\", \"polar\": {\"angularaxis\": {\"gridcolor\": \"white\", \"linecolor\": \"white\", \"ticks\": \"\"}, \"bgcolor\": \"#E5ECF6\", \"radialaxis\": {\"gridcolor\": \"white\", \"linecolor\": \"white\", \"ticks\": \"\"}}, \"scene\": {\"xaxis\": {\"backgroundcolor\": \"#E5ECF6\", \"gridcolor\": \"white\", \"gridwidth\": 2, \"linecolor\": \"white\", \"showbackground\": true, \"ticks\": \"\", \"zerolinecolor\": \"white\"}, \"yaxis\": {\"backgroundcolor\": \"#E5ECF6\", \"gridcolor\": \"white\", \"gridwidth\": 2, \"linecolor\": \"white\", \"showbackground\": true, \"ticks\": \"\", \"zerolinecolor\": \"white\"}, \"zaxis\": {\"backgroundcolor\": \"#E5ECF6\", \"gridcolor\": \"white\", \"gridwidth\": 2, \"linecolor\": \"white\", \"showbackground\": true, \"ticks\": \"\", \"zerolinecolor\": \"white\"}}, \"shapedefaults\": {\"line\": {\"color\": \"#2a3f5f\"}}, \"ternary\": {\"aaxis\": {\"gridcolor\": \"white\", \"linecolor\": \"white\", \"ticks\": \"\"}, \"baxis\": {\"gridcolor\": \"white\", \"linecolor\": \"white\", \"ticks\": \"\"}, \"bgcolor\": \"#E5ECF6\", \"caxis\": {\"gridcolor\": \"white\", \"linecolor\": \"white\", \"ticks\": \"\"}}, \"title\": {\"x\": 0.05}, \"xaxis\": {\"automargin\": true, \"gridcolor\": \"white\", \"linecolor\": \"white\", \"ticks\": \"\", \"title\": {\"standoff\": 15}, \"zerolinecolor\": \"white\", \"zerolinewidth\": 2}, \"yaxis\": {\"automargin\": true, \"gridcolor\": \"white\", \"linecolor\": \"white\", \"ticks\": \"\", \"title\": {\"standoff\": 15}, \"zerolinecolor\": \"white\", \"zerolinewidth\": 2}}}, \"xaxis\": {\"anchor\": \"y\", \"domain\": [0.0, 1.0], \"title\": {\"text\": \"STATE/UT\"}}, \"yaxis\": {\"anchor\": \"x\", \"domain\": [0.0, 1.0], \"title\": {\"text\": \"Grand Total\"}}},                        {\"responsive\": true}                    ).then(function(){\n",
              "                            \n",
              "var gd = document.getElementById('a481a322-8652-4ba8-8324-d15ab2b2327e');\n",
              "var x = new MutationObserver(function (mutations, observer) {{\n",
              "        var display = window.getComputedStyle(gd).display;\n",
              "        if (!display || display === 'none') {{\n",
              "            console.log([gd, 'removed!']);\n",
              "            Plotly.purge(gd);\n",
              "            observer.disconnect();\n",
              "        }}\n",
              "}});\n",
              "\n",
              "// Listen for the removal of the full notebook cells\n",
              "var notebookContainer = gd.closest('#notebook-container');\n",
              "if (notebookContainer) {{\n",
              "    x.observe(notebookContainer, {childList: true});\n",
              "}}\n",
              "\n",
              "// Listen for the clearing of the current output cell\n",
              "var outputEl = gd.closest('.output');\n",
              "if (outputEl) {{\n",
              "    x.observe(outputEl, {childList: true});\n",
              "}}\n",
              "\n",
              "                        })                };                            </script>        </div>\n",
              "</body>\n",
              "</html>"
            ]
          },
          "metadata": {
            "tags": []
          }
        }
      ]
    },
    {
      "cell_type": "markdown",
      "metadata": {
        "id": "f9QsCI49G439"
      },
      "source": [
        "INFERENCE : Uttar Pradesh leads, followed by Bihar. Union Territories have the least number of cases, followed by states like Mizoram and Sikkim."
      ]
    },
    {
      "cell_type": "markdown",
      "metadata": {
        "id": "mlLUDG3hTaGF"
      },
      "source": [
        "# **2) Which gender is most involved in crimes?**\n",
        "\n",
        "_Grouped Bar Chart using plotly_"
      ]
    },
    {
      "cell_type": "code",
      "metadata": {
        "colab": {
          "base_uri": "https://localhost:8080/",
          "height": 542
        },
        "id": "viJ6P02Z9nHs",
        "outputId": "04764f02-1912-48c4-b32b-0b3049f4bfbe"
      },
      "source": [
        "data = [go.Bar(name=\"Male\", x=df_grouped['STATE/UT'], y=df_grouped['Total Male']),\n",
        "        go.Bar(name=\"Female\", x=df_grouped['STATE/UT'], y=df_grouped['Total Female'])]\n",
        "layout = go.Layout(title=\"TOTAL MALES V/S FEMALES INVOLVED IN CRIMES OVER 2001-2012 (STATE WISE)\", yaxis_title=\"Number of Issues\", xaxis_title=\"State/UT\")\n",
        "fig = go.Figure(data = data, layout = layout)\n",
        "fig.show()"
      ],
      "execution_count": null,
      "outputs": [
        {
          "output_type": "display_data",
          "data": {
            "text/html": [
              "<html>\n",
              "<head><meta charset=\"utf-8\" /></head>\n",
              "<body>\n",
              "    <div>            <script src=\"https://cdnjs.cloudflare.com/ajax/libs/mathjax/2.7.5/MathJax.js?config=TeX-AMS-MML_SVG\"></script><script type=\"text/javascript\">if (window.MathJax) {MathJax.Hub.Config({SVG: {font: \"STIX-Web\"}});}</script>                <script type=\"text/javascript\">window.PlotlyConfig = {MathJaxConfig: 'local'};</script>\n",
              "        <script src=\"https://cdn.plot.ly/plotly-latest.min.js\"></script>                <div id=\"d6a023cd-96de-4f82-8466-9bb074387ce6\" class=\"plotly-graph-div\" style=\"height:525px; width:100%;\"></div>            <script type=\"text/javascript\">                                    window.PLOTLYENV=window.PLOTLYENV || {};                                    if (document.getElementById(\"d6a023cd-96de-4f82-8466-9bb074387ce6\")) {                    Plotly.newPlot(                        \"d6a023cd-96de-4f82-8466-9bb074387ce6\",                        [{\"name\": \"Male\", \"type\": \"bar\", \"x\": [\"A&N Islands\", \"Andhra Pradesh\", \"Arunachal Pradesh\", \"Assam\", \"Bihar\", \"Chandigarh\", \"Chhattisgarh\", \"D&N Haveli\", \"Daman & Diu\", \"Delhi UT\", \"Goa\", \"Gujarat\", \"Haryana\", \"Himachal Pradesh\", \"Jammu & Kashmir\", \"Jharkhand\", \"Karnataka\", \"Kerala\", \"Lakshadweep\", \"Madhya Pradesh\", \"Maharashtra\", \"Manipur\", \"Meghalaya\", \"Mizoram\", \"Nagaland\", \"Odisha\", \"Puducherry\", \"Punjab\", \"Rajasthan\", \"Sikkim\", \"Tamil Nadu\", \"Tripura\", \"Uttar Pradesh\", \"Uttarakhand\", \"West Bengal\"], \"y\": [20, 6451, 299, 4614, 18281, 118, 764, 51, 20, 10539, 91, 2904, 2413, 283, 856, 3117, 4070, 1032, 0, 2916, 4215, 935, 468, 72, 397, 1513, 52, 2124, 6126, 15, 2921, 851, 11910, 505, 4804]}, {\"name\": \"Female\", \"type\": \"bar\", \"x\": [\"A&N Islands\", \"Andhra Pradesh\", \"Arunachal Pradesh\", \"Assam\", \"Bihar\", \"Chandigarh\", \"Chhattisgarh\", \"D&N Haveli\", \"Daman & Diu\", \"Delhi UT\", \"Goa\", \"Gujarat\", \"Haryana\", \"Himachal Pradesh\", \"Jammu & Kashmir\", \"Jharkhand\", \"Karnataka\", \"Kerala\", \"Lakshadweep\", \"Madhya Pradesh\", \"Maharashtra\", \"Manipur\", \"Meghalaya\", \"Mizoram\", \"Nagaland\", \"Odisha\", \"Puducherry\", \"Punjab\", \"Rajasthan\", \"Sikkim\", \"Tamil Nadu\", \"Tripura\", \"Uttar Pradesh\", \"Uttarakhand\", \"West Bengal\"], \"y\": [79, 14875, 558, 23325, 18978, 540, 2581, 96, 9, 16026, 173, 12451, 6352, 1548, 8849, 4848, 6257, 1933, 1, 9303, 11939, 1139, 271, 37, 69, 8229, 123, 5746, 24634, 74, 12588, 978, 47437, 2353, 21313]}],                        {\"template\": {\"data\": {\"bar\": [{\"error_x\": {\"color\": \"#2a3f5f\"}, \"error_y\": {\"color\": \"#2a3f5f\"}, \"marker\": {\"line\": {\"color\": \"#E5ECF6\", \"width\": 0.5}}, \"type\": \"bar\"}], \"barpolar\": [{\"marker\": {\"line\": {\"color\": \"#E5ECF6\", \"width\": 0.5}}, \"type\": \"barpolar\"}], \"carpet\": [{\"aaxis\": {\"endlinecolor\": \"#2a3f5f\", \"gridcolor\": \"white\", \"linecolor\": \"white\", \"minorgridcolor\": \"white\", \"startlinecolor\": \"#2a3f5f\"}, \"baxis\": {\"endlinecolor\": \"#2a3f5f\", \"gridcolor\": \"white\", \"linecolor\": \"white\", \"minorgridcolor\": \"white\", \"startlinecolor\": \"#2a3f5f\"}, \"type\": \"carpet\"}], \"choropleth\": [{\"colorbar\": {\"outlinewidth\": 0, \"ticks\": \"\"}, \"type\": \"choropleth\"}], \"contour\": [{\"colorbar\": {\"outlinewidth\": 0, \"ticks\": \"\"}, \"colorscale\": [[0.0, \"#0d0887\"], [0.1111111111111111, \"#46039f\"], [0.2222222222222222, \"#7201a8\"], [0.3333333333333333, \"#9c179e\"], [0.4444444444444444, \"#bd3786\"], [0.5555555555555556, \"#d8576b\"], [0.6666666666666666, \"#ed7953\"], [0.7777777777777778, \"#fb9f3a\"], [0.8888888888888888, \"#fdca26\"], [1.0, \"#f0f921\"]], \"type\": \"contour\"}], \"contourcarpet\": [{\"colorbar\": {\"outlinewidth\": 0, \"ticks\": \"\"}, \"type\": \"contourcarpet\"}], \"heatmap\": [{\"colorbar\": {\"outlinewidth\": 0, \"ticks\": \"\"}, \"colorscale\": [[0.0, \"#0d0887\"], [0.1111111111111111, \"#46039f\"], [0.2222222222222222, \"#7201a8\"], [0.3333333333333333, \"#9c179e\"], [0.4444444444444444, \"#bd3786\"], [0.5555555555555556, \"#d8576b\"], [0.6666666666666666, \"#ed7953\"], [0.7777777777777778, \"#fb9f3a\"], [0.8888888888888888, \"#fdca26\"], [1.0, \"#f0f921\"]], \"type\": \"heatmap\"}], \"heatmapgl\": [{\"colorbar\": {\"outlinewidth\": 0, \"ticks\": \"\"}, \"colorscale\": [[0.0, \"#0d0887\"], [0.1111111111111111, \"#46039f\"], [0.2222222222222222, \"#7201a8\"], [0.3333333333333333, \"#9c179e\"], [0.4444444444444444, \"#bd3786\"], [0.5555555555555556, \"#d8576b\"], [0.6666666666666666, \"#ed7953\"], [0.7777777777777778, \"#fb9f3a\"], [0.8888888888888888, \"#fdca26\"], [1.0, \"#f0f921\"]], \"type\": \"heatmapgl\"}], \"histogram\": [{\"marker\": {\"colorbar\": {\"outlinewidth\": 0, \"ticks\": \"\"}}, \"type\": \"histogram\"}], \"histogram2d\": [{\"colorbar\": {\"outlinewidth\": 0, \"ticks\": \"\"}, \"colorscale\": [[0.0, \"#0d0887\"], [0.1111111111111111, \"#46039f\"], [0.2222222222222222, \"#7201a8\"], [0.3333333333333333, \"#9c179e\"], [0.4444444444444444, \"#bd3786\"], [0.5555555555555556, \"#d8576b\"], [0.6666666666666666, \"#ed7953\"], [0.7777777777777778, \"#fb9f3a\"], [0.8888888888888888, \"#fdca26\"], [1.0, \"#f0f921\"]], \"type\": \"histogram2d\"}], \"histogram2dcontour\": [{\"colorbar\": {\"outlinewidth\": 0, \"ticks\": \"\"}, \"colorscale\": [[0.0, \"#0d0887\"], [0.1111111111111111, \"#46039f\"], [0.2222222222222222, \"#7201a8\"], [0.3333333333333333, \"#9c179e\"], [0.4444444444444444, \"#bd3786\"], [0.5555555555555556, \"#d8576b\"], [0.6666666666666666, \"#ed7953\"], [0.7777777777777778, \"#fb9f3a\"], [0.8888888888888888, \"#fdca26\"], [1.0, \"#f0f921\"]], \"type\": \"histogram2dcontour\"}], \"mesh3d\": [{\"colorbar\": {\"outlinewidth\": 0, \"ticks\": \"\"}, \"type\": \"mesh3d\"}], \"parcoords\": [{\"line\": {\"colorbar\": {\"outlinewidth\": 0, \"ticks\": \"\"}}, \"type\": \"parcoords\"}], \"pie\": [{\"automargin\": true, \"type\": \"pie\"}], \"scatter\": [{\"marker\": {\"colorbar\": {\"outlinewidth\": 0, \"ticks\": \"\"}}, \"type\": \"scatter\"}], \"scatter3d\": [{\"line\": {\"colorbar\": {\"outlinewidth\": 0, \"ticks\": \"\"}}, \"marker\": {\"colorbar\": {\"outlinewidth\": 0, \"ticks\": \"\"}}, \"type\": \"scatter3d\"}], \"scattercarpet\": [{\"marker\": {\"colorbar\": {\"outlinewidth\": 0, \"ticks\": \"\"}}, \"type\": \"scattercarpet\"}], \"scattergeo\": [{\"marker\": {\"colorbar\": {\"outlinewidth\": 0, \"ticks\": \"\"}}, \"type\": \"scattergeo\"}], \"scattergl\": [{\"marker\": {\"colorbar\": {\"outlinewidth\": 0, \"ticks\": \"\"}}, \"type\": \"scattergl\"}], \"scattermapbox\": [{\"marker\": {\"colorbar\": {\"outlinewidth\": 0, \"ticks\": \"\"}}, \"type\": \"scattermapbox\"}], \"scatterpolar\": [{\"marker\": {\"colorbar\": {\"outlinewidth\": 0, \"ticks\": \"\"}}, \"type\": \"scatterpolar\"}], \"scatterpolargl\": [{\"marker\": {\"colorbar\": {\"outlinewidth\": 0, \"ticks\": \"\"}}, \"type\": \"scatterpolargl\"}], \"scatterternary\": [{\"marker\": {\"colorbar\": {\"outlinewidth\": 0, \"ticks\": \"\"}}, \"type\": \"scatterternary\"}], \"surface\": [{\"colorbar\": {\"outlinewidth\": 0, \"ticks\": \"\"}, \"colorscale\": [[0.0, \"#0d0887\"], [0.1111111111111111, \"#46039f\"], [0.2222222222222222, \"#7201a8\"], [0.3333333333333333, \"#9c179e\"], [0.4444444444444444, \"#bd3786\"], [0.5555555555555556, \"#d8576b\"], [0.6666666666666666, \"#ed7953\"], [0.7777777777777778, \"#fb9f3a\"], [0.8888888888888888, \"#fdca26\"], [1.0, \"#f0f921\"]], \"type\": \"surface\"}], \"table\": [{\"cells\": {\"fill\": {\"color\": \"#EBF0F8\"}, \"line\": {\"color\": \"white\"}}, \"header\": {\"fill\": {\"color\": \"#C8D4E3\"}, \"line\": {\"color\": \"white\"}}, \"type\": \"table\"}]}, \"layout\": {\"annotationdefaults\": {\"arrowcolor\": \"#2a3f5f\", \"arrowhead\": 0, \"arrowwidth\": 1}, \"autotypenumbers\": \"strict\", \"coloraxis\": {\"colorbar\": {\"outlinewidth\": 0, \"ticks\": \"\"}}, \"colorscale\": {\"diverging\": [[0, \"#8e0152\"], [0.1, \"#c51b7d\"], [0.2, \"#de77ae\"], [0.3, \"#f1b6da\"], [0.4, \"#fde0ef\"], [0.5, \"#f7f7f7\"], [0.6, \"#e6f5d0\"], [0.7, \"#b8e186\"], [0.8, \"#7fbc41\"], [0.9, \"#4d9221\"], [1, \"#276419\"]], \"sequential\": [[0.0, \"#0d0887\"], [0.1111111111111111, \"#46039f\"], [0.2222222222222222, \"#7201a8\"], [0.3333333333333333, \"#9c179e\"], [0.4444444444444444, \"#bd3786\"], [0.5555555555555556, \"#d8576b\"], [0.6666666666666666, \"#ed7953\"], [0.7777777777777778, \"#fb9f3a\"], [0.8888888888888888, \"#fdca26\"], [1.0, \"#f0f921\"]], \"sequentialminus\": [[0.0, \"#0d0887\"], [0.1111111111111111, \"#46039f\"], [0.2222222222222222, \"#7201a8\"], [0.3333333333333333, \"#9c179e\"], [0.4444444444444444, \"#bd3786\"], [0.5555555555555556, \"#d8576b\"], [0.6666666666666666, \"#ed7953\"], [0.7777777777777778, \"#fb9f3a\"], [0.8888888888888888, \"#fdca26\"], [1.0, \"#f0f921\"]]}, \"colorway\": [\"#636efa\", \"#EF553B\", \"#00cc96\", \"#ab63fa\", \"#FFA15A\", \"#19d3f3\", \"#FF6692\", \"#B6E880\", \"#FF97FF\", \"#FECB52\"], \"font\": {\"color\": \"#2a3f5f\"}, \"geo\": {\"bgcolor\": \"white\", \"lakecolor\": \"white\", \"landcolor\": \"#E5ECF6\", \"showlakes\": true, \"showland\": true, \"subunitcolor\": \"white\"}, \"hoverlabel\": {\"align\": \"left\"}, \"hovermode\": \"closest\", \"mapbox\": {\"style\": \"light\"}, \"paper_bgcolor\": \"white\", \"plot_bgcolor\": \"#E5ECF6\", \"polar\": {\"angularaxis\": {\"gridcolor\": \"white\", \"linecolor\": \"white\", \"ticks\": \"\"}, \"bgcolor\": \"#E5ECF6\", \"radialaxis\": {\"gridcolor\": \"white\", \"linecolor\": \"white\", \"ticks\": \"\"}}, \"scene\": {\"xaxis\": {\"backgroundcolor\": \"#E5ECF6\", \"gridcolor\": \"white\", \"gridwidth\": 2, \"linecolor\": \"white\", \"showbackground\": true, \"ticks\": \"\", \"zerolinecolor\": \"white\"}, \"yaxis\": {\"backgroundcolor\": \"#E5ECF6\", \"gridcolor\": \"white\", \"gridwidth\": 2, \"linecolor\": \"white\", \"showbackground\": true, \"ticks\": \"\", \"zerolinecolor\": \"white\"}, \"zaxis\": {\"backgroundcolor\": \"#E5ECF6\", \"gridcolor\": \"white\", \"gridwidth\": 2, \"linecolor\": \"white\", \"showbackground\": true, \"ticks\": \"\", \"zerolinecolor\": \"white\"}}, \"shapedefaults\": {\"line\": {\"color\": \"#2a3f5f\"}}, \"ternary\": {\"aaxis\": {\"gridcolor\": \"white\", \"linecolor\": \"white\", \"ticks\": \"\"}, \"baxis\": {\"gridcolor\": \"white\", \"linecolor\": \"white\", \"ticks\": \"\"}, \"bgcolor\": \"#E5ECF6\", \"caxis\": {\"gridcolor\": \"white\", \"linecolor\": \"white\", \"ticks\": \"\"}}, \"title\": {\"x\": 0.05}, \"xaxis\": {\"automargin\": true, \"gridcolor\": \"white\", \"linecolor\": \"white\", \"ticks\": \"\", \"title\": {\"standoff\": 15}, \"zerolinecolor\": \"white\", \"zerolinewidth\": 2}, \"yaxis\": {\"automargin\": true, \"gridcolor\": \"white\", \"linecolor\": \"white\", \"ticks\": \"\", \"title\": {\"standoff\": 15}, \"zerolinecolor\": \"white\", \"zerolinewidth\": 2}}}, \"title\": {\"text\": \"TOTAL MALES V/S FEMALES INVOLVED IN CRIMES OVER 2001-2012 (STATE WISE)\"}, \"xaxis\": {\"title\": {\"text\": \"State/UT\"}}, \"yaxis\": {\"title\": {\"text\": \"Number of Issues\"}}},                        {\"responsive\": true}                    ).then(function(){\n",
              "                            \n",
              "var gd = document.getElementById('d6a023cd-96de-4f82-8466-9bb074387ce6');\n",
              "var x = new MutationObserver(function (mutations, observer) {{\n",
              "        var display = window.getComputedStyle(gd).display;\n",
              "        if (!display || display === 'none') {{\n",
              "            console.log([gd, 'removed!']);\n",
              "            Plotly.purge(gd);\n",
              "            observer.disconnect();\n",
              "        }}\n",
              "}});\n",
              "\n",
              "// Listen for the removal of the full notebook cells\n",
              "var notebookContainer = gd.closest('#notebook-container');\n",
              "if (notebookContainer) {{\n",
              "    x.observe(notebookContainer, {childList: true});\n",
              "}}\n",
              "\n",
              "// Listen for the clearing of the current output cell\n",
              "var outputEl = gd.closest('.output');\n",
              "if (outputEl) {{\n",
              "    x.observe(outputEl, {childList: true});\n",
              "}}\n",
              "\n",
              "                        })                };                            </script>        </div>\n",
              "</body>\n",
              "</html>"
            ]
          },
          "metadata": {
            "tags": []
          }
        }
      ]
    },
    {
      "cell_type": "markdown",
      "metadata": {
        "id": "UTgPxMeRHOVb"
      },
      "source": [
        "INFERENCE : Females were more involved in crimes compared to men. They lead the most in Uttar Pradesh, followed by Rajasthan and Assam. Gender difference is not so relevant in states like Bihar and Tripura."
      ]
    },
    {
      "cell_type": "markdown",
      "metadata": {
        "id": "TfhPGk3Ockw5"
      },
      "source": [
        "_Line Graph using matplotlib_"
      ]
    },
    {
      "cell_type": "code",
      "metadata": {
        "colab": {
          "base_uri": "https://localhost:8080/",
          "height": 677
        },
        "id": "RZdDTOaSo0OP",
        "outputId": "7d4c2434-ff10-474c-c88a-91ec7970a654"
      },
      "source": [
        "plt.figure(figsize=(20,10))\n",
        "plt.plot(df_grouped['STATE/UT'], df_grouped['Total Male'], label='Male')\n",
        "plt.plot(df_grouped['STATE/UT'], df_grouped['Total Female'], label='Female')\n",
        "plt.legend([\"Total Male\", \"Total Female\"])\n",
        "plt.xticks(rotation=90)\n",
        "plt.xlabel(\"State/UT\")\n",
        "plt.ylabel(\"Number of cases\")\n",
        "plt.title(\"NUMBER OF MALES VERSUS FEMALES INVOLVED IN CRIMES OVER 2001-2012 (STATE WISE)\")\n",
        "plt.show()"
      ],
      "execution_count": null,
      "outputs": [
        {
          "output_type": "display_data",
          "data": {
            "image/png": "[encoded data removed]",
            "text/plain": [
              "<Figure size 1440x720 with 1 Axes>"
            ]
          },
          "metadata": {
            "tags": [],
            "needs_background": "light"
          }
        }
      ]
    },
    {
      "cell_type": "markdown",
      "metadata": {
        "id": "FlsjjyJOTiri"
      },
      "source": [
        "# **3) Visualise the crimes in top 10 safest states to live in**\n",
        "\n",
        "_Bar Graph using matplotlib_"
      ]
    },
    {
      "cell_type": "code",
      "metadata": {
        "id": "dwYeEkwHCJsx"
      },
      "source": [
        "best10 = df_grouped.sort_values(by='Grand Total').head(10)"
      ],
      "execution_count": null,
      "outputs": []
    },
    {
      "cell_type": "code",
      "metadata": {
        "colab": {
          "base_uri": "https://localhost:8080/",
          "height": 646
        },
        "id": "Shi5dz1Ui8BZ",
        "outputId": "6d95e785-3ccc-4c67-f051-3657712c5aa8"
      },
      "source": [
        "plt.figure(figsize=(20,10))\n",
        "plt.bar(best10['STATE/UT'], best10['Grand Total'])\n",
        "plt.title(\"NUMBER OF CRIMES REPORTED IN THE TOP 10 SAFEST STATES/UT OVER 2001-2012\")\n",
        "plt.xlabel(\"State/UT\")\n",
        "plt.ylabel(\"No. of Cases\")\n",
        "plt.xticks(rotation=45)\n",
        "plt.show()"
      ],
      "execution_count": null,
      "outputs": [
        {
          "output_type": "display_data",
          "data": {
            "image/png": "[encoded data removed]",
            "text/plain": [
              "<Figure size 1440x720 with 1 Axes>"
            ]
          },
          "metadata": {
            "tags": [],
            "needs_background": "light"
          }
        }
      ]
    },
    {
      "cell_type": "markdown",
      "metadata": {
        "id": "X6XeooEpIu-E"
      },
      "source": [
        "INFERENCE : The top 10 safest states/UT are Lakshadweep, Daman & Diu, Sikkim, Andaman & Nicobar Islands, Mizoram, Dadra & Nagar Haveli, Puducherry, Goa, Nagaland, & Chandigarh. Safest Union Territory is Lakshadweep, and state is Sikkim."
      ]
    },
    {
      "cell_type": "markdown",
      "metadata": {
        "id": "8Zc7BhhwTrtZ"
      },
      "source": [
        "# **4) Which age (& gender) group got involved in the most crimes in Kerala in 2010?**\n",
        "\n",
        "_Pie Chart using matplotlib_\n"
      ]
    },
    {
      "cell_type": "code",
      "metadata": {
        "colab": {
          "base_uri": "https://localhost:8080/",
          "height": 862
        },
        "id": "PPp9Pz_Vu9-2",
        "outputId": "70325788-4bf2-4a10-e830-1bff4c106ff0"
      },
      "source": [
        "df_kerala = df_total.loc[df_total[\"STATE/UT\"] == \"Kerala\"]\n",
        "df_refined = df_kerala.loc[df_kerala[\"YEAR\"] == 2010].iloc[:,4:-3]\n",
        "array = np.array(df_refined.transpose()).ravel()\n",
        "label = ['M<10', 'F<10', 'M 10-15', 'F 10-15', 'M 15-18', 'F 15-18', 'M 18-30', 'F 18-30', 'M 30-50', 'F 30-50', 'M>50', 'F>50']\n",
        "exp = (0, 0, 0, 0, 0, 0.06, 0, 0.08, 0, 0, 0.025, 0.025)\n",
        "plt.figure(figsize=(15,15))\n",
        "plt.pie(array, labels = label, autopct='%1.1f%%', explode = exp)\n",
        "plt.title(\"AGE GROUPS OF PEOPLE INVOLVED IN CRIMES IN KERALA IN 2010\")\n",
        "plt.legend(label)\n",
        "plt.show()"
      ],
      "execution_count": null,
      "outputs": [
        {
          "output_type": "display_data",
          "data": {
            "image/png": "[encoded data removed]",
            "text/plain": [
              "<Figure size 1080x1080 with 1 Axes>"
            ]
          },
          "metadata": {
            "tags": []
          }
        }
      ]
    },
    {
      "cell_type": "markdown",
      "metadata": {
        "id": "cCCH1ZhhJVAk"
      },
      "source": [
        "INFERENCE : Females are the most involved. The age group of 18-30 tops with 30%, followed by those in age group 15-18 (28.1%). Among males, highest involved are those from age group 30-50 (13.7%)"
      ]
    },
    {
      "cell_type": "markdown",
      "metadata": {
        "id": "nSP8G022Tzpe"
      },
      "source": [
        "# **5) Which crime was committed the most in 2001?**\n",
        "\n",
        "_Horizontal Bar Graph using matplotlib_\n"
      ]
    },
    {
      "cell_type": "code",
      "metadata": {
        "id": "sCdXZka1DEYn"
      },
      "source": [
        "df_2001 = df_crimes.loc[df_crimes['YEAR'] == 2001].groupby(by=['Purpose'], as_index=False).sum()\n",
        "df_2001.drop(columns=['YEAR'], inplace=True)\n",
        "df_2001.drop(df_2001.tail(1).index, inplace=True)"
      ],
      "execution_count": null,
      "outputs": []
    },
    {
      "cell_type": "code",
      "metadata": {
        "colab": {
          "base_uri": "https://localhost:8080/",
          "height": 559
        },
        "id": "ZIJUseNfqRzp",
        "outputId": "ece37b4a-9d73-48f2-de9b-c840c50f9eed"
      },
      "source": [
        "plt.figure(figsize=(20,10))\n",
        "plt.barh(df_2001['Purpose'], df_2001['Grand Total'], color='r')\n",
        "plt.xlabel(\"No. of people involved\")\n",
        "plt.ylabel(\"Purpose of crime\")\n",
        "plt.title(\"NO. OF PEOPLE INVOLVED V/S PURPOSE OF CRIME IN 2001\")\n",
        "plt.show()"
      ],
      "execution_count": null,
      "outputs": [
        {
          "output_type": "display_data",
          "data": {
            "image/png": "[encoded data removed]",
            "text/plain": [
              "<Figure size 1440x720 with 1 Axes>"
            ]
          },
          "metadata": {
            "tags": [],
            "needs_background": "light"
          }
        }
      ]
    },
    {
      "cell_type": "markdown",
      "metadata": {
        "id": "4nJp53XDKES2"
      },
      "source": [
        "INFERENCE : crimes for marriage was committed the most, followed by a collective group of crimes for other purposes. This was followed by crimes related to illicit intercourse. The least share belongs to crimes related to camel racing and selling body parts."
      ]
    },
    {
      "cell_type": "markdown",
      "metadata": {
        "id": "60Q6jw7sUMi7"
      },
      "source": [
        "# **6) What is the trend of all crimes commited in Gujarat over the years?**\n",
        "\n",
        "_Treemap using plotly_\n"
      ]
    },
    {
      "cell_type": "code",
      "metadata": {
        "colab": {
          "base_uri": "https://localhost:8080/",
          "height": 756
        },
        "id": "tejnETsCvZEA",
        "outputId": "8821e9ef-9549-4f71-ce52-d745104f2f12"
      },
      "source": [
        "df_guj = df_actual[df_actual[\"STATE/UT\"] == \"Gujarat\"]\n",
        "df_guj.drop(columns=['STATE/UT'], inplace=True)\n",
        "df_guj"
      ],
      "execution_count": null,
      "outputs": [
        {
          "output_type": "stream",
          "text": [
            "/usr/local/lib/python3.7/dist-packages/pandas/core/frame.py:4174: SettingWithCopyWarning:\n",
            "\n",
            "\n",
            "A value is trying to be set on a copy of a slice from a DataFrame\n",
            "\n",
            "See the caveats in the documentation: https://pandas.pydata.org/pandas-docs/stable/user_guide/indexing.html#returning-a-view-versus-a-copy\n",
            "\n"
          ],
          "name": "stderr"
        },
        {
          "output_type": "execute_result",
          "data": {
            "text/html": [
              "<div>\n",
              "<style scoped>\n",
              "    .dataframe tbody tr th:only-of-type {\n",
              "        vertical-align: middle;\n",
              "    }\n",
              "\n",
              "    .dataframe tbody tr th {\n",
              "        vertical-align: top;\n",
              "    }\n",
              "\n",
              "    .dataframe thead th {\n",
              "        text-align: right;\n",
              "    }\n",
              "</style>\n",
              "<table border=\"1\" class=\"dataframe\">\n",
              "  <thead>\n",
              "    <tr style=\"text-align: right;\">\n",
              "      <th></th>\n",
              "      <th>YEAR</th>\n",
              "      <th>Purpose</th>\n",
              "      <th>Total No. of cases reported</th>\n",
              "      <th>Male upto 10 years</th>\n",
              "      <th>Female upto 10 years</th>\n",
              "      <th>Male 10-15 years</th>\n",
              "      <th>Female 10-15 years</th>\n",
              "      <th>Male 15-18 years</th>\n",
              "      <th>Female 15-18 years</th>\n",
              "      <th>Male 18-30 years</th>\n",
              "      <th>Female 18-30 years</th>\n",
              "      <th>Male 30-50 years</th>\n",
              "      <th>Female 30-50 years</th>\n",
              "      <th>Male above 50 years</th>\n",
              "      <th>Female above 50 years</th>\n",
              "      <th>Total Male</th>\n",
              "      <th>Total Female</th>\n",
              "      <th>Grand Total</th>\n",
              "    </tr>\n",
              "  </thead>\n",
              "  <tbody>\n",
              "    <tr>\n",
              "      <th>1008</th>\n",
              "      <td>2001</td>\n",
              "      <td>For Adoption</td>\n",
              "      <td>3</td>\n",
              "      <td>0</td>\n",
              "      <td>1</td>\n",
              "      <td>0</td>\n",
              "      <td>0</td>\n",
              "      <td>0</td>\n",
              "      <td>0</td>\n",
              "      <td>0</td>\n",
              "      <td>2</td>\n",
              "      <td>0</td>\n",
              "      <td>0</td>\n",
              "      <td>0</td>\n",
              "      <td>0</td>\n",
              "      <td>0</td>\n",
              "      <td>3</td>\n",
              "      <td>3</td>\n",
              "    </tr>\n",
              "    <tr>\n",
              "      <th>1009</th>\n",
              "      <td>2001</td>\n",
              "      <td>For Begging</td>\n",
              "      <td>0</td>\n",
              "      <td>0</td>\n",
              "      <td>0</td>\n",
              "      <td>0</td>\n",
              "      <td>0</td>\n",
              "      <td>0</td>\n",
              "      <td>0</td>\n",
              "      <td>0</td>\n",
              "      <td>0</td>\n",
              "      <td>0</td>\n",
              "      <td>0</td>\n",
              "      <td>0</td>\n",
              "      <td>0</td>\n",
              "      <td>0</td>\n",
              "      <td>0</td>\n",
              "      <td>0</td>\n",
              "    </tr>\n",
              "    <tr>\n",
              "      <th>1010</th>\n",
              "      <td>2001</td>\n",
              "      <td>For Camel racing</td>\n",
              "      <td>0</td>\n",
              "      <td>0</td>\n",
              "      <td>0</td>\n",
              "      <td>0</td>\n",
              "      <td>0</td>\n",
              "      <td>0</td>\n",
              "      <td>0</td>\n",
              "      <td>0</td>\n",
              "      <td>0</td>\n",
              "      <td>0</td>\n",
              "      <td>0</td>\n",
              "      <td>0</td>\n",
              "      <td>0</td>\n",
              "      <td>0</td>\n",
              "      <td>0</td>\n",
              "      <td>0</td>\n",
              "    </tr>\n",
              "    <tr>\n",
              "      <th>1011</th>\n",
              "      <td>2001</td>\n",
              "      <td>For Illicit intercourse</td>\n",
              "      <td>141</td>\n",
              "      <td>0</td>\n",
              "      <td>2</td>\n",
              "      <td>3</td>\n",
              "      <td>19</td>\n",
              "      <td>5</td>\n",
              "      <td>62</td>\n",
              "      <td>5</td>\n",
              "      <td>42</td>\n",
              "      <td>0</td>\n",
              "      <td>3</td>\n",
              "      <td>0</td>\n",
              "      <td>0</td>\n",
              "      <td>13</td>\n",
              "      <td>128</td>\n",
              "      <td>141</td>\n",
              "    </tr>\n",
              "    <tr>\n",
              "      <th>1012</th>\n",
              "      <td>2001</td>\n",
              "      <td>For marriage</td>\n",
              "      <td>652</td>\n",
              "      <td>0</td>\n",
              "      <td>3</td>\n",
              "      <td>0</td>\n",
              "      <td>108</td>\n",
              "      <td>14</td>\n",
              "      <td>329</td>\n",
              "      <td>31</td>\n",
              "      <td>160</td>\n",
              "      <td>6</td>\n",
              "      <td>2</td>\n",
              "      <td>0</td>\n",
              "      <td>0</td>\n",
              "      <td>51</td>\n",
              "      <td>602</td>\n",
              "      <td>653</td>\n",
              "    </tr>\n",
              "    <tr>\n",
              "      <th>...</th>\n",
              "      <td>...</td>\n",
              "      <td>...</td>\n",
              "      <td>...</td>\n",
              "      <td>...</td>\n",
              "      <td>...</td>\n",
              "      <td>...</td>\n",
              "      <td>...</td>\n",
              "      <td>...</td>\n",
              "      <td>...</td>\n",
              "      <td>...</td>\n",
              "      <td>...</td>\n",
              "      <td>...</td>\n",
              "      <td>...</td>\n",
              "      <td>...</td>\n",
              "      <td>...</td>\n",
              "      <td>...</td>\n",
              "      <td>...</td>\n",
              "      <td>...</td>\n",
              "    </tr>\n",
              "    <tr>\n",
              "      <th>1170</th>\n",
              "      <td>2012</td>\n",
              "      <td>For Sale</td>\n",
              "      <td>0</td>\n",
              "      <td>0</td>\n",
              "      <td>0</td>\n",
              "      <td>0</td>\n",
              "      <td>0</td>\n",
              "      <td>0</td>\n",
              "      <td>0</td>\n",
              "      <td>0</td>\n",
              "      <td>0</td>\n",
              "      <td>0</td>\n",
              "      <td>0</td>\n",
              "      <td>0</td>\n",
              "      <td>0</td>\n",
              "      <td>0</td>\n",
              "      <td>0</td>\n",
              "      <td>0</td>\n",
              "    </tr>\n",
              "    <tr>\n",
              "      <th>1171</th>\n",
              "      <td>2012</td>\n",
              "      <td>For Selling body parts</td>\n",
              "      <td>0</td>\n",
              "      <td>0</td>\n",
              "      <td>0</td>\n",
              "      <td>0</td>\n",
              "      <td>0</td>\n",
              "      <td>0</td>\n",
              "      <td>0</td>\n",
              "      <td>0</td>\n",
              "      <td>0</td>\n",
              "      <td>0</td>\n",
              "      <td>0</td>\n",
              "      <td>0</td>\n",
              "      <td>0</td>\n",
              "      <td>0</td>\n",
              "      <td>0</td>\n",
              "      <td>0</td>\n",
              "    </tr>\n",
              "    <tr>\n",
              "      <th>1172</th>\n",
              "      <td>2012</td>\n",
              "      <td>For Slavery</td>\n",
              "      <td>2</td>\n",
              "      <td>0</td>\n",
              "      <td>0</td>\n",
              "      <td>0</td>\n",
              "      <td>0</td>\n",
              "      <td>0</td>\n",
              "      <td>0</td>\n",
              "      <td>2</td>\n",
              "      <td>0</td>\n",
              "      <td>0</td>\n",
              "      <td>0</td>\n",
              "      <td>0</td>\n",
              "      <td>0</td>\n",
              "      <td>2</td>\n",
              "      <td>0</td>\n",
              "      <td>2</td>\n",
              "    </tr>\n",
              "    <tr>\n",
              "      <th>1173</th>\n",
              "      <td>2012</td>\n",
              "      <td>For unlawful activity</td>\n",
              "      <td>60</td>\n",
              "      <td>0</td>\n",
              "      <td>0</td>\n",
              "      <td>0</td>\n",
              "      <td>0</td>\n",
              "      <td>5</td>\n",
              "      <td>46</td>\n",
              "      <td>0</td>\n",
              "      <td>3</td>\n",
              "      <td>2</td>\n",
              "      <td>2</td>\n",
              "      <td>2</td>\n",
              "      <td>0</td>\n",
              "      <td>9</td>\n",
              "      <td>51</td>\n",
              "      <td>60</td>\n",
              "    </tr>\n",
              "    <tr>\n",
              "      <th>1174</th>\n",
              "      <td>2012</td>\n",
              "      <td>Others</td>\n",
              "      <td>242</td>\n",
              "      <td>11</td>\n",
              "      <td>10</td>\n",
              "      <td>4</td>\n",
              "      <td>12</td>\n",
              "      <td>13</td>\n",
              "      <td>47</td>\n",
              "      <td>43</td>\n",
              "      <td>46</td>\n",
              "      <td>41</td>\n",
              "      <td>11</td>\n",
              "      <td>5</td>\n",
              "      <td>1</td>\n",
              "      <td>117</td>\n",
              "      <td>127</td>\n",
              "      <td>244</td>\n",
              "    </tr>\n",
              "  </tbody>\n",
              "</table>\n",
              "<p>156 rows × 18 columns</p>\n",
              "</div>"
            ],
            "text/plain": [
              "      YEAR                  Purpose  ...  Total Female  Grand Total\n",
              "1008  2001             For Adoption  ...             3            3\n",
              "1009  2001              For Begging  ...             0            0\n",
              "1010  2001         For Camel racing  ...             0            0\n",
              "1011  2001  For Illicit intercourse  ...           128          141\n",
              "1012  2001             For marriage  ...           602          653\n",
              "...    ...                      ...  ...           ...          ...\n",
              "1170  2012                 For Sale  ...             0            0\n",
              "1171  2012   For Selling body parts  ...             0            0\n",
              "1172  2012              For Slavery  ...             0            2\n",
              "1173  2012    For unlawful activity  ...            51           60\n",
              "1174  2012                   Others  ...           127          244\n",
              "\n",
              "[156 rows x 18 columns]"
            ]
          },
          "metadata": {
            "tags": []
          },
          "execution_count": 21
        }
      ]
    },
    {
      "cell_type": "code",
      "metadata": {
        "colab": {
          "base_uri": "https://localhost:8080/",
          "height": 542
        },
        "id": "QAEwfzCM2Scq",
        "outputId": "bcf79a1c-49db-43b8-b148-cf2451c4ae89"
      },
      "source": [
        "fig = px.treemap(df_guj, path=['YEAR', 'Purpose'], values='Grand Total', color = 'Purpose')\n",
        "fig.show()"
      ],
      "execution_count": null,
      "outputs": [
        {
          "output_type": "display_data",
          "data": {
            "text/html": [
              "<html>\n",
              "<head><meta charset=\"utf-8\" /></head>\n",
              "<body>\n",
              "    <div>            <script src=\"https://cdnjs.cloudflare.com/ajax/libs/mathjax/2.7.5/MathJax.js?config=TeX-AMS-MML_SVG\"></script><script type=\"text/javascript\">if (window.MathJax) {MathJax.Hub.Config({SVG: {font: \"STIX-Web\"}});}</script>                <script type=\"text/javascript\">window.PlotlyConfig = {MathJaxConfig: 'local'};</script>\n",
              "        <script src=\"https://cdn.plot.ly/plotly-latest.min.js\"></script>                <div id=\"41a04981-0b9e-4362-8dfc-586dd08d6934\" class=\"plotly-graph-div\" style=\"height:525px; width:100%;\"></div>            <script type=\"text/javascript\">                                    window.PLOTLYENV=window.PLOTLYENV || {};                                    if (document.getElementById(\"41a04981-0b9e-4362-8dfc-586dd08d6934\")) {                    Plotly.newPlot(                        \"41a04981-0b9e-4362-8dfc-586dd08d6934\",                        [{\"branchvalues\": \"total\", \"customdata\": [[\"For Adoption\"], [\"For marriage\"], [\"For Slavery\"], [\"For Selling body parts\"], [\"For Sale\"], [\"For Revenge\"], [\"For Ransom\"], [\"For Prostitution\"], [\"For Illicit intercourse\"], [\"For Camel racing\"], [\"For Begging\"], [\"For unlawful activity\"], [\"For Adoption\"], [\"For Prostitution\"], [\"Others\"], [\"For Slavery\"], [\"For marriage\"], [\"For Camel racing\"], [\"For Sale\"], [\"For Illicit intercourse\"], [\"For Ransom\"], [\"For Revenge\"], [\"For Begging\"], [\"For Selling body parts\"], [\"For Ransom\"], [\"For Slavery\"], [\"For Begging\"], [\"For Prostitution\"], [\"For Revenge\"], [\"For Adoption\"], [\"For Illicit intercourse\"], [\"For Camel racing\"], [\"For Selling body parts\"], [\"For unlawful activity\"], [\"Others\"], [\"For Sale\"], [\"For Revenge\"], [\"For Illicit intercourse\"], [\"For Ransom\"], [\"For Prostitution\"], [\"For unlawful activity\"], [\"For Camel racing\"], [\"For Sale\"], [\"Others\"], [\"For Adoption\"], [\"For Begging\"], [\"For Selling body parts\"], [\"For marriage\"], [\"For Prostitution\"], [\"For marriage\"], [\"For Revenge\"], [\"For Slavery\"], [\"For Illicit intercourse\"], [\"For unlawful activity\"], [\"Others\"], [\"For Camel racing\"], [\"For Selling body parts\"], [\"For Begging\"], [\"For Adoption\"], [\"For Ransom\"], [\"For Ransom\"], [\"For Sale\"], [\"For Selling body parts\"], [\"For marriage\"], [\"For Adoption\"], [\"For Slavery\"], [\"Others\"], [\"For Illicit intercourse\"], [\"For Prostitution\"], [\"For Camel racing\"], [\"For unlawful activity\"], [\"For Begging\"], [\"For Selling body parts\"], [\"For Begging\"], [\"For Camel racing\"], [\"For Illicit intercourse\"], [\"Others\"], [\"For Adoption\"], [\"For marriage\"], [\"For unlawful activity\"], [\"For Revenge\"], [\"For Prostitution\"], [\"For Slavery\"], [\"For Sale\"], [\"For unlawful activity\"], [\"For Selling body parts\"], [\"For Slavery\"], [\"For Camel racing\"], [\"Others\"], [\"For Begging\"], [\"For Illicit intercourse\"], [\"For Revenge\"], [\"For marriage\"], [\"For Ransom\"], [\"For Sale\"], [\"For Adoption\"], [\"For unlawful activity\"], [\"For Slavery\"], [\"For Selling body parts\"], [\"For marriage\"], [\"Others\"], [\"For Adoption\"], [\"For Sale\"], [\"For Camel racing\"], [\"For Prostitution\"], [\"For Revenge\"], [\"For Begging\"], [\"For Ransom\"], [\"For Slavery\"], [\"For unlawful activity\"], [\"For marriage\"], [\"Others\"], [\"For Ransom\"], [\"For Adoption\"], [\"For Selling body parts\"], [\"For Begging\"], [\"For Illicit intercourse\"], [\"For Sale\"], [\"For Prostitution\"], [\"For Revenge\"], [\"For Begging\"], [\"For Camel racing\"], [\"For unlawful activity\"], [\"For Illicit intercourse\"], [\"For Prostitution\"], [\"For Slavery\"], [\"Others\"], [\"For Ransom\"], [\"For Sale\"], [\"For marriage\"], [\"For Revenge\"], [\"For Adoption\"], [\"For unlawful activity\"], [\"For Selling body parts\"], [\"For Slavery\"], [\"For Camel racing\"], [\"For Sale\"], [\"For Illicit intercourse\"], [\"For Adoption\"], [\"For Prostitution\"], [\"For Revenge\"], [\"For marriage\"], [\"For Ransom\"], [\"Others\"], [\"For Revenge\"], [\"For marriage\"], [\"For Slavery\"], [\"For Selling body parts\"], [\"For Sale\"], [\"For Ransom\"], [\"For Prostitution\"], [\"For Illicit intercourse\"], [\"For Camel racing\"], [\"For Begging\"], [\"For unlawful activity\"], [\"Others\"], [\"(?)\"], [\"(?)\"], [\"(?)\"], [\"(?)\"], [\"(?)\"], [\"(?)\"], [\"(?)\"], [\"(?)\"], [\"(?)\"], [\"(?)\"], [\"(?)\"], [\"(?)\"]], \"domain\": {\"x\": [0.0, 1.0], \"y\": [0.0, 1.0]}, \"hovertemplate\": \"labels=%{label}<br>Grand Total=%{value}<br>parent=%{parent}<br>id=%{id}<br>Purpose=%{customdata[0]}<extra></extra>\", \"ids\": [\"2001/For Adoption\", \"2011/For marriage\", \"2010/For Slavery\", \"2009/For Selling body parts\", \"2008/For Sale\", \"2007/For Revenge\", \"2006/For Ransom\", \"2005/For Prostitution\", \"2004/For Illicit intercourse\", \"2003/For Camel racing\", \"2002/For Begging\", \"2012/For unlawful activity\", \"2002/For Adoption\", \"2006/For Prostitution\", \"2001/Others\", \"2011/For Slavery\", \"2012/For marriage\", \"2004/For Camel racing\", \"2009/For Sale\", \"2005/For Illicit intercourse\", \"2007/For Ransom\", \"2008/For Revenge\", \"2003/For Begging\", \"2010/For Selling body parts\", \"2008/For Ransom\", \"2012/For Slavery\", \"2004/For Begging\", \"2007/For Prostitution\", \"2009/For Revenge\", \"2003/For Adoption\", \"2006/For Illicit intercourse\", \"2005/For Camel racing\", \"2011/For Selling body parts\", \"2001/For unlawful activity\", \"2002/Others\", \"2010/For Sale\", \"2010/For Revenge\", \"2007/For Illicit intercourse\", \"2009/For Ransom\", \"2008/For Prostitution\", \"2002/For unlawful activity\", \"2006/For Camel racing\", \"2011/For Sale\", \"2003/Others\", \"2004/For Adoption\", \"2005/For Begging\", \"2012/For Selling body parts\", \"2001/For marriage\", \"2010/For Prostitution\", \"2003/For marriage\", \"2012/For Revenge\", \"2002/For Slavery\", \"2009/For Illicit intercourse\", \"2004/For unlawful activity\", \"2005/Others\", \"2008/For Camel racing\", \"2001/For Selling body parts\", \"2007/For Begging\", \"2006/For Adoption\", \"2011/For Ransom\", \"2012/For Ransom\", \"2001/For Sale\", \"2002/For Selling body parts\", \"2004/For marriage\", \"2007/For Adoption\", \"2003/For Slavery\", \"2006/Others\", \"2010/For Illicit intercourse\", \"2011/For Prostitution\", \"2009/For Camel racing\", \"2005/For unlawful activity\", \"2008/For Begging\", \"2003/For Selling body parts\", \"2009/For Begging\", \"2010/For Camel racing\", \"2011/For Illicit intercourse\", \"2007/Others\", \"2008/For Adoption\", \"2005/For marriage\", \"2006/For unlawful activity\", \"2001/For Revenge\", \"2012/For Prostitution\", \"2004/For Slavery\", \"2002/For Sale\", \"2007/For unlawful activity\", \"2004/For Selling body parts\", \"2005/For Slavery\", \"2011/For Camel racing\", \"2008/Others\", \"2010/For Begging\", \"2012/For Illicit intercourse\", \"2002/For Revenge\", \"2006/For marriage\", \"2001/For Ransom\", \"2003/For Sale\", \"2009/For Adoption\", \"2008/For unlawful activity\", \"2006/For Slavery\", \"2005/For Selling body parts\", \"2007/For marriage\", \"2009/Others\", \"2010/For Adoption\", \"2004/For Sale\", \"2012/For Camel racing\", \"2001/For Prostitution\", \"2003/For Revenge\", \"2011/For Begging\", \"2002/For Ransom\", \"2007/For Slavery\", \"2009/For unlawful activity\", \"2008/For marriage\", \"2010/Others\", \"2003/For Ransom\", \"2011/For Adoption\", \"2006/For Selling body parts\", \"2012/For Begging\", \"2001/For Illicit intercourse\", \"2005/For Sale\", \"2002/For Prostitution\", \"2004/For Revenge\", \"2006/For Begging\", \"2007/For Camel racing\", \"2003/For unlawful activity\", \"2008/For Illicit intercourse\", \"2009/For Prostitution\", \"2001/For Slavery\", \"2004/Others\", \"2010/For Ransom\", \"2012/For Sale\", \"2002/For marriage\", \"2011/For Revenge\", \"2005/For Adoption\", \"2010/For unlawful activity\", \"2007/For Selling body parts\", \"2008/For Slavery\", \"2001/For Camel racing\", \"2006/For Sale\", \"2002/For Illicit intercourse\", \"2012/For Adoption\", \"2003/For Prostitution\", \"2005/For Revenge\", \"2009/For marriage\", \"2004/For Ransom\", \"2011/Others\", \"2006/For Revenge\", \"2010/For marriage\", \"2009/For Slavery\", \"2008/For Selling body parts\", \"2007/For Sale\", \"2005/For Ransom\", \"2004/For Prostitution\", \"2003/For Illicit intercourse\", \"2002/For Camel racing\", \"2001/For Begging\", \"2011/For unlawful activity\", \"2012/Others\", \"2001\", \"2002\", \"2003\", \"2004\", \"2005\", \"2006\", \"2007\", \"2008\", \"2009\", \"2010\", \"2011\", \"2012\"], \"labels\": [\"For Adoption\", \"For marriage\", \"For Slavery\", \"For Selling body parts\", \"For Sale\", \"For Revenge\", \"For Ransom\", \"For Prostitution\", \"For Illicit intercourse\", \"For Camel racing\", \"For Begging\", \"For unlawful activity\", \"For Adoption\", \"For Prostitution\", \"Others\", \"For Slavery\", \"For marriage\", \"For Camel racing\", \"For Sale\", \"For Illicit intercourse\", \"For Ransom\", \"For Revenge\", \"For Begging\", \"For Selling body parts\", \"For Ransom\", \"For Slavery\", \"For Begging\", \"For Prostitution\", \"For Revenge\", \"For Adoption\", \"For Illicit intercourse\", \"For Camel racing\", \"For Selling body parts\", \"For unlawful activity\", \"Others\", \"For Sale\", \"For Revenge\", \"For Illicit intercourse\", \"For Ransom\", \"For Prostitution\", \"For unlawful activity\", \"For Camel racing\", \"For Sale\", \"Others\", \"For Adoption\", \"For Begging\", \"For Selling body parts\", \"For marriage\", \"For Prostitution\", \"For marriage\", \"For Revenge\", \"For Slavery\", \"For Illicit intercourse\", \"For unlawful activity\", \"Others\", \"For Camel racing\", \"For Selling body parts\", \"For Begging\", \"For Adoption\", \"For Ransom\", \"For Ransom\", \"For Sale\", \"For Selling body parts\", \"For marriage\", \"For Adoption\", \"For Slavery\", \"Others\", \"For Illicit intercourse\", \"For Prostitution\", \"For Camel racing\", \"For unlawful activity\", \"For Begging\", \"For Selling body parts\", \"For Begging\", \"For Camel racing\", \"For Illicit intercourse\", \"Others\", \"For Adoption\", \"For marriage\", \"For unlawful activity\", \"For Revenge\", \"For Prostitution\", \"For Slavery\", \"For Sale\", \"For unlawful activity\", \"For Selling body parts\", \"For Slavery\", \"For Camel racing\", \"Others\", \"For Begging\", \"For Illicit intercourse\", \"For Revenge\", \"For marriage\", \"For Ransom\", \"For Sale\", \"For Adoption\", \"For unlawful activity\", \"For Slavery\", \"For Selling body parts\", \"For marriage\", \"Others\", \"For Adoption\", \"For Sale\", \"For Camel racing\", \"For Prostitution\", \"For Revenge\", \"For Begging\", \"For Ransom\", \"For Slavery\", \"For unlawful activity\", \"For marriage\", \"Others\", \"For Ransom\", \"For Adoption\", \"For Selling body parts\", \"For Begging\", \"For Illicit intercourse\", \"For Sale\", \"For Prostitution\", \"For Revenge\", \"For Begging\", \"For Camel racing\", \"For unlawful activity\", \"For Illicit intercourse\", \"For Prostitution\", \"For Slavery\", \"Others\", \"For Ransom\", \"For Sale\", \"For marriage\", \"For Revenge\", \"For Adoption\", \"For unlawful activity\", \"For Selling body parts\", \"For Slavery\", \"For Camel racing\", \"For Sale\", \"For Illicit intercourse\", \"For Adoption\", \"For Prostitution\", \"For Revenge\", \"For marriage\", \"For Ransom\", \"Others\", \"For Revenge\", \"For marriage\", \"For Slavery\", \"For Selling body parts\", \"For Sale\", \"For Ransom\", \"For Prostitution\", \"For Illicit intercourse\", \"For Camel racing\", \"For Begging\", \"For unlawful activity\", \"Others\", \"2001\", \"2002\", \"2003\", \"2004\", \"2005\", \"2006\", \"2007\", \"2008\", \"2009\", \"2010\", \"2011\", \"2012\"], \"marker\": {\"colors\": [\"#636efa\", \"#EF553B\", \"#00cc96\", \"#ab63fa\", \"#FFA15A\", \"#19d3f3\", \"#FF6692\", \"#B6E880\", \"#FF97FF\", \"#FECB52\", \"#636efa\", \"#EF553B\", \"#636efa\", \"#B6E880\", \"#00cc96\", \"#00cc96\", \"#EF553B\", \"#FECB52\", \"#FFA15A\", \"#FF97FF\", \"#FF6692\", \"#19d3f3\", \"#636efa\", \"#ab63fa\", \"#FF6692\", \"#00cc96\", \"#636efa\", \"#B6E880\", \"#19d3f3\", \"#636efa\", \"#FF97FF\", \"#FECB52\", \"#ab63fa\", \"#EF553B\", \"#00cc96\", \"#FFA15A\", \"#19d3f3\", \"#FF97FF\", \"#FF6692\", \"#B6E880\", \"#EF553B\", \"#FECB52\", \"#FFA15A\", \"#00cc96\", \"#636efa\", \"#636efa\", \"#ab63fa\", \"#EF553B\", \"#B6E880\", \"#EF553B\", \"#19d3f3\", \"#00cc96\", \"#FF97FF\", \"#EF553B\", \"#00cc96\", \"#FECB52\", \"#ab63fa\", \"#636efa\", \"#636efa\", \"#FF6692\", \"#FF6692\", \"#FFA15A\", \"#ab63fa\", \"#EF553B\", \"#636efa\", \"#00cc96\", \"#00cc96\", \"#FF97FF\", \"#B6E880\", \"#FECB52\", \"#EF553B\", \"#636efa\", \"#ab63fa\", \"#636efa\", \"#FECB52\", \"#FF97FF\", \"#00cc96\", \"#636efa\", \"#EF553B\", \"#EF553B\", \"#19d3f3\", \"#B6E880\", \"#00cc96\", \"#FFA15A\", \"#EF553B\", \"#ab63fa\", \"#00cc96\", \"#FECB52\", \"#00cc96\", \"#636efa\", \"#FF97FF\", \"#19d3f3\", \"#EF553B\", \"#FF6692\", \"#FFA15A\", \"#636efa\", \"#EF553B\", \"#00cc96\", \"#ab63fa\", \"#EF553B\", \"#00cc96\", \"#636efa\", \"#FFA15A\", \"#FECB52\", \"#B6E880\", \"#19d3f3\", \"#636efa\", \"#FF6692\", \"#00cc96\", \"#EF553B\", \"#EF553B\", \"#00cc96\", \"#FF6692\", \"#636efa\", \"#ab63fa\", \"#636efa\", \"#FF97FF\", \"#FFA15A\", \"#B6E880\", \"#19d3f3\", \"#636efa\", \"#FECB52\", \"#EF553B\", \"#FF97FF\", \"#B6E880\", \"#00cc96\", \"#00cc96\", \"#FF6692\", \"#FFA15A\", \"#EF553B\", \"#19d3f3\", \"#636efa\", \"#EF553B\", \"#ab63fa\", \"#00cc96\", \"#FECB52\", \"#FFA15A\", \"#FF97FF\", \"#636efa\", \"#B6E880\", \"#19d3f3\", \"#EF553B\", \"#FF6692\", \"#00cc96\", \"#19d3f3\", \"#EF553B\", \"#00cc96\", \"#ab63fa\", \"#FFA15A\", \"#FF6692\", \"#B6E880\", \"#FF97FF\", \"#FECB52\", \"#636efa\", \"#EF553B\", \"#00cc96\", \"#ab63fa\", \"#ab63fa\", \"#ab63fa\", \"#ab63fa\", \"#ab63fa\", \"#ab63fa\", \"#ab63fa\", \"#ab63fa\", \"#ab63fa\", \"#ab63fa\", \"#ab63fa\", \"#ab63fa\"]}, \"name\": \"\", \"parents\": [\"2001\", \"2011\", \"2010\", \"2009\", \"2008\", \"2007\", \"2006\", \"2005\", \"2004\", \"2003\", \"2002\", \"2012\", \"2002\", \"2006\", \"2001\", \"2011\", \"2012\", \"2004\", \"2009\", \"2005\", \"2007\", \"2008\", \"2003\", \"2010\", \"2008\", \"2012\", \"2004\", \"2007\", \"2009\", \"2003\", \"2006\", \"2005\", \"2011\", \"2001\", \"2002\", \"2010\", \"2010\", \"2007\", \"2009\", \"2008\", \"2002\", \"2006\", \"2011\", \"2003\", \"2004\", \"2005\", \"2012\", \"2001\", \"2010\", \"2003\", \"2012\", \"2002\", \"2009\", \"2004\", \"2005\", \"2008\", \"2001\", \"2007\", \"2006\", \"2011\", \"2012\", \"2001\", \"2002\", \"2004\", \"2007\", \"2003\", \"2006\", \"2010\", \"2011\", \"2009\", \"2005\", \"2008\", \"2003\", \"2009\", \"2010\", \"2011\", \"2007\", \"2008\", \"2005\", \"2006\", \"2001\", \"2012\", \"2004\", \"2002\", \"2007\", \"2004\", \"2005\", \"2011\", \"2008\", \"2010\", \"2012\", \"2002\", \"2006\", \"2001\", \"2003\", \"2009\", \"2008\", \"2006\", \"2005\", \"2007\", \"2009\", \"2010\", \"2004\", \"2012\", \"2001\", \"2003\", \"2011\", \"2002\", \"2007\", \"2009\", \"2008\", \"2010\", \"2003\", \"2011\", \"2006\", \"2012\", \"2001\", \"2005\", \"2002\", \"2004\", \"2006\", \"2007\", \"2003\", \"2008\", \"2009\", \"2001\", \"2004\", \"2010\", \"2012\", \"2002\", \"2011\", \"2005\", \"2010\", \"2007\", \"2008\", \"2001\", \"2006\", \"2002\", \"2012\", \"2003\", \"2005\", \"2009\", \"2004\", \"2011\", \"2006\", \"2010\", \"2009\", \"2008\", \"2007\", \"2005\", \"2004\", \"2003\", \"2002\", \"2001\", \"2011\", \"2012\", \"\", \"\", \"\", \"\", \"\", \"\", \"\", \"\", \"\", \"\", \"\", \"\"], \"type\": \"treemap\", \"values\": [3, 1185, 0, 0, 0, 17, 20, 1, 136, 0, 0, 60, 2, 4, 167, 1, 1101, 0, 2, 154, 34, 46, 0, 0, 26, 2, 0, 0, 12, 0, 188, 0, 0, 3, 186, 0, 7, 181, 23, 1, 0, 0, 0, 199, 1, 4, 0, 653, 0, 594, 8, 0, 252, 5, 276, 0, 0, 0, 2, 22, 21, 1, 0, 692, 0, 0, 189, 259, 48, 0, 18, 5, 0, 2, 0, 154, 314, 2, 666, 0, 18, 46, 0, 0, 0, 0, 0, 0, 245, 0, 172, 19, 719, 30, 1, 2, 0, 0, 0, 781, 198, 0, 0, 70, 0, 10, 0, 36, 0, 49, 833, 237, 49, 0, 0, 4, 141, 0, 25, 24, 1, 0, 16, 180, 30, 0, 247, 28, 0, 630, 5, 0, 25, 0, 0, 0, 1, 126, 0, 2, 22, 782, 37, 201, 14, 894, 1, 0, 0, 31, 1, 177, 0, 0, 2, 244, 1016, 1024, 1048, 1143, 1172, 1138, 1327, 1338, 1353, 1450, 1618, 1728]}],                        {\"legend\": {\"tracegroupgap\": 0}, \"margin\": {\"t\": 60}, \"template\": {\"data\": {\"bar\": [{\"error_x\": {\"color\": \"#2a3f5f\"}, \"error_y\": {\"color\": \"#2a3f5f\"}, \"marker\": {\"line\": {\"color\": \"#E5ECF6\", \"width\": 0.5}}, \"type\": \"bar\"}], \"barpolar\": [{\"marker\": {\"line\": {\"color\": \"#E5ECF6\", \"width\": 0.5}}, \"type\": \"barpolar\"}], \"carpet\": [{\"aaxis\": {\"endlinecolor\": \"#2a3f5f\", \"gridcolor\": \"white\", \"linecolor\": \"white\", \"minorgridcolor\": \"white\", \"startlinecolor\": \"#2a3f5f\"}, \"baxis\": {\"endlinecolor\": \"#2a3f5f\", \"gridcolor\": \"white\", \"linecolor\": \"white\", \"minorgridcolor\": \"white\", \"startlinecolor\": \"#2a3f5f\"}, \"type\": \"carpet\"}], \"choropleth\": [{\"colorbar\": {\"outlinewidth\": 0, \"ticks\": \"\"}, \"type\": \"choropleth\"}], \"contour\": [{\"colorbar\": {\"outlinewidth\": 0, \"ticks\": \"\"}, \"colorscale\": [[0.0, \"#0d0887\"], [0.1111111111111111, \"#46039f\"], [0.2222222222222222, \"#7201a8\"], [0.3333333333333333, \"#9c179e\"], [0.4444444444444444, \"#bd3786\"], [0.5555555555555556, \"#d8576b\"], [0.6666666666666666, \"#ed7953\"], [0.7777777777777778, \"#fb9f3a\"], [0.8888888888888888, \"#fdca26\"], [1.0, \"#f0f921\"]], \"type\": \"contour\"}], \"contourcarpet\": [{\"colorbar\": {\"outlinewidth\": 0, \"ticks\": \"\"}, \"type\": \"contourcarpet\"}], \"heatmap\": [{\"colorbar\": {\"outlinewidth\": 0, \"ticks\": \"\"}, \"colorscale\": [[0.0, \"#0d0887\"], [0.1111111111111111, \"#46039f\"], [0.2222222222222222, \"#7201a8\"], [0.3333333333333333, \"#9c179e\"], [0.4444444444444444, \"#bd3786\"], [0.5555555555555556, \"#d8576b\"], [0.6666666666666666, \"#ed7953\"], [0.7777777777777778, \"#fb9f3a\"], [0.8888888888888888, \"#fdca26\"], [1.0, \"#f0f921\"]], \"type\": \"heatmap\"}], \"heatmapgl\": [{\"colorbar\": {\"outlinewidth\": 0, \"ticks\": \"\"}, \"colorscale\": [[0.0, \"#0d0887\"], [0.1111111111111111, \"#46039f\"], [0.2222222222222222, \"#7201a8\"], [0.3333333333333333, \"#9c179e\"], [0.4444444444444444, \"#bd3786\"], [0.5555555555555556, \"#d8576b\"], [0.6666666666666666, \"#ed7953\"], [0.7777777777777778, \"#fb9f3a\"], [0.8888888888888888, \"#fdca26\"], [1.0, \"#f0f921\"]], \"type\": \"heatmapgl\"}], \"histogram\": [{\"marker\": {\"colorbar\": {\"outlinewidth\": 0, \"ticks\": \"\"}}, \"type\": \"histogram\"}], \"histogram2d\": [{\"colorbar\": {\"outlinewidth\": 0, \"ticks\": \"\"}, \"colorscale\": [[0.0, \"#0d0887\"], [0.1111111111111111, \"#46039f\"], [0.2222222222222222, \"#7201a8\"], [0.3333333333333333, \"#9c179e\"], [0.4444444444444444, \"#bd3786\"], [0.5555555555555556, \"#d8576b\"], [0.6666666666666666, \"#ed7953\"], [0.7777777777777778, \"#fb9f3a\"], [0.8888888888888888, \"#fdca26\"], [1.0, \"#f0f921\"]], \"type\": \"histogram2d\"}], \"histogram2dcontour\": [{\"colorbar\": {\"outlinewidth\": 0, \"ticks\": \"\"}, \"colorscale\": [[0.0, \"#0d0887\"], [0.1111111111111111, \"#46039f\"], [0.2222222222222222, \"#7201a8\"], [0.3333333333333333, \"#9c179e\"], [0.4444444444444444, \"#bd3786\"], [0.5555555555555556, \"#d8576b\"], [0.6666666666666666, \"#ed7953\"], [0.7777777777777778, \"#fb9f3a\"], [0.8888888888888888, \"#fdca26\"], [1.0, \"#f0f921\"]], \"type\": \"histogram2dcontour\"}], \"mesh3d\": [{\"colorbar\": {\"outlinewidth\": 0, \"ticks\": \"\"}, \"type\": \"mesh3d\"}], \"parcoords\": [{\"line\": {\"colorbar\": {\"outlinewidth\": 0, \"ticks\": \"\"}}, \"type\": \"parcoords\"}], \"pie\": [{\"automargin\": true, \"type\": \"pie\"}], \"scatter\": [{\"marker\": {\"colorbar\": {\"outlinewidth\": 0, \"ticks\": \"\"}}, \"type\": \"scatter\"}], \"scatter3d\": [{\"line\": {\"colorbar\": {\"outlinewidth\": 0, \"ticks\": \"\"}}, \"marker\": {\"colorbar\": {\"outlinewidth\": 0, \"ticks\": \"\"}}, \"type\": \"scatter3d\"}], \"scattercarpet\": [{\"marker\": {\"colorbar\": {\"outlinewidth\": 0, \"ticks\": \"\"}}, \"type\": \"scattercarpet\"}], \"scattergeo\": [{\"marker\": {\"colorbar\": {\"outlinewidth\": 0, \"ticks\": \"\"}}, \"type\": \"scattergeo\"}], \"scattergl\": [{\"marker\": {\"colorbar\": {\"outlinewidth\": 0, \"ticks\": \"\"}}, \"type\": \"scattergl\"}], \"scattermapbox\": [{\"marker\": {\"colorbar\": {\"outlinewidth\": 0, \"ticks\": \"\"}}, \"type\": \"scattermapbox\"}], \"scatterpolar\": [{\"marker\": {\"colorbar\": {\"outlinewidth\": 0, \"ticks\": \"\"}}, \"type\": \"scatterpolar\"}], \"scatterpolargl\": [{\"marker\": {\"colorbar\": {\"outlinewidth\": 0, \"ticks\": \"\"}}, \"type\": \"scatterpolargl\"}], \"scatterternary\": [{\"marker\": {\"colorbar\": {\"outlinewidth\": 0, \"ticks\": \"\"}}, \"type\": \"scatterternary\"}], \"surface\": [{\"colorbar\": {\"outlinewidth\": 0, \"ticks\": \"\"}, \"colorscale\": [[0.0, \"#0d0887\"], [0.1111111111111111, \"#46039f\"], [0.2222222222222222, \"#7201a8\"], [0.3333333333333333, \"#9c179e\"], [0.4444444444444444, \"#bd3786\"], [0.5555555555555556, \"#d8576b\"], [0.6666666666666666, \"#ed7953\"], [0.7777777777777778, \"#fb9f3a\"], [0.8888888888888888, \"#fdca26\"], [1.0, \"#f0f921\"]], \"type\": \"surface\"}], \"table\": [{\"cells\": {\"fill\": {\"color\": \"#EBF0F8\"}, \"line\": {\"color\": \"white\"}}, \"header\": {\"fill\": {\"color\": \"#C8D4E3\"}, \"line\": {\"color\": \"white\"}}, \"type\": \"table\"}]}, \"layout\": {\"annotationdefaults\": {\"arrowcolor\": \"#2a3f5f\", \"arrowhead\": 0, \"arrowwidth\": 1}, \"autotypenumbers\": \"strict\", \"coloraxis\": {\"colorbar\": {\"outlinewidth\": 0, \"ticks\": \"\"}}, \"colorscale\": {\"diverging\": [[0, \"#8e0152\"], [0.1, \"#c51b7d\"], [0.2, \"#de77ae\"], [0.3, \"#f1b6da\"], [0.4, \"#fde0ef\"], [0.5, \"#f7f7f7\"], [0.6, \"#e6f5d0\"], [0.7, \"#b8e186\"], [0.8, \"#7fbc41\"], [0.9, \"#4d9221\"], [1, \"#276419\"]], \"sequential\": [[0.0, \"#0d0887\"], [0.1111111111111111, \"#46039f\"], [0.2222222222222222, \"#7201a8\"], [0.3333333333333333, \"#9c179e\"], [0.4444444444444444, \"#bd3786\"], [0.5555555555555556, \"#d8576b\"], [0.6666666666666666, \"#ed7953\"], [0.7777777777777778, \"#fb9f3a\"], [0.8888888888888888, \"#fdca26\"], [1.0, \"#f0f921\"]], \"sequentialminus\": [[0.0, \"#0d0887\"], [0.1111111111111111, \"#46039f\"], [0.2222222222222222, \"#7201a8\"], [0.3333333333333333, \"#9c179e\"], [0.4444444444444444, \"#bd3786\"], [0.5555555555555556, \"#d8576b\"], [0.6666666666666666, \"#ed7953\"], [0.7777777777777778, \"#fb9f3a\"], [0.8888888888888888, \"#fdca26\"], [1.0, \"#f0f921\"]]}, \"colorway\": [\"#636efa\", \"#EF553B\", \"#00cc96\", \"#ab63fa\", \"#FFA15A\", \"#19d3f3\", \"#FF6692\", \"#B6E880\", \"#FF97FF\", \"#FECB52\"], \"font\": {\"color\": \"#2a3f5f\"}, \"geo\": {\"bgcolor\": \"white\", \"lakecolor\": \"white\", \"landcolor\": \"#E5ECF6\", \"showlakes\": true, \"showland\": true, \"subunitcolor\": \"white\"}, \"hoverlabel\": {\"align\": \"left\"}, \"hovermode\": \"closest\", \"mapbox\": {\"style\": \"light\"}, \"paper_bgcolor\": \"white\", \"plot_bgcolor\": \"#E5ECF6\", \"polar\": {\"angularaxis\": {\"gridcolor\": \"white\", \"linecolor\": \"white\", \"ticks\": \"\"}, \"bgcolor\": \"#E5ECF6\", \"radialaxis\": {\"gridcolor\": \"white\", \"linecolor\": \"white\", \"ticks\": \"\"}}, \"scene\": {\"xaxis\": {\"backgroundcolor\": \"#E5ECF6\", \"gridcolor\": \"white\", \"gridwidth\": 2, \"linecolor\": \"white\", \"showbackground\": true, \"ticks\": \"\", \"zerolinecolor\": \"white\"}, \"yaxis\": {\"backgroundcolor\": \"#E5ECF6\", \"gridcolor\": \"white\", \"gridwidth\": 2, \"linecolor\": \"white\", \"showbackground\": true, \"ticks\": \"\", \"zerolinecolor\": \"white\"}, \"zaxis\": {\"backgroundcolor\": \"#E5ECF6\", \"gridcolor\": \"white\", \"gridwidth\": 2, \"linecolor\": \"white\", \"showbackground\": true, \"ticks\": \"\", \"zerolinecolor\": \"white\"}}, \"shapedefaults\": {\"line\": {\"color\": \"#2a3f5f\"}}, \"ternary\": {\"aaxis\": {\"gridcolor\": \"white\", \"linecolor\": \"white\", \"ticks\": \"\"}, \"baxis\": {\"gridcolor\": \"white\", \"linecolor\": \"white\", \"ticks\": \"\"}, \"bgcolor\": \"#E5ECF6\", \"caxis\": {\"gridcolor\": \"white\", \"linecolor\": \"white\", \"ticks\": \"\"}}, \"title\": {\"x\": 0.05}, \"xaxis\": {\"automargin\": true, \"gridcolor\": \"white\", \"linecolor\": \"white\", \"ticks\": \"\", \"title\": {\"standoff\": 15}, \"zerolinecolor\": \"white\", \"zerolinewidth\": 2}, \"yaxis\": {\"automargin\": true, \"gridcolor\": \"white\", \"linecolor\": \"white\", \"ticks\": \"\", \"title\": {\"standoff\": 15}, \"zerolinecolor\": \"white\", \"zerolinewidth\": 2}}}},                        {\"responsive\": true}                    ).then(function(){\n",
              "                            \n",
              "var gd = document.getElementById('41a04981-0b9e-4362-8dfc-586dd08d6934');\n",
              "var x = new MutationObserver(function (mutations, observer) {{\n",
              "        var display = window.getComputedStyle(gd).display;\n",
              "        if (!display || display === 'none') {{\n",
              "            console.log([gd, 'removed!']);\n",
              "            Plotly.purge(gd);\n",
              "            observer.disconnect();\n",
              "        }}\n",
              "}});\n",
              "\n",
              "// Listen for the removal of the full notebook cells\n",
              "var notebookContainer = gd.closest('#notebook-container');\n",
              "if (notebookContainer) {{\n",
              "    x.observe(notebookContainer, {childList: true});\n",
              "}}\n",
              "\n",
              "// Listen for the clearing of the current output cell\n",
              "var outputEl = gd.closest('.output');\n",
              "if (outputEl) {{\n",
              "    x.observe(outputEl, {childList: true});\n",
              "}}\n",
              "\n",
              "                        })                };                            </script>        </div>\n",
              "</body>\n",
              "</html>"
            ]
          },
          "metadata": {
            "tags": []
          }
        }
      ]
    },
    {
      "cell_type": "markdown",
      "metadata": {
        "id": "8d9CYaYYKWBa"
      },
      "source": [
        "INFERENCE : The size of the rectangles imply that the number of crimes has increased over time. But throughout, the crimes related to marriage contributed the most, followed by the collective group of other crimes and illicit intercourse switching between the second and third highest. In 2007 there were only 5 different crimes reported (minimum) but in 2009 this was 11 (maximum).\n"
      ]
    },
    {
      "cell_type": "markdown",
      "metadata": {
        "id": "f-a_W8q2USzS"
      },
      "source": [
        "# **7) Which year recorded the most number of crimes?**\n",
        "\n",
        "_Line Graph using plotly_"
      ]
    },
    {
      "cell_type": "code",
      "metadata": {
        "colab": {
          "base_uri": "https://localhost:8080/",
          "height": 426
        },
        "id": "v8dv_XDV7X2k",
        "outputId": "e28f120e-deee-4968-d542-123b7d1c6a2f"
      },
      "source": [
        "df_years = df_crimes.groupby(by=['YEAR'], as_index=False).sum()\n",
        "df_years = df_years.iloc[:,0:2]\n",
        "df_years"
      ],
      "execution_count": null,
      "outputs": [
        {
          "output_type": "execute_result",
          "data": {
            "text/html": [
              "<div>\n",
              "<style scoped>\n",
              "    .dataframe tbody tr th:only-of-type {\n",
              "        vertical-align: middle;\n",
              "    }\n",
              "\n",
              "    .dataframe tbody tr th {\n",
              "        vertical-align: top;\n",
              "    }\n",
              "\n",
              "    .dataframe thead th {\n",
              "        text-align: right;\n",
              "    }\n",
              "</style>\n",
              "<table border=\"1\" class=\"dataframe\">\n",
              "  <thead>\n",
              "    <tr style=\"text-align: right;\">\n",
              "      <th></th>\n",
              "      <th>YEAR</th>\n",
              "      <th>Total No. of cases reported</th>\n",
              "    </tr>\n",
              "  </thead>\n",
              "  <tbody>\n",
              "    <tr>\n",
              "      <th>0</th>\n",
              "      <td>2001</td>\n",
              "      <td>44964</td>\n",
              "    </tr>\n",
              "    <tr>\n",
              "      <th>1</th>\n",
              "      <td>2002</td>\n",
              "      <td>43700</td>\n",
              "    </tr>\n",
              "    <tr>\n",
              "      <th>2</th>\n",
              "      <td>2003</td>\n",
              "      <td>39984</td>\n",
              "    </tr>\n",
              "    <tr>\n",
              "      <th>3</th>\n",
              "      <td>2004</td>\n",
              "      <td>46654</td>\n",
              "    </tr>\n",
              "    <tr>\n",
              "      <th>4</th>\n",
              "      <td>2005</td>\n",
              "      <td>45664</td>\n",
              "    </tr>\n",
              "    <tr>\n",
              "      <th>5</th>\n",
              "      <td>2006</td>\n",
              "      <td>47982</td>\n",
              "    </tr>\n",
              "    <tr>\n",
              "      <th>6</th>\n",
              "      <td>2007</td>\n",
              "      <td>55122</td>\n",
              "    </tr>\n",
              "    <tr>\n",
              "      <th>7</th>\n",
              "      <td>2008</td>\n",
              "      <td>60522</td>\n",
              "    </tr>\n",
              "    <tr>\n",
              "      <th>8</th>\n",
              "      <td>2009</td>\n",
              "      <td>67720</td>\n",
              "    </tr>\n",
              "    <tr>\n",
              "      <th>9</th>\n",
              "      <td>2010</td>\n",
              "      <td>76880</td>\n",
              "    </tr>\n",
              "    <tr>\n",
              "      <th>10</th>\n",
              "      <td>2011</td>\n",
              "      <td>89328</td>\n",
              "    </tr>\n",
              "    <tr>\n",
              "      <th>11</th>\n",
              "      <td>2012</td>\n",
              "      <td>95184</td>\n",
              "    </tr>\n",
              "  </tbody>\n",
              "</table>\n",
              "</div>"
            ],
            "text/plain": [
              "    YEAR  Total No. of cases reported\n",
              "0   2001                        44964\n",
              "1   2002                        43700\n",
              "2   2003                        39984\n",
              "3   2004                        46654\n",
              "4   2005                        45664\n",
              "5   2006                        47982\n",
              "6   2007                        55122\n",
              "7   2008                        60522\n",
              "8   2009                        67720\n",
              "9   2010                        76880\n",
              "10  2011                        89328\n",
              "11  2012                        95184"
            ]
          },
          "metadata": {
            "tags": []
          },
          "execution_count": 23
        }
      ]
    },
    {
      "cell_type": "code",
      "metadata": {
        "colab": {
          "base_uri": "https://localhost:8080/",
          "height": 542
        },
        "id": "Pbp3ohah9XDj",
        "outputId": "4146f912-96e1-425f-8e38-78a2c2eff358"
      },
      "source": [
        "fig = go.Figure(data=go.Scatter(x=df_years.iloc[:,0], y=df_years.iloc[:,1]))\n",
        "fig.update_layout(title='YEAR WISE TOTAL CRIMES REPORTED',\n",
        "                   xaxis_title='Year',\n",
        "                   yaxis_title='Count')\n",
        "fig.show()"
      ],
      "execution_count": null,
      "outputs": [
        {
          "output_type": "display_data",
          "data": {
            "text/html": [
              "<html>\n",
              "<head><meta charset=\"utf-8\" /></head>\n",
              "<body>\n",
              "    <div>            <script src=\"https://cdnjs.cloudflare.com/ajax/libs/mathjax/2.7.5/MathJax.js?config=TeX-AMS-MML_SVG\"></script><script type=\"text/javascript\">if (window.MathJax) {MathJax.Hub.Config({SVG: {font: \"STIX-Web\"}});}</script>                <script type=\"text/javascript\">window.PlotlyConfig = {MathJaxConfig: 'local'};</script>\n",
              "        <script src=\"https://cdn.plot.ly/plotly-latest.min.js\"></script>                <div id=\"75048025-fa15-4181-9b84-a913e0685335\" class=\"plotly-graph-div\" style=\"height:525px; width:100%;\"></div>            <script type=\"text/javascript\">                                    window.PLOTLYENV=window.PLOTLYENV || {};                                    if (document.getElementById(\"75048025-fa15-4181-9b84-a913e0685335\")) {                    Plotly.newPlot(                        \"75048025-fa15-4181-9b84-a913e0685335\",                        [{\"type\": \"scatter\", \"x\": [2001, 2002, 2003, 2004, 2005, 2006, 2007, 2008, 2009, 2010, 2011, 2012], \"y\": [44964, 43700, 39984, 46654, 45664, 47982, 55122, 60522, 67720, 76880, 89328, 95184]}],                        {\"template\": {\"data\": {\"bar\": [{\"error_x\": {\"color\": \"#2a3f5f\"}, \"error_y\": {\"color\": \"#2a3f5f\"}, \"marker\": {\"line\": {\"color\": \"#E5ECF6\", \"width\": 0.5}}, \"type\": \"bar\"}], \"barpolar\": [{\"marker\": {\"line\": {\"color\": \"#E5ECF6\", \"width\": 0.5}}, \"type\": \"barpolar\"}], \"carpet\": [{\"aaxis\": {\"endlinecolor\": \"#2a3f5f\", \"gridcolor\": \"white\", \"linecolor\": \"white\", \"minorgridcolor\": \"white\", \"startlinecolor\": \"#2a3f5f\"}, \"baxis\": {\"endlinecolor\": \"#2a3f5f\", \"gridcolor\": \"white\", \"linecolor\": \"white\", \"minorgridcolor\": \"white\", \"startlinecolor\": \"#2a3f5f\"}, \"type\": \"carpet\"}], \"choropleth\": [{\"colorbar\": {\"outlinewidth\": 0, \"ticks\": \"\"}, \"type\": \"choropleth\"}], \"contour\": [{\"colorbar\": {\"outlinewidth\": 0, \"ticks\": \"\"}, \"colorscale\": [[0.0, \"#0d0887\"], [0.1111111111111111, \"#46039f\"], [0.2222222222222222, \"#7201a8\"], [0.3333333333333333, \"#9c179e\"], [0.4444444444444444, \"#bd3786\"], [0.5555555555555556, \"#d8576b\"], [0.6666666666666666, \"#ed7953\"], [0.7777777777777778, \"#fb9f3a\"], [0.8888888888888888, \"#fdca26\"], [1.0, \"#f0f921\"]], \"type\": \"contour\"}], \"contourcarpet\": [{\"colorbar\": {\"outlinewidth\": 0, \"ticks\": \"\"}, \"type\": \"contourcarpet\"}], \"heatmap\": [{\"colorbar\": {\"outlinewidth\": 0, \"ticks\": \"\"}, \"colorscale\": [[0.0, \"#0d0887\"], [0.1111111111111111, \"#46039f\"], [0.2222222222222222, \"#7201a8\"], [0.3333333333333333, \"#9c179e\"], [0.4444444444444444, \"#bd3786\"], [0.5555555555555556, \"#d8576b\"], [0.6666666666666666, \"#ed7953\"], [0.7777777777777778, \"#fb9f3a\"], [0.8888888888888888, \"#fdca26\"], [1.0, \"#f0f921\"]], \"type\": \"heatmap\"}], \"heatmapgl\": [{\"colorbar\": {\"outlinewidth\": 0, \"ticks\": \"\"}, \"colorscale\": [[0.0, \"#0d0887\"], [0.1111111111111111, \"#46039f\"], [0.2222222222222222, \"#7201a8\"], [0.3333333333333333, \"#9c179e\"], [0.4444444444444444, \"#bd3786\"], [0.5555555555555556, \"#d8576b\"], [0.6666666666666666, \"#ed7953\"], [0.7777777777777778, \"#fb9f3a\"], [0.8888888888888888, \"#fdca26\"], [1.0, \"#f0f921\"]], \"type\": \"heatmapgl\"}], \"histogram\": [{\"marker\": {\"colorbar\": {\"outlinewidth\": 0, \"ticks\": \"\"}}, \"type\": \"histogram\"}], \"histogram2d\": [{\"colorbar\": {\"outlinewidth\": 0, \"ticks\": \"\"}, \"colorscale\": [[0.0, \"#0d0887\"], [0.1111111111111111, \"#46039f\"], [0.2222222222222222, \"#7201a8\"], [0.3333333333333333, \"#9c179e\"], [0.4444444444444444, \"#bd3786\"], [0.5555555555555556, \"#d8576b\"], [0.6666666666666666, \"#ed7953\"], [0.7777777777777778, \"#fb9f3a\"], [0.8888888888888888, \"#fdca26\"], [1.0, \"#f0f921\"]], \"type\": \"histogram2d\"}], \"histogram2dcontour\": [{\"colorbar\": {\"outlinewidth\": 0, \"ticks\": \"\"}, \"colorscale\": [[0.0, \"#0d0887\"], [0.1111111111111111, \"#46039f\"], [0.2222222222222222, \"#7201a8\"], [0.3333333333333333, \"#9c179e\"], [0.4444444444444444, \"#bd3786\"], [0.5555555555555556, \"#d8576b\"], [0.6666666666666666, \"#ed7953\"], [0.7777777777777778, \"#fb9f3a\"], [0.8888888888888888, \"#fdca26\"], [1.0, \"#f0f921\"]], \"type\": \"histogram2dcontour\"}], \"mesh3d\": [{\"colorbar\": {\"outlinewidth\": 0, \"ticks\": \"\"}, \"type\": \"mesh3d\"}], \"parcoords\": [{\"line\": {\"colorbar\": {\"outlinewidth\": 0, \"ticks\": \"\"}}, \"type\": \"parcoords\"}], \"pie\": [{\"automargin\": true, \"type\": \"pie\"}], \"scatter\": [{\"marker\": {\"colorbar\": {\"outlinewidth\": 0, \"ticks\": \"\"}}, \"type\": \"scatter\"}], \"scatter3d\": [{\"line\": {\"colorbar\": {\"outlinewidth\": 0, \"ticks\": \"\"}}, \"marker\": {\"colorbar\": {\"outlinewidth\": 0, \"ticks\": \"\"}}, \"type\": \"scatter3d\"}], \"scattercarpet\": [{\"marker\": {\"colorbar\": {\"outlinewidth\": 0, \"ticks\": \"\"}}, \"type\": \"scattercarpet\"}], \"scattergeo\": [{\"marker\": {\"colorbar\": {\"outlinewidth\": 0, \"ticks\": \"\"}}, \"type\": \"scattergeo\"}], \"scattergl\": [{\"marker\": {\"colorbar\": {\"outlinewidth\": 0, \"ticks\": \"\"}}, \"type\": \"scattergl\"}], \"scattermapbox\": [{\"marker\": {\"colorbar\": {\"outlinewidth\": 0, \"ticks\": \"\"}}, \"type\": \"scattermapbox\"}], \"scatterpolar\": [{\"marker\": {\"colorbar\": {\"outlinewidth\": 0, \"ticks\": \"\"}}, \"type\": \"scatterpolar\"}], \"scatterpolargl\": [{\"marker\": {\"colorbar\": {\"outlinewidth\": 0, \"ticks\": \"\"}}, \"type\": \"scatterpolargl\"}], \"scatterternary\": [{\"marker\": {\"colorbar\": {\"outlinewidth\": 0, \"ticks\": \"\"}}, \"type\": \"scatterternary\"}], \"surface\": [{\"colorbar\": {\"outlinewidth\": 0, \"ticks\": \"\"}, \"colorscale\": [[0.0, \"#0d0887\"], [0.1111111111111111, \"#46039f\"], [0.2222222222222222, \"#7201a8\"], [0.3333333333333333, \"#9c179e\"], [0.4444444444444444, \"#bd3786\"], [0.5555555555555556, \"#d8576b\"], [0.6666666666666666, \"#ed7953\"], [0.7777777777777778, \"#fb9f3a\"], [0.8888888888888888, \"#fdca26\"], [1.0, \"#f0f921\"]], \"type\": \"surface\"}], \"table\": [{\"cells\": {\"fill\": {\"color\": \"#EBF0F8\"}, \"line\": {\"color\": \"white\"}}, \"header\": {\"fill\": {\"color\": \"#C8D4E3\"}, \"line\": {\"color\": \"white\"}}, \"type\": \"table\"}]}, \"layout\": {\"annotationdefaults\": {\"arrowcolor\": \"#2a3f5f\", \"arrowhead\": 0, \"arrowwidth\": 1}, \"autotypenumbers\": \"strict\", \"coloraxis\": {\"colorbar\": {\"outlinewidth\": 0, \"ticks\": \"\"}}, \"colorscale\": {\"diverging\": [[0, \"#8e0152\"], [0.1, \"#c51b7d\"], [0.2, \"#de77ae\"], [0.3, \"#f1b6da\"], [0.4, \"#fde0ef\"], [0.5, \"#f7f7f7\"], [0.6, \"#e6f5d0\"], [0.7, \"#b8e186\"], [0.8, \"#7fbc41\"], [0.9, \"#4d9221\"], [1, \"#276419\"]], \"sequential\": [[0.0, \"#0d0887\"], [0.1111111111111111, \"#46039f\"], [0.2222222222222222, \"#7201a8\"], [0.3333333333333333, \"#9c179e\"], [0.4444444444444444, \"#bd3786\"], [0.5555555555555556, \"#d8576b\"], [0.6666666666666666, \"#ed7953\"], [0.7777777777777778, \"#fb9f3a\"], [0.8888888888888888, \"#fdca26\"], [1.0, \"#f0f921\"]], \"sequentialminus\": [[0.0, \"#0d0887\"], [0.1111111111111111, \"#46039f\"], [0.2222222222222222, \"#7201a8\"], [0.3333333333333333, \"#9c179e\"], [0.4444444444444444, \"#bd3786\"], [0.5555555555555556, \"#d8576b\"], [0.6666666666666666, \"#ed7953\"], [0.7777777777777778, \"#fb9f3a\"], [0.8888888888888888, \"#fdca26\"], [1.0, \"#f0f921\"]]}, \"colorway\": [\"#636efa\", \"#EF553B\", \"#00cc96\", \"#ab63fa\", \"#FFA15A\", \"#19d3f3\", \"#FF6692\", \"#B6E880\", \"#FF97FF\", \"#FECB52\"], \"font\": {\"color\": \"#2a3f5f\"}, \"geo\": {\"bgcolor\": \"white\", \"lakecolor\": \"white\", \"landcolor\": \"#E5ECF6\", \"showlakes\": true, \"showland\": true, \"subunitcolor\": \"white\"}, \"hoverlabel\": {\"align\": \"left\"}, \"hovermode\": \"closest\", \"mapbox\": {\"style\": \"light\"}, \"paper_bgcolor\": \"white\", \"plot_bgcolor\": \"#E5ECF6\", \"polar\": {\"angularaxis\": {\"gridcolor\": \"white\", \"linecolor\": \"white\", \"ticks\": \"\"}, \"bgcolor\": \"#E5ECF6\", \"radialaxis\": {\"gridcolor\": \"white\", \"linecolor\": \"white\", \"ticks\": \"\"}}, \"scene\": {\"xaxis\": {\"backgroundcolor\": \"#E5ECF6\", \"gridcolor\": \"white\", \"gridwidth\": 2, \"linecolor\": \"white\", \"showbackground\": true, \"ticks\": \"\", \"zerolinecolor\": \"white\"}, \"yaxis\": {\"backgroundcolor\": \"#E5ECF6\", \"gridcolor\": \"white\", \"gridwidth\": 2, \"linecolor\": \"white\", \"showbackground\": true, \"ticks\": \"\", \"zerolinecolor\": \"white\"}, \"zaxis\": {\"backgroundcolor\": \"#E5ECF6\", \"gridcolor\": \"white\", \"gridwidth\": 2, \"linecolor\": \"white\", \"showbackground\": true, \"ticks\": \"\", \"zerolinecolor\": \"white\"}}, \"shapedefaults\": {\"line\": {\"color\": \"#2a3f5f\"}}, \"ternary\": {\"aaxis\": {\"gridcolor\": \"white\", \"linecolor\": \"white\", \"ticks\": \"\"}, \"baxis\": {\"gridcolor\": \"white\", \"linecolor\": \"white\", \"ticks\": \"\"}, \"bgcolor\": \"#E5ECF6\", \"caxis\": {\"gridcolor\": \"white\", \"linecolor\": \"white\", \"ticks\": \"\"}}, \"title\": {\"x\": 0.05}, \"xaxis\": {\"automargin\": true, \"gridcolor\": \"white\", \"linecolor\": \"white\", \"ticks\": \"\", \"title\": {\"standoff\": 15}, \"zerolinecolor\": \"white\", \"zerolinewidth\": 2}, \"yaxis\": {\"automargin\": true, \"gridcolor\": \"white\", \"linecolor\": \"white\", \"ticks\": \"\", \"title\": {\"standoff\": 15}, \"zerolinecolor\": \"white\", \"zerolinewidth\": 2}}}, \"title\": {\"text\": \"YEAR WISE TOTAL CRIMES REPORTED\"}, \"xaxis\": {\"title\": {\"text\": \"Year\"}}, \"yaxis\": {\"title\": {\"text\": \"Count\"}}},                        {\"responsive\": true}                    ).then(function(){\n",
              "                            \n",
              "var gd = document.getElementById('75048025-fa15-4181-9b84-a913e0685335');\n",
              "var x = new MutationObserver(function (mutations, observer) {{\n",
              "        var display = window.getComputedStyle(gd).display;\n",
              "        if (!display || display === 'none') {{\n",
              "            console.log([gd, 'removed!']);\n",
              "            Plotly.purge(gd);\n",
              "            observer.disconnect();\n",
              "        }}\n",
              "}});\n",
              "\n",
              "// Listen for the removal of the full notebook cells\n",
              "var notebookContainer = gd.closest('#notebook-container');\n",
              "if (notebookContainer) {{\n",
              "    x.observe(notebookContainer, {childList: true});\n",
              "}}\n",
              "\n",
              "// Listen for the clearing of the current output cell\n",
              "var outputEl = gd.closest('.output');\n",
              "if (outputEl) {{\n",
              "    x.observe(outputEl, {childList: true});\n",
              "}}\n",
              "\n",
              "                        })                };                            </script>        </div>\n",
              "</body>\n",
              "</html>"
            ]
          },
          "metadata": {
            "tags": []
          }
        }
      ]
    },
    {
      "cell_type": "markdown",
      "metadata": {
        "id": "py6-fUVhL30I"
      },
      "source": [
        "INFERENCE : The slope of the line has been increasing constantly since 2005, and is at the highest peak in the year 2012 with 95,184 cases reported. It was least in 2003 with 39,984 cases."
      ]
    },
    {
      "cell_type": "markdown",
      "metadata": {
        "id": "TkbhVOOPUZH6"
      },
      "source": [
        "# **8) Analyse the trend in crimes related to marriage, illicit intercourse, ransom in the decade (2001-2010)**\n",
        "\n",
        "_Stacked Barchart using plotly_"
      ]
    },
    {
      "cell_type": "code",
      "metadata": {
        "id": "ahMOYP9MBtUL"
      },
      "source": [
        "df_decade = df_actual.loc[df_actual['YEAR'] <= 2010]\n",
        "df_decade = df_decade.loc[df_decade['Purpose'].isin(['For marriage', 'For Illicit intercourse', 'For Ransom'])]"
      ],
      "execution_count": null,
      "outputs": []
    },
    {
      "cell_type": "code",
      "metadata": {
        "colab": {
          "base_uri": "https://localhost:8080/",
          "height": 542
        },
        "id": "xz45eQRmLVBP",
        "outputId": "cd9a1fd2-02d5-4273-95ac-812b590599c0"
      },
      "source": [
        "fig = px.bar(df_decade, x=\"YEAR\", y=\"Grand Total\", color=\"Purpose\", hover_data=[\"STATE/UT\"])\n",
        "fig.update_layout(title='TRENDS IN CRIMES RELATED TO MARRIAGE, ILLICIT INTERCOURSE, AND RANSOM OVER THE DECADE', xaxis_title='Year', yaxis_title='Count')\n",
        "fig.show()"
      ],
      "execution_count": null,
      "outputs": [
        {
          "output_type": "display_data",
          "data": {
            "text/html": [
              "<html>\n",
              "<head><meta charset=\"utf-8\" /></head>\n",
              "<body>\n",
              "    <div>            <script src=\"https://cdnjs.cloudflare.com/ajax/libs/mathjax/2.7.5/MathJax.js?config=TeX-AMS-MML_SVG\"></script><script type=\"text/javascript\">if (window.MathJax) {MathJax.Hub.Config({SVG: {font: \"STIX-Web\"}});}</script>                <script type=\"text/javascript\">window.PlotlyConfig = {MathJaxConfig: 'local'};</script>\n",
              "        <script src=\"https://cdn.plot.ly/plotly-latest.min.js\"></script>                <div id=\"6e4d854a-bbc4-4d83-bdd3-b3a48eae3a23\" class=\"plotly-graph-div\" style=\"height:525px; width:100%;\"></div>            <script type=\"text/javascript\">                                    window.PLOTLYENV=window.PLOTLYENV || {};                                    if (document.getElementById(\"6e4d854a-bbc4-4d83-bdd3-b3a48eae3a23\")) {                    Plotly.newPlot(                        \"6e4d854a-bbc4-4d83-bdd3-b3a48eae3a23\",                        [{\"alignmentgroup\": \"True\", \"customdata\": [[\"Andhra Pradesh\"], [\"Andhra Pradesh\"], [\"Andhra Pradesh\"], [\"Andhra Pradesh\"], [\"Andhra Pradesh\"], [\"Andhra Pradesh\"], [\"Andhra Pradesh\"], [\"Andhra Pradesh\"], [\"Andhra Pradesh\"], [\"Andhra Pradesh\"], [\"Arunachal Pradesh\"], [\"Arunachal Pradesh\"], [\"Arunachal Pradesh\"], [\"Arunachal Pradesh\"], [\"Arunachal Pradesh\"], [\"Arunachal Pradesh\"], [\"Arunachal Pradesh\"], [\"Arunachal Pradesh\"], [\"Arunachal Pradesh\"], [\"Arunachal Pradesh\"], [\"Assam\"], [\"Assam\"], [\"Assam\"], [\"Assam\"], [\"Assam\"], [\"Assam\"], [\"Assam\"], [\"Assam\"], [\"Assam\"], [\"Assam\"], [\"Bihar\"], [\"Bihar\"], [\"Bihar\"], [\"Bihar\"], [\"Bihar\"], [\"Bihar\"], [\"Bihar\"], [\"Bihar\"], [\"Bihar\"], [\"Bihar\"], [\"Chhattisgarh\"], [\"Chhattisgarh\"], [\"Chhattisgarh\"], [\"Chhattisgarh\"], [\"Chhattisgarh\"], [\"Chhattisgarh\"], [\"Chhattisgarh\"], [\"Chhattisgarh\"], [\"Chhattisgarh\"], [\"Chhattisgarh\"], [\"Goa\"], [\"Goa\"], [\"Goa\"], [\"Goa\"], [\"Goa\"], [\"Goa\"], [\"Goa\"], [\"Goa\"], [\"Goa\"], [\"Goa\"], [\"Gujarat\"], [\"Gujarat\"], [\"Gujarat\"], [\"Gujarat\"], [\"Gujarat\"], [\"Gujarat\"], [\"Gujarat\"], [\"Gujarat\"], [\"Gujarat\"], [\"Gujarat\"], [\"Haryana\"], [\"Haryana\"], [\"Haryana\"], [\"Haryana\"], [\"Haryana\"], [\"Haryana\"], [\"Haryana\"], [\"Haryana\"], [\"Haryana\"], [\"Haryana\"], [\"Himachal Pradesh\"], [\"Himachal Pradesh\"], [\"Himachal Pradesh\"], [\"Himachal Pradesh\"], [\"Himachal Pradesh\"], [\"Himachal Pradesh\"], [\"Himachal Pradesh\"], [\"Himachal Pradesh\"], [\"Himachal Pradesh\"], [\"Himachal Pradesh\"], [\"Jammu & Kashmir\"], [\"Jammu & Kashmir\"], [\"Jammu & Kashmir\"], [\"Jammu & Kashmir\"], [\"Jammu & Kashmir\"], [\"Jammu & Kashmir\"], [\"Jammu & Kashmir\"], [\"Jammu & Kashmir\"], [\"Jammu & Kashmir\"], [\"Jammu & Kashmir\"], [\"Jharkhand\"], [\"Jharkhand\"], [\"Jharkhand\"], [\"Jharkhand\"], [\"Jharkhand\"], [\"Jharkhand\"], [\"Jharkhand\"], [\"Jharkhand\"], [\"Jharkhand\"], [\"Jharkhand\"], [\"Karnataka\"], [\"Karnataka\"], [\"Karnataka\"], [\"Karnataka\"], [\"Karnataka\"], [\"Karnataka\"], [\"Karnataka\"], [\"Karnataka\"], [\"Karnataka\"], [\"Karnataka\"], [\"Kerala\"], [\"Kerala\"], [\"Kerala\"], [\"Kerala\"], [\"Kerala\"], [\"Kerala\"], [\"Kerala\"], [\"Kerala\"], [\"Kerala\"], [\"Kerala\"], [\"Madhya Pradesh\"], [\"Madhya Pradesh\"], [\"Madhya Pradesh\"], [\"Madhya Pradesh\"], [\"Madhya Pradesh\"], [\"Madhya Pradesh\"], [\"Madhya Pradesh\"], [\"Madhya Pradesh\"], [\"Madhya Pradesh\"], [\"Madhya Pradesh\"], [\"Maharashtra\"], [\"Maharashtra\"], [\"Maharashtra\"], [\"Maharashtra\"], [\"Maharashtra\"], [\"Maharashtra\"], [\"Maharashtra\"], [\"Maharashtra\"], [\"Maharashtra\"], [\"Maharashtra\"], [\"Manipur\"], [\"Manipur\"], [\"Manipur\"], [\"Manipur\"], [\"Manipur\"], [\"Manipur\"], [\"Manipur\"], [\"Manipur\"], [\"Manipur\"], [\"Manipur\"], [\"Meghalaya\"], [\"Meghalaya\"], [\"Meghalaya\"], [\"Meghalaya\"], [\"Meghalaya\"], [\"Meghalaya\"], [\"Meghalaya\"], [\"Meghalaya\"], [\"Meghalaya\"], [\"Meghalaya\"], [\"Mizoram\"], [\"Mizoram\"], [\"Mizoram\"], [\"Mizoram\"], [\"Mizoram\"], [\"Mizoram\"], [\"Mizoram\"], [\"Mizoram\"], [\"Mizoram\"], [\"Mizoram\"], [\"Nagaland\"], [\"Nagaland\"], [\"Nagaland\"], [\"Nagaland\"], [\"Nagaland\"], [\"Nagaland\"], [\"Nagaland\"], [\"Nagaland\"], [\"Nagaland\"], [\"Nagaland\"], [\"Odisha\"], [\"Odisha\"], [\"Odisha\"], [\"Odisha\"], [\"Odisha\"], [\"Odisha\"], [\"Odisha\"], [\"Odisha\"], [\"Odisha\"], [\"Odisha\"], [\"Punjab\"], [\"Punjab\"], [\"Punjab\"], [\"Punjab\"], [\"Punjab\"], [\"Punjab\"], [\"Punjab\"], [\"Punjab\"], [\"Punjab\"], [\"Punjab\"], [\"Rajasthan\"], [\"Rajasthan\"], [\"Rajasthan\"], [\"Rajasthan\"], [\"Rajasthan\"], [\"Rajasthan\"], [\"Rajasthan\"], [\"Rajasthan\"], [\"Rajasthan\"], [\"Rajasthan\"], [\"Sikkim\"], [\"Sikkim\"], [\"Sikkim\"], [\"Sikkim\"], [\"Sikkim\"], [\"Sikkim\"], [\"Sikkim\"], [\"Sikkim\"], [\"Sikkim\"], [\"Sikkim\"], [\"Tamil Nadu\"], [\"Tamil Nadu\"], [\"Tamil Nadu\"], [\"Tamil Nadu\"], [\"Tamil Nadu\"], [\"Tamil Nadu\"], [\"Tamil Nadu\"], [\"Tamil Nadu\"], [\"Tamil Nadu\"], [\"Tamil Nadu\"], [\"Tripura\"], [\"Tripura\"], [\"Tripura\"], [\"Tripura\"], [\"Tripura\"], [\"Tripura\"], [\"Tripura\"], [\"Tripura\"], [\"Tripura\"], [\"Tripura\"], [\"Uttar Pradesh\"], [\"Uttar Pradesh\"], [\"Uttar Pradesh\"], [\"Uttar Pradesh\"], [\"Uttar Pradesh\"], [\"Uttar Pradesh\"], [\"Uttar Pradesh\"], [\"Uttar Pradesh\"], [\"Uttar Pradesh\"], [\"Uttar Pradesh\"], [\"Uttarakhand\"], [\"Uttarakhand\"], [\"Uttarakhand\"], [\"Uttarakhand\"], [\"Uttarakhand\"], [\"Uttarakhand\"], [\"Uttarakhand\"], [\"Uttarakhand\"], [\"Uttarakhand\"], [\"Uttarakhand\"], [\"West Bengal\"], [\"West Bengal\"], [\"West Bengal\"], [\"West Bengal\"], [\"West Bengal\"], [\"West Bengal\"], [\"West Bengal\"], [\"West Bengal\"], [\"West Bengal\"], [\"West Bengal\"], [\"A&N Islands\"], [\"A&N Islands\"], [\"A&N Islands\"], [\"A&N Islands\"], [\"A&N Islands\"], [\"A&N Islands\"], [\"A&N Islands\"], [\"A&N Islands\"], [\"A&N Islands\"], [\"A&N Islands\"], [\"Chandigarh\"], [\"Chandigarh\"], [\"Chandigarh\"], [\"Chandigarh\"], [\"Chandigarh\"], [\"Chandigarh\"], [\"Chandigarh\"], [\"Chandigarh\"], [\"Chandigarh\"], [\"Chandigarh\"], [\"D&N Haveli\"], [\"D&N Haveli\"], [\"D&N Haveli\"], [\"D&N Haveli\"], [\"D&N Haveli\"], [\"D&N Haveli\"], [\"D&N Haveli\"], [\"D&N Haveli\"], [\"D&N Haveli\"], [\"D&N Haveli\"], [\"Daman & Diu\"], [\"Daman & Diu\"], [\"Daman & Diu\"], [\"Daman & Diu\"], [\"Daman & Diu\"], [\"Daman & Diu\"], [\"Daman & Diu\"], [\"Daman & Diu\"], [\"Daman & Diu\"], [\"Delhi UT\"], [\"Delhi UT\"], [\"Delhi UT\"], [\"Delhi UT\"], [\"Delhi UT\"], [\"Delhi UT\"], [\"Delhi UT\"], [\"Delhi UT\"], [\"Delhi UT\"], [\"Delhi UT\"], [\"Lakshadweep\"], [\"Lakshadweep\"], [\"Lakshadweep\"], [\"Lakshadweep\"], [\"Lakshadweep\"], [\"Lakshadweep\"], [\"Lakshadweep\"], [\"Lakshadweep\"], [\"Lakshadweep\"], [\"Lakshadweep\"], [\"Puducherry\"], [\"Puducherry\"], [\"Puducherry\"], [\"Puducherry\"], [\"Puducherry\"], [\"Puducherry\"], [\"Puducherry\"], [\"Puducherry\"], [\"Puducherry\"], [\"Puducherry\"]], \"hovertemplate\": \"Purpose=For Illicit intercourse<br>YEAR=%{x}<br>Grand Total=%{y}<br>STATE/UT=%{customdata[0]}<extra></extra>\", \"legendgroup\": \"For Illicit intercourse\", \"marker\": {\"color\": \"#636efa\"}, \"name\": \"For Illicit intercourse\", \"offsetgroup\": \"For Illicit intercourse\", \"orientation\": \"v\", \"showlegend\": true, \"textposition\": \"auto\", \"type\": \"bar\", \"x\": [2001, 2002, 2003, 2004, 2005, 2006, 2007, 2008, 2009, 2010, 2001, 2002, 2003, 2004, 2005, 2006, 2007, 2008, 2009, 2010, 2001, 2002, 2003, 2004, 2005, 2006, 2007, 2008, 2009, 2010, 2001, 2002, 2003, 2004, 2005, 2006, 2007, 2008, 2009, 2010, 2001, 2002, 2003, 2004, 2005, 2006, 2007, 2008, 2009, 2010, 2001, 2002, 2003, 2004, 2005, 2006, 2007, 2008, 2009, 2010, 2001, 2002, 2003, 2004, 2005, 2006, 2007, 2008, 2009, 2010, 2001, 2002, 2003, 2004, 2005, 2006, 2007, 2008, 2009, 2010, 2001, 2002, 2003, 2004, 2005, 2006, 2007, 2008, 2009, 2010, 2001, 2002, 2003, 2004, 2005, 2006, 2007, 2008, 2009, 2010, 2001, 2002, 2003, 2004, 2005, 2006, 2007, 2008, 2009, 2010, 2001, 2002, 2003, 2004, 2005, 2006, 2007, 2008, 2009, 2010, 2001, 2002, 2003, 2004, 2005, 2006, 2007, 2008, 2009, 2010, 2001, 2002, 2003, 2004, 2005, 2006, 2007, 2008, 2009, 2010, 2001, 2002, 2003, 2004, 2005, 2006, 2007, 2008, 2009, 2010, 2001, 2002, 2003, 2004, 2005, 2006, 2007, 2008, 2009, 2010, 2001, 2002, 2003, 2004, 2005, 2006, 2007, 2008, 2009, 2010, 2001, 2002, 2003, 2004, 2005, 2006, 2007, 2008, 2009, 2010, 2001, 2002, 2003, 2004, 2005, 2006, 2007, 2008, 2009, 2010, 2001, 2002, 2003, 2004, 2005, 2006, 2007, 2008, 2009, 2010, 2001, 2002, 2003, 2004, 2005, 2006, 2007, 2008, 2009, 2010, 2001, 2002, 2003, 2004, 2005, 2006, 2007, 2008, 2009, 2010, 2001, 2002, 2003, 2004, 2005, 2006, 2007, 2008, 2009, 2010, 2001, 2002, 2003, 2004, 2005, 2006, 2007, 2008, 2009, 2010, 2001, 2002, 2003, 2004, 2005, 2006, 2007, 2008, 2009, 2010, 2001, 2002, 2003, 2004, 2005, 2006, 2007, 2008, 2009, 2010, 2001, 2002, 2003, 2004, 2005, 2006, 2007, 2008, 2009, 2010, 2001, 2002, 2003, 2004, 2005, 2006, 2007, 2008, 2009, 2010, 2001, 2002, 2003, 2004, 2005, 2006, 2007, 2008, 2009, 2010, 2001, 2002, 2003, 2004, 2005, 2006, 2007, 2008, 2009, 2010, 2001, 2002, 2003, 2004, 2005, 2006, 2007, 2008, 2009, 2010, 2002, 2003, 2004, 2005, 2006, 2007, 2008, 2009, 2010, 2001, 2002, 2003, 2004, 2005, 2006, 2007, 2008, 2009, 2010, 2001, 2002, 2003, 2004, 2005, 2006, 2007, 2008, 2009, 2010, 2001, 2002, 2003, 2004, 2005, 2006, 2007, 2008, 2009, 2010], \"xaxis\": \"x\", \"y\": [78, 98, 81, 102, 58, 111, 226, 149, 170, 118, 7, 1, 9, 1, 1, 7, 0, 0, 9, 4, 65, 81, 125, 218, 129, 147, 119, 117, 135, 241, 46, 69, 51, 57, 31, 89, 57, 129, 40, 48, 3, 19, 20, 18, 33, 24, 23, 4, 8, 14, 1, 1, 0, 0, 0, 3, 1, 0, 0, 0, 141, 126, 177, 136, 154, 188, 181, 180, 252, 259, 95, 83, 57, 71, 69, 82, 111, 125, 69, 137, 6, 10, 0, 3, 5, 1, 2, 3, 3, 5, 203, 181, 218, 218, 269, 405, 284, 342, 199, 255, 20, 20, 20, 20, 40, 25, 69, 11, 53, 34, 11, 4, 6, 13, 3, 7, 3, 6, 5, 2, 10, 10, 8, 18, 10, 15, 17, 24, 22, 22, 101, 102, 100, 0, 46, 40, 62, 73, 69, 79, 55, 73, 46, 39, 50, 71, 24, 20, 34, 42, 0, 0, 0, 14, 0, 0, 0, 0, 0, 0, 0, 0, 2, 1, 4, 19, 2, 5, 10, 9, 0, 0, 1, 0, 0, 0, 0, 0, 0, 0, 1, 0, 0, 0, 0, 0, 0, 0, 0, 0, 91, 95, 59, 67, 83, 87, 127, 141, 49, 87, 74, 53, 49, 76, 34, 37, 33, 19, 33, 32, 44, 29, 11, 14, 12, 17, 30, 9, 18, 30, 0, 0, 0, 0, 0, 1, 0, 2, 0, 2, 12, 18, 13, 30, 19, 35, 57, 34, 30, 70, 0, 0, 0, 0, 3, 4, 0, 0, 0, 0, 925, 685, 498, 892, 991, 1161, 1018, 1272, 1321, 1604, 0, 6, 6, 6, 22, 2, 8, 4, 1, 0, 38, 30, 25, 37, 49, 44, 164, 18, 250, 25, 0, 0, 0, 0, 0, 0, 0, 0, 0, 0, 0, 0, 0, 0, 0, 0, 0, 0, 0, 0, 0, 0, 0, 0, 0, 0, 0, 0, 0, 0, 0, 0, 0, 0, 0, 0, 0, 0, 0, 14, 16, 23, 3, 4, 14, 35, 9, 15, 21, 0, 0, 0, 0, 0, 0, 0, 0, 0, 0, 0, 0, 0, 0, 0, 1, 0, 0, 0, 2], \"yaxis\": \"y\"}, {\"alignmentgroup\": \"True\", \"customdata\": [[\"Andhra Pradesh\"], [\"Andhra Pradesh\"], [\"Andhra Pradesh\"], [\"Andhra Pradesh\"], [\"Andhra Pradesh\"], [\"Andhra Pradesh\"], [\"Andhra Pradesh\"], [\"Andhra Pradesh\"], [\"Andhra Pradesh\"], [\"Andhra Pradesh\"], [\"Arunachal Pradesh\"], [\"Arunachal Pradesh\"], [\"Arunachal Pradesh\"], [\"Arunachal Pradesh\"], [\"Arunachal Pradesh\"], [\"Arunachal Pradesh\"], [\"Arunachal Pradesh\"], [\"Arunachal Pradesh\"], [\"Arunachal Pradesh\"], [\"Arunachal Pradesh\"], [\"Assam\"], [\"Assam\"], [\"Assam\"], [\"Assam\"], [\"Assam\"], [\"Assam\"], [\"Assam\"], [\"Assam\"], [\"Assam\"], [\"Assam\"], [\"Bihar\"], [\"Bihar\"], [\"Bihar\"], [\"Bihar\"], [\"Bihar\"], [\"Bihar\"], [\"Bihar\"], [\"Bihar\"], [\"Bihar\"], [\"Bihar\"], [\"Chhattisgarh\"], [\"Chhattisgarh\"], [\"Chhattisgarh\"], [\"Chhattisgarh\"], [\"Chhattisgarh\"], [\"Chhattisgarh\"], [\"Chhattisgarh\"], [\"Chhattisgarh\"], [\"Chhattisgarh\"], [\"Chhattisgarh\"], [\"Goa\"], [\"Goa\"], [\"Goa\"], [\"Goa\"], [\"Goa\"], [\"Goa\"], [\"Goa\"], [\"Goa\"], [\"Goa\"], [\"Goa\"], [\"Gujarat\"], [\"Gujarat\"], [\"Gujarat\"], [\"Gujarat\"], [\"Gujarat\"], [\"Gujarat\"], [\"Gujarat\"], [\"Gujarat\"], [\"Gujarat\"], [\"Gujarat\"], [\"Haryana\"], [\"Haryana\"], [\"Haryana\"], [\"Haryana\"], [\"Haryana\"], [\"Haryana\"], [\"Haryana\"], [\"Haryana\"], [\"Haryana\"], [\"Haryana\"], [\"Himachal Pradesh\"], [\"Himachal Pradesh\"], [\"Himachal Pradesh\"], [\"Himachal Pradesh\"], [\"Himachal Pradesh\"], [\"Himachal Pradesh\"], [\"Himachal Pradesh\"], [\"Himachal Pradesh\"], [\"Himachal Pradesh\"], [\"Himachal Pradesh\"], [\"Jammu & Kashmir\"], [\"Jammu & Kashmir\"], [\"Jammu & Kashmir\"], [\"Jammu & Kashmir\"], [\"Jammu & Kashmir\"], [\"Jammu & Kashmir\"], [\"Jammu & Kashmir\"], [\"Jammu & Kashmir\"], [\"Jammu & Kashmir\"], [\"Jammu & Kashmir\"], [\"Jharkhand\"], [\"Jharkhand\"], [\"Jharkhand\"], [\"Jharkhand\"], [\"Jharkhand\"], [\"Jharkhand\"], [\"Jharkhand\"], [\"Jharkhand\"], [\"Jharkhand\"], [\"Jharkhand\"], [\"Karnataka\"], [\"Karnataka\"], [\"Karnataka\"], [\"Karnataka\"], [\"Karnataka\"], [\"Karnataka\"], [\"Karnataka\"], [\"Karnataka\"], [\"Karnataka\"], [\"Karnataka\"], [\"Kerala\"], [\"Kerala\"], [\"Kerala\"], [\"Kerala\"], [\"Kerala\"], [\"Kerala\"], [\"Kerala\"], [\"Kerala\"], [\"Kerala\"], [\"Kerala\"], [\"Madhya Pradesh\"], [\"Madhya Pradesh\"], [\"Madhya Pradesh\"], [\"Madhya Pradesh\"], [\"Madhya Pradesh\"], [\"Madhya Pradesh\"], [\"Madhya Pradesh\"], [\"Madhya Pradesh\"], [\"Madhya Pradesh\"], [\"Madhya Pradesh\"], [\"Maharashtra\"], [\"Maharashtra\"], [\"Maharashtra\"], [\"Maharashtra\"], [\"Maharashtra\"], [\"Maharashtra\"], [\"Maharashtra\"], [\"Maharashtra\"], [\"Maharashtra\"], [\"Maharashtra\"], [\"Manipur\"], [\"Manipur\"], [\"Manipur\"], [\"Manipur\"], [\"Manipur\"], [\"Manipur\"], [\"Manipur\"], [\"Manipur\"], [\"Manipur\"], [\"Manipur\"], [\"Meghalaya\"], [\"Meghalaya\"], [\"Meghalaya\"], [\"Meghalaya\"], [\"Meghalaya\"], [\"Meghalaya\"], [\"Meghalaya\"], [\"Meghalaya\"], [\"Meghalaya\"], [\"Meghalaya\"], [\"Mizoram\"], [\"Mizoram\"], [\"Mizoram\"], [\"Mizoram\"], [\"Mizoram\"], [\"Mizoram\"], [\"Mizoram\"], [\"Mizoram\"], [\"Mizoram\"], [\"Mizoram\"], [\"Nagaland\"], [\"Nagaland\"], [\"Nagaland\"], [\"Nagaland\"], [\"Nagaland\"], [\"Nagaland\"], [\"Nagaland\"], [\"Nagaland\"], [\"Nagaland\"], [\"Nagaland\"], [\"Odisha\"], [\"Odisha\"], [\"Odisha\"], [\"Odisha\"], [\"Odisha\"], [\"Odisha\"], [\"Odisha\"], [\"Odisha\"], [\"Odisha\"], [\"Odisha\"], [\"Punjab\"], [\"Punjab\"], [\"Punjab\"], [\"Punjab\"], [\"Punjab\"], [\"Punjab\"], [\"Punjab\"], [\"Punjab\"], [\"Punjab\"], [\"Punjab\"], [\"Rajasthan\"], [\"Rajasthan\"], [\"Rajasthan\"], [\"Rajasthan\"], [\"Rajasthan\"], [\"Rajasthan\"], [\"Rajasthan\"], [\"Rajasthan\"], [\"Rajasthan\"], [\"Rajasthan\"], [\"Sikkim\"], [\"Sikkim\"], [\"Sikkim\"], [\"Sikkim\"], [\"Sikkim\"], [\"Sikkim\"], [\"Sikkim\"], [\"Sikkim\"], [\"Sikkim\"], [\"Sikkim\"], [\"Tamil Nadu\"], [\"Tamil Nadu\"], [\"Tamil Nadu\"], [\"Tamil Nadu\"], [\"Tamil Nadu\"], [\"Tamil Nadu\"], [\"Tamil Nadu\"], [\"Tamil Nadu\"], [\"Tamil Nadu\"], [\"Tamil Nadu\"], [\"Tripura\"], [\"Tripura\"], [\"Tripura\"], [\"Tripura\"], [\"Tripura\"], [\"Tripura\"], [\"Tripura\"], [\"Tripura\"], [\"Tripura\"], [\"Tripura\"], [\"Uttar Pradesh\"], [\"Uttar Pradesh\"], [\"Uttar Pradesh\"], [\"Uttar Pradesh\"], [\"Uttar Pradesh\"], [\"Uttar Pradesh\"], [\"Uttar Pradesh\"], [\"Uttar Pradesh\"], [\"Uttar Pradesh\"], [\"Uttar Pradesh\"], [\"Uttarakhand\"], [\"Uttarakhand\"], [\"Uttarakhand\"], [\"Uttarakhand\"], [\"Uttarakhand\"], [\"Uttarakhand\"], [\"Uttarakhand\"], [\"Uttarakhand\"], [\"Uttarakhand\"], [\"Uttarakhand\"], [\"West Bengal\"], [\"West Bengal\"], [\"West Bengal\"], [\"West Bengal\"], [\"West Bengal\"], [\"West Bengal\"], [\"West Bengal\"], [\"West Bengal\"], [\"West Bengal\"], [\"West Bengal\"], [\"A&N Islands\"], [\"A&N Islands\"], [\"A&N Islands\"], [\"A&N Islands\"], [\"A&N Islands\"], [\"A&N Islands\"], [\"A&N Islands\"], [\"A&N Islands\"], [\"A&N Islands\"], [\"A&N Islands\"], [\"Chandigarh\"], [\"Chandigarh\"], [\"Chandigarh\"], [\"Chandigarh\"], [\"Chandigarh\"], [\"Chandigarh\"], [\"Chandigarh\"], [\"Chandigarh\"], [\"Chandigarh\"], [\"Chandigarh\"], [\"D&N Haveli\"], [\"D&N Haveli\"], [\"D&N Haveli\"], [\"D&N Haveli\"], [\"D&N Haveli\"], [\"D&N Haveli\"], [\"D&N Haveli\"], [\"D&N Haveli\"], [\"D&N Haveli\"], [\"D&N Haveli\"], [\"Daman & Diu\"], [\"Daman & Diu\"], [\"Daman & Diu\"], [\"Daman & Diu\"], [\"Daman & Diu\"], [\"Daman & Diu\"], [\"Daman & Diu\"], [\"Daman & Diu\"], [\"Daman & Diu\"], [\"Delhi UT\"], [\"Delhi UT\"], [\"Delhi UT\"], [\"Delhi UT\"], [\"Delhi UT\"], [\"Delhi UT\"], [\"Delhi UT\"], [\"Delhi UT\"], [\"Delhi UT\"], [\"Delhi UT\"], [\"Lakshadweep\"], [\"Lakshadweep\"], [\"Lakshadweep\"], [\"Lakshadweep\"], [\"Lakshadweep\"], [\"Lakshadweep\"], [\"Lakshadweep\"], [\"Lakshadweep\"], [\"Lakshadweep\"], [\"Lakshadweep\"], [\"Puducherry\"], [\"Puducherry\"], [\"Puducherry\"], [\"Puducherry\"], [\"Puducherry\"], [\"Puducherry\"], [\"Puducherry\"], [\"Puducherry\"], [\"Puducherry\"], [\"Puducherry\"]], \"hovertemplate\": \"Purpose=For marriage<br>YEAR=%{x}<br>Grand Total=%{y}<br>STATE/UT=%{customdata[0]}<extra></extra>\", \"legendgroup\": \"For marriage\", \"marker\": {\"color\": \"#EF553B\"}, \"name\": \"For marriage\", \"offsetgroup\": \"For marriage\", \"orientation\": \"v\", \"showlegend\": true, \"textposition\": \"auto\", \"type\": \"bar\", \"x\": [2001, 2002, 2003, 2004, 2005, 2006, 2007, 2008, 2009, 2010, 2001, 2002, 2003, 2004, 2005, 2006, 2007, 2008, 2009, 2010, 2001, 2002, 2003, 2004, 2005, 2006, 2007, 2008, 2009, 2010, 2001, 2002, 2003, 2004, 2005, 2006, 2007, 2008, 2009, 2010, 2001, 2002, 2003, 2004, 2005, 2006, 2007, 2008, 2009, 2010, 2001, 2002, 2003, 2004, 2005, 2006, 2007, 2008, 2009, 2010, 2001, 2002, 2003, 2004, 2005, 2006, 2007, 2008, 2009, 2010, 2001, 2002, 2003, 2004, 2005, 2006, 2007, 2008, 2009, 2010, 2001, 2002, 2003, 2004, 2005, 2006, 2007, 2008, 2009, 2010, 2001, 2002, 2003, 2004, 2005, 2006, 2007, 2008, 2009, 2010, 2001, 2002, 2003, 2004, 2005, 2006, 2007, 2008, 2009, 2010, 2001, 2002, 2003, 2004, 2005, 2006, 2007, 2008, 2009, 2010, 2001, 2002, 2003, 2004, 2005, 2006, 2007, 2008, 2009, 2010, 2001, 2002, 2003, 2004, 2005, 2006, 2007, 2008, 2009, 2010, 2001, 2002, 2003, 2004, 2005, 2006, 2007, 2008, 2009, 2010, 2001, 2002, 2003, 2004, 2005, 2006, 2007, 2008, 2009, 2010, 2001, 2002, 2003, 2004, 2005, 2006, 2007, 2008, 2009, 2010, 2001, 2002, 2003, 2004, 2005, 2006, 2007, 2008, 2009, 2010, 2001, 2002, 2003, 2004, 2005, 2006, 2007, 2008, 2009, 2010, 2001, 2002, 2003, 2004, 2005, 2006, 2007, 2008, 2009, 2010, 2001, 2002, 2003, 2004, 2005, 2006, 2007, 2008, 2009, 2010, 2001, 2002, 2003, 2004, 2005, 2006, 2007, 2008, 2009, 2010, 2001, 2002, 2003, 2004, 2005, 2006, 2007, 2008, 2009, 2010, 2001, 2002, 2003, 2004, 2005, 2006, 2007, 2008, 2009, 2010, 2001, 2002, 2003, 2004, 2005, 2006, 2007, 2008, 2009, 2010, 2001, 2002, 2003, 2004, 2005, 2006, 2007, 2008, 2009, 2010, 2001, 2002, 2003, 2004, 2005, 2006, 2007, 2008, 2009, 2010, 2001, 2002, 2003, 2004, 2005, 2006, 2007, 2008, 2009, 2010, 2001, 2002, 2003, 2004, 2005, 2006, 2007, 2008, 2009, 2010, 2001, 2002, 2003, 2004, 2005, 2006, 2007, 2008, 2009, 2010, 2001, 2002, 2003, 2004, 2005, 2006, 2007, 2008, 2009, 2010, 2002, 2003, 2004, 2005, 2006, 2007, 2008, 2009, 2010, 2001, 2002, 2003, 2004, 2005, 2006, 2007, 2008, 2009, 2010, 2001, 2002, 2003, 2004, 2005, 2006, 2007, 2008, 2009, 2010, 2001, 2002, 2003, 2004, 2005, 2006, 2007, 2008, 2009, 2010], \"xaxis\": \"x\", \"y\": [339, 392, 395, 388, 527, 675, 706, 802, 722, 945, 41, 36, 47, 35, 30, 42, 35, 24, 19, 40, 751, 850, 972, 1181, 1228, 1255, 1249, 1369, 1595, 2114, 555, 434, 679, 833, 860, 789, 1122, 1551, 1863, 2526, 148, 126, 114, 101, 129, 126, 121, 190, 58, 175, 4, 0, 7, 4, 5, 1, 3, 12, 7, 4, 653, 630, 594, 692, 666, 719, 781, 833, 782, 894, 175, 161, 162, 174, 217, 339, 352, 421, 513, 489, 89, 105, 80, 91, 93, 95, 129, 124, 116, 152, 256, 355, 372, 302, 293, 254, 370, 279, 477, 528, 214, 410, 111, 109, 117, 266, 413, 332, 364, 462, 117, 73, 82, 73, 92, 101, 113, 124, 112, 155, 53, 36, 37, 27, 36, 86, 67, 87, 107, 114, 379, 331, 288, 305, 355, 370, 438, 493, 570, 676, 484, 470, 433, 512, 534, 647, 675, 702, 684, 806, 62, 82, 71, 56, 65, 58, 69, 64, 71, 65, 6, 8, 2, 16, 9, 9, 10, 13, 11, 4, 3, 0, 2, 0, 0, 1, 0, 1, 1, 1, 6, 0, 0, 0, 0, 0, 2, 1, 1, 0, 259, 231, 192, 174, 272, 341, 306, 335, 444, 417, 150, 250, 167, 152, 198, 326, 454, 391, 447, 515, 1563, 1567, 1216, 1334, 968, 1060, 1114, 1017, 1336, 1540, 0, 0, 0, 1, 2, 2, 3, 2, 2, 4, 435, 391, 514, 541, 609, 495, 840, 890, 854, 1124, 22, 24, 26, 54, 18, 44, 71, 89, 92, 74, 1647, 1180, 895, 1347, 1191, 1332, 2239, 3106, 3711, 3766, 90, 146, 80, 121, 82, 94, 190, 152, 160, 161, 334, 304, 605, 797, 966, 929, 661, 835, 927, 377, 2, 1, 1, 2, 1, 0, 0, 0, 0, 2, 43, 44, 16, 27, 30, 52, 44, 35, 18, 27, 2, 4, 3, 6, 3, 12, 6, 10, 9, 10, 1, 0, 0, 0, 0, 0, 0, 0, 0, 342, 355, 245, 309, 276, 218, 278, 240, 223, 177, 0, 0, 0, 0, 0, 0, 0, 0, 0, 0, 3, 4, 11, 8, 3, 10, 13, 8, 9, 10], \"yaxis\": \"y\"}, {\"alignmentgroup\": \"True\", \"customdata\": [[\"Andhra Pradesh\"], [\"Andhra Pradesh\"], [\"Andhra Pradesh\"], [\"Andhra Pradesh\"], [\"Andhra Pradesh\"], [\"Andhra Pradesh\"], [\"Andhra Pradesh\"], [\"Andhra Pradesh\"], [\"Andhra Pradesh\"], [\"Andhra Pradesh\"], [\"Arunachal Pradesh\"], [\"Arunachal Pradesh\"], [\"Arunachal Pradesh\"], [\"Arunachal Pradesh\"], [\"Arunachal Pradesh\"], [\"Arunachal Pradesh\"], [\"Arunachal Pradesh\"], [\"Arunachal Pradesh\"], [\"Arunachal Pradesh\"], [\"Arunachal Pradesh\"], [\"Assam\"], [\"Assam\"], [\"Assam\"], [\"Assam\"], [\"Assam\"], [\"Assam\"], [\"Assam\"], [\"Assam\"], [\"Assam\"], [\"Assam\"], [\"Bihar\"], [\"Bihar\"], [\"Bihar\"], [\"Bihar\"], [\"Bihar\"], [\"Bihar\"], [\"Bihar\"], [\"Bihar\"], [\"Bihar\"], [\"Bihar\"], [\"Chhattisgarh\"], [\"Chhattisgarh\"], [\"Chhattisgarh\"], [\"Chhattisgarh\"], [\"Chhattisgarh\"], [\"Chhattisgarh\"], [\"Chhattisgarh\"], [\"Chhattisgarh\"], [\"Chhattisgarh\"], [\"Chhattisgarh\"], [\"Goa\"], [\"Goa\"], [\"Goa\"], [\"Goa\"], [\"Goa\"], [\"Goa\"], [\"Goa\"], [\"Goa\"], [\"Goa\"], [\"Goa\"], [\"Gujarat\"], [\"Gujarat\"], [\"Gujarat\"], [\"Gujarat\"], [\"Gujarat\"], [\"Gujarat\"], [\"Gujarat\"], [\"Gujarat\"], [\"Gujarat\"], [\"Gujarat\"], [\"Haryana\"], [\"Haryana\"], [\"Haryana\"], [\"Haryana\"], [\"Haryana\"], [\"Haryana\"], [\"Haryana\"], [\"Haryana\"], [\"Haryana\"], [\"Haryana\"], [\"Himachal Pradesh\"], [\"Himachal Pradesh\"], [\"Himachal Pradesh\"], [\"Himachal Pradesh\"], [\"Himachal Pradesh\"], [\"Himachal Pradesh\"], [\"Himachal Pradesh\"], [\"Himachal Pradesh\"], [\"Himachal Pradesh\"], [\"Himachal Pradesh\"], [\"Jammu & Kashmir\"], [\"Jammu & Kashmir\"], [\"Jammu & Kashmir\"], [\"Jammu & Kashmir\"], [\"Jammu & Kashmir\"], [\"Jammu & Kashmir\"], [\"Jammu & Kashmir\"], [\"Jammu & Kashmir\"], [\"Jammu & Kashmir\"], [\"Jammu & Kashmir\"], [\"Jharkhand\"], [\"Jharkhand\"], [\"Jharkhand\"], [\"Jharkhand\"], [\"Jharkhand\"], [\"Jharkhand\"], [\"Jharkhand\"], [\"Jharkhand\"], [\"Jharkhand\"], [\"Jharkhand\"], [\"Karnataka\"], [\"Karnataka\"], [\"Karnataka\"], [\"Karnataka\"], [\"Karnataka\"], [\"Karnataka\"], [\"Karnataka\"], [\"Karnataka\"], [\"Karnataka\"], [\"Karnataka\"], [\"Kerala\"], [\"Kerala\"], [\"Kerala\"], [\"Kerala\"], [\"Kerala\"], [\"Kerala\"], [\"Kerala\"], [\"Kerala\"], [\"Kerala\"], [\"Kerala\"], [\"Madhya Pradesh\"], [\"Madhya Pradesh\"], [\"Madhya Pradesh\"], [\"Madhya Pradesh\"], [\"Madhya Pradesh\"], [\"Madhya Pradesh\"], [\"Madhya Pradesh\"], [\"Madhya Pradesh\"], [\"Madhya Pradesh\"], [\"Madhya Pradesh\"], [\"Maharashtra\"], [\"Maharashtra\"], [\"Maharashtra\"], [\"Maharashtra\"], [\"Maharashtra\"], [\"Maharashtra\"], [\"Maharashtra\"], [\"Maharashtra\"], [\"Maharashtra\"], [\"Maharashtra\"], [\"Manipur\"], [\"Manipur\"], [\"Manipur\"], [\"Manipur\"], [\"Manipur\"], [\"Manipur\"], [\"Manipur\"], [\"Manipur\"], [\"Manipur\"], [\"Manipur\"], [\"Meghalaya\"], [\"Meghalaya\"], [\"Meghalaya\"], [\"Meghalaya\"], [\"Meghalaya\"], [\"Meghalaya\"], [\"Meghalaya\"], [\"Meghalaya\"], [\"Meghalaya\"], [\"Meghalaya\"], [\"Mizoram\"], [\"Mizoram\"], [\"Mizoram\"], [\"Mizoram\"], [\"Mizoram\"], [\"Mizoram\"], [\"Mizoram\"], [\"Mizoram\"], [\"Mizoram\"], [\"Mizoram\"], [\"Nagaland\"], [\"Nagaland\"], [\"Nagaland\"], [\"Nagaland\"], [\"Nagaland\"], [\"Nagaland\"], [\"Nagaland\"], [\"Nagaland\"], [\"Nagaland\"], [\"Nagaland\"], [\"Odisha\"], [\"Odisha\"], [\"Odisha\"], [\"Odisha\"], [\"Odisha\"], [\"Odisha\"], [\"Odisha\"], [\"Odisha\"], [\"Odisha\"], [\"Odisha\"], [\"Punjab\"], [\"Punjab\"], [\"Punjab\"], [\"Punjab\"], [\"Punjab\"], [\"Punjab\"], [\"Punjab\"], [\"Punjab\"], [\"Punjab\"], [\"Punjab\"], [\"Rajasthan\"], [\"Rajasthan\"], [\"Rajasthan\"], [\"Rajasthan\"], [\"Rajasthan\"], [\"Rajasthan\"], [\"Rajasthan\"], [\"Rajasthan\"], [\"Rajasthan\"], [\"Rajasthan\"], [\"Sikkim\"], [\"Sikkim\"], [\"Sikkim\"], [\"Sikkim\"], [\"Sikkim\"], [\"Sikkim\"], [\"Sikkim\"], [\"Sikkim\"], [\"Sikkim\"], [\"Sikkim\"], [\"Tamil Nadu\"], [\"Tamil Nadu\"], [\"Tamil Nadu\"], [\"Tamil Nadu\"], [\"Tamil Nadu\"], [\"Tamil Nadu\"], [\"Tamil Nadu\"], [\"Tamil Nadu\"], [\"Tamil Nadu\"], [\"Tamil Nadu\"], [\"Tripura\"], [\"Tripura\"], [\"Tripura\"], [\"Tripura\"], [\"Tripura\"], [\"Tripura\"], [\"Tripura\"], [\"Tripura\"], [\"Tripura\"], [\"Tripura\"], [\"Uttar Pradesh\"], [\"Uttar Pradesh\"], [\"Uttar Pradesh\"], [\"Uttar Pradesh\"], [\"Uttar Pradesh\"], [\"Uttar Pradesh\"], [\"Uttar Pradesh\"], [\"Uttar Pradesh\"], [\"Uttar Pradesh\"], [\"Uttar Pradesh\"], [\"Uttarakhand\"], [\"Uttarakhand\"], [\"Uttarakhand\"], [\"Uttarakhand\"], [\"Uttarakhand\"], [\"Uttarakhand\"], [\"Uttarakhand\"], [\"Uttarakhand\"], [\"Uttarakhand\"], [\"Uttarakhand\"], [\"West Bengal\"], [\"West Bengal\"], [\"West Bengal\"], [\"West Bengal\"], [\"West Bengal\"], [\"West Bengal\"], [\"West Bengal\"], [\"West Bengal\"], [\"West Bengal\"], [\"West Bengal\"], [\"A&N Islands\"], [\"A&N Islands\"], [\"A&N Islands\"], [\"A&N Islands\"], [\"A&N Islands\"], [\"A&N Islands\"], [\"A&N Islands\"], [\"A&N Islands\"], [\"A&N Islands\"], [\"A&N Islands\"], [\"Chandigarh\"], [\"Chandigarh\"], [\"Chandigarh\"], [\"Chandigarh\"], [\"Chandigarh\"], [\"Chandigarh\"], [\"Chandigarh\"], [\"Chandigarh\"], [\"Chandigarh\"], [\"Chandigarh\"], [\"D&N Haveli\"], [\"D&N Haveli\"], [\"D&N Haveli\"], [\"D&N Haveli\"], [\"D&N Haveli\"], [\"D&N Haveli\"], [\"D&N Haveli\"], [\"D&N Haveli\"], [\"D&N Haveli\"], [\"D&N Haveli\"], [\"Daman & Diu\"], [\"Daman & Diu\"], [\"Daman & Diu\"], [\"Daman & Diu\"], [\"Daman & Diu\"], [\"Daman & Diu\"], [\"Daman & Diu\"], [\"Daman & Diu\"], [\"Daman & Diu\"], [\"Delhi UT\"], [\"Delhi UT\"], [\"Delhi UT\"], [\"Delhi UT\"], [\"Delhi UT\"], [\"Delhi UT\"], [\"Delhi UT\"], [\"Delhi UT\"], [\"Delhi UT\"], [\"Delhi UT\"], [\"Lakshadweep\"], [\"Lakshadweep\"], [\"Lakshadweep\"], [\"Lakshadweep\"], [\"Lakshadweep\"], [\"Lakshadweep\"], [\"Lakshadweep\"], [\"Lakshadweep\"], [\"Lakshadweep\"], [\"Lakshadweep\"], [\"Puducherry\"], [\"Puducherry\"], [\"Puducherry\"], [\"Puducherry\"], [\"Puducherry\"], [\"Puducherry\"], [\"Puducherry\"], [\"Puducherry\"], [\"Puducherry\"], [\"Puducherry\"]], \"hovertemplate\": \"Purpose=For Ransom<br>YEAR=%{x}<br>Grand Total=%{y}<br>STATE/UT=%{customdata[0]}<extra></extra>\", \"legendgroup\": \"For Ransom\", \"marker\": {\"color\": \"#00cc96\"}, \"name\": \"For Ransom\", \"offsetgroup\": \"For Ransom\", \"orientation\": \"v\", \"showlegend\": true, \"textposition\": \"auto\", \"type\": \"bar\", \"x\": [2001, 2002, 2003, 2004, 2005, 2006, 2007, 2008, 2009, 2010, 2001, 2002, 2003, 2004, 2005, 2006, 2007, 2008, 2009, 2010, 2001, 2002, 2003, 2004, 2005, 2006, 2007, 2008, 2009, 2010, 2001, 2002, 2003, 2004, 2005, 2006, 2007, 2008, 2009, 2010, 2001, 2002, 2003, 2004, 2005, 2006, 2007, 2008, 2009, 2010, 2001, 2002, 2003, 2004, 2005, 2006, 2007, 2008, 2009, 2010, 2001, 2002, 2003, 2004, 2005, 2006, 2007, 2008, 2009, 2010, 2001, 2002, 2003, 2004, 2005, 2006, 2007, 2008, 2009, 2010, 2001, 2002, 2003, 2004, 2005, 2006, 2007, 2008, 2009, 2010, 2001, 2002, 2003, 2004, 2005, 2006, 2007, 2008, 2009, 2010, 2001, 2002, 2003, 2004, 2005, 2006, 2007, 2008, 2009, 2010, 2001, 2002, 2003, 2004, 2005, 2006, 2007, 2008, 2009, 2010, 2001, 2002, 2003, 2004, 2005, 2006, 2007, 2008, 2009, 2010, 2001, 2002, 2003, 2004, 2005, 2006, 2007, 2008, 2009, 2010, 2001, 2002, 2003, 2004, 2005, 2006, 2007, 2008, 2009, 2010, 2001, 2002, 2003, 2004, 2005, 2006, 2007, 2008, 2009, 2010, 2001, 2002, 2003, 2004, 2005, 2006, 2007, 2008, 2009, 2010, 2001, 2002, 2003, 2004, 2005, 2006, 2007, 2008, 2009, 2010, 2001, 2002, 2003, 2004, 2005, 2006, 2007, 2008, 2009, 2010, 2001, 2002, 2003, 2004, 2005, 2006, 2007, 2008, 2009, 2010, 2001, 2002, 2003, 2004, 2005, 2006, 2007, 2008, 2009, 2010, 2001, 2002, 2003, 2004, 2005, 2006, 2007, 2008, 2009, 2010, 2001, 2002, 2003, 2004, 2005, 2006, 2007, 2008, 2009, 2010, 2001, 2002, 2003, 2004, 2005, 2006, 2007, 2008, 2009, 2010, 2001, 2002, 2003, 2004, 2005, 2006, 2007, 2008, 2009, 2010, 2001, 2002, 2003, 2004, 2005, 2006, 2007, 2008, 2009, 2010, 2001, 2002, 2003, 2004, 2005, 2006, 2007, 2008, 2009, 2010, 2001, 2002, 2003, 2004, 2005, 2006, 2007, 2008, 2009, 2010, 2001, 2002, 2003, 2004, 2005, 2006, 2007, 2008, 2009, 2010, 2001, 2002, 2003, 2004, 2005, 2006, 2007, 2008, 2009, 2010, 2001, 2002, 2003, 2004, 2005, 2006, 2007, 2008, 2009, 2010, 2002, 2003, 2004, 2005, 2006, 2007, 2008, 2009, 2010, 2001, 2002, 2003, 2004, 2005, 2006, 2007, 2008, 2009, 2010, 2001, 2002, 2003, 2004, 2005, 2006, 2007, 2008, 2009, 2010, 2001, 2002, 2003, 2004, 2005, 2006, 2007, 2008, 2009, 2010], \"xaxis\": \"x\", \"y\": [13, 8, 7, 18, 18, 30, 21, 10, 60, 5, 4, 0, 0, 0, 2, 0, 8, 12, 1, 0, 62, 71, 86, 59, 34, 51, 37, 51, 60, 86, 492, 397, 374, 405, 287, 156, 81, 78, 80, 74, 3, 0, 2, 12, 1, 5, 4, 3, 2, 1, 0, 0, 0, 0, 0, 0, 0, 1, 3, 6, 30, 36, 49, 37, 31, 20, 34, 26, 23, 28, 12, 10, 8, 8, 6, 10, 11, 10, 8, 19, 0, 0, 0, 1, 1, 0, 0, 0, 0, 1, 0, 0, 0, 0, 0, 1, 0, 7, 0, 9, 23, 23, 21, 21, 23, 46, 86, 50, 46, 147, 20, 9, 17, 18, 13, 10, 14, 18, 29, 30, 2, 2, 0, 0, 0, 1, 10, 3, 3, 3, 163, 164, 136, 86, 81, 42, 83, 49, 77, 50, 37, 29, 34, 28, 36, 24, 29, 35, 41, 26, 0, 0, 0, 0, 0, 0, 7, 22, 12, 45, 47, 32, 30, 14, 13, 15, 2, 11, 6, 28, 1, 8, 6, 0, 0, 2, 0, 1, 1, 2, 0, 0, 0, 0, 9, 1, 2, 0, 16, 26, 1, 5, 0, 2, 0, 2, 2, 3, 5, 3, 6, 9, 15, 5, 6, 14, 10, 9, 6, 10, 10, 12, 10, 7, 11, 8, 8, 6, 10, 6, 0, 3, 0, 0, 1, 1, 0, 0, 0, 0, 0, 3, 8, 5, 1, 4, 3, 5, 5, 8, 204, 52, 63, 90, 62, 43, 59, 32, 0, 22, 382, 165, 169, 285, 149, 147, 87, 71, 62, 62, 5, 10, 9, 5, 7, 7, 2, 2, 1, 2, 28, 23, 11, 15, 17, 23, 23, 236, 54, 72, 0, 0, 0, 0, 0, 0, 0, 0, 0, 0, 0, 0, 0, 1, 2, 1, 1, 1, 1, 2, 0, 0, 0, 0, 2, 0, 0, 0, 0, 1, 0, 0, 0, 0, 0, 0, 0, 0, 0, 44, 34, 34, 29, 32, 32, 24, 24, 29, 19, 0, 0, 0, 0, 0, 0, 0, 1, 0, 0, 0, 2, 1, 0, 0, 1, 2, 0, 1, 0], \"yaxis\": \"y\"}],                        {\"barmode\": \"relative\", \"legend\": {\"title\": {\"text\": \"Purpose\"}, \"tracegroupgap\": 0}, \"margin\": {\"t\": 60}, \"template\": {\"data\": {\"bar\": [{\"error_x\": {\"color\": \"#2a3f5f\"}, \"error_y\": {\"color\": \"#2a3f5f\"}, \"marker\": {\"line\": {\"color\": \"#E5ECF6\", \"width\": 0.5}}, \"type\": \"bar\"}], \"barpolar\": [{\"marker\": {\"line\": {\"color\": \"#E5ECF6\", \"width\": 0.5}}, \"type\": \"barpolar\"}], \"carpet\": [{\"aaxis\": {\"endlinecolor\": \"#2a3f5f\", \"gridcolor\": \"white\", \"linecolor\": \"white\", \"minorgridcolor\": \"white\", \"startlinecolor\": \"#2a3f5f\"}, \"baxis\": {\"endlinecolor\": \"#2a3f5f\", \"gridcolor\": \"white\", \"linecolor\": \"white\", \"minorgridcolor\": \"white\", \"startlinecolor\": \"#2a3f5f\"}, \"type\": \"carpet\"}], \"choropleth\": [{\"colorbar\": {\"outlinewidth\": 0, \"ticks\": \"\"}, \"type\": \"choropleth\"}], \"contour\": [{\"colorbar\": {\"outlinewidth\": 0, \"ticks\": \"\"}, \"colorscale\": [[0.0, \"#0d0887\"], [0.1111111111111111, \"#46039f\"], [0.2222222222222222, \"#7201a8\"], [0.3333333333333333, \"#9c179e\"], [0.4444444444444444, \"#bd3786\"], [0.5555555555555556, \"#d8576b\"], [0.6666666666666666, \"#ed7953\"], [0.7777777777777778, \"#fb9f3a\"], [0.8888888888888888, \"#fdca26\"], [1.0, \"#f0f921\"]], \"type\": \"contour\"}], \"contourcarpet\": [{\"colorbar\": {\"outlinewidth\": 0, \"ticks\": \"\"}, \"type\": \"contourcarpet\"}], \"heatmap\": [{\"colorbar\": {\"outlinewidth\": 0, \"ticks\": \"\"}, \"colorscale\": [[0.0, \"#0d0887\"], [0.1111111111111111, \"#46039f\"], [0.2222222222222222, \"#7201a8\"], [0.3333333333333333, \"#9c179e\"], [0.4444444444444444, \"#bd3786\"], [0.5555555555555556, \"#d8576b\"], [0.6666666666666666, \"#ed7953\"], [0.7777777777777778, \"#fb9f3a\"], [0.8888888888888888, \"#fdca26\"], [1.0, \"#f0f921\"]], \"type\": \"heatmap\"}], \"heatmapgl\": [{\"colorbar\": {\"outlinewidth\": 0, \"ticks\": \"\"}, \"colorscale\": [[0.0, \"#0d0887\"], [0.1111111111111111, \"#46039f\"], [0.2222222222222222, \"#7201a8\"], [0.3333333333333333, \"#9c179e\"], [0.4444444444444444, \"#bd3786\"], [0.5555555555555556, \"#d8576b\"], [0.6666666666666666, \"#ed7953\"], [0.7777777777777778, \"#fb9f3a\"], [0.8888888888888888, \"#fdca26\"], [1.0, \"#f0f921\"]], \"type\": \"heatmapgl\"}], \"histogram\": [{\"marker\": {\"colorbar\": {\"outlinewidth\": 0, \"ticks\": \"\"}}, \"type\": \"histogram\"}], \"histogram2d\": [{\"colorbar\": {\"outlinewidth\": 0, \"ticks\": \"\"}, \"colorscale\": [[0.0, \"#0d0887\"], [0.1111111111111111, \"#46039f\"], [0.2222222222222222, \"#7201a8\"], [0.3333333333333333, \"#9c179e\"], [0.4444444444444444, \"#bd3786\"], [0.5555555555555556, \"#d8576b\"], [0.6666666666666666, \"#ed7953\"], [0.7777777777777778, \"#fb9f3a\"], [0.8888888888888888, \"#fdca26\"], [1.0, \"#f0f921\"]], \"type\": \"histogram2d\"}], \"histogram2dcontour\": [{\"colorbar\": {\"outlinewidth\": 0, \"ticks\": \"\"}, \"colorscale\": [[0.0, \"#0d0887\"], [0.1111111111111111, \"#46039f\"], [0.2222222222222222, \"#7201a8\"], [0.3333333333333333, \"#9c179e\"], [0.4444444444444444, \"#bd3786\"], [0.5555555555555556, \"#d8576b\"], [0.6666666666666666, \"#ed7953\"], [0.7777777777777778, \"#fb9f3a\"], [0.8888888888888888, \"#fdca26\"], [1.0, \"#f0f921\"]], \"type\": \"histogram2dcontour\"}], \"mesh3d\": [{\"colorbar\": {\"outlinewidth\": 0, \"ticks\": \"\"}, \"type\": \"mesh3d\"}], \"parcoords\": [{\"line\": {\"colorbar\": {\"outlinewidth\": 0, \"ticks\": \"\"}}, \"type\": \"parcoords\"}], \"pie\": [{\"automargin\": true, \"type\": \"pie\"}], \"scatter\": [{\"marker\": {\"colorbar\": {\"outlinewidth\": 0, \"ticks\": \"\"}}, \"type\": \"scatter\"}], \"scatter3d\": [{\"line\": {\"colorbar\": {\"outlinewidth\": 0, \"ticks\": \"\"}}, \"marker\": {\"colorbar\": {\"outlinewidth\": 0, \"ticks\": \"\"}}, \"type\": \"scatter3d\"}], \"scattercarpet\": [{\"marker\": {\"colorbar\": {\"outlinewidth\": 0, \"ticks\": \"\"}}, \"type\": \"scattercarpet\"}], \"scattergeo\": [{\"marker\": {\"colorbar\": {\"outlinewidth\": 0, \"ticks\": \"\"}}, \"type\": \"scattergeo\"}], \"scattergl\": [{\"marker\": {\"colorbar\": {\"outlinewidth\": 0, \"ticks\": \"\"}}, \"type\": \"scattergl\"}], \"scattermapbox\": [{\"marker\": {\"colorbar\": {\"outlinewidth\": 0, \"ticks\": \"\"}}, \"type\": \"scattermapbox\"}], \"scatterpolar\": [{\"marker\": {\"colorbar\": {\"outlinewidth\": 0, \"ticks\": \"\"}}, \"type\": \"scatterpolar\"}], \"scatterpolargl\": [{\"marker\": {\"colorbar\": {\"outlinewidth\": 0, \"ticks\": \"\"}}, \"type\": \"scatterpolargl\"}], \"scatterternary\": [{\"marker\": {\"colorbar\": {\"outlinewidth\": 0, \"ticks\": \"\"}}, \"type\": \"scatterternary\"}], \"surface\": [{\"colorbar\": {\"outlinewidth\": 0, \"ticks\": \"\"}, \"colorscale\": [[0.0, \"#0d0887\"], [0.1111111111111111, \"#46039f\"], [0.2222222222222222, \"#7201a8\"], [0.3333333333333333, \"#9c179e\"], [0.4444444444444444, \"#bd3786\"], [0.5555555555555556, \"#d8576b\"], [0.6666666666666666, \"#ed7953\"], [0.7777777777777778, \"#fb9f3a\"], [0.8888888888888888, \"#fdca26\"], [1.0, \"#f0f921\"]], \"type\": \"surface\"}], \"table\": [{\"cells\": {\"fill\": {\"color\": \"#EBF0F8\"}, \"line\": {\"color\": \"white\"}}, \"header\": {\"fill\": {\"color\": \"#C8D4E3\"}, \"line\": {\"color\": \"white\"}}, \"type\": \"table\"}]}, \"layout\": {\"annotationdefaults\": {\"arrowcolor\": \"#2a3f5f\", \"arrowhead\": 0, \"arrowwidth\": 1}, \"autotypenumbers\": \"strict\", \"coloraxis\": {\"colorbar\": {\"outlinewidth\": 0, \"ticks\": \"\"}}, \"colorscale\": {\"diverging\": [[0, \"#8e0152\"], [0.1, \"#c51b7d\"], [0.2, \"#de77ae\"], [0.3, \"#f1b6da\"], [0.4, \"#fde0ef\"], [0.5, \"#f7f7f7\"], [0.6, \"#e6f5d0\"], [0.7, \"#b8e186\"], [0.8, \"#7fbc41\"], [0.9, \"#4d9221\"], [1, \"#276419\"]], \"sequential\": [[0.0, \"#0d0887\"], [0.1111111111111111, \"#46039f\"], [0.2222222222222222, \"#7201a8\"], [0.3333333333333333, \"#9c179e\"], [0.4444444444444444, \"#bd3786\"], [0.5555555555555556, \"#d8576b\"], [0.6666666666666666, \"#ed7953\"], [0.7777777777777778, \"#fb9f3a\"], [0.8888888888888888, \"#fdca26\"], [1.0, \"#f0f921\"]], \"sequentialminus\": [[0.0, \"#0d0887\"], [0.1111111111111111, \"#46039f\"], [0.2222222222222222, \"#7201a8\"], [0.3333333333333333, \"#9c179e\"], [0.4444444444444444, \"#bd3786\"], [0.5555555555555556, \"#d8576b\"], [0.6666666666666666, \"#ed7953\"], [0.7777777777777778, \"#fb9f3a\"], [0.8888888888888888, \"#fdca26\"], [1.0, \"#f0f921\"]]}, \"colorway\": [\"#636efa\", \"#EF553B\", \"#00cc96\", \"#ab63fa\", \"#FFA15A\", \"#19d3f3\", \"#FF6692\", \"#B6E880\", \"#FF97FF\", \"#FECB52\"], \"font\": {\"color\": \"#2a3f5f\"}, \"geo\": {\"bgcolor\": \"white\", \"lakecolor\": \"white\", \"landcolor\": \"#E5ECF6\", \"showlakes\": true, \"showland\": true, \"subunitcolor\": \"white\"}, \"hoverlabel\": {\"align\": \"left\"}, \"hovermode\": \"closest\", \"mapbox\": {\"style\": \"light\"}, \"paper_bgcolor\": \"white\", \"plot_bgcolor\": \"#E5ECF6\", \"polar\": {\"angularaxis\": {\"gridcolor\": \"white\", \"linecolor\": \"white\", \"ticks\": \"\"}, \"bgcolor\": \"#E5ECF6\", \"radialaxis\": {\"gridcolor\": \"white\", \"linecolor\": \"white\", \"ticks\": \"\"}}, \"scene\": {\"xaxis\": {\"backgroundcolor\": \"#E5ECF6\", \"gridcolor\": \"white\", \"gridwidth\": 2, \"linecolor\": \"white\", \"showbackground\": true, \"ticks\": \"\", \"zerolinecolor\": \"white\"}, \"yaxis\": {\"backgroundcolor\": \"#E5ECF6\", \"gridcolor\": \"white\", \"gridwidth\": 2, \"linecolor\": \"white\", \"showbackground\": true, \"ticks\": \"\", \"zerolinecolor\": \"white\"}, \"zaxis\": {\"backgroundcolor\": \"#E5ECF6\", \"gridcolor\": \"white\", \"gridwidth\": 2, \"linecolor\": \"white\", \"showbackground\": true, \"ticks\": \"\", \"zerolinecolor\": \"white\"}}, \"shapedefaults\": {\"line\": {\"color\": \"#2a3f5f\"}}, \"ternary\": {\"aaxis\": {\"gridcolor\": \"white\", \"linecolor\": \"white\", \"ticks\": \"\"}, \"baxis\": {\"gridcolor\": \"white\", \"linecolor\": \"white\", \"ticks\": \"\"}, \"bgcolor\": \"#E5ECF6\", \"caxis\": {\"gridcolor\": \"white\", \"linecolor\": \"white\", \"ticks\": \"\"}}, \"title\": {\"x\": 0.05}, \"xaxis\": {\"automargin\": true, \"gridcolor\": \"white\", \"linecolor\": \"white\", \"ticks\": \"\", \"title\": {\"standoff\": 15}, \"zerolinecolor\": \"white\", \"zerolinewidth\": 2}, \"yaxis\": {\"automargin\": true, \"gridcolor\": \"white\", \"linecolor\": \"white\", \"ticks\": \"\", \"title\": {\"standoff\": 15}, \"zerolinecolor\": \"white\", \"zerolinewidth\": 2}}}, \"title\": {\"text\": \"TRENDS IN CRIMES RELATED TO MARRIAGE, ILLICIT INTERCOURSE, AND RANSOM OVER THE DECADE\"}, \"xaxis\": {\"anchor\": \"y\", \"domain\": [0.0, 1.0], \"title\": {\"text\": \"Year\"}}, \"yaxis\": {\"anchor\": \"x\", \"domain\": [0.0, 1.0], \"title\": {\"text\": \"Count\"}}},                        {\"responsive\": true}                    ).then(function(){\n",
              "                            \n",
              "var gd = document.getElementById('6e4d854a-bbc4-4d83-bdd3-b3a48eae3a23');\n",
              "var x = new MutationObserver(function (mutations, observer) {{\n",
              "        var display = window.getComputedStyle(gd).display;\n",
              "        if (!display || display === 'none') {{\n",
              "            console.log([gd, 'removed!']);\n",
              "            Plotly.purge(gd);\n",
              "            observer.disconnect();\n",
              "        }}\n",
              "}});\n",
              "\n",
              "// Listen for the removal of the full notebook cells\n",
              "var notebookContainer = gd.closest('#notebook-container');\n",
              "if (notebookContainer) {{\n",
              "    x.observe(notebookContainer, {childList: true});\n",
              "}}\n",
              "\n",
              "// Listen for the clearing of the current output cell\n",
              "var outputEl = gd.closest('.output');\n",
              "if (outputEl) {{\n",
              "    x.observe(outputEl, {childList: true});\n",
              "}}\n",
              "\n",
              "                        })                };                            </script>        </div>\n",
              "</body>\n",
              "</html>"
            ]
          },
          "metadata": {
            "tags": []
          }
        }
      ]
    },
    {
      "cell_type": "markdown",
      "metadata": {
        "id": "qZ7B1GWtMtBE"
      },
      "source": [
        "INFERENCE : Throughout the decade, crimes related to marriages was committed the most, followed by illicit intercourse. In marriages and illicit intercourse crimes, Uttar Pradesh tops the list. While in crimes for ransom, Bihar is the highest."
      ]
    },
    {
      "cell_type": "markdown",
      "metadata": {
        "id": "yst6dS2vUhwN"
      },
      "source": [
        "# **9) Range of number of females involved in marriage related crimes in the year 2009?**\n",
        "\n",
        "_Boxplot using matplotlib_"
      ]
    },
    {
      "cell_type": "code",
      "metadata": {
        "colab": {
          "base_uri": "https://localhost:8080/",
          "height": 310
        },
        "id": "5WtFbmrLQswr",
        "outputId": "4033d7fe-9e00-493f-9a17-0bf545fe45ed"
      },
      "source": [
        "df_females = df_crimes.iloc[:,[0,1,2,5,7,9,11,13,15,17,18]]\n",
        "df_females = df_females.loc[(df_females[\"YEAR\"] == 2009) & (df_females[\"Purpose\"] == \"For marriage\")]\n",
        "df_females.head()"
      ],
      "execution_count": null,
      "outputs": [
        {
          "output_type": "execute_result",
          "data": {
            "text/html": [
              "<div>\n",
              "<style scoped>\n",
              "    .dataframe tbody tr th:only-of-type {\n",
              "        vertical-align: middle;\n",
              "    }\n",
              "\n",
              "    .dataframe tbody tr th {\n",
              "        vertical-align: top;\n",
              "    }\n",
              "\n",
              "    .dataframe thead th {\n",
              "        text-align: right;\n",
              "    }\n",
              "</style>\n",
              "<table border=\"1\" class=\"dataframe\">\n",
              "  <thead>\n",
              "    <tr style=\"text-align: right;\">\n",
              "      <th></th>\n",
              "      <th>STATE/UT</th>\n",
              "      <th>YEAR</th>\n",
              "      <th>Purpose</th>\n",
              "      <th>Female upto 10 years</th>\n",
              "      <th>Female 10-15 years</th>\n",
              "      <th>Female 15-18 years</th>\n",
              "      <th>Female 18-30 years</th>\n",
              "      <th>Female 30-50 years</th>\n",
              "      <th>Female above 50 years</th>\n",
              "      <th>Total Female</th>\n",
              "      <th>Grand Total</th>\n",
              "    </tr>\n",
              "  </thead>\n",
              "  <tbody>\n",
              "    <tr>\n",
              "      <th>116</th>\n",
              "      <td>Andhra Pradesh</td>\n",
              "      <td>2009</td>\n",
              "      <td>For marriage</td>\n",
              "      <td>0</td>\n",
              "      <td>13</td>\n",
              "      <td>318</td>\n",
              "      <td>361</td>\n",
              "      <td>1</td>\n",
              "      <td>0</td>\n",
              "      <td>693</td>\n",
              "      <td>722</td>\n",
              "    </tr>\n",
              "    <tr>\n",
              "      <th>284</th>\n",
              "      <td>Arunachal Pradesh</td>\n",
              "      <td>2009</td>\n",
              "      <td>For marriage</td>\n",
              "      <td>0</td>\n",
              "      <td>1</td>\n",
              "      <td>0</td>\n",
              "      <td>18</td>\n",
              "      <td>0</td>\n",
              "      <td>0</td>\n",
              "      <td>19</td>\n",
              "      <td>19</td>\n",
              "    </tr>\n",
              "    <tr>\n",
              "      <th>452</th>\n",
              "      <td>Assam</td>\n",
              "      <td>2009</td>\n",
              "      <td>For marriage</td>\n",
              "      <td>0</td>\n",
              "      <td>0</td>\n",
              "      <td>0</td>\n",
              "      <td>845</td>\n",
              "      <td>750</td>\n",
              "      <td>0</td>\n",
              "      <td>1595</td>\n",
              "      <td>1595</td>\n",
              "    </tr>\n",
              "    <tr>\n",
              "      <th>620</th>\n",
              "      <td>Bihar</td>\n",
              "      <td>2009</td>\n",
              "      <td>For marriage</td>\n",
              "      <td>0</td>\n",
              "      <td>84</td>\n",
              "      <td>322</td>\n",
              "      <td>1335</td>\n",
              "      <td>58</td>\n",
              "      <td>0</td>\n",
              "      <td>1799</td>\n",
              "      <td>1863</td>\n",
              "    </tr>\n",
              "    <tr>\n",
              "      <th>788</th>\n",
              "      <td>Chhattisgarh</td>\n",
              "      <td>2009</td>\n",
              "      <td>For marriage</td>\n",
              "      <td>22</td>\n",
              "      <td>9</td>\n",
              "      <td>8</td>\n",
              "      <td>19</td>\n",
              "      <td>0</td>\n",
              "      <td>0</td>\n",
              "      <td>58</td>\n",
              "      <td>58</td>\n",
              "    </tr>\n",
              "  </tbody>\n",
              "</table>\n",
              "</div>"
            ],
            "text/plain": [
              "              STATE/UT  YEAR  ... Total Female  Grand Total\n",
              "116     Andhra Pradesh  2009  ...          693          722\n",
              "284  Arunachal Pradesh  2009  ...           19           19\n",
              "452              Assam  2009  ...         1595         1595\n",
              "620              Bihar  2009  ...         1799         1863\n",
              "788       Chhattisgarh  2009  ...           58           58\n",
              "\n",
              "[5 rows x 11 columns]"
            ]
          },
          "metadata": {
            "tags": []
          },
          "execution_count": 27
        }
      ]
    },
    {
      "cell_type": "code",
      "metadata": {
        "colab": {
          "base_uri": "https://localhost:8080/",
          "height": 623
        },
        "id": "ZvmE210_b2dX",
        "outputId": "4acf358a-35b9-4b8f-e55b-d6ac5ac00076"
      },
      "source": [
        "plt.figure(figsize=(20,10))\n",
        "sns.boxplot(x = df_females['Total Female'])"
      ],
      "execution_count": null,
      "outputs": [
        {
          "output_type": "execute_result",
          "data": {
            "text/plain": [
              "<matplotlib.axes._subplots.AxesSubplot at 0x7f0c56688590>"
            ]
          },
          "metadata": {
            "tags": []
          },
          "execution_count": 28
        },
        {
          "output_type": "display_data",
          "data": {
            "image/png": "[encoded data removed]",
            "text/plain": [
              "<Figure size 1440x720 with 1 Axes>"
            ]
          },
          "metadata": {
            "tags": [],
            "needs_background": "light"
          }
        }
      ]
    },
    {
      "cell_type": "markdown",
      "metadata": {
        "id": "BQaz7GhEN8Th"
      },
      "source": [
        "INFERENCE : Most states have a total in the range 0-650. There are two states with count between 1500 and 2000, and only 1 with greater than 3500. This shows that in 2009, there were states with 0 cases related to marriages, as well as three states with significantly higher number of crimes related to marriages compared to the rest."
      ]
    },
    {
      "cell_type": "markdown",
      "metadata": {
        "id": "fFFTHl2DUqFK"
      },
      "source": [
        "# **10) Analyse the state-wise male v/s female trend in crimes in South India (Kerala, Tamil Nadu, Karnataka, Andhra Pradesh)**\n",
        "\n",
        "_Scatterplot using plotly_"
      ]
    },
    {
      "cell_type": "code",
      "metadata": {
        "colab": {
          "base_uri": "https://localhost:8080/",
          "height": 542
        },
        "id": "HFxnjgRqZs4k",
        "outputId": "827bd060-23a0-4cd7-d240-72d602090c6d"
      },
      "source": [
        "df_south = df_total.loc[df_total['STATE/UT'].isin([\"Kerala\", \"Tamil Nadu\", \"Karnataka\", \"Andhra Pradesh\"])]\n",
        "fig = px.scatter(df_south, x=\"Total Male\", y=\"Total Female\", color=\"YEAR\", facet_col=\"STATE/UT\")\n",
        "fig.show()"
      ],
      "execution_count": null,
      "outputs": [
        {
          "output_type": "display_data",
          "data": {
            "text/html": [
              "<html>\n",
              "<head><meta charset=\"utf-8\" /></head>\n",
              "<body>\n",
              "    <div>            <script src=\"https://cdnjs.cloudflare.com/ajax/libs/mathjax/2.7.5/MathJax.js?config=TeX-AMS-MML_SVG\"></script><script type=\"text/javascript\">if (window.MathJax) {MathJax.Hub.Config({SVG: {font: \"STIX-Web\"}});}</script>                <script type=\"text/javascript\">window.PlotlyConfig = {MathJaxConfig: 'local'};</script>\n",
              "        <script src=\"https://cdn.plot.ly/plotly-latest.min.js\"></script>                <div id=\"a09bd884-6301-4dce-8288-f746b2b68eea\" class=\"plotly-graph-div\" style=\"height:525px; width:100%;\"></div>            <script type=\"text/javascript\">                                    window.PLOTLYENV=window.PLOTLYENV || {};                                    if (document.getElementById(\"a09bd884-6301-4dce-8288-f746b2b68eea\")) {                    Plotly.newPlot(                        \"a09bd884-6301-4dce-8288-f746b2b68eea\",                        [{\"hovertemplate\": \"STATE/UT=Andhra Pradesh<br>Total Male=%{x}<br>Total Female=%{y}<br>YEAR=%{marker.color}<extra></extra>\", \"legendgroup\": \"\", \"marker\": {\"color\": [2001, 2002, 2003, 2004, 2005, 2006, 2007, 2008, 2009, 2010, 2011, 2012], \"coloraxis\": \"coloraxis\", \"symbol\": \"circle\"}, \"mode\": \"markers\", \"name\": \"\", \"orientation\": \"v\", \"showlegend\": false, \"type\": \"scatter\", \"x\": [437, 448, 554, 496, 619, 731, 533, 582, 505, 522, 550, 474], \"xaxis\": \"x\", \"y\": [749, 854, 931, 1036, 1000, 1332, 1568, 1399, 1460, 1531, 1612, 1403], \"yaxis\": \"y\"}, {\"hovertemplate\": \"STATE/UT=Karnataka<br>Total Male=%{x}<br>Total Female=%{y}<br>YEAR=%{marker.color}<extra></extra>\", \"legendgroup\": \"\", \"marker\": {\"color\": [2001, 2002, 2003, 2004, 2005, 2006, 2007, 2008, 2009, 2010, 2011, 2012], \"coloraxis\": \"coloraxis\", \"symbol\": \"circle\"}, \"mode\": \"markers\", \"name\": \"\", \"orientation\": \"v\", \"showlegend\": false, \"type\": \"scatter\", \"x\": [259, 260, 238, 255, 279, 320, 324, 289, 323, 616, 594, 313], \"xaxis\": \"x2\", \"y\": [321, 401, 297, 348, 318, 315, 397, 488, 579, 825, 822, 1146], \"yaxis\": \"y2\"}, {\"hovertemplate\": \"STATE/UT=Kerala<br>Total Male=%{x}<br>Total Female=%{y}<br>YEAR=%{marker.color}<extra></extra>\", \"legendgroup\": \"\", \"marker\": {\"color\": [2001, 2002, 2003, 2004, 2005, 2006, 2007, 2008, 2009, 2010, 2011, 2012], \"coloraxis\": \"coloraxis\", \"symbol\": \"circle\"}, \"mode\": \"markers\", \"name\": \"\", \"orientation\": \"v\", \"showlegend\": false, \"type\": \"scatter\", \"x\": [90, 87, 87, 90, 102, 92, 81, 90, 83, 80, 81, 69], \"xaxis\": \"x3\", \"y\": [100, 88, 102, 142, 132, 209, 181, 167, 178, 190, 227, 217], \"yaxis\": \"y3\"}, {\"hovertemplate\": \"STATE/UT=Tamil Nadu<br>Total Male=%{x}<br>Total Female=%{y}<br>YEAR=%{marker.color}<extra></extra>\", \"legendgroup\": \"\", \"marker\": {\"color\": [2001, 2002, 2003, 2004, 2005, 2006, 2007, 2008, 2009, 2010, 2011, 2012], \"coloraxis\": \"coloraxis\", \"symbol\": \"circle\"}, \"mode\": \"markers\", \"name\": \"\", \"orientation\": \"v\", \"showlegend\": false, \"type\": \"scatter\", \"x\": [342, 318, 275, 173, 246, 186, 165, 207, 260, 259, 256, 234], \"xaxis\": \"x4\", \"y\": [610, 690, 647, 705, 797, 737, 1118, 1180, 1132, 1467, 1773, 1732], \"yaxis\": \"y4\"}],                        {\"annotations\": [{\"font\": {}, \"showarrow\": false, \"text\": \"STATE/UT=Andhra Pradesh\", \"x\": 0.1175, \"xanchor\": \"center\", \"xref\": \"paper\", \"y\": 1.0, \"yanchor\": \"bottom\", \"yref\": \"paper\"}, {\"font\": {}, \"showarrow\": false, \"text\": \"STATE/UT=Karnataka\", \"x\": 0.3725, \"xanchor\": \"center\", \"xref\": \"paper\", \"y\": 1.0, \"yanchor\": \"bottom\", \"yref\": \"paper\"}, {\"font\": {}, \"showarrow\": false, \"text\": \"STATE/UT=Kerala\", \"x\": 0.6275, \"xanchor\": \"center\", \"xref\": \"paper\", \"y\": 1.0, \"yanchor\": \"bottom\", \"yref\": \"paper\"}, {\"font\": {}, \"showarrow\": false, \"text\": \"STATE/UT=Tamil Nadu\", \"x\": 0.8824999999999998, \"xanchor\": \"center\", \"xref\": \"paper\", \"y\": 1.0, \"yanchor\": \"bottom\", \"yref\": \"paper\"}], \"coloraxis\": {\"colorbar\": {\"title\": {\"text\": \"YEAR\"}}, \"colorscale\": [[0.0, \"#0d0887\"], [0.1111111111111111, \"#46039f\"], [0.2222222222222222, \"#7201a8\"], [0.3333333333333333, \"#9c179e\"], [0.4444444444444444, \"#bd3786\"], [0.5555555555555556, \"#d8576b\"], [0.6666666666666666, \"#ed7953\"], [0.7777777777777778, \"#fb9f3a\"], [0.8888888888888888, \"#fdca26\"], [1.0, \"#f0f921\"]]}, \"legend\": {\"tracegroupgap\": 0}, \"margin\": {\"t\": 60}, \"template\": {\"data\": {\"bar\": [{\"error_x\": {\"color\": \"#2a3f5f\"}, \"error_y\": {\"color\": \"#2a3f5f\"}, \"marker\": {\"line\": {\"color\": \"#E5ECF6\", \"width\": 0.5}}, \"type\": \"bar\"}], \"barpolar\": [{\"marker\": {\"line\": {\"color\": \"#E5ECF6\", \"width\": 0.5}}, \"type\": \"barpolar\"}], \"carpet\": [{\"aaxis\": {\"endlinecolor\": \"#2a3f5f\", \"gridcolor\": \"white\", \"linecolor\": \"white\", \"minorgridcolor\": \"white\", \"startlinecolor\": \"#2a3f5f\"}, \"baxis\": {\"endlinecolor\": \"#2a3f5f\", \"gridcolor\": \"white\", \"linecolor\": \"white\", \"minorgridcolor\": \"white\", \"startlinecolor\": \"#2a3f5f\"}, \"type\": \"carpet\"}], \"choropleth\": [{\"colorbar\": {\"outlinewidth\": 0, \"ticks\": \"\"}, \"type\": \"choropleth\"}], \"contour\": [{\"colorbar\": {\"outlinewidth\": 0, \"ticks\": \"\"}, \"colorscale\": [[0.0, \"#0d0887\"], [0.1111111111111111, \"#46039f\"], [0.2222222222222222, \"#7201a8\"], [0.3333333333333333, \"#9c179e\"], [0.4444444444444444, \"#bd3786\"], [0.5555555555555556, \"#d8576b\"], [0.6666666666666666, \"#ed7953\"], [0.7777777777777778, \"#fb9f3a\"], [0.8888888888888888, \"#fdca26\"], [1.0, \"#f0f921\"]], \"type\": \"contour\"}], \"contourcarpet\": [{\"colorbar\": {\"outlinewidth\": 0, \"ticks\": \"\"}, \"type\": \"contourcarpet\"}], \"heatmap\": [{\"colorbar\": {\"outlinewidth\": 0, \"ticks\": \"\"}, \"colorscale\": [[0.0, \"#0d0887\"], [0.1111111111111111, \"#46039f\"], [0.2222222222222222, \"#7201a8\"], [0.3333333333333333, \"#9c179e\"], [0.4444444444444444, \"#bd3786\"], [0.5555555555555556, \"#d8576b\"], [0.6666666666666666, \"#ed7953\"], [0.7777777777777778, \"#fb9f3a\"], [0.8888888888888888, \"#fdca26\"], [1.0, \"#f0f921\"]], \"type\": \"heatmap\"}], \"heatmapgl\": [{\"colorbar\": {\"outlinewidth\": 0, \"ticks\": \"\"}, \"colorscale\": [[0.0, \"#0d0887\"], [0.1111111111111111, \"#46039f\"], [0.2222222222222222, \"#7201a8\"], [0.3333333333333333, \"#9c179e\"], [0.4444444444444444, \"#bd3786\"], [0.5555555555555556, \"#d8576b\"], [0.6666666666666666, \"#ed7953\"], [0.7777777777777778, \"#fb9f3a\"], [0.8888888888888888, \"#fdca26\"], [1.0, \"#f0f921\"]], \"type\": \"heatmapgl\"}], \"histogram\": [{\"marker\": {\"colorbar\": {\"outlinewidth\": 0, \"ticks\": \"\"}}, \"type\": \"histogram\"}], \"histogram2d\": [{\"colorbar\": {\"outlinewidth\": 0, \"ticks\": \"\"}, \"colorscale\": [[0.0, \"#0d0887\"], [0.1111111111111111, \"#46039f\"], [0.2222222222222222, \"#7201a8\"], [0.3333333333333333, \"#9c179e\"], [0.4444444444444444, \"#bd3786\"], [0.5555555555555556, \"#d8576b\"], [0.6666666666666666, \"#ed7953\"], [0.7777777777777778, \"#fb9f3a\"], [0.8888888888888888, \"#fdca26\"], [1.0, \"#f0f921\"]], \"type\": \"histogram2d\"}], \"histogram2dcontour\": [{\"colorbar\": {\"outlinewidth\": 0, \"ticks\": \"\"}, \"colorscale\": [[0.0, \"#0d0887\"], [0.1111111111111111, \"#46039f\"], [0.2222222222222222, \"#7201a8\"], [0.3333333333333333, \"#9c179e\"], [0.4444444444444444, \"#bd3786\"], [0.5555555555555556, \"#d8576b\"], [0.6666666666666666, \"#ed7953\"], [0.7777777777777778, \"#fb9f3a\"], [0.8888888888888888, \"#fdca26\"], [1.0, \"#f0f921\"]], \"type\": \"histogram2dcontour\"}], \"mesh3d\": [{\"colorbar\": {\"outlinewidth\": 0, \"ticks\": \"\"}, \"type\": \"mesh3d\"}], \"parcoords\": [{\"line\": {\"colorbar\": {\"outlinewidth\": 0, \"ticks\": \"\"}}, \"type\": \"parcoords\"}], \"pie\": [{\"automargin\": true, \"type\": \"pie\"}], \"scatter\": [{\"marker\": {\"colorbar\": {\"outlinewidth\": 0, \"ticks\": \"\"}}, \"type\": \"scatter\"}], \"scatter3d\": [{\"line\": {\"colorbar\": {\"outlinewidth\": 0, \"ticks\": \"\"}}, \"marker\": {\"colorbar\": {\"outlinewidth\": 0, \"ticks\": \"\"}}, \"type\": \"scatter3d\"}], \"scattercarpet\": [{\"marker\": {\"colorbar\": {\"outlinewidth\": 0, \"ticks\": \"\"}}, \"type\": \"scattercarpet\"}], \"scattergeo\": [{\"marker\": {\"colorbar\": {\"outlinewidth\": 0, \"ticks\": \"\"}}, \"type\": \"scattergeo\"}], \"scattergl\": [{\"marker\": {\"colorbar\": {\"outlinewidth\": 0, \"ticks\": \"\"}}, \"type\": \"scattergl\"}], \"scattermapbox\": [{\"marker\": {\"colorbar\": {\"outlinewidth\": 0, \"ticks\": \"\"}}, \"type\": \"scattermapbox\"}], \"scatterpolar\": [{\"marker\": {\"colorbar\": {\"outlinewidth\": 0, \"ticks\": \"\"}}, \"type\": \"scatterpolar\"}], \"scatterpolargl\": [{\"marker\": {\"colorbar\": {\"outlinewidth\": 0, \"ticks\": \"\"}}, \"type\": \"scatterpolargl\"}], \"scatterternary\": [{\"marker\": {\"colorbar\": {\"outlinewidth\": 0, \"ticks\": \"\"}}, \"type\": \"scatterternary\"}], \"surface\": [{\"colorbar\": {\"outlinewidth\": 0, \"ticks\": \"\"}, \"colorscale\": [[0.0, \"#0d0887\"], [0.1111111111111111, \"#46039f\"], [0.2222222222222222, \"#7201a8\"], [0.3333333333333333, \"#9c179e\"], [0.4444444444444444, \"#bd3786\"], [0.5555555555555556, \"#d8576b\"], [0.6666666666666666, \"#ed7953\"], [0.7777777777777778, \"#fb9f3a\"], [0.8888888888888888, \"#fdca26\"], [1.0, \"#f0f921\"]], \"type\": \"surface\"}], \"table\": [{\"cells\": {\"fill\": {\"color\": \"#EBF0F8\"}, \"line\": {\"color\": \"white\"}}, \"header\": {\"fill\": {\"color\": \"#C8D4E3\"}, \"line\": {\"color\": \"white\"}}, \"type\": \"table\"}]}, \"layout\": {\"annotationdefaults\": {\"arrowcolor\": \"#2a3f5f\", \"arrowhead\": 0, \"arrowwidth\": 1}, \"autotypenumbers\": \"strict\", \"coloraxis\": {\"colorbar\": {\"outlinewidth\": 0, \"ticks\": \"\"}}, \"colorscale\": {\"diverging\": [[0, \"#8e0152\"], [0.1, \"#c51b7d\"], [0.2, \"#de77ae\"], [0.3, \"#f1b6da\"], [0.4, \"#fde0ef\"], [0.5, \"#f7f7f7\"], [0.6, \"#e6f5d0\"], [0.7, \"#b8e186\"], [0.8, \"#7fbc41\"], [0.9, \"#4d9221\"], [1, \"#276419\"]], \"sequential\": [[0.0, \"#0d0887\"], [0.1111111111111111, \"#46039f\"], [0.2222222222222222, \"#7201a8\"], [0.3333333333333333, \"#9c179e\"], [0.4444444444444444, \"#bd3786\"], [0.5555555555555556, \"#d8576b\"], [0.6666666666666666, \"#ed7953\"], [0.7777777777777778, \"#fb9f3a\"], [0.8888888888888888, \"#fdca26\"], [1.0, \"#f0f921\"]], \"sequentialminus\": [[0.0, \"#0d0887\"], [0.1111111111111111, \"#46039f\"], [0.2222222222222222, \"#7201a8\"], [0.3333333333333333, \"#9c179e\"], [0.4444444444444444, \"#bd3786\"], [0.5555555555555556, \"#d8576b\"], [0.6666666666666666, \"#ed7953\"], [0.7777777777777778, \"#fb9f3a\"], [0.8888888888888888, \"#fdca26\"], [1.0, \"#f0f921\"]]}, \"colorway\": [\"#636efa\", \"#EF553B\", \"#00cc96\", \"#ab63fa\", \"#FFA15A\", \"#19d3f3\", \"#FF6692\", \"#B6E880\", \"#FF97FF\", \"#FECB52\"], \"font\": {\"color\": \"#2a3f5f\"}, \"geo\": {\"bgcolor\": \"white\", \"lakecolor\": \"white\", \"landcolor\": \"#E5ECF6\", \"showlakes\": true, \"showland\": true, \"subunitcolor\": \"white\"}, \"hoverlabel\": {\"align\": \"left\"}, \"hovermode\": \"closest\", \"mapbox\": {\"style\": \"light\"}, \"paper_bgcolor\": \"white\", \"plot_bgcolor\": \"#E5ECF6\", \"polar\": {\"angularaxis\": {\"gridcolor\": \"white\", \"linecolor\": \"white\", \"ticks\": \"\"}, \"bgcolor\": \"#E5ECF6\", \"radialaxis\": {\"gridcolor\": \"white\", \"linecolor\": \"white\", \"ticks\": \"\"}}, \"scene\": {\"xaxis\": {\"backgroundcolor\": \"#E5ECF6\", \"gridcolor\": \"white\", \"gridwidth\": 2, \"linecolor\": \"white\", \"showbackground\": true, \"ticks\": \"\", \"zerolinecolor\": \"white\"}, \"yaxis\": {\"backgroundcolor\": \"#E5ECF6\", \"gridcolor\": \"white\", \"gridwidth\": 2, \"linecolor\": \"white\", \"showbackground\": true, \"ticks\": \"\", \"zerolinecolor\": \"white\"}, \"zaxis\": {\"backgroundcolor\": \"#E5ECF6\", \"gridcolor\": \"white\", \"gridwidth\": 2, \"linecolor\": \"white\", \"showbackground\": true, \"ticks\": \"\", \"zerolinecolor\": \"white\"}}, \"shapedefaults\": {\"line\": {\"color\": \"#2a3f5f\"}}, \"ternary\": {\"aaxis\": {\"gridcolor\": \"white\", \"linecolor\": \"white\", \"ticks\": \"\"}, \"baxis\": {\"gridcolor\": \"white\", \"linecolor\": \"white\", \"ticks\": \"\"}, \"bgcolor\": \"#E5ECF6\", \"caxis\": {\"gridcolor\": \"white\", \"linecolor\": \"white\", \"ticks\": \"\"}}, \"title\": {\"x\": 0.05}, \"xaxis\": {\"automargin\": true, \"gridcolor\": \"white\", \"linecolor\": \"white\", \"ticks\": \"\", \"title\": {\"standoff\": 15}, \"zerolinecolor\": \"white\", \"zerolinewidth\": 2}, \"yaxis\": {\"automargin\": true, \"gridcolor\": \"white\", \"linecolor\": \"white\", \"ticks\": \"\", \"title\": {\"standoff\": 15}, \"zerolinecolor\": \"white\", \"zerolinewidth\": 2}}}, \"xaxis\": {\"anchor\": \"y\", \"domain\": [0.0, 0.235], \"title\": {\"text\": \"Total Male\"}}, \"xaxis2\": {\"anchor\": \"y2\", \"domain\": [0.255, 0.49], \"matches\": \"x\", \"title\": {\"text\": \"Total Male\"}}, \"xaxis3\": {\"anchor\": \"y3\", \"domain\": [0.51, 0.745], \"matches\": \"x\", \"title\": {\"text\": \"Total Male\"}}, \"xaxis4\": {\"anchor\": \"y4\", \"domain\": [0.7649999999999999, 0.9999999999999999], \"matches\": \"x\", \"title\": {\"text\": \"Total Male\"}}, \"yaxis\": {\"anchor\": \"x\", \"domain\": [0.0, 1.0], \"title\": {\"text\": \"Total Female\"}}, \"yaxis2\": {\"anchor\": \"x2\", \"domain\": [0.0, 1.0], \"matches\": \"y\", \"showticklabels\": false}, \"yaxis3\": {\"anchor\": \"x3\", \"domain\": [0.0, 1.0], \"matches\": \"y\", \"showticklabels\": false}, \"yaxis4\": {\"anchor\": \"x4\", \"domain\": [0.0, 1.0], \"matches\": \"y\", \"showticklabels\": false}},                        {\"responsive\": true}                    ).then(function(){\n",
              "                            \n",
              "var gd = document.getElementById('a09bd884-6301-4dce-8288-f746b2b68eea');\n",
              "var x = new MutationObserver(function (mutations, observer) {{\n",
              "        var display = window.getComputedStyle(gd).display;\n",
              "        if (!display || display === 'none') {{\n",
              "            console.log([gd, 'removed!']);\n",
              "            Plotly.purge(gd);\n",
              "            observer.disconnect();\n",
              "        }}\n",
              "}});\n",
              "\n",
              "// Listen for the removal of the full notebook cells\n",
              "var notebookContainer = gd.closest('#notebook-container');\n",
              "if (notebookContainer) {{\n",
              "    x.observe(notebookContainer, {childList: true});\n",
              "}}\n",
              "\n",
              "// Listen for the clearing of the current output cell\n",
              "var outputEl = gd.closest('.output');\n",
              "if (outputEl) {{\n",
              "    x.observe(outputEl, {childList: true});\n",
              "}}\n",
              "\n",
              "                        })                };                            </script>        </div>\n",
              "</body>\n",
              "</html>"
            ]
          },
          "metadata": {
            "tags": []
          }
        }
      ]
    },
    {
      "cell_type": "markdown",
      "metadata": {
        "id": "XU6pSC86PF-E"
      },
      "source": [
        "INFERENCE : Kerala has the least cases, Andhra Pradesh the most. In Andhra, the count of both males and females involved has increased, whereas in Tamil Nadu, there was a rapid increase in number of females involved, but not males. We do not see any significant rise in either of the genders in the case of Kerala."
      ]
    },
    {
      "cell_type": "markdown",
      "metadata": {
        "id": "KBlqXevlV1Ow"
      },
      "source": [
        "# **11) Visualise the range of males and females involved in crimes in South India (Kerala, Tamil Nadu, Karnataka, Andhra Pradesh)**\n",
        "\n",
        "_Scatterplot + Marginal Boxplot using plotly_"
      ]
    },
    {
      "cell_type": "code",
      "metadata": {
        "colab": {
          "base_uri": "https://localhost:8080/",
          "height": 542
        },
        "id": "xwMqfBQzjTYw",
        "outputId": "a1eba6ed-7b42-4510-bfe8-bd9d98ed8b0a"
      },
      "source": [
        "fig = px.scatter(df_south, x='Total Male', y='Total Female', color='YEAR', marginal_x='box', marginal_y='box', hover_data=['STATE/UT'])\n",
        "fig.show()"
      ],
      "execution_count": null,
      "outputs": [
        {
          "output_type": "display_data",
          "data": {
            "text/html": [
              "<html>\n",
              "<head><meta charset=\"utf-8\" /></head>\n",
              "<body>\n",
              "    <div>            <script src=\"https://cdnjs.cloudflare.com/ajax/libs/mathjax/2.7.5/MathJax.js?config=TeX-AMS-MML_SVG\"></script><script type=\"text/javascript\">if (window.MathJax) {MathJax.Hub.Config({SVG: {font: \"STIX-Web\"}});}</script>                <script type=\"text/javascript\">window.PlotlyConfig = {MathJaxConfig: 'local'};</script>\n",
              "        <script src=\"https://cdn.plot.ly/plotly-latest.min.js\"></script>                <div id=\"234b4679-76fa-48ab-92ca-521486f0125d\" class=\"plotly-graph-div\" style=\"height:525px; width:100%;\"></div>            <script type=\"text/javascript\">                                    window.PLOTLYENV=window.PLOTLYENV || {};                                    if (document.getElementById(\"234b4679-76fa-48ab-92ca-521486f0125d\")) {                    Plotly.newPlot(                        \"234b4679-76fa-48ab-92ca-521486f0125d\",                        [{\"customdata\": [[\"Andhra Pradesh\"], [\"Andhra Pradesh\"], [\"Andhra Pradesh\"], [\"Andhra Pradesh\"], [\"Andhra Pradesh\"], [\"Andhra Pradesh\"], [\"Andhra Pradesh\"], [\"Andhra Pradesh\"], [\"Andhra Pradesh\"], [\"Andhra Pradesh\"], [\"Andhra Pradesh\"], [\"Andhra Pradesh\"], [\"Karnataka\"], [\"Karnataka\"], [\"Karnataka\"], [\"Karnataka\"], [\"Karnataka\"], [\"Karnataka\"], [\"Karnataka\"], [\"Karnataka\"], [\"Karnataka\"], [\"Karnataka\"], [\"Karnataka\"], [\"Karnataka\"], [\"Kerala\"], [\"Kerala\"], [\"Kerala\"], [\"Kerala\"], [\"Kerala\"], [\"Kerala\"], [\"Kerala\"], [\"Kerala\"], [\"Kerala\"], [\"Kerala\"], [\"Kerala\"], [\"Kerala\"], [\"Tamil Nadu\"], [\"Tamil Nadu\"], [\"Tamil Nadu\"], [\"Tamil Nadu\"], [\"Tamil Nadu\"], [\"Tamil Nadu\"], [\"Tamil Nadu\"], [\"Tamil Nadu\"], [\"Tamil Nadu\"], [\"Tamil Nadu\"], [\"Tamil Nadu\"], [\"Tamil Nadu\"]], \"hovertemplate\": \"Total Male=%{x}<br>Total Female=%{y}<br>STATE/UT=%{customdata[0]}<br>YEAR=%{marker.color}<extra></extra>\", \"legendgroup\": \"\", \"marker\": {\"color\": [2001, 2002, 2003, 2004, 2005, 2006, 2007, 2008, 2009, 2010, 2011, 2012, 2001, 2002, 2003, 2004, 2005, 2006, 2007, 2008, 2009, 2010, 2011, 2012, 2001, 2002, 2003, 2004, 2005, 2006, 2007, 2008, 2009, 2010, 2011, 2012, 2001, 2002, 2003, 2004, 2005, 2006, 2007, 2008, 2009, 2010, 2011, 2012], \"coloraxis\": \"coloraxis\", \"symbol\": \"circle\"}, \"mode\": \"markers\", \"name\": \"\", \"orientation\": \"v\", \"showlegend\": false, \"type\": \"scatter\", \"x\": [437, 448, 554, 496, 619, 731, 533, 582, 505, 522, 550, 474, 259, 260, 238, 255, 279, 320, 324, 289, 323, 616, 594, 313, 90, 87, 87, 90, 102, 92, 81, 90, 83, 80, 81, 69, 342, 318, 275, 173, 246, 186, 165, 207, 260, 259, 256, 234], \"xaxis\": \"x\", \"y\": [749, 854, 931, 1036, 1000, 1332, 1568, 1399, 1460, 1531, 1612, 1403, 321, 401, 297, 348, 318, 315, 397, 488, 579, 825, 822, 1146, 100, 88, 102, 142, 132, 209, 181, 167, 178, 190, 227, 217, 610, 690, 647, 705, 797, 737, 1118, 1180, 1132, 1467, 1773, 1732], \"yaxis\": \"y\"}, {\"alignmentgroup\": \"True\", \"customdata\": [[\"Andhra Pradesh\"], [\"Andhra Pradesh\"], [\"Andhra Pradesh\"], [\"Andhra Pradesh\"], [\"Andhra Pradesh\"], [\"Andhra Pradesh\"], [\"Andhra Pradesh\"], [\"Andhra Pradesh\"], [\"Andhra Pradesh\"], [\"Andhra Pradesh\"], [\"Andhra Pradesh\"], [\"Andhra Pradesh\"], [\"Karnataka\"], [\"Karnataka\"], [\"Karnataka\"], [\"Karnataka\"], [\"Karnataka\"], [\"Karnataka\"], [\"Karnataka\"], [\"Karnataka\"], [\"Karnataka\"], [\"Karnataka\"], [\"Karnataka\"], [\"Karnataka\"], [\"Kerala\"], [\"Kerala\"], [\"Kerala\"], [\"Kerala\"], [\"Kerala\"], [\"Kerala\"], [\"Kerala\"], [\"Kerala\"], [\"Kerala\"], [\"Kerala\"], [\"Kerala\"], [\"Kerala\"], [\"Tamil Nadu\"], [\"Tamil Nadu\"], [\"Tamil Nadu\"], [\"Tamil Nadu\"], [\"Tamil Nadu\"], [\"Tamil Nadu\"], [\"Tamil Nadu\"], [\"Tamil Nadu\"], [\"Tamil Nadu\"], [\"Tamil Nadu\"], [\"Tamil Nadu\"], [\"Tamil Nadu\"]], \"hovertemplate\": \"Total Male=%{x}<br>STATE/UT=%{customdata[0]}<extra></extra>\", \"legendgroup\": \"\", \"marker\": {\"color\": \"#0d0887\", \"symbol\": \"circle\"}, \"name\": \"\", \"notched\": true, \"offsetgroup\": \"\", \"showlegend\": false, \"type\": \"box\", \"x\": [437, 448, 554, 496, 619, 731, 533, 582, 505, 522, 550, 474, 259, 260, 238, 255, 279, 320, 324, 289, 323, 616, 594, 313, 90, 87, 87, 90, 102, 92, 81, 90, 83, 80, 81, 69, 342, 318, 275, 173, 246, 186, 165, 207, 260, 259, 256, 234], \"xaxis\": \"x3\", \"yaxis\": \"y3\"}, {\"alignmentgroup\": \"True\", \"customdata\": [[\"Andhra Pradesh\"], [\"Andhra Pradesh\"], [\"Andhra Pradesh\"], [\"Andhra Pradesh\"], [\"Andhra Pradesh\"], [\"Andhra Pradesh\"], [\"Andhra Pradesh\"], [\"Andhra Pradesh\"], [\"Andhra Pradesh\"], [\"Andhra Pradesh\"], [\"Andhra Pradesh\"], [\"Andhra Pradesh\"], [\"Karnataka\"], [\"Karnataka\"], [\"Karnataka\"], [\"Karnataka\"], [\"Karnataka\"], [\"Karnataka\"], [\"Karnataka\"], [\"Karnataka\"], [\"Karnataka\"], [\"Karnataka\"], [\"Karnataka\"], [\"Karnataka\"], [\"Kerala\"], [\"Kerala\"], [\"Kerala\"], [\"Kerala\"], [\"Kerala\"], [\"Kerala\"], [\"Kerala\"], [\"Kerala\"], [\"Kerala\"], [\"Kerala\"], [\"Kerala\"], [\"Kerala\"], [\"Tamil Nadu\"], [\"Tamil Nadu\"], [\"Tamil Nadu\"], [\"Tamil Nadu\"], [\"Tamil Nadu\"], [\"Tamil Nadu\"], [\"Tamil Nadu\"], [\"Tamil Nadu\"], [\"Tamil Nadu\"], [\"Tamil Nadu\"], [\"Tamil Nadu\"], [\"Tamil Nadu\"]], \"hovertemplate\": \"Total Female=%{y}<br>STATE/UT=%{customdata[0]}<extra></extra>\", \"legendgroup\": \"\", \"marker\": {\"color\": \"#0d0887\", \"symbol\": \"circle\"}, \"name\": \"\", \"notched\": true, \"offsetgroup\": \"\", \"showlegend\": false, \"type\": \"box\", \"xaxis\": \"x2\", \"y\": [749, 854, 931, 1036, 1000, 1332, 1568, 1399, 1460, 1531, 1612, 1403, 321, 401, 297, 348, 318, 315, 397, 488, 579, 825, 822, 1146, 100, 88, 102, 142, 132, 209, 181, 167, 178, 190, 227, 217, 610, 690, 647, 705, 797, 737, 1118, 1180, 1132, 1467, 1773, 1732], \"yaxis\": \"y2\"}],                        {\"coloraxis\": {\"colorbar\": {\"title\": {\"text\": \"YEAR\"}}, \"colorscale\": [[0.0, \"#0d0887\"], [0.1111111111111111, \"#46039f\"], [0.2222222222222222, \"#7201a8\"], [0.3333333333333333, \"#9c179e\"], [0.4444444444444444, \"#bd3786\"], [0.5555555555555556, \"#d8576b\"], [0.6666666666666666, \"#ed7953\"], [0.7777777777777778, \"#fb9f3a\"], [0.8888888888888888, \"#fdca26\"], [1.0, \"#f0f921\"]]}, \"legend\": {\"tracegroupgap\": 0}, \"margin\": {\"t\": 60}, \"template\": {\"data\": {\"bar\": [{\"error_x\": {\"color\": \"#2a3f5f\"}, \"error_y\": {\"color\": \"#2a3f5f\"}, \"marker\": {\"line\": {\"color\": \"#E5ECF6\", \"width\": 0.5}}, \"type\": \"bar\"}], \"barpolar\": [{\"marker\": {\"line\": {\"color\": \"#E5ECF6\", \"width\": 0.5}}, \"type\": \"barpolar\"}], \"carpet\": [{\"aaxis\": {\"endlinecolor\": \"#2a3f5f\", \"gridcolor\": \"white\", \"linecolor\": \"white\", \"minorgridcolor\": \"white\", \"startlinecolor\": \"#2a3f5f\"}, \"baxis\": {\"endlinecolor\": \"#2a3f5f\", \"gridcolor\": \"white\", \"linecolor\": \"white\", \"minorgridcolor\": \"white\", \"startlinecolor\": \"#2a3f5f\"}, \"type\": \"carpet\"}], \"choropleth\": [{\"colorbar\": {\"outlinewidth\": 0, \"ticks\": \"\"}, \"type\": \"choropleth\"}], \"contour\": [{\"colorbar\": {\"outlinewidth\": 0, \"ticks\": \"\"}, \"colorscale\": [[0.0, \"#0d0887\"], [0.1111111111111111, \"#46039f\"], [0.2222222222222222, \"#7201a8\"], [0.3333333333333333, \"#9c179e\"], [0.4444444444444444, \"#bd3786\"], [0.5555555555555556, \"#d8576b\"], [0.6666666666666666, \"#ed7953\"], [0.7777777777777778, \"#fb9f3a\"], [0.8888888888888888, \"#fdca26\"], [1.0, \"#f0f921\"]], \"type\": \"contour\"}], \"contourcarpet\": [{\"colorbar\": {\"outlinewidth\": 0, \"ticks\": \"\"}, \"type\": \"contourcarpet\"}], \"heatmap\": [{\"colorbar\": {\"outlinewidth\": 0, \"ticks\": \"\"}, \"colorscale\": [[0.0, \"#0d0887\"], [0.1111111111111111, \"#46039f\"], [0.2222222222222222, \"#7201a8\"], [0.3333333333333333, \"#9c179e\"], [0.4444444444444444, \"#bd3786\"], [0.5555555555555556, \"#d8576b\"], [0.6666666666666666, \"#ed7953\"], [0.7777777777777778, \"#fb9f3a\"], [0.8888888888888888, \"#fdca26\"], [1.0, \"#f0f921\"]], \"type\": \"heatmap\"}], \"heatmapgl\": [{\"colorbar\": {\"outlinewidth\": 0, \"ticks\": \"\"}, \"colorscale\": [[0.0, \"#0d0887\"], [0.1111111111111111, \"#46039f\"], [0.2222222222222222, \"#7201a8\"], [0.3333333333333333, \"#9c179e\"], [0.4444444444444444, \"#bd3786\"], [0.5555555555555556, \"#d8576b\"], [0.6666666666666666, \"#ed7953\"], [0.7777777777777778, \"#fb9f3a\"], [0.8888888888888888, \"#fdca26\"], [1.0, \"#f0f921\"]], \"type\": \"heatmapgl\"}], \"histogram\": [{\"marker\": {\"colorbar\": {\"outlinewidth\": 0, \"ticks\": \"\"}}, \"type\": \"histogram\"}], \"histogram2d\": [{\"colorbar\": {\"outlinewidth\": 0, \"ticks\": \"\"}, \"colorscale\": [[0.0, \"#0d0887\"], [0.1111111111111111, \"#46039f\"], [0.2222222222222222, \"#7201a8\"], [0.3333333333333333, \"#9c179e\"], [0.4444444444444444, \"#bd3786\"], [0.5555555555555556, \"#d8576b\"], [0.6666666666666666, \"#ed7953\"], [0.7777777777777778, \"#fb9f3a\"], [0.8888888888888888, \"#fdca26\"], [1.0, \"#f0f921\"]], \"type\": \"histogram2d\"}], \"histogram2dcontour\": [{\"colorbar\": {\"outlinewidth\": 0, \"ticks\": \"\"}, \"colorscale\": [[0.0, \"#0d0887\"], [0.1111111111111111, \"#46039f\"], [0.2222222222222222, \"#7201a8\"], [0.3333333333333333, \"#9c179e\"], [0.4444444444444444, \"#bd3786\"], [0.5555555555555556, \"#d8576b\"], [0.6666666666666666, \"#ed7953\"], [0.7777777777777778, \"#fb9f3a\"], [0.8888888888888888, \"#fdca26\"], [1.0, \"#f0f921\"]], \"type\": \"histogram2dcontour\"}], \"mesh3d\": [{\"colorbar\": {\"outlinewidth\": 0, \"ticks\": \"\"}, \"type\": \"mesh3d\"}], \"parcoords\": [{\"line\": {\"colorbar\": {\"outlinewidth\": 0, \"ticks\": \"\"}}, \"type\": \"parcoords\"}], \"pie\": [{\"automargin\": true, \"type\": \"pie\"}], \"scatter\": [{\"marker\": {\"colorbar\": {\"outlinewidth\": 0, \"ticks\": \"\"}}, \"type\": \"scatter\"}], \"scatter3d\": [{\"line\": {\"colorbar\": {\"outlinewidth\": 0, \"ticks\": \"\"}}, \"marker\": {\"colorbar\": {\"outlinewidth\": 0, \"ticks\": \"\"}}, \"type\": \"scatter3d\"}], \"scattercarpet\": [{\"marker\": {\"colorbar\": {\"outlinewidth\": 0, \"ticks\": \"\"}}, \"type\": \"scattercarpet\"}], \"scattergeo\": [{\"marker\": {\"colorbar\": {\"outlinewidth\": 0, \"ticks\": \"\"}}, \"type\": \"scattergeo\"}], \"scattergl\": [{\"marker\": {\"colorbar\": {\"outlinewidth\": 0, \"ticks\": \"\"}}, \"type\": \"scattergl\"}], \"scattermapbox\": [{\"marker\": {\"colorbar\": {\"outlinewidth\": 0, \"ticks\": \"\"}}, \"type\": \"scattermapbox\"}], \"scatterpolar\": [{\"marker\": {\"colorbar\": {\"outlinewidth\": 0, \"ticks\": \"\"}}, \"type\": \"scatterpolar\"}], \"scatterpolargl\": [{\"marker\": {\"colorbar\": {\"outlinewidth\": 0, \"ticks\": \"\"}}, \"type\": \"scatterpolargl\"}], \"scatterternary\": [{\"marker\": {\"colorbar\": {\"outlinewidth\": 0, \"ticks\": \"\"}}, \"type\": \"scatterternary\"}], \"surface\": [{\"colorbar\": {\"outlinewidth\": 0, \"ticks\": \"\"}, \"colorscale\": [[0.0, \"#0d0887\"], [0.1111111111111111, \"#46039f\"], [0.2222222222222222, \"#7201a8\"], [0.3333333333333333, \"#9c179e\"], [0.4444444444444444, \"#bd3786\"], [0.5555555555555556, \"#d8576b\"], [0.6666666666666666, \"#ed7953\"], [0.7777777777777778, \"#fb9f3a\"], [0.8888888888888888, \"#fdca26\"], [1.0, \"#f0f921\"]], \"type\": \"surface\"}], \"table\": [{\"cells\": {\"fill\": {\"color\": \"#EBF0F8\"}, \"line\": {\"color\": \"white\"}}, \"header\": {\"fill\": {\"color\": \"#C8D4E3\"}, \"line\": {\"color\": \"white\"}}, \"type\": \"table\"}]}, \"layout\": {\"annotationdefaults\": {\"arrowcolor\": \"#2a3f5f\", \"arrowhead\": 0, \"arrowwidth\": 1}, \"autotypenumbers\": \"strict\", \"coloraxis\": {\"colorbar\": {\"outlinewidth\": 0, \"ticks\": \"\"}}, \"colorscale\": {\"diverging\": [[0, \"#8e0152\"], [0.1, \"#c51b7d\"], [0.2, \"#de77ae\"], [0.3, \"#f1b6da\"], [0.4, \"#fde0ef\"], [0.5, \"#f7f7f7\"], [0.6, \"#e6f5d0\"], [0.7, \"#b8e186\"], [0.8, \"#7fbc41\"], [0.9, \"#4d9221\"], [1, \"#276419\"]], \"sequential\": [[0.0, \"#0d0887\"], [0.1111111111111111, \"#46039f\"], [0.2222222222222222, \"#7201a8\"], [0.3333333333333333, \"#9c179e\"], [0.4444444444444444, \"#bd3786\"], [0.5555555555555556, \"#d8576b\"], [0.6666666666666666, \"#ed7953\"], [0.7777777777777778, \"#fb9f3a\"], [0.8888888888888888, \"#fdca26\"], [1.0, \"#f0f921\"]], \"sequentialminus\": [[0.0, \"#0d0887\"], [0.1111111111111111, \"#46039f\"], [0.2222222222222222, \"#7201a8\"], [0.3333333333333333, \"#9c179e\"], [0.4444444444444444, \"#bd3786\"], [0.5555555555555556, \"#d8576b\"], [0.6666666666666666, \"#ed7953\"], [0.7777777777777778, \"#fb9f3a\"], [0.8888888888888888, \"#fdca26\"], [1.0, \"#f0f921\"]]}, \"colorway\": [\"#636efa\", \"#EF553B\", \"#00cc96\", \"#ab63fa\", \"#FFA15A\", \"#19d3f3\", \"#FF6692\", \"#B6E880\", \"#FF97FF\", \"#FECB52\"], \"font\": {\"color\": \"#2a3f5f\"}, \"geo\": {\"bgcolor\": \"white\", \"lakecolor\": \"white\", \"landcolor\": \"#E5ECF6\", \"showlakes\": true, \"showland\": true, \"subunitcolor\": \"white\"}, \"hoverlabel\": {\"align\": \"left\"}, \"hovermode\": \"closest\", \"mapbox\": {\"style\": \"light\"}, \"paper_bgcolor\": \"white\", \"plot_bgcolor\": \"#E5ECF6\", \"polar\": {\"angularaxis\": {\"gridcolor\": \"white\", \"linecolor\": \"white\", \"ticks\": \"\"}, \"bgcolor\": \"#E5ECF6\", \"radialaxis\": {\"gridcolor\": \"white\", \"linecolor\": \"white\", \"ticks\": \"\"}}, \"scene\": {\"xaxis\": {\"backgroundcolor\": \"#E5ECF6\", \"gridcolor\": \"white\", \"gridwidth\": 2, \"linecolor\": \"white\", \"showbackground\": true, \"ticks\": \"\", \"zerolinecolor\": \"white\"}, \"yaxis\": {\"backgroundcolor\": \"#E5ECF6\", \"gridcolor\": \"white\", \"gridwidth\": 2, \"linecolor\": \"white\", \"showbackground\": true, \"ticks\": \"\", \"zerolinecolor\": \"white\"}, \"zaxis\": {\"backgroundcolor\": \"#E5ECF6\", \"gridcolor\": \"white\", \"gridwidth\": 2, \"linecolor\": \"white\", \"showbackground\": true, \"ticks\": \"\", \"zerolinecolor\": \"white\"}}, \"shapedefaults\": {\"line\": {\"color\": \"#2a3f5f\"}}, \"ternary\": {\"aaxis\": {\"gridcolor\": \"white\", \"linecolor\": \"white\", \"ticks\": \"\"}, \"baxis\": {\"gridcolor\": \"white\", \"linecolor\": \"white\", \"ticks\": \"\"}, \"bgcolor\": \"#E5ECF6\", \"caxis\": {\"gridcolor\": \"white\", \"linecolor\": \"white\", \"ticks\": \"\"}}, \"title\": {\"x\": 0.05}, \"xaxis\": {\"automargin\": true, \"gridcolor\": \"white\", \"linecolor\": \"white\", \"ticks\": \"\", \"title\": {\"standoff\": 15}, \"zerolinecolor\": \"white\", \"zerolinewidth\": 2}, \"yaxis\": {\"automargin\": true, \"gridcolor\": \"white\", \"linecolor\": \"white\", \"ticks\": \"\", \"title\": {\"standoff\": 15}, \"zerolinecolor\": \"white\", \"zerolinewidth\": 2}}}, \"xaxis\": {\"anchor\": \"y\", \"domain\": [0.0, 0.7363], \"title\": {\"text\": \"Total Male\"}}, \"xaxis2\": {\"anchor\": \"y2\", \"domain\": [0.7413, 1.0], \"matches\": \"x2\", \"showgrid\": false, \"showline\": false, \"showticklabels\": false, \"ticks\": \"\"}, \"xaxis3\": {\"anchor\": \"y3\", \"domain\": [0.0, 0.7363], \"matches\": \"x\", \"showgrid\": true, \"showticklabels\": false}, \"xaxis4\": {\"anchor\": \"y4\", \"domain\": [0.7413, 1.0], \"matches\": \"x2\", \"showgrid\": false, \"showline\": false, \"showticklabels\": false, \"ticks\": \"\"}, \"yaxis\": {\"anchor\": \"x\", \"domain\": [0.0, 0.7326], \"title\": {\"text\": \"Total Female\"}}, \"yaxis2\": {\"anchor\": \"x2\", \"domain\": [0.0, 0.7326], \"matches\": \"y\", \"showgrid\": true, \"showticklabels\": false}, \"yaxis3\": {\"anchor\": \"x3\", \"domain\": [0.7426, 1.0], \"matches\": \"y3\", \"showgrid\": false, \"showline\": false, \"showticklabels\": false, \"ticks\": \"\"}, \"yaxis4\": {\"anchor\": \"x4\", \"domain\": [0.7426, 1.0], \"matches\": \"y3\", \"showgrid\": true, \"showline\": false, \"showticklabels\": false, \"ticks\": \"\"}},                        {\"responsive\": true}                    ).then(function(){\n",
              "                            \n",
              "var gd = document.getElementById('234b4679-76fa-48ab-92ca-521486f0125d');\n",
              "var x = new MutationObserver(function (mutations, observer) {{\n",
              "        var display = window.getComputedStyle(gd).display;\n",
              "        if (!display || display === 'none') {{\n",
              "            console.log([gd, 'removed!']);\n",
              "            Plotly.purge(gd);\n",
              "            observer.disconnect();\n",
              "        }}\n",
              "}});\n",
              "\n",
              "// Listen for the removal of the full notebook cells\n",
              "var notebookContainer = gd.closest('#notebook-container');\n",
              "if (notebookContainer) {{\n",
              "    x.observe(notebookContainer, {childList: true});\n",
              "}}\n",
              "\n",
              "// Listen for the clearing of the current output cell\n",
              "var outputEl = gd.closest('.output');\n",
              "if (outputEl) {{\n",
              "    x.observe(outputEl, {childList: true});\n",
              "}}\n",
              "\n",
              "                        })                };                            </script>        </div>\n",
              "</body>\n",
              "</html>"
            ]
          },
          "metadata": {
            "tags": []
          }
        }
      ]
    },
    {
      "cell_type": "markdown",
      "metadata": {
        "id": "oUU7n8UGPxC4"
      },
      "source": [
        "INFERENCE : Distribution of males is in the range (69,731) with majority in the range (133,461), and that of females is in the range (88,1773) with majority in range (262,1139). On average, males = 260 and females = 697. The scale of x and y axes itself explains that the number of women involved is much higher."
      ]
    },
    {
      "cell_type": "markdown",
      "metadata": {
        "id": "NM4zQMSbV-oC"
      },
      "source": [
        "# **12) Variation across age of females involved in crimes in North East India**\n",
        "\n",
        "_Parallel Coordinates Plot using plotly_"
      ]
    },
    {
      "cell_type": "code",
      "metadata": {
        "id": "VublKRPBn5u6",
        "colab": {
          "base_uri": "https://localhost:8080/",
          "height": 365
        },
        "outputId": "d32a65ba-ff0e-4778-e461-95098449f5c0"
      },
      "source": [
        "df_females_ne = df_total\n",
        "northeast = ['Arunachal Pradesh', 'Assam', 'Manipur', 'Meghalaya', 'Mizoram', 'Nagaland', 'Tripura', 'Sikkim']\n",
        "df_females_ne = df_females_ne.loc[df_females_ne[\"STATE/UT\"].isin(northeast)]\n",
        "df_females_ne.head()"
      ],
      "execution_count": null,
      "outputs": [
        {
          "output_type": "execute_result",
          "data": {
            "text/html": [
              "<div>\n",
              "<style scoped>\n",
              "    .dataframe tbody tr th:only-of-type {\n",
              "        vertical-align: middle;\n",
              "    }\n",
              "\n",
              "    .dataframe tbody tr th {\n",
              "        vertical-align: top;\n",
              "    }\n",
              "\n",
              "    .dataframe thead th {\n",
              "        text-align: right;\n",
              "    }\n",
              "</style>\n",
              "<table border=\"1\" class=\"dataframe\">\n",
              "  <thead>\n",
              "    <tr style=\"text-align: right;\">\n",
              "      <th></th>\n",
              "      <th>STATE/UT</th>\n",
              "      <th>YEAR</th>\n",
              "      <th>Purpose</th>\n",
              "      <th>Total No. of cases reported</th>\n",
              "      <th>Male upto 10 years</th>\n",
              "      <th>Female upto 10 years</th>\n",
              "      <th>Male 10-15 years</th>\n",
              "      <th>Female 10-15 years</th>\n",
              "      <th>Male 15-18 years</th>\n",
              "      <th>Female 15-18 years</th>\n",
              "      <th>Male 18-30 years</th>\n",
              "      <th>Female 18-30 years</th>\n",
              "      <th>Male 30-50 years</th>\n",
              "      <th>Female 30-50 years</th>\n",
              "      <th>Male above 50 years</th>\n",
              "      <th>Female above 50 years</th>\n",
              "      <th>Total Male</th>\n",
              "      <th>Total Female</th>\n",
              "      <th>Grand Total</th>\n",
              "    </tr>\n",
              "  </thead>\n",
              "  <tbody>\n",
              "    <tr>\n",
              "      <th>181</th>\n",
              "      <td>Arunachal Pradesh</td>\n",
              "      <td>2001</td>\n",
              "      <td>Total</td>\n",
              "      <td>83</td>\n",
              "      <td>0</td>\n",
              "      <td>0</td>\n",
              "      <td>0</td>\n",
              "      <td>0</td>\n",
              "      <td>0</td>\n",
              "      <td>0</td>\n",
              "      <td>16</td>\n",
              "      <td>51</td>\n",
              "      <td>12</td>\n",
              "      <td>4</td>\n",
              "      <td>0</td>\n",
              "      <td>0</td>\n",
              "      <td>28</td>\n",
              "      <td>55</td>\n",
              "      <td>83</td>\n",
              "    </tr>\n",
              "    <tr>\n",
              "      <th>195</th>\n",
              "      <td>Arunachal Pradesh</td>\n",
              "      <td>2002</td>\n",
              "      <td>Total</td>\n",
              "      <td>57</td>\n",
              "      <td>0</td>\n",
              "      <td>0</td>\n",
              "      <td>0</td>\n",
              "      <td>0</td>\n",
              "      <td>0</td>\n",
              "      <td>3</td>\n",
              "      <td>19</td>\n",
              "      <td>34</td>\n",
              "      <td>0</td>\n",
              "      <td>1</td>\n",
              "      <td>0</td>\n",
              "      <td>0</td>\n",
              "      <td>19</td>\n",
              "      <td>38</td>\n",
              "      <td>57</td>\n",
              "    </tr>\n",
              "    <tr>\n",
              "      <th>209</th>\n",
              "      <td>Arunachal Pradesh</td>\n",
              "      <td>2003</td>\n",
              "      <td>Total</td>\n",
              "      <td>68</td>\n",
              "      <td>0</td>\n",
              "      <td>0</td>\n",
              "      <td>1</td>\n",
              "      <td>8</td>\n",
              "      <td>0</td>\n",
              "      <td>0</td>\n",
              "      <td>16</td>\n",
              "      <td>43</td>\n",
              "      <td>0</td>\n",
              "      <td>0</td>\n",
              "      <td>0</td>\n",
              "      <td>0</td>\n",
              "      <td>17</td>\n",
              "      <td>51</td>\n",
              "      <td>68</td>\n",
              "    </tr>\n",
              "    <tr>\n",
              "      <th>223</th>\n",
              "      <td>Arunachal Pradesh</td>\n",
              "      <td>2004</td>\n",
              "      <td>Total</td>\n",
              "      <td>65</td>\n",
              "      <td>0</td>\n",
              "      <td>0</td>\n",
              "      <td>0</td>\n",
              "      <td>8</td>\n",
              "      <td>0</td>\n",
              "      <td>0</td>\n",
              "      <td>18</td>\n",
              "      <td>33</td>\n",
              "      <td>6</td>\n",
              "      <td>0</td>\n",
              "      <td>0</td>\n",
              "      <td>0</td>\n",
              "      <td>24</td>\n",
              "      <td>41</td>\n",
              "      <td>65</td>\n",
              "    </tr>\n",
              "    <tr>\n",
              "      <th>237</th>\n",
              "      <td>Arunachal Pradesh</td>\n",
              "      <td>2005</td>\n",
              "      <td>Total</td>\n",
              "      <td>58</td>\n",
              "      <td>0</td>\n",
              "      <td>0</td>\n",
              "      <td>4</td>\n",
              "      <td>6</td>\n",
              "      <td>0</td>\n",
              "      <td>2</td>\n",
              "      <td>14</td>\n",
              "      <td>30</td>\n",
              "      <td>1</td>\n",
              "      <td>1</td>\n",
              "      <td>0</td>\n",
              "      <td>0</td>\n",
              "      <td>19</td>\n",
              "      <td>39</td>\n",
              "      <td>58</td>\n",
              "    </tr>\n",
              "  </tbody>\n",
              "</table>\n",
              "</div>"
            ],
            "text/plain": [
              "              STATE/UT  YEAR Purpose  ...  Total Male  Total Female  Grand Total\n",
              "181  Arunachal Pradesh  2001   Total  ...          28            55           83\n",
              "195  Arunachal Pradesh  2002   Total  ...          19            38           57\n",
              "209  Arunachal Pradesh  2003   Total  ...          17            51           68\n",
              "223  Arunachal Pradesh  2004   Total  ...          24            41           65\n",
              "237  Arunachal Pradesh  2005   Total  ...          19            39           58\n",
              "\n",
              "[5 rows x 19 columns]"
            ]
          },
          "metadata": {
            "tags": []
          },
          "execution_count": 31
        }
      ]
    },
    {
      "cell_type": "code",
      "metadata": {
        "colab": {
          "base_uri": "https://localhost:8080/"
        },
        "id": "1ZzyDBP7wgnQ",
        "outputId": "4cdd39f6-dcfb-4046-88b5-73a50b9a2090"
      },
      "source": [
        "# non-numeric values need to be mapped to numeric form inorder to do a parallel coordinate plot\n",
        "from sklearn.preprocessing import LabelEncoder\n",
        "le = LabelEncoder()\n",
        "df_females_ne['Encoded STATE/UT'] = le.fit_transform(df_females_ne['STATE/UT'])"
      ],
      "execution_count": null,
      "outputs": [
        {
          "output_type": "stream",
          "text": [
            "/usr/local/lib/python3.7/dist-packages/ipykernel_launcher.py:4: SettingWithCopyWarning:\n",
            "\n",
            "\n",
            "A value is trying to be set on a copy of a slice from a DataFrame.\n",
            "Try using .loc[row_indexer,col_indexer] = value instead\n",
            "\n",
            "See the caveats in the documentation: https://pandas.pydata.org/pandas-docs/stable/user_guide/indexing.html#returning-a-view-versus-a-copy\n",
            "\n"
          ],
          "name": "stderr"
        }
      ]
    },
    {
      "cell_type": "code",
      "metadata": {
        "colab": {
          "base_uri": "https://localhost:8080/"
        },
        "id": "k00Jms2I0v6V",
        "outputId": "a00d0731-8538-41e6-b310-d42be701f699"
      },
      "source": [
        "print(df_females_ne['STATE/UT'].unique())\n",
        "print(df_females_ne['Encoded STATE/UT'].unique())"
      ],
      "execution_count": null,
      "outputs": [
        {
          "output_type": "stream",
          "text": [
            "['Arunachal Pradesh' 'Assam' 'Manipur' 'Meghalaya' 'Mizoram' 'Nagaland'\n",
            " 'Sikkim' 'Tripura']\n",
            "[0 1 2 3 4 5 6 7]\n"
          ],
          "name": "stdout"
        }
      ]
    },
    {
      "cell_type": "code",
      "metadata": {
        "colab": {
          "base_uri": "https://localhost:8080/",
          "height": 542
        },
        "id": "lRmn4O-Jrfkf",
        "outputId": "c258b51b-9d56-4354-ceae-75b32a2a28cd"
      },
      "source": [
        "dim = ['Female upto 10 years', 'Female 10-15 years', 'Female 15-18 years', 'Female 18-30 years', 'Female 30-50 years', 'Female above 50 years']\n",
        "fig = px.parallel_coordinates(df_females_ne, color = 'Encoded STATE/UT', dimensions=dim)\n",
        "fig.show()"
      ],
      "execution_count": null,
      "outputs": [
        {
          "output_type": "display_data",
          "data": {
            "text/html": [
              "<html>\n",
              "<head><meta charset=\"utf-8\" /></head>\n",
              "<body>\n",
              "    <div>            <script src=\"https://cdnjs.cloudflare.com/ajax/libs/mathjax/2.7.5/MathJax.js?config=TeX-AMS-MML_SVG\"></script><script type=\"text/javascript\">if (window.MathJax) {MathJax.Hub.Config({SVG: {font: \"STIX-Web\"}});}</script>                <script type=\"text/javascript\">window.PlotlyConfig = {MathJaxConfig: 'local'};</script>\n",
              "        <script src=\"https://cdn.plot.ly/plotly-latest.min.js\"></script>                <div id=\"8ae646db-bf7f-44d6-bdba-b90e19005438\" class=\"plotly-graph-div\" style=\"height:525px; width:100%;\"></div>            <script type=\"text/javascript\">                                    window.PLOTLYENV=window.PLOTLYENV || {};                                    if (document.getElementById(\"8ae646db-bf7f-44d6-bdba-b90e19005438\")) {                    Plotly.newPlot(                        \"8ae646db-bf7f-44d6-bdba-b90e19005438\",                        [{\"dimensions\": [{\"label\": \"Female upto 10 years\", \"values\": [0, 0, 0, 0, 0, 0, 0, 0, 2, 0, 0, 1, 5, 0, 0, 2, 0, 0, 0, 1, 0, 0, 0, 0, 0, 0, 0, 0, 1, 0, 4, 1, 1, 1, 2, 2, 0, 0, 0, 1, 0, 1, 0, 0, 0, 3, 4, 1, 0, 0, 0, 0, 0, 0, 0, 2, 1, 0, 0, 1, 1, 0, 0, 0, 0, 2, 2, 0, 0, 1, 0, 1, 0, 0, 0, 0, 0, 0, 1, 0, 0, 0, 1, 1, 0, 0, 0, 1, 2, 0, 0, 0, 0, 0, 18, 0]}, {\"label\": \"Female 10-15 years\", \"values\": [0, 0, 8, 8, 6, 20, 3, 13, 8, 5, 15, 10, 41, 0, 0, 0, 0, 0, 0, 4, 2, 5, 7, 16, 7, 0, 6, 0, 4, 11, 10, 24, 3, 12, 22, 25, 2, 2, 2, 4, 4, 6, 4, 4, 2, 2, 3, 2, 0, 0, 3, 0, 0, 0, 0, 0, 0, 0, 3, 0, 0, 0, 0, 0, 0, 1, 2, 0, 0, 2, 0, 1, 0, 0, 0, 1, 0, 2, 0, 0, 5, 1, 2, 2, 18, 0, 0, 2, 0, 0, 5, 3, 0, 8, 41, 4]}, {\"label\": \"Female 15-18 years\", \"values\": [0, 3, 0, 0, 2, 7, 0, 2, 0, 0, 0, 9, 451, 1, 0, 0, 18, 25, 29, 2, 3, 12, 22, 52, 27, 42, 20, 27, 8, 19, 32, 30, 45, 44, 45, 61, 2, 1, 3, 7, 6, 13, 3, 10, 6, 7, 10, 2, 1, 0, 0, 0, 0, 0, 0, 0, 0, 0, 0, 0, 5, 1, 0, 0, 0, 1, 0, 3, 0, 2, 0, 2, 0, 0, 0, 1, 1, 3, 7, 4, 2, 5, 8, 5, 11, 0, 0, 8, 0, 0, 6, 26, 14, 11, 36, 25]}, {\"label\": \"Female 18-30 years\", \"values\": [51, 34, 43, 33, 30, 24, 41, 30, 18, 34, 44, 37, 482, 688, 942, 1284, 1228, 1258, 846, 1046, 1207, 2168, 2328, 2387, 28, 33, 43, 38, 49, 43, 39, 58, 49, 53, 41, 48, 1, 7, 2, 8, 8, 18, 15, 12, 16, 9, 21, 23, 2, 1, 0, 2, 2, 1, 2, 1, 1, 1, 1, 1, 2, 2, 2, 0, 2, 1, 2, 4, 5, 4, 6, 4, 0, 3, 0, 0, 1, 2, 1, 1, 1, 0, 4, 1, 6, 106, 13, 44, 41, 57, 56, 80, 71, 57, 25, 77]}, {\"label\": \"Female 30-50 years\", \"values\": [4, 1, 0, 0, 1, 0, 0, 2, 0, 7, 1, 1, 39, 593, 408, 266, 210, 261, 667, 736, 880, 582, 1053, 1015, 0, 7, 2, 5, 8, 6, 7, 8, 4, 9, 8, 12, 1, 0, 2, 0, 0, 0, 0, 2, 1, 3, 1, 4, 0, 3, 0, 0, 0, 0, 0, 0, 0, 0, 1, 1, 0, 1, 0, 0, 1, 0, 2, 1, 2, 0, 1, 0, 0, 6, 0, 1, 0, 0, 0, 0, 0, 0, 0, 1, 8, 17, 20, 0, 0, 4, 14, 1, 7, 18, 0, 8]}, {\"label\": \"Female above 50 years\", \"values\": [0, 0, 0, 0, 0, 0, 0, 0, 0, 0, 0, 0, 52, 0, 1, 0, 0, 0, 0, 0, 0, 0, 0, 0, 0, 0, 0, 0, 0, 0, 0, 0, 0, 5, 0, 0, 0, 0, 0, 0, 0, 0, 0, 0, 0, 0, 0, 0, 0, 0, 0, 3, 3, 0, 0, 0, 0, 0, 0, 0, 0, 0, 0, 0, 0, 0, 0, 0, 0, 0, 0, 0, 0, 0, 0, 0, 0, 0, 0, 0, 0, 0, 0, 0, 0, 0, 8, 0, 0, 1, 0, 0, 0, 0, 0, 0]}], \"domain\": {\"x\": [0.0, 1.0], \"y\": [0.0, 1.0]}, \"line\": {\"color\": [0, 0, 0, 0, 0, 0, 0, 0, 0, 0, 0, 0, 1, 1, 1, 1, 1, 1, 1, 1, 1, 1, 1, 1, 2, 2, 2, 2, 2, 2, 2, 2, 2, 2, 2, 2, 3, 3, 3, 3, 3, 3, 3, 3, 3, 3, 3, 3, 4, 4, 4, 4, 4, 4, 4, 4, 4, 4, 4, 4, 5, 5, 5, 5, 5, 5, 5, 5, 5, 5, 5, 5, 6, 6, 6, 6, 6, 6, 6, 6, 6, 6, 6, 6, 7, 7, 7, 7, 7, 7, 7, 7, 7, 7, 7, 7], \"coloraxis\": \"coloraxis\"}, \"name\": \"\", \"type\": \"parcoords\"}],                        {\"coloraxis\": {\"colorbar\": {\"title\": {\"text\": \"Encoded STATE/UT\"}}, \"colorscale\": [[0.0, \"#0d0887\"], [0.1111111111111111, \"#46039f\"], [0.2222222222222222, \"#7201a8\"], [0.3333333333333333, \"#9c179e\"], [0.4444444444444444, \"#bd3786\"], [0.5555555555555556, \"#d8576b\"], [0.6666666666666666, \"#ed7953\"], [0.7777777777777778, \"#fb9f3a\"], [0.8888888888888888, \"#fdca26\"], [1.0, \"#f0f921\"]]}, \"legend\": {\"tracegroupgap\": 0}, \"margin\": {\"t\": 60}, \"template\": {\"data\": {\"bar\": [{\"error_x\": {\"color\": \"#2a3f5f\"}, \"error_y\": {\"color\": \"#2a3f5f\"}, \"marker\": {\"line\": {\"color\": \"#E5ECF6\", \"width\": 0.5}}, \"type\": \"bar\"}], \"barpolar\": [{\"marker\": {\"line\": {\"color\": \"#E5ECF6\", \"width\": 0.5}}, \"type\": \"barpolar\"}], \"carpet\": [{\"aaxis\": {\"endlinecolor\": \"#2a3f5f\", \"gridcolor\": \"white\", \"linecolor\": \"white\", \"minorgridcolor\": \"white\", \"startlinecolor\": \"#2a3f5f\"}, \"baxis\": {\"endlinecolor\": \"#2a3f5f\", \"gridcolor\": \"white\", \"linecolor\": \"white\", \"minorgridcolor\": \"white\", \"startlinecolor\": \"#2a3f5f\"}, \"type\": \"carpet\"}], \"choropleth\": [{\"colorbar\": {\"outlinewidth\": 0, \"ticks\": \"\"}, \"type\": \"choropleth\"}], \"contour\": [{\"colorbar\": {\"outlinewidth\": 0, \"ticks\": \"\"}, \"colorscale\": [[0.0, \"#0d0887\"], [0.1111111111111111, \"#46039f\"], [0.2222222222222222, \"#7201a8\"], [0.3333333333333333, \"#9c179e\"], [0.4444444444444444, \"#bd3786\"], [0.5555555555555556, \"#d8576b\"], [0.6666666666666666, \"#ed7953\"], [0.7777777777777778, \"#fb9f3a\"], [0.8888888888888888, \"#fdca26\"], [1.0, \"#f0f921\"]], \"type\": \"contour\"}], \"contourcarpet\": [{\"colorbar\": {\"outlinewidth\": 0, \"ticks\": \"\"}, \"type\": \"contourcarpet\"}], \"heatmap\": [{\"colorbar\": {\"outlinewidth\": 0, \"ticks\": \"\"}, \"colorscale\": [[0.0, \"#0d0887\"], [0.1111111111111111, \"#46039f\"], [0.2222222222222222, \"#7201a8\"], [0.3333333333333333, \"#9c179e\"], [0.4444444444444444, \"#bd3786\"], [0.5555555555555556, \"#d8576b\"], [0.6666666666666666, \"#ed7953\"], [0.7777777777777778, \"#fb9f3a\"], [0.8888888888888888, \"#fdca26\"], [1.0, \"#f0f921\"]], \"type\": \"heatmap\"}], \"heatmapgl\": [{\"colorbar\": {\"outlinewidth\": 0, \"ticks\": \"\"}, \"colorscale\": [[0.0, \"#0d0887\"], [0.1111111111111111, \"#46039f\"], [0.2222222222222222, \"#7201a8\"], [0.3333333333333333, \"#9c179e\"], [0.4444444444444444, \"#bd3786\"], [0.5555555555555556, \"#d8576b\"], [0.6666666666666666, \"#ed7953\"], [0.7777777777777778, \"#fb9f3a\"], [0.8888888888888888, \"#fdca26\"], [1.0, \"#f0f921\"]], \"type\": \"heatmapgl\"}], \"histogram\": [{\"marker\": {\"colorbar\": {\"outlinewidth\": 0, \"ticks\": \"\"}}, \"type\": \"histogram\"}], \"histogram2d\": [{\"colorbar\": {\"outlinewidth\": 0, \"ticks\": \"\"}, \"colorscale\": [[0.0, \"#0d0887\"], [0.1111111111111111, \"#46039f\"], [0.2222222222222222, \"#7201a8\"], [0.3333333333333333, \"#9c179e\"], [0.4444444444444444, \"#bd3786\"], [0.5555555555555556, \"#d8576b\"], [0.6666666666666666, \"#ed7953\"], [0.7777777777777778, \"#fb9f3a\"], [0.8888888888888888, \"#fdca26\"], [1.0, \"#f0f921\"]], \"type\": \"histogram2d\"}], \"histogram2dcontour\": [{\"colorbar\": {\"outlinewidth\": 0, \"ticks\": \"\"}, \"colorscale\": [[0.0, \"#0d0887\"], [0.1111111111111111, \"#46039f\"], [0.2222222222222222, \"#7201a8\"], [0.3333333333333333, \"#9c179e\"], [0.4444444444444444, \"#bd3786\"], [0.5555555555555556, \"#d8576b\"], [0.6666666666666666, \"#ed7953\"], [0.7777777777777778, \"#fb9f3a\"], [0.8888888888888888, \"#fdca26\"], [1.0, \"#f0f921\"]], \"type\": \"histogram2dcontour\"}], \"mesh3d\": [{\"colorbar\": {\"outlinewidth\": 0, \"ticks\": \"\"}, \"type\": \"mesh3d\"}], \"parcoords\": [{\"line\": {\"colorbar\": {\"outlinewidth\": 0, \"ticks\": \"\"}}, \"type\": \"parcoords\"}], \"pie\": [{\"automargin\": true, \"type\": \"pie\"}], \"scatter\": [{\"marker\": {\"colorbar\": {\"outlinewidth\": 0, \"ticks\": \"\"}}, \"type\": \"scatter\"}], \"scatter3d\": [{\"line\": {\"colorbar\": {\"outlinewidth\": 0, \"ticks\": \"\"}}, \"marker\": {\"colorbar\": {\"outlinewidth\": 0, \"ticks\": \"\"}}, \"type\": \"scatter3d\"}], \"scattercarpet\": [{\"marker\": {\"colorbar\": {\"outlinewidth\": 0, \"ticks\": \"\"}}, \"type\": \"scattercarpet\"}], \"scattergeo\": [{\"marker\": {\"colorbar\": {\"outlinewidth\": 0, \"ticks\": \"\"}}, \"type\": \"scattergeo\"}], \"scattergl\": [{\"marker\": {\"colorbar\": {\"outlinewidth\": 0, \"ticks\": \"\"}}, \"type\": \"scattergl\"}], \"scattermapbox\": [{\"marker\": {\"colorbar\": {\"outlinewidth\": 0, \"ticks\": \"\"}}, \"type\": \"scattermapbox\"}], \"scatterpolar\": [{\"marker\": {\"colorbar\": {\"outlinewidth\": 0, \"ticks\": \"\"}}, \"type\": \"scatterpolar\"}], \"scatterpolargl\": [{\"marker\": {\"colorbar\": {\"outlinewidth\": 0, \"ticks\": \"\"}}, \"type\": \"scatterpolargl\"}], \"scatterternary\": [{\"marker\": {\"colorbar\": {\"outlinewidth\": 0, \"ticks\": \"\"}}, \"type\": \"scatterternary\"}], \"surface\": [{\"colorbar\": {\"outlinewidth\": 0, \"ticks\": \"\"}, \"colorscale\": [[0.0, \"#0d0887\"], [0.1111111111111111, \"#46039f\"], [0.2222222222222222, \"#7201a8\"], [0.3333333333333333, \"#9c179e\"], [0.4444444444444444, \"#bd3786\"], [0.5555555555555556, \"#d8576b\"], [0.6666666666666666, \"#ed7953\"], [0.7777777777777778, \"#fb9f3a\"], [0.8888888888888888, \"#fdca26\"], [1.0, \"#f0f921\"]], \"type\": \"surface\"}], \"table\": [{\"cells\": {\"fill\": {\"color\": \"#EBF0F8\"}, \"line\": {\"color\": \"white\"}}, \"header\": {\"fill\": {\"color\": \"#C8D4E3\"}, \"line\": {\"color\": \"white\"}}, \"type\": \"table\"}]}, \"layout\": {\"annotationdefaults\": {\"arrowcolor\": \"#2a3f5f\", \"arrowhead\": 0, \"arrowwidth\": 1}, \"autotypenumbers\": \"strict\", \"coloraxis\": {\"colorbar\": {\"outlinewidth\": 0, \"ticks\": \"\"}}, \"colorscale\": {\"diverging\": [[0, \"#8e0152\"], [0.1, \"#c51b7d\"], [0.2, \"#de77ae\"], [0.3, \"#f1b6da\"], [0.4, \"#fde0ef\"], [0.5, \"#f7f7f7\"], [0.6, \"#e6f5d0\"], [0.7, \"#b8e186\"], [0.8, \"#7fbc41\"], [0.9, \"#4d9221\"], [1, \"#276419\"]], \"sequential\": [[0.0, \"#0d0887\"], [0.1111111111111111, \"#46039f\"], [0.2222222222222222, \"#7201a8\"], [0.3333333333333333, \"#9c179e\"], [0.4444444444444444, \"#bd3786\"], [0.5555555555555556, \"#d8576b\"], [0.6666666666666666, \"#ed7953\"], [0.7777777777777778, \"#fb9f3a\"], [0.8888888888888888, \"#fdca26\"], [1.0, \"#f0f921\"]], \"sequentialminus\": [[0.0, \"#0d0887\"], [0.1111111111111111, \"#46039f\"], [0.2222222222222222, \"#7201a8\"], [0.3333333333333333, \"#9c179e\"], [0.4444444444444444, \"#bd3786\"], [0.5555555555555556, \"#d8576b\"], [0.6666666666666666, \"#ed7953\"], [0.7777777777777778, \"#fb9f3a\"], [0.8888888888888888, \"#fdca26\"], [1.0, \"#f0f921\"]]}, \"colorway\": [\"#636efa\", \"#EF553B\", \"#00cc96\", \"#ab63fa\", \"#FFA15A\", \"#19d3f3\", \"#FF6692\", \"#B6E880\", \"#FF97FF\", \"#FECB52\"], \"font\": {\"color\": \"#2a3f5f\"}, \"geo\": {\"bgcolor\": \"white\", \"lakecolor\": \"white\", \"landcolor\": \"#E5ECF6\", \"showlakes\": true, \"showland\": true, \"subunitcolor\": \"white\"}, \"hoverlabel\": {\"align\": \"left\"}, \"hovermode\": \"closest\", \"mapbox\": {\"style\": \"light\"}, \"paper_bgcolor\": \"white\", \"plot_bgcolor\": \"#E5ECF6\", \"polar\": {\"angularaxis\": {\"gridcolor\": \"white\", \"linecolor\": \"white\", \"ticks\": \"\"}, \"bgcolor\": \"#E5ECF6\", \"radialaxis\": {\"gridcolor\": \"white\", \"linecolor\": \"white\", \"ticks\": \"\"}}, \"scene\": {\"xaxis\": {\"backgroundcolor\": \"#E5ECF6\", \"gridcolor\": \"white\", \"gridwidth\": 2, \"linecolor\": \"white\", \"showbackground\": true, \"ticks\": \"\", \"zerolinecolor\": \"white\"}, \"yaxis\": {\"backgroundcolor\": \"#E5ECF6\", \"gridcolor\": \"white\", \"gridwidth\": 2, \"linecolor\": \"white\", \"showbackground\": true, \"ticks\": \"\", \"zerolinecolor\": \"white\"}, \"zaxis\": {\"backgroundcolor\": \"#E5ECF6\", \"gridcolor\": \"white\", \"gridwidth\": 2, \"linecolor\": \"white\", \"showbackground\": true, \"ticks\": \"\", \"zerolinecolor\": \"white\"}}, \"shapedefaults\": {\"line\": {\"color\": \"#2a3f5f\"}}, \"ternary\": {\"aaxis\": {\"gridcolor\": \"white\", \"linecolor\": \"white\", \"ticks\": \"\"}, \"baxis\": {\"gridcolor\": \"white\", \"linecolor\": \"white\", \"ticks\": \"\"}, \"bgcolor\": \"#E5ECF6\", \"caxis\": {\"gridcolor\": \"white\", \"linecolor\": \"white\", \"ticks\": \"\"}}, \"title\": {\"x\": 0.05}, \"xaxis\": {\"automargin\": true, \"gridcolor\": \"white\", \"linecolor\": \"white\", \"ticks\": \"\", \"title\": {\"standoff\": 15}, \"zerolinecolor\": \"white\", \"zerolinewidth\": 2}, \"yaxis\": {\"automargin\": true, \"gridcolor\": \"white\", \"linecolor\": \"white\", \"ticks\": \"\", \"title\": {\"standoff\": 15}, \"zerolinecolor\": \"white\", \"zerolinewidth\": 2}}}},                        {\"responsive\": true}                    ).then(function(){\n",
              "                            \n",
              "var gd = document.getElementById('8ae646db-bf7f-44d6-bdba-b90e19005438');\n",
              "var x = new MutationObserver(function (mutations, observer) {{\n",
              "        var display = window.getComputedStyle(gd).display;\n",
              "        if (!display || display === 'none') {{\n",
              "            console.log([gd, 'removed!']);\n",
              "            Plotly.purge(gd);\n",
              "            observer.disconnect();\n",
              "        }}\n",
              "}});\n",
              "\n",
              "// Listen for the removal of the full notebook cells\n",
              "var notebookContainer = gd.closest('#notebook-container');\n",
              "if (notebookContainer) {{\n",
              "    x.observe(notebookContainer, {childList: true});\n",
              "}}\n",
              "\n",
              "// Listen for the clearing of the current output cell\n",
              "var outputEl = gd.closest('.output');\n",
              "if (outputEl) {{\n",
              "    x.observe(outputEl, {childList: true});\n",
              "}}\n",
              "\n",
              "                        })                };                            </script>        </div>\n",
              "</body>\n",
              "</html>"
            ]
          },
          "metadata": {
            "tags": []
          }
        }
      ]
    },
    {
      "cell_type": "markdown",
      "metadata": {
        "id": "3yvbU63EQgMs"
      },
      "source": [
        "INFERENCE : In females upto the age of 18, almost all states have a significant number of cases. Above the age of 18, Tripura, Sikkim and Nagaland have very less number of cases. Major contributors in this age group are from Arunachal Pradesh, Assam and Manipur. In females upto 10 years, Tripura is the highest. The axes of each age group gives us the conclusion that age group 18-30 has the most number of cases, and upto 10 has the least."
      ]
    },
    {
      "cell_type": "markdown",
      "metadata": {
        "id": "HmFmz0wdWThy"
      },
      "source": [
        "# **13) Trends in number of minor females (<18 years, age group wise) involved in crimes in the North Eastern states of India**\n",
        "\n",
        "_Scatter Matrix using plotly_\n"
      ]
    },
    {
      "cell_type": "code",
      "metadata": {
        "colab": {
          "base_uri": "https://localhost:8080/",
          "height": 542
        },
        "id": "drcn8m3sy_jt",
        "outputId": "3e114afc-44d7-48bf-b28a-e880789d40b5"
      },
      "source": [
        "dim = ['Female upto 10 years', 'Female 10-15 years', 'Female 15-18 years']\n",
        "fig = px.scatter_matrix(df_females_ne, dimensions = dim, color = 'STATE/UT', hover_data=['YEAR'])\n",
        "fig.show()"
      ],
      "execution_count": null,
      "outputs": [
        {
          "output_type": "display_data",
          "data": {
            "text/html": [
              "<html>\n",
              "<head><meta charset=\"utf-8\" /></head>\n",
              "<body>\n",
              "    <div>            <script src=\"https://cdnjs.cloudflare.com/ajax/libs/mathjax/2.7.5/MathJax.js?config=TeX-AMS-MML_SVG\"></script><script type=\"text/javascript\">if (window.MathJax) {MathJax.Hub.Config({SVG: {font: \"STIX-Web\"}});}</script>                <script type=\"text/javascript\">window.PlotlyConfig = {MathJaxConfig: 'local'};</script>\n",
              "        <script src=\"https://cdn.plot.ly/plotly-latest.min.js\"></script>                <div id=\"edd94dfa-c483-481e-bb3c-3f469200d03b\" class=\"plotly-graph-div\" style=\"height:525px; width:100%;\"></div>            <script type=\"text/javascript\">                                    window.PLOTLYENV=window.PLOTLYENV || {};                                    if (document.getElementById(\"edd94dfa-c483-481e-bb3c-3f469200d03b\")) {                    Plotly.newPlot(                        \"edd94dfa-c483-481e-bb3c-3f469200d03b\",                        [{\"customdata\": [[2001], [2002], [2003], [2004], [2005], [2006], [2007], [2008], [2009], [2010], [2011], [2012]], \"dimensions\": [{\"axis\": {\"matches\": true}, \"label\": \"Female upto 10 years\", \"values\": [0, 0, 0, 0, 0, 0, 0, 0, 2, 0, 0, 1]}, {\"axis\": {\"matches\": true}, \"label\": \"Female 10-15 years\", \"values\": [0, 0, 8, 8, 6, 20, 3, 13, 8, 5, 15, 10]}, {\"axis\": {\"matches\": true}, \"label\": \"Female 15-18 years\", \"values\": [0, 3, 0, 0, 2, 7, 0, 2, 0, 0, 0, 9]}], \"hovertemplate\": \"STATE/UT=Arunachal Pradesh<br>%{xaxis.title.text}=%{x}<br>%{yaxis.title.text}=%{y}<br>YEAR=%{customdata[0]}<extra></extra>\", \"legendgroup\": \"Arunachal Pradesh\", \"marker\": {\"color\": \"#636efa\", \"symbol\": \"circle\"}, \"name\": \"Arunachal Pradesh\", \"showlegend\": true, \"type\": \"splom\"}, {\"customdata\": [[2001], [2002], [2003], [2004], [2005], [2006], [2007], [2008], [2009], [2010], [2011], [2012]], \"dimensions\": [{\"axis\": {\"matches\": true}, \"label\": \"Female upto 10 years\", \"values\": [5, 0, 0, 2, 0, 0, 0, 1, 0, 0, 0, 0]}, {\"axis\": {\"matches\": true}, \"label\": \"Female 10-15 years\", \"values\": [41, 0, 0, 0, 0, 0, 0, 4, 2, 5, 7, 16]}, {\"axis\": {\"matches\": true}, \"label\": \"Female 15-18 years\", \"values\": [451, 1, 0, 0, 18, 25, 29, 2, 3, 12, 22, 52]}], \"hovertemplate\": \"STATE/UT=Assam<br>%{xaxis.title.text}=%{x}<br>%{yaxis.title.text}=%{y}<br>YEAR=%{customdata[0]}<extra></extra>\", \"legendgroup\": \"Assam\", \"marker\": {\"color\": \"#EF553B\", \"symbol\": \"circle\"}, \"name\": \"Assam\", \"showlegend\": true, \"type\": \"splom\"}, {\"customdata\": [[2001], [2002], [2003], [2004], [2005], [2006], [2007], [2008], [2009], [2010], [2011], [2012]], \"dimensions\": [{\"axis\": {\"matches\": true}, \"label\": \"Female upto 10 years\", \"values\": [0, 0, 0, 0, 1, 0, 4, 1, 1, 1, 2, 2]}, {\"axis\": {\"matches\": true}, \"label\": \"Female 10-15 years\", \"values\": [7, 0, 6, 0, 4, 11, 10, 24, 3, 12, 22, 25]}, {\"axis\": {\"matches\": true}, \"label\": \"Female 15-18 years\", \"values\": [27, 42, 20, 27, 8, 19, 32, 30, 45, 44, 45, 61]}], \"hovertemplate\": \"STATE/UT=Manipur<br>%{xaxis.title.text}=%{x}<br>%{yaxis.title.text}=%{y}<br>YEAR=%{customdata[0]}<extra></extra>\", \"legendgroup\": \"Manipur\", \"marker\": {\"color\": \"#00cc96\", \"symbol\": \"circle\"}, \"name\": \"Manipur\", \"showlegend\": true, \"type\": \"splom\"}, {\"customdata\": [[2001], [2002], [2003], [2004], [2005], [2006], [2007], [2008], [2009], [2010], [2011], [2012]], \"dimensions\": [{\"axis\": {\"matches\": true}, \"label\": \"Female upto 10 years\", \"values\": [0, 0, 0, 1, 0, 1, 0, 0, 0, 3, 4, 1]}, {\"axis\": {\"matches\": true}, \"label\": \"Female 10-15 years\", \"values\": [2, 2, 2, 4, 4, 6, 4, 4, 2, 2, 3, 2]}, {\"axis\": {\"matches\": true}, \"label\": \"Female 15-18 years\", \"values\": [2, 1, 3, 7, 6, 13, 3, 10, 6, 7, 10, 2]}], \"hovertemplate\": \"STATE/UT=Meghalaya<br>%{xaxis.title.text}=%{x}<br>%{yaxis.title.text}=%{y}<br>YEAR=%{customdata[0]}<extra></extra>\", \"legendgroup\": \"Meghalaya\", \"marker\": {\"color\": \"#ab63fa\", \"symbol\": \"circle\"}, \"name\": \"Meghalaya\", \"showlegend\": true, \"type\": \"splom\"}, {\"customdata\": [[2001], [2002], [2003], [2004], [2005], [2006], [2007], [2008], [2009], [2010], [2011], [2012]], \"dimensions\": [{\"axis\": {\"matches\": true}, \"label\": \"Female upto 10 years\", \"values\": [0, 0, 0, 0, 0, 0, 0, 2, 1, 0, 0, 1]}, {\"axis\": {\"matches\": true}, \"label\": \"Female 10-15 years\", \"values\": [0, 0, 3, 0, 0, 0, 0, 0, 0, 0, 3, 0]}, {\"axis\": {\"matches\": true}, \"label\": \"Female 15-18 years\", \"values\": [1, 0, 0, 0, 0, 0, 0, 0, 0, 0, 0, 0]}], \"hovertemplate\": \"STATE/UT=Mizoram<br>%{xaxis.title.text}=%{x}<br>%{yaxis.title.text}=%{y}<br>YEAR=%{customdata[0]}<extra></extra>\", \"legendgroup\": \"Mizoram\", \"marker\": {\"color\": \"#FFA15A\", \"symbol\": \"circle\"}, \"name\": \"Mizoram\", \"showlegend\": true, \"type\": \"splom\"}, {\"customdata\": [[2001], [2002], [2003], [2004], [2005], [2006], [2007], [2008], [2009], [2010], [2011], [2012]], \"dimensions\": [{\"axis\": {\"matches\": true}, \"label\": \"Female upto 10 years\", \"values\": [1, 0, 0, 0, 0, 2, 2, 0, 0, 1, 0, 1]}, {\"axis\": {\"matches\": true}, \"label\": \"Female 10-15 years\", \"values\": [0, 0, 0, 0, 0, 1, 2, 0, 0, 2, 0, 1]}, {\"axis\": {\"matches\": true}, \"label\": \"Female 15-18 years\", \"values\": [5, 1, 0, 0, 0, 1, 0, 3, 0, 2, 0, 2]}], \"hovertemplate\": \"STATE/UT=Nagaland<br>%{xaxis.title.text}=%{x}<br>%{yaxis.title.text}=%{y}<br>YEAR=%{customdata[0]}<extra></extra>\", \"legendgroup\": \"Nagaland\", \"marker\": {\"color\": \"#19d3f3\", \"symbol\": \"circle\"}, \"name\": \"Nagaland\", \"showlegend\": true, \"type\": \"splom\"}, {\"customdata\": [[2001], [2002], [2003], [2004], [2005], [2006], [2007], [2008], [2009], [2010], [2011], [2012]], \"dimensions\": [{\"axis\": {\"matches\": true}, \"label\": \"Female upto 10 years\", \"values\": [0, 0, 0, 0, 0, 0, 1, 0, 0, 0, 1, 1]}, {\"axis\": {\"matches\": true}, \"label\": \"Female 10-15 years\", \"values\": [0, 0, 0, 1, 0, 2, 0, 0, 5, 1, 2, 2]}, {\"axis\": {\"matches\": true}, \"label\": \"Female 15-18 years\", \"values\": [0, 0, 0, 1, 1, 3, 7, 4, 2, 5, 8, 5]}], \"hovertemplate\": \"STATE/UT=Sikkim<br>%{xaxis.title.text}=%{x}<br>%{yaxis.title.text}=%{y}<br>YEAR=%{customdata[0]}<extra></extra>\", \"legendgroup\": \"Sikkim\", \"marker\": {\"color\": \"#FF6692\", \"symbol\": \"circle\"}, \"name\": \"Sikkim\", \"showlegend\": true, \"type\": \"splom\"}, {\"customdata\": [[2001], [2002], [2003], [2004], [2005], [2006], [2007], [2008], [2009], [2010], [2011], [2012]], \"dimensions\": [{\"axis\": {\"matches\": true}, \"label\": \"Female upto 10 years\", \"values\": [0, 0, 0, 1, 2, 0, 0, 0, 0, 0, 18, 0]}, {\"axis\": {\"matches\": true}, \"label\": \"Female 10-15 years\", \"values\": [18, 0, 0, 2, 0, 0, 5, 3, 0, 8, 41, 4]}, {\"axis\": {\"matches\": true}, \"label\": \"Female 15-18 years\", \"values\": [11, 0, 0, 8, 0, 0, 6, 26, 14, 11, 36, 25]}], \"hovertemplate\": \"STATE/UT=Tripura<br>%{xaxis.title.text}=%{x}<br>%{yaxis.title.text}=%{y}<br>YEAR=%{customdata[0]}<extra></extra>\", \"legendgroup\": \"Tripura\", \"marker\": {\"color\": \"#B6E880\", \"symbol\": \"circle\"}, \"name\": \"Tripura\", \"showlegend\": true, \"type\": \"splom\"}],                        {\"dragmode\": \"select\", \"legend\": {\"title\": {\"text\": \"STATE/UT\"}, \"tracegroupgap\": 0}, \"margin\": {\"t\": 60}, \"template\": {\"data\": {\"bar\": [{\"error_x\": {\"color\": \"#2a3f5f\"}, \"error_y\": {\"color\": \"#2a3f5f\"}, \"marker\": {\"line\": {\"color\": \"#E5ECF6\", \"width\": 0.5}}, \"type\": \"bar\"}], \"barpolar\": [{\"marker\": {\"line\": {\"color\": \"#E5ECF6\", \"width\": 0.5}}, \"type\": \"barpolar\"}], \"carpet\": [{\"aaxis\": {\"endlinecolor\": \"#2a3f5f\", \"gridcolor\": \"white\", \"linecolor\": \"white\", \"minorgridcolor\": \"white\", \"startlinecolor\": \"#2a3f5f\"}, \"baxis\": {\"endlinecolor\": \"#2a3f5f\", \"gridcolor\": \"white\", \"linecolor\": \"white\", \"minorgridcolor\": \"white\", \"startlinecolor\": \"#2a3f5f\"}, \"type\": \"carpet\"}], \"choropleth\": [{\"colorbar\": {\"outlinewidth\": 0, \"ticks\": \"\"}, \"type\": \"choropleth\"}], \"contour\": [{\"colorbar\": {\"outlinewidth\": 0, \"ticks\": \"\"}, \"colorscale\": [[0.0, \"#0d0887\"], [0.1111111111111111, \"#46039f\"], [0.2222222222222222, \"#7201a8\"], [0.3333333333333333, \"#9c179e\"], [0.4444444444444444, \"#bd3786\"], [0.5555555555555556, \"#d8576b\"], [0.6666666666666666, \"#ed7953\"], [0.7777777777777778, \"#fb9f3a\"], [0.8888888888888888, \"#fdca26\"], [1.0, \"#f0f921\"]], \"type\": \"contour\"}], \"contourcarpet\": [{\"colorbar\": {\"outlinewidth\": 0, \"ticks\": \"\"}, \"type\": \"contourcarpet\"}], \"heatmap\": [{\"colorbar\": {\"outlinewidth\": 0, \"ticks\": \"\"}, \"colorscale\": [[0.0, \"#0d0887\"], [0.1111111111111111, \"#46039f\"], [0.2222222222222222, \"#7201a8\"], [0.3333333333333333, \"#9c179e\"], [0.4444444444444444, \"#bd3786\"], [0.5555555555555556, \"#d8576b\"], [0.6666666666666666, \"#ed7953\"], [0.7777777777777778, \"#fb9f3a\"], [0.8888888888888888, \"#fdca26\"], [1.0, \"#f0f921\"]], \"type\": \"heatmap\"}], \"heatmapgl\": [{\"colorbar\": {\"outlinewidth\": 0, \"ticks\": \"\"}, \"colorscale\": [[0.0, \"#0d0887\"], [0.1111111111111111, \"#46039f\"], [0.2222222222222222, \"#7201a8\"], [0.3333333333333333, \"#9c179e\"], [0.4444444444444444, \"#bd3786\"], [0.5555555555555556, \"#d8576b\"], [0.6666666666666666, \"#ed7953\"], [0.7777777777777778, \"#fb9f3a\"], [0.8888888888888888, \"#fdca26\"], [1.0, \"#f0f921\"]], \"type\": \"heatmapgl\"}], \"histogram\": [{\"marker\": {\"colorbar\": {\"outlinewidth\": 0, \"ticks\": \"\"}}, \"type\": \"histogram\"}], \"histogram2d\": [{\"colorbar\": {\"outlinewidth\": 0, \"ticks\": \"\"}, \"colorscale\": [[0.0, \"#0d0887\"], [0.1111111111111111, \"#46039f\"], [0.2222222222222222, \"#7201a8\"], [0.3333333333333333, \"#9c179e\"], [0.4444444444444444, \"#bd3786\"], [0.5555555555555556, \"#d8576b\"], [0.6666666666666666, \"#ed7953\"], [0.7777777777777778, \"#fb9f3a\"], [0.8888888888888888, \"#fdca26\"], [1.0, \"#f0f921\"]], \"type\": \"histogram2d\"}], \"histogram2dcontour\": [{\"colorbar\": {\"outlinewidth\": 0, \"ticks\": \"\"}, \"colorscale\": [[0.0, \"#0d0887\"], [0.1111111111111111, \"#46039f\"], [0.2222222222222222, \"#7201a8\"], [0.3333333333333333, \"#9c179e\"], [0.4444444444444444, \"#bd3786\"], [0.5555555555555556, \"#d8576b\"], [0.6666666666666666, \"#ed7953\"], [0.7777777777777778, \"#fb9f3a\"], [0.8888888888888888, \"#fdca26\"], [1.0, \"#f0f921\"]], \"type\": \"histogram2dcontour\"}], \"mesh3d\": [{\"colorbar\": {\"outlinewidth\": 0, \"ticks\": \"\"}, \"type\": \"mesh3d\"}], \"parcoords\": [{\"line\": {\"colorbar\": {\"outlinewidth\": 0, \"ticks\": \"\"}}, \"type\": \"parcoords\"}], \"pie\": [{\"automargin\": true, \"type\": \"pie\"}], \"scatter\": [{\"marker\": {\"colorbar\": {\"outlinewidth\": 0, \"ticks\": \"\"}}, \"type\": \"scatter\"}], \"scatter3d\": [{\"line\": {\"colorbar\": {\"outlinewidth\": 0, \"ticks\": \"\"}}, \"marker\": {\"colorbar\": {\"outlinewidth\": 0, \"ticks\": \"\"}}, \"type\": \"scatter3d\"}], \"scattercarpet\": [{\"marker\": {\"colorbar\": {\"outlinewidth\": 0, \"ticks\": \"\"}}, \"type\": \"scattercarpet\"}], \"scattergeo\": [{\"marker\": {\"colorbar\": {\"outlinewidth\": 0, \"ticks\": \"\"}}, \"type\": \"scattergeo\"}], \"scattergl\": [{\"marker\": {\"colorbar\": {\"outlinewidth\": 0, \"ticks\": \"\"}}, \"type\": \"scattergl\"}], \"scattermapbox\": [{\"marker\": {\"colorbar\": {\"outlinewidth\": 0, \"ticks\": \"\"}}, \"type\": \"scattermapbox\"}], \"scatterpolar\": [{\"marker\": {\"colorbar\": {\"outlinewidth\": 0, \"ticks\": \"\"}}, \"type\": \"scatterpolar\"}], \"scatterpolargl\": [{\"marker\": {\"colorbar\": {\"outlinewidth\": 0, \"ticks\": \"\"}}, \"type\": \"scatterpolargl\"}], \"scatterternary\": [{\"marker\": {\"colorbar\": {\"outlinewidth\": 0, \"ticks\": \"\"}}, \"type\": \"scatterternary\"}], \"surface\": [{\"colorbar\": {\"outlinewidth\": 0, \"ticks\": \"\"}, \"colorscale\": [[0.0, \"#0d0887\"], [0.1111111111111111, \"#46039f\"], [0.2222222222222222, \"#7201a8\"], [0.3333333333333333, \"#9c179e\"], [0.4444444444444444, \"#bd3786\"], [0.5555555555555556, \"#d8576b\"], [0.6666666666666666, \"#ed7953\"], [0.7777777777777778, \"#fb9f3a\"], [0.8888888888888888, \"#fdca26\"], [1.0, \"#f0f921\"]], \"type\": \"surface\"}], \"table\": [{\"cells\": {\"fill\": {\"color\": \"#EBF0F8\"}, \"line\": {\"color\": \"white\"}}, \"header\": {\"fill\": {\"color\": \"#C8D4E3\"}, \"line\": {\"color\": \"white\"}}, \"type\": \"table\"}]}, \"layout\": {\"annotationdefaults\": {\"arrowcolor\": \"#2a3f5f\", \"arrowhead\": 0, \"arrowwidth\": 1}, \"autotypenumbers\": \"strict\", \"coloraxis\": {\"colorbar\": {\"outlinewidth\": 0, \"ticks\": \"\"}}, \"colorscale\": {\"diverging\": [[0, \"#8e0152\"], [0.1, \"#c51b7d\"], [0.2, \"#de77ae\"], [0.3, \"#f1b6da\"], [0.4, \"#fde0ef\"], [0.5, \"#f7f7f7\"], [0.6, \"#e6f5d0\"], [0.7, \"#b8e186\"], [0.8, \"#7fbc41\"], [0.9, \"#4d9221\"], [1, \"#276419\"]], \"sequential\": [[0.0, \"#0d0887\"], [0.1111111111111111, \"#46039f\"], [0.2222222222222222, \"#7201a8\"], [0.3333333333333333, \"#9c179e\"], [0.4444444444444444, \"#bd3786\"], [0.5555555555555556, \"#d8576b\"], [0.6666666666666666, \"#ed7953\"], [0.7777777777777778, \"#fb9f3a\"], [0.8888888888888888, \"#fdca26\"], [1.0, \"#f0f921\"]], \"sequentialminus\": [[0.0, \"#0d0887\"], [0.1111111111111111, \"#46039f\"], [0.2222222222222222, \"#7201a8\"], [0.3333333333333333, \"#9c179e\"], [0.4444444444444444, \"#bd3786\"], [0.5555555555555556, \"#d8576b\"], [0.6666666666666666, \"#ed7953\"], [0.7777777777777778, \"#fb9f3a\"], [0.8888888888888888, \"#fdca26\"], [1.0, \"#f0f921\"]]}, \"colorway\": [\"#636efa\", \"#EF553B\", \"#00cc96\", \"#ab63fa\", \"#FFA15A\", \"#19d3f3\", \"#FF6692\", \"#B6E880\", \"#FF97FF\", \"#FECB52\"], \"font\": {\"color\": \"#2a3f5f\"}, \"geo\": {\"bgcolor\": \"white\", \"lakecolor\": \"white\", \"landcolor\": \"#E5ECF6\", \"showlakes\": true, \"showland\": true, \"subunitcolor\": \"white\"}, \"hoverlabel\": {\"align\": \"left\"}, \"hovermode\": \"closest\", \"mapbox\": {\"style\": \"light\"}, \"paper_bgcolor\": \"white\", \"plot_bgcolor\": \"#E5ECF6\", \"polar\": {\"angularaxis\": {\"gridcolor\": \"white\", \"linecolor\": \"white\", \"ticks\": \"\"}, \"bgcolor\": \"#E5ECF6\", \"radialaxis\": {\"gridcolor\": \"white\", \"linecolor\": \"white\", \"ticks\": \"\"}}, \"scene\": {\"xaxis\": {\"backgroundcolor\": \"#E5ECF6\", \"gridcolor\": \"white\", \"gridwidth\": 2, \"linecolor\": \"white\", \"showbackground\": true, \"ticks\": \"\", \"zerolinecolor\": \"white\"}, \"yaxis\": {\"backgroundcolor\": \"#E5ECF6\", \"gridcolor\": \"white\", \"gridwidth\": 2, \"linecolor\": \"white\", \"showbackground\": true, \"ticks\": \"\", \"zerolinecolor\": \"white\"}, \"zaxis\": {\"backgroundcolor\": \"#E5ECF6\", \"gridcolor\": \"white\", \"gridwidth\": 2, \"linecolor\": \"white\", \"showbackground\": true, \"ticks\": \"\", \"zerolinecolor\": \"white\"}}, \"shapedefaults\": {\"line\": {\"color\": \"#2a3f5f\"}}, \"ternary\": {\"aaxis\": {\"gridcolor\": \"white\", \"linecolor\": \"white\", \"ticks\": \"\"}, \"baxis\": {\"gridcolor\": \"white\", \"linecolor\": \"white\", \"ticks\": \"\"}, \"bgcolor\": \"#E5ECF6\", \"caxis\": {\"gridcolor\": \"white\", \"linecolor\": \"white\", \"ticks\": \"\"}}, \"title\": {\"x\": 0.05}, \"xaxis\": {\"automargin\": true, \"gridcolor\": \"white\", \"linecolor\": \"white\", \"ticks\": \"\", \"title\": {\"standoff\": 15}, \"zerolinecolor\": \"white\", \"zerolinewidth\": 2}, \"yaxis\": {\"automargin\": true, \"gridcolor\": \"white\", \"linecolor\": \"white\", \"ticks\": \"\", \"title\": {\"standoff\": 15}, \"zerolinecolor\": \"white\", \"zerolinewidth\": 2}}}},                        {\"responsive\": true}                    ).then(function(){\n",
              "                            \n",
              "var gd = document.getElementById('edd94dfa-c483-481e-bb3c-3f469200d03b');\n",
              "var x = new MutationObserver(function (mutations, observer) {{\n",
              "        var display = window.getComputedStyle(gd).display;\n",
              "        if (!display || display === 'none') {{\n",
              "            console.log([gd, 'removed!']);\n",
              "            Plotly.purge(gd);\n",
              "            observer.disconnect();\n",
              "        }}\n",
              "}});\n",
              "\n",
              "// Listen for the removal of the full notebook cells\n",
              "var notebookContainer = gd.closest('#notebook-container');\n",
              "if (notebookContainer) {{\n",
              "    x.observe(notebookContainer, {childList: true});\n",
              "}}\n",
              "\n",
              "// Listen for the clearing of the current output cell\n",
              "var outputEl = gd.closest('.output');\n",
              "if (outputEl) {{\n",
              "    x.observe(outputEl, {childList: true});\n",
              "}}\n",
              "\n",
              "                        })                };                            </script>        </div>\n",
              "</body>\n",
              "</html>"
            ]
          },
          "metadata": {
            "tags": []
          }
        }
      ]
    },
    {
      "cell_type": "markdown",
      "metadata": {
        "id": "YQj6SUh-RwV-"
      },
      "source": [
        "INFERENCE : There is no linear relationship between the different age groups. By analysing the scales we can say that age 15-18 is most involved, with a maximum value of 451. Tripura and Assam stand out from the rest with the highest cases in all groups."
      ]
    },
    {
      "cell_type": "markdown",
      "metadata": {
        "id": "xoWn-RrCWdHh"
      },
      "source": [
        "# **14) Analyse the trends in the purpose of crimes in 2011 and 2012?**\n",
        "\n",
        "_Sunburst Chart using plotly_\n"
      ]
    },
    {
      "cell_type": "code",
      "metadata": {
        "colab": {
          "base_uri": "https://localhost:8080/",
          "height": 542
        },
        "id": "sOuRx3wMJU9x",
        "outputId": "74b4b249-e46f-4280-f015-ebaf1b96f6e7"
      },
      "source": [
        "df_new = df_actual[df_actual[\"YEAR\"] > 2010]\n",
        "fig = px.sunburst(df_new, path=['YEAR','Purpose'], values=\"Grand Total\")\n",
        "fig.show()"
      ],
      "execution_count": null,
      "outputs": [
        {
          "output_type": "display_data",
          "data": {
            "text/html": [
              "<html>\n",
              "<head><meta charset=\"utf-8\" /></head>\n",
              "<body>\n",
              "    <div>            <script src=\"https://cdnjs.cloudflare.com/ajax/libs/mathjax/2.7.5/MathJax.js?config=TeX-AMS-MML_SVG\"></script><script type=\"text/javascript\">if (window.MathJax) {MathJax.Hub.Config({SVG: {font: \"STIX-Web\"}});}</script>                <script type=\"text/javascript\">window.PlotlyConfig = {MathJaxConfig: 'local'};</script>\n",
              "        <script src=\"https://cdn.plot.ly/plotly-latest.min.js\"></script>                <div id=\"cb54dfc5-eced-42e1-ad23-58b355509a5b\" class=\"plotly-graph-div\" style=\"height:525px; width:100%;\"></div>            <script type=\"text/javascript\">                                    window.PLOTLYENV=window.PLOTLYENV || {};                                    if (document.getElementById(\"cb54dfc5-eced-42e1-ad23-58b355509a5b\")) {                    Plotly.newPlot(                        \"cb54dfc5-eced-42e1-ad23-58b355509a5b\",                        [{\"branchvalues\": \"total\", \"domain\": {\"x\": [0.0, 1.0], \"y\": [0.0, 1.0]}, \"hovertemplate\": \"labels=%{label}<br>Grand Total=%{value}<br>parent=%{parent}<br>id=%{id}<extra></extra>\", \"ids\": [\"2011/For Adoption\", \"2012/For Adoption\", \"2011/For Begging\", \"2012/For Begging\", \"2011/For Camel racing\", \"2012/For Camel racing\", \"2011/For Illicit intercourse\", \"2012/For Illicit intercourse\", \"2011/For Prostitution\", \"2012/For Prostitution\", \"2011/For Ransom\", \"2012/For Ransom\", \"2011/For Revenge\", \"2012/For Revenge\", \"2011/For Sale\", \"2012/For Sale\", \"2011/For Selling body parts\", \"2012/For Selling body parts\", \"2011/For Slavery\", \"2012/For Slavery\", \"2011/For marriage\", \"2012/For marriage\", \"2011/For unlawful activity\", \"2012/For unlawful activity\", \"2011/Others\", \"2012/Others\", \"2011\", \"2012\"], \"labels\": [\"For Adoption\", \"For Adoption\", \"For Begging\", \"For Begging\", \"For Camel racing\", \"For Camel racing\", \"For Illicit intercourse\", \"For Illicit intercourse\", \"For Prostitution\", \"For Prostitution\", \"For Ransom\", \"For Ransom\", \"For Revenge\", \"For Revenge\", \"For Sale\", \"For Sale\", \"For Selling body parts\", \"For Selling body parts\", \"For Slavery\", \"For Slavery\", \"For marriage\", \"For marriage\", \"For unlawful activity\", \"For unlawful activity\", \"Others\", \"Others\", \"2011\", \"2012\"], \"name\": \"\", \"parents\": [\"2011\", \"2012\", \"2011\", \"2012\", \"2011\", \"2012\", \"2011\", \"2012\", \"2011\", \"2012\", \"2011\", \"2012\", \"2011\", \"2012\", \"2011\", \"2012\", \"2011\", \"2012\", \"2011\", \"2012\", \"2011\", \"2012\", \"2011\", \"2012\", \"2011\", \"2012\", \"\", \"\"], \"type\": \"sunburst\", \"values\": [106, 227, 48, 33, 4, 70, 3532, 2999, 679, 398, 709, 631, 566, 723, 204, 74, 0, 1, 67, 34, 22050, 24681, 879, 688, 16395, 17660, 45239, 48219]}],                        {\"legend\": {\"tracegroupgap\": 0}, \"margin\": {\"t\": 60}, \"template\": {\"data\": {\"bar\": [{\"error_x\": {\"color\": \"#2a3f5f\"}, \"error_y\": {\"color\": \"#2a3f5f\"}, \"marker\": {\"line\": {\"color\": \"#E5ECF6\", \"width\": 0.5}}, \"type\": \"bar\"}], \"barpolar\": [{\"marker\": {\"line\": {\"color\": \"#E5ECF6\", \"width\": 0.5}}, \"type\": \"barpolar\"}], \"carpet\": [{\"aaxis\": {\"endlinecolor\": \"#2a3f5f\", \"gridcolor\": \"white\", \"linecolor\": \"white\", \"minorgridcolor\": \"white\", \"startlinecolor\": \"#2a3f5f\"}, \"baxis\": {\"endlinecolor\": \"#2a3f5f\", \"gridcolor\": \"white\", \"linecolor\": \"white\", \"minorgridcolor\": \"white\", \"startlinecolor\": \"#2a3f5f\"}, \"type\": \"carpet\"}], \"choropleth\": [{\"colorbar\": {\"outlinewidth\": 0, \"ticks\": \"\"}, \"type\": \"choropleth\"}], \"contour\": [{\"colorbar\": {\"outlinewidth\": 0, \"ticks\": \"\"}, \"colorscale\": [[0.0, \"#0d0887\"], [0.1111111111111111, \"#46039f\"], [0.2222222222222222, \"#7201a8\"], [0.3333333333333333, \"#9c179e\"], [0.4444444444444444, \"#bd3786\"], [0.5555555555555556, \"#d8576b\"], [0.6666666666666666, \"#ed7953\"], [0.7777777777777778, \"#fb9f3a\"], [0.8888888888888888, \"#fdca26\"], [1.0, \"#f0f921\"]], \"type\": \"contour\"}], \"contourcarpet\": [{\"colorbar\": {\"outlinewidth\": 0, \"ticks\": \"\"}, \"type\": \"contourcarpet\"}], \"heatmap\": [{\"colorbar\": {\"outlinewidth\": 0, \"ticks\": \"\"}, \"colorscale\": [[0.0, \"#0d0887\"], [0.1111111111111111, \"#46039f\"], [0.2222222222222222, \"#7201a8\"], [0.3333333333333333, \"#9c179e\"], [0.4444444444444444, \"#bd3786\"], [0.5555555555555556, \"#d8576b\"], [0.6666666666666666, \"#ed7953\"], [0.7777777777777778, \"#fb9f3a\"], [0.8888888888888888, \"#fdca26\"], [1.0, \"#f0f921\"]], \"type\": \"heatmap\"}], \"heatmapgl\": [{\"colorbar\": {\"outlinewidth\": 0, \"ticks\": \"\"}, \"colorscale\": [[0.0, \"#0d0887\"], [0.1111111111111111, \"#46039f\"], [0.2222222222222222, \"#7201a8\"], [0.3333333333333333, \"#9c179e\"], [0.4444444444444444, \"#bd3786\"], [0.5555555555555556, \"#d8576b\"], [0.6666666666666666, \"#ed7953\"], [0.7777777777777778, \"#fb9f3a\"], [0.8888888888888888, \"#fdca26\"], [1.0, \"#f0f921\"]], \"type\": \"heatmapgl\"}], \"histogram\": [{\"marker\": {\"colorbar\": {\"outlinewidth\": 0, \"ticks\": \"\"}}, \"type\": \"histogram\"}], \"histogram2d\": [{\"colorbar\": {\"outlinewidth\": 0, \"ticks\": \"\"}, \"colorscale\": [[0.0, \"#0d0887\"], [0.1111111111111111, \"#46039f\"], [0.2222222222222222, \"#7201a8\"], [0.3333333333333333, \"#9c179e\"], [0.4444444444444444, \"#bd3786\"], [0.5555555555555556, \"#d8576b\"], [0.6666666666666666, \"#ed7953\"], [0.7777777777777778, \"#fb9f3a\"], [0.8888888888888888, \"#fdca26\"], [1.0, \"#f0f921\"]], \"type\": \"histogram2d\"}], \"histogram2dcontour\": [{\"colorbar\": {\"outlinewidth\": 0, \"ticks\": \"\"}, \"colorscale\": [[0.0, \"#0d0887\"], [0.1111111111111111, \"#46039f\"], [0.2222222222222222, \"#7201a8\"], [0.3333333333333333, \"#9c179e\"], [0.4444444444444444, \"#bd3786\"], [0.5555555555555556, \"#d8576b\"], [0.6666666666666666, \"#ed7953\"], [0.7777777777777778, \"#fb9f3a\"], [0.8888888888888888, \"#fdca26\"], [1.0, \"#f0f921\"]], \"type\": \"histogram2dcontour\"}], \"mesh3d\": [{\"colorbar\": {\"outlinewidth\": 0, \"ticks\": \"\"}, \"type\": \"mesh3d\"}], \"parcoords\": [{\"line\": {\"colorbar\": {\"outlinewidth\": 0, \"ticks\": \"\"}}, \"type\": \"parcoords\"}], \"pie\": [{\"automargin\": true, \"type\": \"pie\"}], \"scatter\": [{\"marker\": {\"colorbar\": {\"outlinewidth\": 0, \"ticks\": \"\"}}, \"type\": \"scatter\"}], \"scatter3d\": [{\"line\": {\"colorbar\": {\"outlinewidth\": 0, \"ticks\": \"\"}}, \"marker\": {\"colorbar\": {\"outlinewidth\": 0, \"ticks\": \"\"}}, \"type\": \"scatter3d\"}], \"scattercarpet\": [{\"marker\": {\"colorbar\": {\"outlinewidth\": 0, \"ticks\": \"\"}}, \"type\": \"scattercarpet\"}], \"scattergeo\": [{\"marker\": {\"colorbar\": {\"outlinewidth\": 0, \"ticks\": \"\"}}, \"type\": \"scattergeo\"}], \"scattergl\": [{\"marker\": {\"colorbar\": {\"outlinewidth\": 0, \"ticks\": \"\"}}, \"type\": \"scattergl\"}], \"scattermapbox\": [{\"marker\": {\"colorbar\": {\"outlinewidth\": 0, \"ticks\": \"\"}}, \"type\": \"scattermapbox\"}], \"scatterpolar\": [{\"marker\": {\"colorbar\": {\"outlinewidth\": 0, \"ticks\": \"\"}}, \"type\": \"scatterpolar\"}], \"scatterpolargl\": [{\"marker\": {\"colorbar\": {\"outlinewidth\": 0, \"ticks\": \"\"}}, \"type\": \"scatterpolargl\"}], \"scatterternary\": [{\"marker\": {\"colorbar\": {\"outlinewidth\": 0, \"ticks\": \"\"}}, \"type\": \"scatterternary\"}], \"surface\": [{\"colorbar\": {\"outlinewidth\": 0, \"ticks\": \"\"}, \"colorscale\": [[0.0, \"#0d0887\"], [0.1111111111111111, \"#46039f\"], [0.2222222222222222, \"#7201a8\"], [0.3333333333333333, \"#9c179e\"], [0.4444444444444444, \"#bd3786\"], [0.5555555555555556, \"#d8576b\"], [0.6666666666666666, \"#ed7953\"], [0.7777777777777778, \"#fb9f3a\"], [0.8888888888888888, \"#fdca26\"], [1.0, \"#f0f921\"]], \"type\": \"surface\"}], \"table\": [{\"cells\": {\"fill\": {\"color\": \"#EBF0F8\"}, \"line\": {\"color\": \"white\"}}, \"header\": {\"fill\": {\"color\": \"#C8D4E3\"}, \"line\": {\"color\": \"white\"}}, \"type\": \"table\"}]}, \"layout\": {\"annotationdefaults\": {\"arrowcolor\": \"#2a3f5f\", \"arrowhead\": 0, \"arrowwidth\": 1}, \"autotypenumbers\": \"strict\", \"coloraxis\": {\"colorbar\": {\"outlinewidth\": 0, \"ticks\": \"\"}}, \"colorscale\": {\"diverging\": [[0, \"#8e0152\"], [0.1, \"#c51b7d\"], [0.2, \"#de77ae\"], [0.3, \"#f1b6da\"], [0.4, \"#fde0ef\"], [0.5, \"#f7f7f7\"], [0.6, \"#e6f5d0\"], [0.7, \"#b8e186\"], [0.8, \"#7fbc41\"], [0.9, \"#4d9221\"], [1, \"#276419\"]], \"sequential\": [[0.0, \"#0d0887\"], [0.1111111111111111, \"#46039f\"], [0.2222222222222222, \"#7201a8\"], [0.3333333333333333, \"#9c179e\"], [0.4444444444444444, \"#bd3786\"], [0.5555555555555556, \"#d8576b\"], [0.6666666666666666, \"#ed7953\"], [0.7777777777777778, \"#fb9f3a\"], [0.8888888888888888, \"#fdca26\"], [1.0, \"#f0f921\"]], \"sequentialminus\": [[0.0, \"#0d0887\"], [0.1111111111111111, \"#46039f\"], [0.2222222222222222, \"#7201a8\"], [0.3333333333333333, \"#9c179e\"], [0.4444444444444444, \"#bd3786\"], [0.5555555555555556, \"#d8576b\"], [0.6666666666666666, \"#ed7953\"], [0.7777777777777778, \"#fb9f3a\"], [0.8888888888888888, \"#fdca26\"], [1.0, \"#f0f921\"]]}, \"colorway\": [\"#636efa\", \"#EF553B\", \"#00cc96\", \"#ab63fa\", \"#FFA15A\", \"#19d3f3\", \"#FF6692\", \"#B6E880\", \"#FF97FF\", \"#FECB52\"], \"font\": {\"color\": \"#2a3f5f\"}, \"geo\": {\"bgcolor\": \"white\", \"lakecolor\": \"white\", \"landcolor\": \"#E5ECF6\", \"showlakes\": true, \"showland\": true, \"subunitcolor\": \"white\"}, \"hoverlabel\": {\"align\": \"left\"}, \"hovermode\": \"closest\", \"mapbox\": {\"style\": \"light\"}, \"paper_bgcolor\": \"white\", \"plot_bgcolor\": \"#E5ECF6\", \"polar\": {\"angularaxis\": {\"gridcolor\": \"white\", \"linecolor\": \"white\", \"ticks\": \"\"}, \"bgcolor\": \"#E5ECF6\", \"radialaxis\": {\"gridcolor\": \"white\", \"linecolor\": \"white\", \"ticks\": \"\"}}, \"scene\": {\"xaxis\": {\"backgroundcolor\": \"#E5ECF6\", \"gridcolor\": \"white\", \"gridwidth\": 2, \"linecolor\": \"white\", \"showbackground\": true, \"ticks\": \"\", \"zerolinecolor\": \"white\"}, \"yaxis\": {\"backgroundcolor\": \"#E5ECF6\", \"gridcolor\": \"white\", \"gridwidth\": 2, \"linecolor\": \"white\", \"showbackground\": true, \"ticks\": \"\", \"zerolinecolor\": \"white\"}, \"zaxis\": {\"backgroundcolor\": \"#E5ECF6\", \"gridcolor\": \"white\", \"gridwidth\": 2, \"linecolor\": \"white\", \"showbackground\": true, \"ticks\": \"\", \"zerolinecolor\": \"white\"}}, \"shapedefaults\": {\"line\": {\"color\": \"#2a3f5f\"}}, \"ternary\": {\"aaxis\": {\"gridcolor\": \"white\", \"linecolor\": \"white\", \"ticks\": \"\"}, \"baxis\": {\"gridcolor\": \"white\", \"linecolor\": \"white\", \"ticks\": \"\"}, \"bgcolor\": \"#E5ECF6\", \"caxis\": {\"gridcolor\": \"white\", \"linecolor\": \"white\", \"ticks\": \"\"}}, \"title\": {\"x\": 0.05}, \"xaxis\": {\"automargin\": true, \"gridcolor\": \"white\", \"linecolor\": \"white\", \"ticks\": \"\", \"title\": {\"standoff\": 15}, \"zerolinecolor\": \"white\", \"zerolinewidth\": 2}, \"yaxis\": {\"automargin\": true, \"gridcolor\": \"white\", \"linecolor\": \"white\", \"ticks\": \"\", \"title\": {\"standoff\": 15}, \"zerolinecolor\": \"white\", \"zerolinewidth\": 2}}}},                        {\"responsive\": true}                    ).then(function(){\n",
              "                            \n",
              "var gd = document.getElementById('cb54dfc5-eced-42e1-ad23-58b355509a5b');\n",
              "var x = new MutationObserver(function (mutations, observer) {{\n",
              "        var display = window.getComputedStyle(gd).display;\n",
              "        if (!display || display === 'none') {{\n",
              "            console.log([gd, 'removed!']);\n",
              "            Plotly.purge(gd);\n",
              "            observer.disconnect();\n",
              "        }}\n",
              "}});\n",
              "\n",
              "// Listen for the removal of the full notebook cells\n",
              "var notebookContainer = gd.closest('#notebook-container');\n",
              "if (notebookContainer) {{\n",
              "    x.observe(notebookContainer, {childList: true});\n",
              "}}\n",
              "\n",
              "// Listen for the clearing of the current output cell\n",
              "var outputEl = gd.closest('.output');\n",
              "if (outputEl) {{\n",
              "    x.observe(outputEl, {childList: true});\n",
              "}}\n",
              "\n",
              "                        })                };                            </script>        </div>\n",
              "</body>\n",
              "</html>"
            ]
          },
          "metadata": {
            "tags": []
          }
        }
      ]
    },
    {
      "cell_type": "markdown",
      "metadata": {
        "id": "7PmhSQtBUfXi"
      },
      "source": [
        "INFERENCE : 2012 recorded a higher number of crimes than 2011 with marriage, others, and illicit intercourse being the purpose of crime (in that order)."
      ]
    },
    {
      "cell_type": "markdown",
      "metadata": {
        "id": "s0gC1EuMWmC9"
      },
      "source": [
        "# **15) Which crime tops the chart?**\n",
        "\n",
        "_Donut Chart using plotly_"
      ]
    },
    {
      "cell_type": "code",
      "metadata": {
        "colab": {
          "base_uri": "https://localhost:8080/",
          "height": 542
        },
        "id": "9mcxyOChRRLd",
        "outputId": "a0489554-c6d7-46b1-d806-563e60428e9b"
      },
      "source": [
        "df_new = df_actual.groupby(by=\"Purpose\", as_index=False).sum()\n",
        "fig = go.Figure(data=[go.Pie(labels = df_new[\"Purpose\"], values = df_new[\"Grand Total\"], hole = 0.4)])\n",
        "fig.show()"
      ],
      "execution_count": null,
      "outputs": [
        {
          "output_type": "display_data",
          "data": {
            "text/html": [
              "<html>\n",
              "<head><meta charset=\"utf-8\" /></head>\n",
              "<body>\n",
              "    <div>            <script src=\"https://cdnjs.cloudflare.com/ajax/libs/mathjax/2.7.5/MathJax.js?config=TeX-AMS-MML_SVG\"></script><script type=\"text/javascript\">if (window.MathJax) {MathJax.Hub.Config({SVG: {font: \"STIX-Web\"}});}</script>                <script type=\"text/javascript\">window.PlotlyConfig = {MathJaxConfig: 'local'};</script>\n",
              "        <script src=\"https://cdn.plot.ly/plotly-latest.min.js\"></script>                <div id=\"6be564fb-966c-4148-b156-06733b7fd4c8\" class=\"plotly-graph-div\" style=\"height:525px; width:100%;\"></div>            <script type=\"text/javascript\">                                    window.PLOTLYENV=window.PLOTLYENV || {};                                    if (document.getElementById(\"6be564fb-966c-4148-b156-06733b7fd4c8\")) {                    Plotly.newPlot(                        \"6be564fb-966c-4148-b156-06733b7fd4c8\",                        [{\"hole\": 0.4, \"labels\": [\"For Adoption\", \"For Begging\", \"For Camel racing\", \"For Illicit intercourse\", \"For Prostitution\", \"For Ransom\", \"For Revenge\", \"For Sale\", \"For Selling body parts\", \"For Slavery\", \"For marriage\", \"For unlawful activity\", \"Others\"], \"type\": \"pie\", \"values\": [1297, 355, 79, 30083, 4491, 10681, 7162, 964, 17, 1005, 165838, 7927, 131560]}],                        {\"template\": {\"data\": {\"bar\": [{\"error_x\": {\"color\": \"#2a3f5f\"}, \"error_y\": {\"color\": \"#2a3f5f\"}, \"marker\": {\"line\": {\"color\": \"#E5ECF6\", \"width\": 0.5}}, \"type\": \"bar\"}], \"barpolar\": [{\"marker\": {\"line\": {\"color\": \"#E5ECF6\", \"width\": 0.5}}, \"type\": \"barpolar\"}], \"carpet\": [{\"aaxis\": {\"endlinecolor\": \"#2a3f5f\", \"gridcolor\": \"white\", \"linecolor\": \"white\", \"minorgridcolor\": \"white\", \"startlinecolor\": \"#2a3f5f\"}, \"baxis\": {\"endlinecolor\": \"#2a3f5f\", \"gridcolor\": \"white\", \"linecolor\": \"white\", \"minorgridcolor\": \"white\", \"startlinecolor\": \"#2a3f5f\"}, \"type\": \"carpet\"}], \"choropleth\": [{\"colorbar\": {\"outlinewidth\": 0, \"ticks\": \"\"}, \"type\": \"choropleth\"}], \"contour\": [{\"colorbar\": {\"outlinewidth\": 0, \"ticks\": \"\"}, \"colorscale\": [[0.0, \"#0d0887\"], [0.1111111111111111, \"#46039f\"], [0.2222222222222222, \"#7201a8\"], [0.3333333333333333, \"#9c179e\"], [0.4444444444444444, \"#bd3786\"], [0.5555555555555556, \"#d8576b\"], [0.6666666666666666, \"#ed7953\"], [0.7777777777777778, \"#fb9f3a\"], [0.8888888888888888, \"#fdca26\"], [1.0, \"#f0f921\"]], \"type\": \"contour\"}], \"contourcarpet\": [{\"colorbar\": {\"outlinewidth\": 0, \"ticks\": \"\"}, \"type\": \"contourcarpet\"}], \"heatmap\": [{\"colorbar\": {\"outlinewidth\": 0, \"ticks\": \"\"}, \"colorscale\": [[0.0, \"#0d0887\"], [0.1111111111111111, \"#46039f\"], [0.2222222222222222, \"#7201a8\"], [0.3333333333333333, \"#9c179e\"], [0.4444444444444444, \"#bd3786\"], [0.5555555555555556, \"#d8576b\"], [0.6666666666666666, \"#ed7953\"], [0.7777777777777778, \"#fb9f3a\"], [0.8888888888888888, \"#fdca26\"], [1.0, \"#f0f921\"]], \"type\": \"heatmap\"}], \"heatmapgl\": [{\"colorbar\": {\"outlinewidth\": 0, \"ticks\": \"\"}, \"colorscale\": [[0.0, \"#0d0887\"], [0.1111111111111111, \"#46039f\"], [0.2222222222222222, \"#7201a8\"], [0.3333333333333333, \"#9c179e\"], [0.4444444444444444, \"#bd3786\"], [0.5555555555555556, \"#d8576b\"], [0.6666666666666666, \"#ed7953\"], [0.7777777777777778, \"#fb9f3a\"], [0.8888888888888888, \"#fdca26\"], [1.0, \"#f0f921\"]], \"type\": \"heatmapgl\"}], \"histogram\": [{\"marker\": {\"colorbar\": {\"outlinewidth\": 0, \"ticks\": \"\"}}, \"type\": \"histogram\"}], \"histogram2d\": [{\"colorbar\": {\"outlinewidth\": 0, \"ticks\": \"\"}, \"colorscale\": [[0.0, \"#0d0887\"], [0.1111111111111111, \"#46039f\"], [0.2222222222222222, \"#7201a8\"], [0.3333333333333333, \"#9c179e\"], [0.4444444444444444, \"#bd3786\"], [0.5555555555555556, \"#d8576b\"], [0.6666666666666666, \"#ed7953\"], [0.7777777777777778, \"#fb9f3a\"], [0.8888888888888888, \"#fdca26\"], [1.0, \"#f0f921\"]], \"type\": \"histogram2d\"}], \"histogram2dcontour\": [{\"colorbar\": {\"outlinewidth\": 0, \"ticks\": \"\"}, \"colorscale\": [[0.0, \"#0d0887\"], [0.1111111111111111, \"#46039f\"], [0.2222222222222222, \"#7201a8\"], [0.3333333333333333, \"#9c179e\"], [0.4444444444444444, \"#bd3786\"], [0.5555555555555556, \"#d8576b\"], [0.6666666666666666, \"#ed7953\"], [0.7777777777777778, \"#fb9f3a\"], [0.8888888888888888, \"#fdca26\"], [1.0, \"#f0f921\"]], \"type\": \"histogram2dcontour\"}], \"mesh3d\": [{\"colorbar\": {\"outlinewidth\": 0, \"ticks\": \"\"}, \"type\": \"mesh3d\"}], \"parcoords\": [{\"line\": {\"colorbar\": {\"outlinewidth\": 0, \"ticks\": \"\"}}, \"type\": \"parcoords\"}], \"pie\": [{\"automargin\": true, \"type\": \"pie\"}], \"scatter\": [{\"marker\": {\"colorbar\": {\"outlinewidth\": 0, \"ticks\": \"\"}}, \"type\": \"scatter\"}], \"scatter3d\": [{\"line\": {\"colorbar\": {\"outlinewidth\": 0, \"ticks\": \"\"}}, \"marker\": {\"colorbar\": {\"outlinewidth\": 0, \"ticks\": \"\"}}, \"type\": \"scatter3d\"}], \"scattercarpet\": [{\"marker\": {\"colorbar\": {\"outlinewidth\": 0, \"ticks\": \"\"}}, \"type\": \"scattercarpet\"}], \"scattergeo\": [{\"marker\": {\"colorbar\": {\"outlinewidth\": 0, \"ticks\": \"\"}}, \"type\": \"scattergeo\"}], \"scattergl\": [{\"marker\": {\"colorbar\": {\"outlinewidth\": 0, \"ticks\": \"\"}}, \"type\": \"scattergl\"}], \"scattermapbox\": [{\"marker\": {\"colorbar\": {\"outlinewidth\": 0, \"ticks\": \"\"}}, \"type\": \"scattermapbox\"}], \"scatterpolar\": [{\"marker\": {\"colorbar\": {\"outlinewidth\": 0, \"ticks\": \"\"}}, \"type\": \"scatterpolar\"}], \"scatterpolargl\": [{\"marker\": {\"colorbar\": {\"outlinewidth\": 0, \"ticks\": \"\"}}, \"type\": \"scatterpolargl\"}], \"scatterternary\": [{\"marker\": {\"colorbar\": {\"outlinewidth\": 0, \"ticks\": \"\"}}, \"type\": \"scatterternary\"}], \"surface\": [{\"colorbar\": {\"outlinewidth\": 0, \"ticks\": \"\"}, \"colorscale\": [[0.0, \"#0d0887\"], [0.1111111111111111, \"#46039f\"], [0.2222222222222222, \"#7201a8\"], [0.3333333333333333, \"#9c179e\"], [0.4444444444444444, \"#bd3786\"], [0.5555555555555556, \"#d8576b\"], [0.6666666666666666, \"#ed7953\"], [0.7777777777777778, \"#fb9f3a\"], [0.8888888888888888, \"#fdca26\"], [1.0, \"#f0f921\"]], \"type\": \"surface\"}], \"table\": [{\"cells\": {\"fill\": {\"color\": \"#EBF0F8\"}, \"line\": {\"color\": \"white\"}}, \"header\": {\"fill\": {\"color\": \"#C8D4E3\"}, \"line\": {\"color\": \"white\"}}, \"type\": \"table\"}]}, \"layout\": {\"annotationdefaults\": {\"arrowcolor\": \"#2a3f5f\", \"arrowhead\": 0, \"arrowwidth\": 1}, \"autotypenumbers\": \"strict\", \"coloraxis\": {\"colorbar\": {\"outlinewidth\": 0, \"ticks\": \"\"}}, \"colorscale\": {\"diverging\": [[0, \"#8e0152\"], [0.1, \"#c51b7d\"], [0.2, \"#de77ae\"], [0.3, \"#f1b6da\"], [0.4, \"#fde0ef\"], [0.5, \"#f7f7f7\"], [0.6, \"#e6f5d0\"], [0.7, \"#b8e186\"], [0.8, \"#7fbc41\"], [0.9, \"#4d9221\"], [1, \"#276419\"]], \"sequential\": [[0.0, \"#0d0887\"], [0.1111111111111111, \"#46039f\"], [0.2222222222222222, \"#7201a8\"], [0.3333333333333333, \"#9c179e\"], [0.4444444444444444, \"#bd3786\"], [0.5555555555555556, \"#d8576b\"], [0.6666666666666666, \"#ed7953\"], [0.7777777777777778, \"#fb9f3a\"], [0.8888888888888888, \"#fdca26\"], [1.0, \"#f0f921\"]], \"sequentialminus\": [[0.0, \"#0d0887\"], [0.1111111111111111, \"#46039f\"], [0.2222222222222222, \"#7201a8\"], [0.3333333333333333, \"#9c179e\"], [0.4444444444444444, \"#bd3786\"], [0.5555555555555556, \"#d8576b\"], [0.6666666666666666, \"#ed7953\"], [0.7777777777777778, \"#fb9f3a\"], [0.8888888888888888, \"#fdca26\"], [1.0, \"#f0f921\"]]}, \"colorway\": [\"#636efa\", \"#EF553B\", \"#00cc96\", \"#ab63fa\", \"#FFA15A\", \"#19d3f3\", \"#FF6692\", \"#B6E880\", \"#FF97FF\", \"#FECB52\"], \"font\": {\"color\": \"#2a3f5f\"}, \"geo\": {\"bgcolor\": \"white\", \"lakecolor\": \"white\", \"landcolor\": \"#E5ECF6\", \"showlakes\": true, \"showland\": true, \"subunitcolor\": \"white\"}, \"hoverlabel\": {\"align\": \"left\"}, \"hovermode\": \"closest\", \"mapbox\": {\"style\": \"light\"}, \"paper_bgcolor\": \"white\", \"plot_bgcolor\": \"#E5ECF6\", \"polar\": {\"angularaxis\": {\"gridcolor\": \"white\", \"linecolor\": \"white\", \"ticks\": \"\"}, \"bgcolor\": \"#E5ECF6\", \"radialaxis\": {\"gridcolor\": \"white\", \"linecolor\": \"white\", \"ticks\": \"\"}}, \"scene\": {\"xaxis\": {\"backgroundcolor\": \"#E5ECF6\", \"gridcolor\": \"white\", \"gridwidth\": 2, \"linecolor\": \"white\", \"showbackground\": true, \"ticks\": \"\", \"zerolinecolor\": \"white\"}, \"yaxis\": {\"backgroundcolor\": \"#E5ECF6\", \"gridcolor\": \"white\", \"gridwidth\": 2, \"linecolor\": \"white\", \"showbackground\": true, \"ticks\": \"\", \"zerolinecolor\": \"white\"}, \"zaxis\": {\"backgroundcolor\": \"#E5ECF6\", \"gridcolor\": \"white\", \"gridwidth\": 2, \"linecolor\": \"white\", \"showbackground\": true, \"ticks\": \"\", \"zerolinecolor\": \"white\"}}, \"shapedefaults\": {\"line\": {\"color\": \"#2a3f5f\"}}, \"ternary\": {\"aaxis\": {\"gridcolor\": \"white\", \"linecolor\": \"white\", \"ticks\": \"\"}, \"baxis\": {\"gridcolor\": \"white\", \"linecolor\": \"white\", \"ticks\": \"\"}, \"bgcolor\": \"#E5ECF6\", \"caxis\": {\"gridcolor\": \"white\", \"linecolor\": \"white\", \"ticks\": \"\"}}, \"title\": {\"x\": 0.05}, \"xaxis\": {\"automargin\": true, \"gridcolor\": \"white\", \"linecolor\": \"white\", \"ticks\": \"\", \"title\": {\"standoff\": 15}, \"zerolinecolor\": \"white\", \"zerolinewidth\": 2}, \"yaxis\": {\"automargin\": true, \"gridcolor\": \"white\", \"linecolor\": \"white\", \"ticks\": \"\", \"title\": {\"standoff\": 15}, \"zerolinecolor\": \"white\", \"zerolinewidth\": 2}}}},                        {\"responsive\": true}                    ).then(function(){\n",
              "                            \n",
              "var gd = document.getElementById('6be564fb-966c-4148-b156-06733b7fd4c8');\n",
              "var x = new MutationObserver(function (mutations, observer) {{\n",
              "        var display = window.getComputedStyle(gd).display;\n",
              "        if (!display || display === 'none') {{\n",
              "            console.log([gd, 'removed!']);\n",
              "            Plotly.purge(gd);\n",
              "            observer.disconnect();\n",
              "        }}\n",
              "}});\n",
              "\n",
              "// Listen for the removal of the full notebook cells\n",
              "var notebookContainer = gd.closest('#notebook-container');\n",
              "if (notebookContainer) {{\n",
              "    x.observe(notebookContainer, {childList: true});\n",
              "}}\n",
              "\n",
              "// Listen for the clearing of the current output cell\n",
              "var outputEl = gd.closest('.output');\n",
              "if (outputEl) {{\n",
              "    x.observe(outputEl, {childList: true});\n",
              "}}\n",
              "\n",
              "                        })                };                            </script>        </div>\n",
              "</body>\n",
              "</html>"
            ]
          },
          "metadata": {
            "tags": []
          }
        }
      ]
    },
    {
      "cell_type": "markdown",
      "metadata": {
        "id": "AB3hOU9fU0iV"
      },
      "source": [
        "INFERENCE : On overall, marriage crimes are the highest (45.9%) followed by the group of crimes for other purposes (36.4%) and illicit intercourse (8.32%). The least committed crime is for selling body parts (0.0047%)."
      ]
    },
    {
      "cell_type": "markdown",
      "metadata": {
        "id": "ssVlKIGtWtwG"
      },
      "source": [
        "# **16) Analyse the range of the total number of cases in a year**\n",
        "\n",
        "_Boxplot using plotly_\n"
      ]
    },
    {
      "cell_type": "code",
      "metadata": {
        "colab": {
          "base_uri": "https://localhost:8080/",
          "height": 542
        },
        "id": "37zez3hGVyeu",
        "outputId": "c0c70bf9-5214-4d97-bff1-c5570e099dd8"
      },
      "source": [
        "py.iplot([go.Box(y=df_years[\"Total No. of cases reported\"],name=\"Total Cases\")])"
      ],
      "execution_count": null,
      "outputs": [
        {
          "output_type": "display_data",
          "data": {
            "text/html": [
              "<html>\n",
              "<head><meta charset=\"utf-8\" /></head>\n",
              "<body>\n",
              "    <div>            <script src=\"https://cdnjs.cloudflare.com/ajax/libs/mathjax/2.7.5/MathJax.js?config=TeX-AMS-MML_SVG\"></script><script type=\"text/javascript\">if (window.MathJax) {MathJax.Hub.Config({SVG: {font: \"STIX-Web\"}});}</script>                <script type=\"text/javascript\">window.PlotlyConfig = {MathJaxConfig: 'local'};</script>\n",
              "        <script src=\"https://cdn.plot.ly/plotly-latest.min.js\"></script>                <div id=\"08f02a7b-368c-4178-9636-d921a6c4dc35\" class=\"plotly-graph-div\" style=\"height:525px; width:100%;\"></div>            <script type=\"text/javascript\">                                    window.PLOTLYENV=window.PLOTLYENV || {};                                    if (document.getElementById(\"08f02a7b-368c-4178-9636-d921a6c4dc35\")) {                    Plotly.newPlot(                        \"08f02a7b-368c-4178-9636-d921a6c4dc35\",                        [{\"name\": \"Total Cases\", \"type\": \"box\", \"y\": [44964, 43700, 39984, 46654, 45664, 47982, 55122, 60522, 67720, 76880, 89328, 95184]}],                        {\"template\": {\"data\": {\"bar\": [{\"error_x\": {\"color\": \"#2a3f5f\"}, \"error_y\": {\"color\": \"#2a3f5f\"}, \"marker\": {\"line\": {\"color\": \"#E5ECF6\", \"width\": 0.5}}, \"type\": \"bar\"}], \"barpolar\": [{\"marker\": {\"line\": {\"color\": \"#E5ECF6\", \"width\": 0.5}}, \"type\": \"barpolar\"}], \"carpet\": [{\"aaxis\": {\"endlinecolor\": \"#2a3f5f\", \"gridcolor\": \"white\", \"linecolor\": \"white\", \"minorgridcolor\": \"white\", \"startlinecolor\": \"#2a3f5f\"}, \"baxis\": {\"endlinecolor\": \"#2a3f5f\", \"gridcolor\": \"white\", \"linecolor\": \"white\", \"minorgridcolor\": \"white\", \"startlinecolor\": \"#2a3f5f\"}, \"type\": \"carpet\"}], \"choropleth\": [{\"colorbar\": {\"outlinewidth\": 0, \"ticks\": \"\"}, \"type\": \"choropleth\"}], \"contour\": [{\"colorbar\": {\"outlinewidth\": 0, \"ticks\": \"\"}, \"colorscale\": [[0.0, \"#0d0887\"], [0.1111111111111111, \"#46039f\"], [0.2222222222222222, \"#7201a8\"], [0.3333333333333333, \"#9c179e\"], [0.4444444444444444, \"#bd3786\"], [0.5555555555555556, \"#d8576b\"], [0.6666666666666666, \"#ed7953\"], [0.7777777777777778, \"#fb9f3a\"], [0.8888888888888888, \"#fdca26\"], [1.0, \"#f0f921\"]], \"type\": \"contour\"}], \"contourcarpet\": [{\"colorbar\": {\"outlinewidth\": 0, \"ticks\": \"\"}, \"type\": \"contourcarpet\"}], \"heatmap\": [{\"colorbar\": {\"outlinewidth\": 0, \"ticks\": \"\"}, \"colorscale\": [[0.0, \"#0d0887\"], [0.1111111111111111, \"#46039f\"], [0.2222222222222222, \"#7201a8\"], [0.3333333333333333, \"#9c179e\"], [0.4444444444444444, \"#bd3786\"], [0.5555555555555556, \"#d8576b\"], [0.6666666666666666, \"#ed7953\"], [0.7777777777777778, \"#fb9f3a\"], [0.8888888888888888, \"#fdca26\"], [1.0, \"#f0f921\"]], \"type\": \"heatmap\"}], \"heatmapgl\": [{\"colorbar\": {\"outlinewidth\": 0, \"ticks\": \"\"}, \"colorscale\": [[0.0, \"#0d0887\"], [0.1111111111111111, \"#46039f\"], [0.2222222222222222, \"#7201a8\"], [0.3333333333333333, \"#9c179e\"], [0.4444444444444444, \"#bd3786\"], [0.5555555555555556, \"#d8576b\"], [0.6666666666666666, \"#ed7953\"], [0.7777777777777778, \"#fb9f3a\"], [0.8888888888888888, \"#fdca26\"], [1.0, \"#f0f921\"]], \"type\": \"heatmapgl\"}], \"histogram\": [{\"marker\": {\"colorbar\": {\"outlinewidth\": 0, \"ticks\": \"\"}}, \"type\": \"histogram\"}], \"histogram2d\": [{\"colorbar\": {\"outlinewidth\": 0, \"ticks\": \"\"}, \"colorscale\": [[0.0, \"#0d0887\"], [0.1111111111111111, \"#46039f\"], [0.2222222222222222, \"#7201a8\"], [0.3333333333333333, \"#9c179e\"], [0.4444444444444444, \"#bd3786\"], [0.5555555555555556, \"#d8576b\"], [0.6666666666666666, \"#ed7953\"], [0.7777777777777778, \"#fb9f3a\"], [0.8888888888888888, \"#fdca26\"], [1.0, \"#f0f921\"]], \"type\": \"histogram2d\"}], \"histogram2dcontour\": [{\"colorbar\": {\"outlinewidth\": 0, \"ticks\": \"\"}, \"colorscale\": [[0.0, \"#0d0887\"], [0.1111111111111111, \"#46039f\"], [0.2222222222222222, \"#7201a8\"], [0.3333333333333333, \"#9c179e\"], [0.4444444444444444, \"#bd3786\"], [0.5555555555555556, \"#d8576b\"], [0.6666666666666666, \"#ed7953\"], [0.7777777777777778, \"#fb9f3a\"], [0.8888888888888888, \"#fdca26\"], [1.0, \"#f0f921\"]], \"type\": \"histogram2dcontour\"}], \"mesh3d\": [{\"colorbar\": {\"outlinewidth\": 0, \"ticks\": \"\"}, \"type\": \"mesh3d\"}], \"parcoords\": [{\"line\": {\"colorbar\": {\"outlinewidth\": 0, \"ticks\": \"\"}}, \"type\": \"parcoords\"}], \"pie\": [{\"automargin\": true, \"type\": \"pie\"}], \"scatter\": [{\"marker\": {\"colorbar\": {\"outlinewidth\": 0, \"ticks\": \"\"}}, \"type\": \"scatter\"}], \"scatter3d\": [{\"line\": {\"colorbar\": {\"outlinewidth\": 0, \"ticks\": \"\"}}, \"marker\": {\"colorbar\": {\"outlinewidth\": 0, \"ticks\": \"\"}}, \"type\": \"scatter3d\"}], \"scattercarpet\": [{\"marker\": {\"colorbar\": {\"outlinewidth\": 0, \"ticks\": \"\"}}, \"type\": \"scattercarpet\"}], \"scattergeo\": [{\"marker\": {\"colorbar\": {\"outlinewidth\": 0, \"ticks\": \"\"}}, \"type\": \"scattergeo\"}], \"scattergl\": [{\"marker\": {\"colorbar\": {\"outlinewidth\": 0, \"ticks\": \"\"}}, \"type\": \"scattergl\"}], \"scattermapbox\": [{\"marker\": {\"colorbar\": {\"outlinewidth\": 0, \"ticks\": \"\"}}, \"type\": \"scattermapbox\"}], \"scatterpolar\": [{\"marker\": {\"colorbar\": {\"outlinewidth\": 0, \"ticks\": \"\"}}, \"type\": \"scatterpolar\"}], \"scatterpolargl\": [{\"marker\": {\"colorbar\": {\"outlinewidth\": 0, \"ticks\": \"\"}}, \"type\": \"scatterpolargl\"}], \"scatterternary\": [{\"marker\": {\"colorbar\": {\"outlinewidth\": 0, \"ticks\": \"\"}}, \"type\": \"scatterternary\"}], \"surface\": [{\"colorbar\": {\"outlinewidth\": 0, \"ticks\": \"\"}, \"colorscale\": [[0.0, \"#0d0887\"], [0.1111111111111111, \"#46039f\"], [0.2222222222222222, \"#7201a8\"], [0.3333333333333333, \"#9c179e\"], [0.4444444444444444, \"#bd3786\"], [0.5555555555555556, \"#d8576b\"], [0.6666666666666666, \"#ed7953\"], [0.7777777777777778, \"#fb9f3a\"], [0.8888888888888888, \"#fdca26\"], [1.0, \"#f0f921\"]], \"type\": \"surface\"}], \"table\": [{\"cells\": {\"fill\": {\"color\": \"#EBF0F8\"}, \"line\": {\"color\": \"white\"}}, \"header\": {\"fill\": {\"color\": \"#C8D4E3\"}, \"line\": {\"color\": \"white\"}}, \"type\": \"table\"}]}, \"layout\": {\"annotationdefaults\": {\"arrowcolor\": \"#2a3f5f\", \"arrowhead\": 0, \"arrowwidth\": 1}, \"autotypenumbers\": \"strict\", \"coloraxis\": {\"colorbar\": {\"outlinewidth\": 0, \"ticks\": \"\"}}, \"colorscale\": {\"diverging\": [[0, \"#8e0152\"], [0.1, \"#c51b7d\"], [0.2, \"#de77ae\"], [0.3, \"#f1b6da\"], [0.4, \"#fde0ef\"], [0.5, \"#f7f7f7\"], [0.6, \"#e6f5d0\"], [0.7, \"#b8e186\"], [0.8, \"#7fbc41\"], [0.9, \"#4d9221\"], [1, \"#276419\"]], \"sequential\": [[0.0, \"#0d0887\"], [0.1111111111111111, \"#46039f\"], [0.2222222222222222, \"#7201a8\"], [0.3333333333333333, \"#9c179e\"], [0.4444444444444444, \"#bd3786\"], [0.5555555555555556, \"#d8576b\"], [0.6666666666666666, \"#ed7953\"], [0.7777777777777778, \"#fb9f3a\"], [0.8888888888888888, \"#fdca26\"], [1.0, \"#f0f921\"]], \"sequentialminus\": [[0.0, \"#0d0887\"], [0.1111111111111111, \"#46039f\"], [0.2222222222222222, \"#7201a8\"], [0.3333333333333333, \"#9c179e\"], [0.4444444444444444, \"#bd3786\"], [0.5555555555555556, \"#d8576b\"], [0.6666666666666666, \"#ed7953\"], [0.7777777777777778, \"#fb9f3a\"], [0.8888888888888888, \"#fdca26\"], [1.0, \"#f0f921\"]]}, \"colorway\": [\"#636efa\", \"#EF553B\", \"#00cc96\", \"#ab63fa\", \"#FFA15A\", \"#19d3f3\", \"#FF6692\", \"#B6E880\", \"#FF97FF\", \"#FECB52\"], \"font\": {\"color\": \"#2a3f5f\"}, \"geo\": {\"bgcolor\": \"white\", \"lakecolor\": \"white\", \"landcolor\": \"#E5ECF6\", \"showlakes\": true, \"showland\": true, \"subunitcolor\": \"white\"}, \"hoverlabel\": {\"align\": \"left\"}, \"hovermode\": \"closest\", \"mapbox\": {\"style\": \"light\"}, \"paper_bgcolor\": \"white\", \"plot_bgcolor\": \"#E5ECF6\", \"polar\": {\"angularaxis\": {\"gridcolor\": \"white\", \"linecolor\": \"white\", \"ticks\": \"\"}, \"bgcolor\": \"#E5ECF6\", \"radialaxis\": {\"gridcolor\": \"white\", \"linecolor\": \"white\", \"ticks\": \"\"}}, \"scene\": {\"xaxis\": {\"backgroundcolor\": \"#E5ECF6\", \"gridcolor\": \"white\", \"gridwidth\": 2, \"linecolor\": \"white\", \"showbackground\": true, \"ticks\": \"\", \"zerolinecolor\": \"white\"}, \"yaxis\": {\"backgroundcolor\": \"#E5ECF6\", \"gridcolor\": \"white\", \"gridwidth\": 2, \"linecolor\": \"white\", \"showbackground\": true, \"ticks\": \"\", \"zerolinecolor\": \"white\"}, \"zaxis\": {\"backgroundcolor\": \"#E5ECF6\", \"gridcolor\": \"white\", \"gridwidth\": 2, \"linecolor\": \"white\", \"showbackground\": true, \"ticks\": \"\", \"zerolinecolor\": \"white\"}}, \"shapedefaults\": {\"line\": {\"color\": \"#2a3f5f\"}}, \"ternary\": {\"aaxis\": {\"gridcolor\": \"white\", \"linecolor\": \"white\", \"ticks\": \"\"}, \"baxis\": {\"gridcolor\": \"white\", \"linecolor\": \"white\", \"ticks\": \"\"}, \"bgcolor\": \"#E5ECF6\", \"caxis\": {\"gridcolor\": \"white\", \"linecolor\": \"white\", \"ticks\": \"\"}}, \"title\": {\"x\": 0.05}, \"xaxis\": {\"automargin\": true, \"gridcolor\": \"white\", \"linecolor\": \"white\", \"ticks\": \"\", \"title\": {\"standoff\": 15}, \"zerolinecolor\": \"white\", \"zerolinewidth\": 2}, \"yaxis\": {\"automargin\": true, \"gridcolor\": \"white\", \"linecolor\": \"white\", \"ticks\": \"\", \"title\": {\"standoff\": 15}, \"zerolinecolor\": \"white\", \"zerolinewidth\": 2}}}},                        {\"responsive\": true}                    ).then(function(){\n",
              "                            \n",
              "var gd = document.getElementById('08f02a7b-368c-4178-9636-d921a6c4dc35');\n",
              "var x = new MutationObserver(function (mutations, observer) {{\n",
              "        var display = window.getComputedStyle(gd).display;\n",
              "        if (!display || display === 'none') {{\n",
              "            console.log([gd, 'removed!']);\n",
              "            Plotly.purge(gd);\n",
              "            observer.disconnect();\n",
              "        }}\n",
              "}});\n",
              "\n",
              "// Listen for the removal of the full notebook cells\n",
              "var notebookContainer = gd.closest('#notebook-container');\n",
              "if (notebookContainer) {{\n",
              "    x.observe(notebookContainer, {childList: true});\n",
              "}}\n",
              "\n",
              "// Listen for the clearing of the current output cell\n",
              "var outputEl = gd.closest('.output');\n",
              "if (outputEl) {{\n",
              "    x.observe(outputEl, {childList: true});\n",
              "}}\n",
              "\n",
              "                        })                };                            </script>        </div>\n",
              "</body>\n",
              "</html>"
            ]
          },
          "metadata": {
            "tags": []
          }
        }
      ]
    },
    {
      "cell_type": "markdown",
      "metadata": {
        "id": "z6iC56vpVJTg"
      },
      "source": [
        "INFERENCE : Atleast 39,384 and atmost 95,184 crimes were reported per year. It was mostly between 45,314 and 72,300. The distribution is skewed towards the minimum side, with a median of 51,552."
      ]
    },
    {
      "cell_type": "markdown",
      "metadata": {
        "id": "Qkl3g-jzYLT0"
      },
      "source": [
        "# **17) Which crimes occur the most? Visualise with the words.**\n",
        "\n",
        "_Word Cloud using wordcloud_"
      ]
    },
    {
      "cell_type": "code",
      "metadata": {
        "id": "o1XQnUB54MqQ"
      },
      "source": [
        "dictionary = {}\n",
        "for purpose, total in df_new.iloc[:,[0,-1]].values:\n",
        "    dictionary[purpose] = total"
      ],
      "execution_count": null,
      "outputs": []
    },
    {
      "cell_type": "code",
      "metadata": {
        "colab": {
          "base_uri": "https://localhost:8080/",
          "height": 310
        },
        "id": "jBx_jy365XJ9",
        "outputId": "6b2a8b55-877e-4352-9adc-35865f956140"
      },
      "source": [
        "wordcloud = WordCloud().generate_from_frequencies(frequencies = dictionary)\n",
        "plt.figure(figsize=(10,10))\n",
        "plt.imshow(wordcloud)\n",
        "plt.axis(\"off\")\n",
        "plt.show()"
      ],
      "execution_count": null,
      "outputs": [
        {
          "output_type": "display_data",
          "data": {
            "image/png": "[encoded data removed]",
            "text/plain": [
              "<Figure size 720x720 with 1 Axes>"
            ]
          },
          "metadata": {
            "tags": [],
            "needs_background": "light"
          }
        }
      ]
    },
    {
      "cell_type": "markdown",
      "metadata": {
        "id": "rMObUXfaVizy"
      },
      "source": [
        "INFERENCE : The size of the words implies the frequency of occurance of those crimes. As seen previously, marriage crimes are the highest, followed by other purposes and illicit intercourse. Crimes for begging is the least significant by vision which implies that its frequency was the least."
      ]
    },
    {
      "cell_type": "markdown",
      "metadata": {
        "id": "dAo67eL-YSEO"
      },
      "source": [
        "# **18) Analyse the range of number of males belonging to different age groups involved in crimes**\n",
        "\n",
        "_Subplots of Boxplots using plotly_"
      ]
    },
    {
      "cell_type": "code",
      "metadata": {
        "colab": {
          "base_uri": "https://localhost:8080/",
          "height": 542
        },
        "id": "5zsD43tFeLkR",
        "outputId": "c30c46d5-5f04-430f-e955-ff8c4120f986"
      },
      "source": [
        "trace0 = go.Box(y=df_total[\"Male upto 10 years\"],name=\"<10\")\n",
        "trace1 = go.Box(y=df_total[\"Male 10-15 years\"],name=\"10-15\")\n",
        "trace2 = go.Box(y=df_total[\"Male 15-18 years\"],name=\"15-18\")\n",
        "trace3 = go.Box(y=df_total[\"Male 18-30 years\"],name=\"18-30\")\n",
        "trace4 = go.Box(y=df_total[\"Male 30-50 years\"],name=\"30-50\")\n",
        "trace5 = go.Box(y=df_total[\"Male above 50 years\"],name=\">50\")\n",
        "data = [trace0, trace1, trace2, trace3, trace4, trace5]\n",
        "layout = go.Layout(title=\"AGE-GROUP WISE ANALYSIS OF MALES INVOLVED IN CRIMES\", xaxis=dict(title=\"Age Groups\"), yaxis=dict(title=\"Count\"))\n",
        "fig = go.Figure(layout = layout, data = data)\n",
        "py.iplot(fig)"
      ],
      "execution_count": null,
      "outputs": [
        {
          "output_type": "display_data",
          "data": {
            "text/html": [
              "<html>\n",
              "<head><meta charset=\"utf-8\" /></head>\n",
              "<body>\n",
              "    <div>            <script src=\"https://cdnjs.cloudflare.com/ajax/libs/mathjax/2.7.5/MathJax.js?config=TeX-AMS-MML_SVG\"></script><script type=\"text/javascript\">if (window.MathJax) {MathJax.Hub.Config({SVG: {font: \"STIX-Web\"}});}</script>                <script type=\"text/javascript\">window.PlotlyConfig = {MathJaxConfig: 'local'};</script>\n",
              "        <script src=\"https://cdn.plot.ly/plotly-latest.min.js\"></script>                <div id=\"87be3a6c-586a-4532-be97-efab8f541b2d\" class=\"plotly-graph-div\" style=\"height:525px; width:100%;\"></div>            <script type=\"text/javascript\">                                    window.PLOTLYENV=window.PLOTLYENV || {};                                    if (document.getElementById(\"87be3a6c-586a-4532-be97-efab8f541b2d\")) {                    Plotly.newPlot(                        \"87be3a6c-586a-4532-be97-efab8f541b2d\",                        [{\"name\": \"<10\", \"type\": \"box\", \"y\": [17, 7, 16, 33, 24, 16, 40, 11, 26, 15, 19, 28, 0, 0, 0, 0, 0, 0, 0, 0, 0, 0, 0, 0, 1, 0, 0, 1, 0, 0, 0, 0, 0, 0, 0, 0, 83, 7, 1, 5, 9, 2, 18, 17, 22, 23, 21, 9, 8, 0, 3, 8, 2, 6, 8, 3, 1, 5, 6, 8, 0, 0, 0, 1, 2, 0, 0, 1, 3, 2, 3, 0, 11, 12, 10, 8, 22, 20, 20, 17, 20, 12, 6, 16, 19, 7, 1, 3, 11, 5, 19, 12, 7, 11, 18, 25, 0, 0, 2, 4, 1, 3, 2, 1, 2, 5, 2, 6, 2, 0, 0, 0, 0, 1, 0, 1, 0, 0, 0, 0, 1, 1, 1, 1, 0, 5, 3, 6, 3, 1, 17, 3, 22, 1, 43, 14, 4, 5, 10, 11, 10, 19, 12, 21, 4, 5, 6, 4, 3, 6, 6, 2, 5, 6, 7, 8, 6, 22, 13, 7, 10, 8, 19, 14, 13, 10, 15, 16, 33, 26, 22, 41, 31, 32, 44, 44, 27, 37, 53, 65, 0, 0, 0, 0, 0, 2, 2, 3, 0, 1, 7, 0, 1, 0, 2, 3, 0, 1, 1, 0, 0, 3, 3, 2, 0, 0, 0, 0, 0, 0, 0, 0, 0, 0, 1, 1, 0, 0, 0, 0, 0, 0, 0, 0, 0, 2, 0, 0, 0, 0, 1, 0, 1, 0, 0, 1, 2, 1, 4, 2, 7, 7, 7, 6, 13, 20, 14, 15, 15, 30, 24, 10, 5, 3, 1, 5, 4, 7, 18, 12, 18, 12, 11, 22, 0, 0, 0, 0, 1, 0, 0, 0, 0, 0, 0, 0, 0, 7, 6, 5, 2, 4, 6, 7, 7, 7, 8, 15, 0, 0, 0, 1, 2, 0, 0, 2, 0, 1, 10, 0, 18, 11, 13, 27, 14, 16, 6, 8, 9, 31, 75, 70, 0, 0, 1, 0, 2, 2, 1, 1, 0, 0, 2, 2, 14, 5, 3, 8, 2, 4, 6, 0, 10, 10, 15, 12, 0, 0, 0, 0, 0, 0, 0, 0, 1, 0, 0, 1, 0, 2, 0, 5, 0, 2, 2, 2, 2, 3, 3, 5, 0, 0, 0, 0, 1, 3, 1, 1, 1, 0, 0, 1, 0, 0, 0, 0, 0, 0, 0, 0, 0, 1, 0, 184, 85, 74, 122, 92, 126, 262, 161, 366, 365, 402, 408, 0, 0, 0, 0, 0, 0, 0, 0, 0, 0, 0, 0, 0, 0, 0, 0, 0, 2, 1, 4, 1, 2, 1, 2]}, {\"name\": \"10-15\", \"type\": \"box\", \"y\": [12, 4, 34, 33, 25, 21, 19, 16, 30, 14, 13, 15, 0, 0, 1, 0, 4, 0, 0, 0, 7, 0, 0, 0, 21, 0, 0, 0, 0, 0, 0, 0, 0, 0, 0, 0, 51, 9, 6, 14, 13, 5, 44, 41, 64, 58, 24, 45, 4, 0, 3, 2, 2, 12, 3, 3, 8, 14, 24, 24, 1, 0, 0, 0, 1, 1, 1, 1, 1, 0, 0, 5, 11, 6, 7, 10, 23, 16, 9, 26, 7, 13, 15, 9, 9, 5, 1, 0, 8, 7, 8, 5, 6, 17, 18, 64, 1, 1, 1, 0, 0, 1, 3, 1, 0, 8, 3, 6, 3, 0, 0, 0, 1, 0, 0, 0, 1, 0, 0, 0, 12, 4, 1, 1, 8, 9, 10, 9, 0, 0, 2, 8, 35, 1, 24, 3, 2, 4, 4, 1, 9, 8, 14, 23, 9, 6, 5, 4, 4, 3, 1, 9, 1, 9, 8, 5, 28, 20, 31, 6, 13, 14, 16, 9, 17, 12, 7, 11, 34, 12, 18, 15, 24, 38, 38, 40, 33, 30, 34, 34, 0, 0, 0, 0, 0, 4, 2, 23, 2, 9, 3, 9, 0, 1, 1, 4, 0, 0, 1, 0, 0, 2, 1, 2, 0, 0, 0, 0, 0, 0, 0, 0, 0, 0, 0, 0, 0, 0, 0, 0, 0, 1, 0, 0, 0, 1, 0, 1, 10, 2, 1, 5, 10, 2, 1, 1, 0, 0, 4, 3, 6, 3, 5, 3, 5, 5, 13, 4, 8, 7, 8, 11, 28, 2, 4, 8, 8, 16, 22, 15, 21, 23, 17, 21, 0, 0, 0, 0, 0, 1, 0, 0, 0, 0, 0, 0, 0, 9, 3, 0, 2, 5, 2, 1, 3, 5, 24, 6, 70, 0, 0, 4, 0, 0, 0, 3, 0, 2, 0, 0, 90, 73, 32, 65, 31, 22, 71, 62, 85, 59, 54, 81, 5, 1, 0, 1, 0, 0, 5, 4, 2, 3, 1, 5, 18, 4, 2, 3, 0, 3, 5, 31, 13, 24, 59, 14, 0, 0, 0, 0, 1, 0, 1, 3, 0, 0, 0, 0, 4, 0, 1, 1, 1, 1, 0, 1, 1, 0, 0, 6, 0, 0, 0, 0, 0, 0, 0, 0, 0, 1, 0, 3, 0, 0, 0, 0, 0, 0, 0, 0, 1, 0, 3, 125, 50, 33, 84, 59, 117, 73, 116, 350, 909, 906, 953, 0, 0, 0, 0, 0, 0, 0, 0, 0, 0, 0, 0, 0, 0, 0, 0, 1, 0, 0, 1, 0, 0, 0, 1]}, {\"name\": \"15-18\", \"type\": \"box\", \"y\": [64, 2, 48, 45, 24, 10, 14, 16, 27, 20, 15, 8, 0, 0, 0, 0, 0, 0, 0, 0, 0, 0, 0, 0, 124, 0, 0, 0, 0, 0, 0, 0, 0, 0, 0, 0, 160, 4, 15, 7, 23, 13, 76, 65, 177, 112, 133, 74, 0, 2, 1, 9, 4, 5, 5, 11, 19, 15, 25, 64, 0, 1, 1, 0, 0, 1, 1, 0, 0, 0, 0, 1, 25, 15, 6, 12, 4, 11, 20, 5, 48, 8, 11, 22, 21, 15, 2, 11, 13, 8, 22, 19, 9, 6, 21, 44, 0, 0, 2, 2, 1, 2, 2, 3, 3, 5, 2, 2, 6, 0, 0, 0, 0, 0, 0, 1, 2, 0, 1, 2, 46, 9, 1, 1, 5, 31, 30, 16, 0, 4, 30, 47, 18, 6, 16, 1, 4, 7, 6, 2, 19, 0, 21, 18, 9, 5, 2, 5, 4, 4, 3, 2, 4, 2, 7, 7, 63, 23, 28, 8, 40, 19, 14, 15, 20, 16, 21, 23, 41, 28, 14, 5, 24, 55, 33, 28, 27, 21, 36, 26, 3, 0, 0, 0, 0, 0, 2, 7, 4, 2, 2, 3, 2, 0, 0, 7, 2, 3, 0, 7, 1, 3, 2, 0, 0, 0, 0, 0, 0, 2, 0, 0, 0, 0, 0, 0, 2, 0, 0, 0, 0, 0, 0, 0, 0, 5, 0, 1, 33, 0, 0, 1, 0, 5, 9, 3, 1, 0, 8, 20, 28, 3, 7, 8, 2, 15, 8, 5, 9, 10, 6, 20, 86, 10, 2, 10, 9, 38, 48, 33, 60, 43, 26, 43, 0, 0, 0, 0, 0, 0, 0, 0, 0, 0, 0, 0, 114, 88, 7, 0, 0, 5, 3, 7, 8, 2, 9, 6, 100, 0, 0, 0, 2, 0, 0, 3, 0, 0, 0, 6, 166, 150, 86, 100, 84, 35, 120, 175, 118, 48, 67, 62, 0, 2, 0, 4, 0, 0, 3, 3, 0, 5, 4, 2, 46, 4, 0, 0, 0, 0, 4, 75, 20, 23, 106, 50, 0, 0, 0, 0, 0, 0, 1, 0, 0, 1, 0, 0, 0, 0, 0, 1, 2, 0, 1, 0, 0, 0, 3, 5, 0, 0, 0, 1, 0, 0, 0, 0, 0, 0, 0, 1, 0, 0, 0, 0, 0, 0, 0, 0, 0, 0, 0, 68, 36, 15, 45, 43, 62, 85, 52, 134, 380, 431, 530, 0, 0, 0, 0, 0, 0, 0, 0, 0, 0, 0, 0, 0, 0, 0, 0, 0, 0, 1, 0, 0, 0, 0, 0]}, {\"name\": \"18-30\", \"type\": \"box\", \"y\": [218, 297, 298, 193, 305, 389, 281, 322, 197, 283, 279, 205, 16, 19, 16, 18, 14, 19, 13, 16, 20, 17, 29, 15, 142, 191, 182, 212, 179, 213, 305, 329, 392, 325, 243, 173, 829, 1371, 1151, 1362, 1274, 1151, 931, 910, 886, 817, 768, 701, 12, 11, 9, 13, 37, 21, 26, 18, 40, 28, 38, 0, 1, 0, 0, 1, 2, 2, 2, 2, 7, 3, 6, 2, 90, 97, 127, 121, 106, 89, 139, 142, 113, 125, 165, 167, 50, 61, 79, 85, 77, 90, 20, 108, 128, 138, 112, 163, 2, 12, 11, 8, 8, 9, 4, 7, 14, 8, 8, 2, 39, 36, 51, 51, 59, 34, 28, 36, 26, 33, 41, 31, 55, 56, 71, 67, 211, 107, 191, 229, 186, 195, 224, 156, 108, 158, 74, 101, 157, 193, 188, 172, 164, 483, 452, 132, 17, 25, 39, 25, 38, 39, 32, 39, 35, 20, 21, 19, 146, 135, 121, 115, 103, 87, 132, 100, 102, 82, 113, 94, 84, 119, 131, 96, 127, 124, 130, 155, 152, 166, 142, 155, 13, 42, 18, 32, 16, 18, 38, 25, 20, 30, 16, 36, 10, 15, 8, 9, 12, 4, 19, 12, 18, 34, 22, 22, 1, 2, 3, 9, 7, 2, 2, 5, 6, 4, 0, 5, 15, 5, 37, 13, 16, 16, 3, 14, 19, 15, 17, 13, 45, 79, 79, 84, 77, 101, 121, 98, 129, 76, 104, 128, 64, 83, 94, 96, 86, 96, 95, 95, 77, 84, 71, 118, 266, 377, 331, 310, 275, 180, 244, 268, 289, 289, 262, 265, 6, 0, 0, 1, 0, 0, 0, 0, 0, 1, 3, 0, 65, 123, 133, 102, 167, 96, 73, 67, 122, 89, 123, 100, 58, 5, 63, 56, 31, 49, 34, 20, 21, 17, 15, 19, 714, 653, 402, 541, 332, 447, 554, 527, 501, 460, 514, 464, 33, 16, 30, 53, 69, 26, 13, 12, 21, 25, 19, 18, 65, 31, 25, 81, 153, 132, 115, 285, 125, 284, 809, 751, 0, 0, 0, 0, 0, 0, 0, 0, 1, 0, 2, 0, 1, 1, 0, 3, 5, 3, 4, 6, 1, 6, 4, 5, 2, 4, 2, 2, 2, 2, 0, 2, 1, 3, 1, 1, 2, 0, 2, 2, 0, 0, 4, 0, 1, 0, 0, 223, 195, 213, 59, 268, 66, 63, 93, 83, 59, 65, 76, 0, 0, 0, 0, 0, 0, 0, 0, 0, 0, 0, 0, 0, 2, 4, 0, 0, 1, 2, 1, 3, 1, 1, 0]}, {\"name\": \"30-50\", \"type\": \"box\", \"y\": [121, 125, 139, 164, 221, 287, 150, 185, 199, 177, 196, 186, 12, 0, 0, 6, 1, 5, 11, 15, 7, 4, 4, 9, 114, 122, 95, 138, 116, 68, 124, 116, 232, 158, 111, 169, 419, 488, 583, 1042, 408, 236, 191, 209, 182, 103, 257, 186, 11, 3, 5, 7, 11, 15, 20, 4, 37, 17, 27, 16, 0, 4, 0, 1, 2, 3, 1, 3, 1, 4, 7, 7, 56, 69, 63, 62, 67, 45, 61, 73, 65, 80, 88, 110, 51, 52, 35, 28, 45, 44, 155, 47, 73, 58, 42, 122, 10, 22, 11, 8, 3, 7, 6, 3, 12, 6, 6, 7, 50, 42, 45, 52, 25, 36, 24, 8, 13, 15, 25, 17, 25, 47, 37, 37, 318, 38, 100, 96, 120, 80, 56, 61, 67, 84, 68, 114, 107, 95, 102, 90, 113, 87, 71, 101, 45, 35, 30, 41, 47, 31, 28, 34, 31, 37, 34, 25, 66, 142, 68, 130, 68, 58, 63, 60, 65, 37, 62, 34, 96, 83, 117, 100, 128, 99, 98, 107, 113, 111, 126, 144, 13, 33, 45, 36, 20, 31, 51, 41, 26, 46, 23, 58, 35, 26, 29, 12, 16, 12, 9, 9, 10, 10, 17, 29, 0, 2, 3, 1, 1, 0, 0, 1, 1, 4, 3, 5, 2, 14, 45, 12, 12, 8, 6, 15, 25, 17, 18, 4, 10, 10, 23, 19, 5, 11, 33, 36, 23, 27, 10, 24, 49, 57, 46, 34, 46, 49, 72, 54, 60, 63, 46, 53, 158, 163, 138, 165, 140, 154, 135, 153, 163, 174, 159, 164, 1, 0, 0, 1, 0, 0, 0, 0, 0, 0, 0, 0, 132, 83, 102, 60, 66, 63, 72, 114, 100, 145, 84, 88, 15, 0, 33, 35, 36, 15, 28, 20, 8, 15, 15, 4, 393, 391, 180, 253, 221, 257, 334, 209, 275, 247, 264, 286, 19, 8, 7, 28, 8, 1, 3, 5, 5, 4, 4, 6, 20, 19, 6, 31, 12, 16, 24, 34, 52, 229, 382, 109, 0, 1, 0, 0, 0, 0, 1, 2, 1, 1, 2, 0, 1, 5, 3, 2, 2, 2, 1, 0, 1, 1, 3, 3, 0, 0, 2, 2, 0, 0, 2, 2, 1, 3, 0, 0, 0, 0, 0, 0, 3, 0, 0, 0, 0, 1, 0, 76, 74, 46, 45, 181, 35, 61, 30, 49, 44, 44, 37, 0, 0, 0, 0, 0, 0, 0, 0, 0, 0, 0, 0, 2, 2, 2, 1, 2, 1, 2, 1, 1, 1, 1, 0]}, {\"name\": \">50\", \"type\": \"box\", \"y\": [5, 13, 19, 28, 20, 8, 29, 32, 26, 13, 28, 32, 0, 0, 0, 0, 0, 0, 0, 1, 0, 0, 0, 0, 8, 0, 0, 3, 0, 0, 0, 5, 2, 0, 0, 0, 38, 39, 52, 35, 37, 128, 8, 16, 4, 1, 15, 3, 2, 2, 1, 1, 1, 2, 0, 0, 0, 1, 11, 0, 1, 0, 0, 0, 0, 0, 0, 1, 0, 0, 0, 0, 6, 3, 12, 1, 10, 5, 7, 2, 3, 4, 11, 7, 4, 3, 2, 4, 2, 8, 7, 6, 4, 7, 6, 20, 3, 1, 2, 0, 1, 1, 0, 0, 1, 2, 0, 1, 2, 0, 1, 1, 5, 2, 0, 0, 0, 2, 4, 1, 4, 2, 0, 0, 0, 0, 11, 5, 1, 2, 1, 2, 9, 10, 13, 22, 5, 16, 14, 13, 8, 19, 24, 18, 6, 11, 5, 11, 6, 9, 11, 4, 7, 6, 4, 5, 9, 11, 18, 14, 9, 5, 9, 5, 7, 7, 5, 7, 8, 10, 4, 10, 15, 12, 15, 13, 18, 22, 16, 26, 3, 0, 4, 8, 4, 0, 9, 17, 21, 19, 15, 18, 1, 0, 0, 0, 0, 0, 0, 0, 3, 0, 5, 5, 0, 0, 0, 0, 0, 0, 0, 0, 0, 0, 0, 1, 0, 4, 5, 0, 1, 3, 0, 7, 1, 1, 1, 0, 0, 0, 0, 1, 8, 8, 0, 7, 4, 0, 1, 1, 4, 7, 5, 2, 5, 9, 9, 8, 8, 5, 2, 5, 10, 13, 12, 5, 8, 22, 16, 18, 17, 25, 16, 31, 0, 0, 0, 0, 0, 0, 0, 0, 0, 0, 0, 0, 31, 8, 24, 6, 9, 13, 9, 11, 20, 11, 8, 19, 0, 0, 9, 2, 6, 5, 3, 4, 0, 1, 3, 0, 39, 44, 19, 27, 26, 19, 33, 10, 17, 10, 7, 6, 0, 1, 0, 0, 0, 0, 1, 0, 0, 0, 1, 8, 4, 0, 3, 1, 1, 1, 1, 0, 28, 35, 334, 13, 0, 0, 0, 0, 0, 0, 0, 0, 0, 0, 0, 0, 0, 0, 0, 0, 0, 0, 0, 1, 0, 0, 0, 0, 0, 1, 0, 0, 1, 0, 0, 1, 0, 0, 0, 0, 0, 0, 0, 0, 0, 0, 0, 0, 0, 0, 0, 7, 5, 6, 5, 0, 0, 6, 3, 4, 3, 2, 10, 0, 0, 0, 0, 0, 0, 0, 0, 0, 0, 0, 0, 1, 0, 0, 1, 0, 1, 0, 1, 0, 0, 0, 0]}],                        {\"template\": {\"data\": {\"bar\": [{\"error_x\": {\"color\": \"#2a3f5f\"}, \"error_y\": {\"color\": \"#2a3f5f\"}, \"marker\": {\"line\": {\"color\": \"#E5ECF6\", \"width\": 0.5}}, \"type\": \"bar\"}], \"barpolar\": [{\"marker\": {\"line\": {\"color\": \"#E5ECF6\", \"width\": 0.5}}, \"type\": \"barpolar\"}], \"carpet\": [{\"aaxis\": {\"endlinecolor\": \"#2a3f5f\", \"gridcolor\": \"white\", \"linecolor\": \"white\", \"minorgridcolor\": \"white\", \"startlinecolor\": \"#2a3f5f\"}, \"baxis\": {\"endlinecolor\": \"#2a3f5f\", \"gridcolor\": \"white\", \"linecolor\": \"white\", \"minorgridcolor\": \"white\", \"startlinecolor\": \"#2a3f5f\"}, \"type\": \"carpet\"}], \"choropleth\": [{\"colorbar\": {\"outlinewidth\": 0, \"ticks\": \"\"}, \"type\": \"choropleth\"}], \"contour\": [{\"colorbar\": {\"outlinewidth\": 0, \"ticks\": \"\"}, \"colorscale\": [[0.0, \"#0d0887\"], [0.1111111111111111, \"#46039f\"], [0.2222222222222222, \"#7201a8\"], [0.3333333333333333, \"#9c179e\"], [0.4444444444444444, \"#bd3786\"], [0.5555555555555556, \"#d8576b\"], [0.6666666666666666, \"#ed7953\"], [0.7777777777777778, \"#fb9f3a\"], [0.8888888888888888, \"#fdca26\"], [1.0, \"#f0f921\"]], \"type\": \"contour\"}], \"contourcarpet\": [{\"colorbar\": {\"outlinewidth\": 0, \"ticks\": \"\"}, \"type\": \"contourcarpet\"}], \"heatmap\": [{\"colorbar\": {\"outlinewidth\": 0, \"ticks\": \"\"}, \"colorscale\": [[0.0, \"#0d0887\"], [0.1111111111111111, \"#46039f\"], [0.2222222222222222, \"#7201a8\"], [0.3333333333333333, \"#9c179e\"], [0.4444444444444444, \"#bd3786\"], [0.5555555555555556, \"#d8576b\"], [0.6666666666666666, \"#ed7953\"], [0.7777777777777778, \"#fb9f3a\"], [0.8888888888888888, \"#fdca26\"], [1.0, \"#f0f921\"]], \"type\": \"heatmap\"}], \"heatmapgl\": [{\"colorbar\": {\"outlinewidth\": 0, \"ticks\": \"\"}, \"colorscale\": [[0.0, \"#0d0887\"], [0.1111111111111111, \"#46039f\"], [0.2222222222222222, \"#7201a8\"], [0.3333333333333333, \"#9c179e\"], [0.4444444444444444, \"#bd3786\"], [0.5555555555555556, \"#d8576b\"], [0.6666666666666666, \"#ed7953\"], [0.7777777777777778, \"#fb9f3a\"], [0.8888888888888888, \"#fdca26\"], [1.0, \"#f0f921\"]], \"type\": \"heatmapgl\"}], \"histogram\": [{\"marker\": {\"colorbar\": {\"outlinewidth\": 0, \"ticks\": \"\"}}, \"type\": \"histogram\"}], \"histogram2d\": [{\"colorbar\": {\"outlinewidth\": 0, \"ticks\": \"\"}, \"colorscale\": [[0.0, \"#0d0887\"], [0.1111111111111111, \"#46039f\"], [0.2222222222222222, \"#7201a8\"], [0.3333333333333333, \"#9c179e\"], [0.4444444444444444, \"#bd3786\"], [0.5555555555555556, \"#d8576b\"], [0.6666666666666666, \"#ed7953\"], [0.7777777777777778, \"#fb9f3a\"], [0.8888888888888888, \"#fdca26\"], [1.0, \"#f0f921\"]], \"type\": \"histogram2d\"}], \"histogram2dcontour\": [{\"colorbar\": {\"outlinewidth\": 0, \"ticks\": \"\"}, \"colorscale\": [[0.0, \"#0d0887\"], [0.1111111111111111, \"#46039f\"], [0.2222222222222222, \"#7201a8\"], [0.3333333333333333, \"#9c179e\"], [0.4444444444444444, \"#bd3786\"], [0.5555555555555556, \"#d8576b\"], [0.6666666666666666, \"#ed7953\"], [0.7777777777777778, \"#fb9f3a\"], [0.8888888888888888, \"#fdca26\"], [1.0, \"#f0f921\"]], \"type\": \"histogram2dcontour\"}], \"mesh3d\": [{\"colorbar\": {\"outlinewidth\": 0, \"ticks\": \"\"}, \"type\": \"mesh3d\"}], \"parcoords\": [{\"line\": {\"colorbar\": {\"outlinewidth\": 0, \"ticks\": \"\"}}, \"type\": \"parcoords\"}], \"pie\": [{\"automargin\": true, \"type\": \"pie\"}], \"scatter\": [{\"marker\": {\"colorbar\": {\"outlinewidth\": 0, \"ticks\": \"\"}}, \"type\": \"scatter\"}], \"scatter3d\": [{\"line\": {\"colorbar\": {\"outlinewidth\": 0, \"ticks\": \"\"}}, \"marker\": {\"colorbar\": {\"outlinewidth\": 0, \"ticks\": \"\"}}, \"type\": \"scatter3d\"}], \"scattercarpet\": [{\"marker\": {\"colorbar\": {\"outlinewidth\": 0, \"ticks\": \"\"}}, \"type\": \"scattercarpet\"}], \"scattergeo\": [{\"marker\": {\"colorbar\": {\"outlinewidth\": 0, \"ticks\": \"\"}}, \"type\": \"scattergeo\"}], \"scattergl\": [{\"marker\": {\"colorbar\": {\"outlinewidth\": 0, \"ticks\": \"\"}}, \"type\": \"scattergl\"}], \"scattermapbox\": [{\"marker\": {\"colorbar\": {\"outlinewidth\": 0, \"ticks\": \"\"}}, \"type\": \"scattermapbox\"}], \"scatterpolar\": [{\"marker\": {\"colorbar\": {\"outlinewidth\": 0, \"ticks\": \"\"}}, \"type\": \"scatterpolar\"}], \"scatterpolargl\": [{\"marker\": {\"colorbar\": {\"outlinewidth\": 0, \"ticks\": \"\"}}, \"type\": \"scatterpolargl\"}], \"scatterternary\": [{\"marker\": {\"colorbar\": {\"outlinewidth\": 0, \"ticks\": \"\"}}, \"type\": \"scatterternary\"}], \"surface\": [{\"colorbar\": {\"outlinewidth\": 0, \"ticks\": \"\"}, \"colorscale\": [[0.0, \"#0d0887\"], [0.1111111111111111, \"#46039f\"], [0.2222222222222222, \"#7201a8\"], [0.3333333333333333, \"#9c179e\"], [0.4444444444444444, \"#bd3786\"], [0.5555555555555556, \"#d8576b\"], [0.6666666666666666, \"#ed7953\"], [0.7777777777777778, \"#fb9f3a\"], [0.8888888888888888, \"#fdca26\"], [1.0, \"#f0f921\"]], \"type\": \"surface\"}], \"table\": [{\"cells\": {\"fill\": {\"color\": \"#EBF0F8\"}, \"line\": {\"color\": \"white\"}}, \"header\": {\"fill\": {\"color\": \"#C8D4E3\"}, \"line\": {\"color\": \"white\"}}, \"type\": \"table\"}]}, \"layout\": {\"annotationdefaults\": {\"arrowcolor\": \"#2a3f5f\", \"arrowhead\": 0, \"arrowwidth\": 1}, \"autotypenumbers\": \"strict\", \"coloraxis\": {\"colorbar\": {\"outlinewidth\": 0, \"ticks\": \"\"}}, \"colorscale\": {\"diverging\": [[0, \"#8e0152\"], [0.1, \"#c51b7d\"], [0.2, \"#de77ae\"], [0.3, \"#f1b6da\"], [0.4, \"#fde0ef\"], [0.5, \"#f7f7f7\"], [0.6, \"#e6f5d0\"], [0.7, \"#b8e186\"], [0.8, \"#7fbc41\"], [0.9, \"#4d9221\"], [1, \"#276419\"]], \"sequential\": [[0.0, \"#0d0887\"], [0.1111111111111111, \"#46039f\"], [0.2222222222222222, \"#7201a8\"], [0.3333333333333333, \"#9c179e\"], [0.4444444444444444, \"#bd3786\"], [0.5555555555555556, \"#d8576b\"], [0.6666666666666666, \"#ed7953\"], [0.7777777777777778, \"#fb9f3a\"], [0.8888888888888888, \"#fdca26\"], [1.0, \"#f0f921\"]], \"sequentialminus\": [[0.0, \"#0d0887\"], [0.1111111111111111, \"#46039f\"], [0.2222222222222222, \"#7201a8\"], [0.3333333333333333, \"#9c179e\"], [0.4444444444444444, \"#bd3786\"], [0.5555555555555556, \"#d8576b\"], [0.6666666666666666, \"#ed7953\"], [0.7777777777777778, \"#fb9f3a\"], [0.8888888888888888, \"#fdca26\"], [1.0, \"#f0f921\"]]}, \"colorway\": [\"#636efa\", \"#EF553B\", \"#00cc96\", \"#ab63fa\", \"#FFA15A\", \"#19d3f3\", \"#FF6692\", \"#B6E880\", \"#FF97FF\", \"#FECB52\"], \"font\": {\"color\": \"#2a3f5f\"}, \"geo\": {\"bgcolor\": \"white\", \"lakecolor\": \"white\", \"landcolor\": \"#E5ECF6\", \"showlakes\": true, \"showland\": true, \"subunitcolor\": \"white\"}, \"hoverlabel\": {\"align\": \"left\"}, \"hovermode\": \"closest\", \"mapbox\": {\"style\": \"light\"}, \"paper_bgcolor\": \"white\", \"plot_bgcolor\": \"#E5ECF6\", \"polar\": {\"angularaxis\": {\"gridcolor\": \"white\", \"linecolor\": \"white\", \"ticks\": \"\"}, \"bgcolor\": \"#E5ECF6\", \"radialaxis\": {\"gridcolor\": \"white\", \"linecolor\": \"white\", \"ticks\": \"\"}}, \"scene\": {\"xaxis\": {\"backgroundcolor\": \"#E5ECF6\", \"gridcolor\": \"white\", \"gridwidth\": 2, \"linecolor\": \"white\", \"showbackground\": true, \"ticks\": \"\", \"zerolinecolor\": \"white\"}, \"yaxis\": {\"backgroundcolor\": \"#E5ECF6\", \"gridcolor\": \"white\", \"gridwidth\": 2, \"linecolor\": \"white\", \"showbackground\": true, \"ticks\": \"\", \"zerolinecolor\": \"white\"}, \"zaxis\": {\"backgroundcolor\": \"#E5ECF6\", \"gridcolor\": \"white\", \"gridwidth\": 2, \"linecolor\": \"white\", \"showbackground\": true, \"ticks\": \"\", \"zerolinecolor\": \"white\"}}, \"shapedefaults\": {\"line\": {\"color\": \"#2a3f5f\"}}, \"ternary\": {\"aaxis\": {\"gridcolor\": \"white\", \"linecolor\": \"white\", \"ticks\": \"\"}, \"baxis\": {\"gridcolor\": \"white\", \"linecolor\": \"white\", \"ticks\": \"\"}, \"bgcolor\": \"#E5ECF6\", \"caxis\": {\"gridcolor\": \"white\", \"linecolor\": \"white\", \"ticks\": \"\"}}, \"title\": {\"x\": 0.05}, \"xaxis\": {\"automargin\": true, \"gridcolor\": \"white\", \"linecolor\": \"white\", \"ticks\": \"\", \"title\": {\"standoff\": 15}, \"zerolinecolor\": \"white\", \"zerolinewidth\": 2}, \"yaxis\": {\"automargin\": true, \"gridcolor\": \"white\", \"linecolor\": \"white\", \"ticks\": \"\", \"title\": {\"standoff\": 15}, \"zerolinecolor\": \"white\", \"zerolinewidth\": 2}}}, \"title\": {\"text\": \"AGE-GROUP WISE ANALYSIS OF MALES INVOLVED IN CRIMES\"}, \"xaxis\": {\"title\": {\"text\": \"Age Groups\"}}, \"yaxis\": {\"title\": {\"text\": \"Count\"}}},                        {\"responsive\": true}                    ).then(function(){\n",
              "                            \n",
              "var gd = document.getElementById('87be3a6c-586a-4532-be97-efab8f541b2d');\n",
              "var x = new MutationObserver(function (mutations, observer) {{\n",
              "        var display = window.getComputedStyle(gd).display;\n",
              "        if (!display || display === 'none') {{\n",
              "            console.log([gd, 'removed!']);\n",
              "            Plotly.purge(gd);\n",
              "            observer.disconnect();\n",
              "        }}\n",
              "}});\n",
              "\n",
              "// Listen for the removal of the full notebook cells\n",
              "var notebookContainer = gd.closest('#notebook-container');\n",
              "if (notebookContainer) {{\n",
              "    x.observe(notebookContainer, {childList: true});\n",
              "}}\n",
              "\n",
              "// Listen for the clearing of the current output cell\n",
              "var outputEl = gd.closest('.output');\n",
              "if (outputEl) {{\n",
              "    x.observe(outputEl, {childList: true});\n",
              "}}\n",
              "\n",
              "                        })                };                            </script>        </div>\n",
              "</body>\n",
              "</html>"
            ]
          },
          "metadata": {
            "tags": []
          }
        }
      ]
    },
    {
      "cell_type": "markdown",
      "metadata": {
        "id": "qmibAhVGV5qa"
      },
      "source": [
        "INFERENCE : Boxplot of the age group 18-30 is the most spread, and that of >50 is the least spread. Since it is a common scale, we can say that the number of crimes was spread the most and the least for the same age groups. Males of age 18-30 is followed by the age group 30-50, with regard to the number of crimes they are involved in."
      ]
    },
    {
      "cell_type": "markdown",
      "metadata": {
        "id": "HHKqJUYrYYoW"
      },
      "source": [
        "# **19) Total male and female count ratio**\n",
        "\n",
        "_Stacked Area Chart / Line Plot using matplotlib_"
      ]
    },
    {
      "cell_type": "code",
      "metadata": {
        "colab": {
          "base_uri": "https://localhost:8080/",
          "height": 457
        },
        "id": "HUb4AxvXIheX",
        "outputId": "ef539a04-4399-4b82-e017-454685037f77"
      },
      "source": [
        "df_MF_year = df_crimes.groupby(by=['YEAR']).sum()\n",
        "df_MF_year = df_MF_year.iloc[:,[-3,-2,-1]]\n",
        "df_MF_year"
      ],
      "execution_count": null,
      "outputs": [
        {
          "output_type": "execute_result",
          "data": {
            "text/html": [
              "<div>\n",
              "<style scoped>\n",
              "    .dataframe tbody tr th:only-of-type {\n",
              "        vertical-align: middle;\n",
              "    }\n",
              "\n",
              "    .dataframe tbody tr th {\n",
              "        vertical-align: top;\n",
              "    }\n",
              "\n",
              "    .dataframe thead th {\n",
              "        text-align: right;\n",
              "    }\n",
              "</style>\n",
              "<table border=\"1\" class=\"dataframe\">\n",
              "  <thead>\n",
              "    <tr style=\"text-align: right;\">\n",
              "      <th></th>\n",
              "      <th>Total Male</th>\n",
              "      <th>Total Female</th>\n",
              "      <th>Grand Total</th>\n",
              "    </tr>\n",
              "    <tr>\n",
              "      <th>YEAR</th>\n",
              "      <th></th>\n",
              "      <th></th>\n",
              "      <th></th>\n",
              "    </tr>\n",
              "  </thead>\n",
              "  <tbody>\n",
              "    <tr>\n",
              "      <th>2001</th>\n",
              "      <td>15824</td>\n",
              "      <td>30168</td>\n",
              "      <td>45992</td>\n",
              "    </tr>\n",
              "    <tr>\n",
              "      <th>2002</th>\n",
              "      <td>14882</td>\n",
              "      <td>29464</td>\n",
              "      <td>44346</td>\n",
              "    </tr>\n",
              "    <tr>\n",
              "      <th>2003</th>\n",
              "      <td>13434</td>\n",
              "      <td>26608</td>\n",
              "      <td>40042</td>\n",
              "    </tr>\n",
              "    <tr>\n",
              "      <th>2004</th>\n",
              "      <td>15274</td>\n",
              "      <td>31344</td>\n",
              "      <td>46618</td>\n",
              "    </tr>\n",
              "    <tr>\n",
              "      <th>2005</th>\n",
              "      <td>15038</td>\n",
              "      <td>31228</td>\n",
              "      <td>46266</td>\n",
              "    </tr>\n",
              "    <tr>\n",
              "      <th>2006</th>\n",
              "      <td>13490</td>\n",
              "      <td>35094</td>\n",
              "      <td>48584</td>\n",
              "    </tr>\n",
              "    <tr>\n",
              "      <th>2007</th>\n",
              "      <td>14680</td>\n",
              "      <td>41380</td>\n",
              "      <td>56060</td>\n",
              "    </tr>\n",
              "    <tr>\n",
              "      <th>2008</th>\n",
              "      <td>14844</td>\n",
              "      <td>46346</td>\n",
              "      <td>61190</td>\n",
              "    </tr>\n",
              "    <tr>\n",
              "      <th>2009</th>\n",
              "      <td>16234</td>\n",
              "      <td>52374</td>\n",
              "      <td>68608</td>\n",
              "    </tr>\n",
              "    <tr>\n",
              "      <th>2010</th>\n",
              "      <td>17952</td>\n",
              "      <td>60344</td>\n",
              "      <td>78296</td>\n",
              "    </tr>\n",
              "    <tr>\n",
              "      <th>2011</th>\n",
              "      <td>20738</td>\n",
              "      <td>69740</td>\n",
              "      <td>90478</td>\n",
              "    </tr>\n",
              "    <tr>\n",
              "      <th>2012</th>\n",
              "      <td>19104</td>\n",
              "      <td>77334</td>\n",
              "      <td>96438</td>\n",
              "    </tr>\n",
              "  </tbody>\n",
              "</table>\n",
              "</div>"
            ],
            "text/plain": [
              "      Total Male  Total Female  Grand Total\n",
              "YEAR                                       \n",
              "2001       15824         30168        45992\n",
              "2002       14882         29464        44346\n",
              "2003       13434         26608        40042\n",
              "2004       15274         31344        46618\n",
              "2005       15038         31228        46266\n",
              "2006       13490         35094        48584\n",
              "2007       14680         41380        56060\n",
              "2008       14844         46346        61190\n",
              "2009       16234         52374        68608\n",
              "2010       17952         60344        78296\n",
              "2011       20738         69740        90478\n",
              "2012       19104         77334        96438"
            ]
          },
          "metadata": {
            "tags": []
          },
          "execution_count": 43
        }
      ]
    },
    {
      "cell_type": "code",
      "metadata": {
        "colab": {
          "base_uri": "https://localhost:8080/",
          "height": 592
        },
        "id": "d0F36w1u8UKm",
        "outputId": "1ecb50b5-9cae-402b-f90e-a3ba9f243728"
      },
      "source": [
        "df_MF_year.iloc[:,:-1].plot.area(stacked=True, figsize=(20,10))\n",
        "plt.xlabel(\"Year\")\n",
        "plt.ylabel(\"Cases\")\n",
        "plt.title(\"NUMBER OF MALES V/S FEMALES INVOLVED IN CRIMES\")\n",
        "plt.show()"
      ],
      "execution_count": null,
      "outputs": [
        {
          "output_type": "display_data",
          "data": {
            "image/png": "[encoded data removed]",
            "text/plain": [
              "<Figure size 1440x720 with 1 Axes>"
            ]
          },
          "metadata": {
            "tags": [],
            "needs_background": "light"
          }
        }
      ]
    },
    {
      "cell_type": "markdown",
      "metadata": {
        "id": "uxWsR9iXWuyd"
      },
      "source": [
        "INFERENCE : Females are visibly more involved than males since the area covered by their category is more, in the chart. Towards the end (2012) we can say that the crimes involving females was about 4 times that of males, which was less than 3 times in the beginning (2001)."
      ]
    },
    {
      "cell_type": "markdown",
      "metadata": {
        "id": "0fMrx4_GYdkO"
      },
      "source": [
        "# **20) Analyse the total crime rate difference in the beginning (2001) v/s the end (2012)**\n",
        "\n",
        "_Violin Plot using matplotlib_"
      ]
    },
    {
      "cell_type": "code",
      "metadata": {
        "colab": {
          "base_uri": "https://localhost:8080/",
          "height": 710
        },
        "id": "GCK8YQFIZAeJ",
        "outputId": "2206c66d-94c7-4a7b-ec8f-eed4f66aa366"
      },
      "source": [
        "data = [df_total[df_total[\"YEAR\"] == 2001][\"Grand Total\"].values,\n",
        "        df_total[df_total[\"YEAR\"] == 2012][\"Grand Total\"].values]\n",
        "fig, axes = plt.subplots(figsize=(10,10))\n",
        "axes.violinplot(dataset = data)\n",
        "axes.set_title('VARIATION IN RANGE OF CRIMES - 2001 V/S 2012')\n",
        "axes.yaxis.grid(True)\n",
        "axes.set_xlabel('Year')\n",
        "axes.set_ylabel('Count')\n",
        "axes.set_xticks([1,2])\n",
        "axes.set_xticklabels([2001, 2012])\n",
        "plt.show()"
      ],
      "execution_count": null,
      "outputs": [
        {
          "output_type": "stream",
          "text": [
            "/usr/local/lib/python3.7/dist-packages/numpy/core/_asarray.py:83: VisibleDeprecationWarning:\n",
            "\n",
            "Creating an ndarray from ragged nested sequences (which is a list-or-tuple of lists-or-tuples-or ndarrays with different lengths or shapes) is deprecated. If you meant to do this, you must specify 'dtype=object' when creating the ndarray\n",
            "\n"
          ],
          "name": "stderr"
        },
        {
          "output_type": "display_data",
          "data": {
            "image/png": "[encoded data removed]",
            "text/plain": [
              "<Figure size 720x720 with 1 Axes>"
            ]
          },
          "metadata": {
            "tags": [],
            "needs_background": "light"
          }
        }
      ]
    },
    {
      "cell_type": "markdown",
      "metadata": {
        "id": "jRmz1A7-XTTC"
      },
      "source": [
        "INFERENCE : In 2001, the probability spread was limited to a small value (<< 2000), towards the bottom of the plot. But in 2012, this width started flattening and reaching up to 6000. The maximum has risen from ~4000 to ~8000. This implies an immense hike in the total number of crimes over the years 2001-2012. "
      ]
    }
  ]
}